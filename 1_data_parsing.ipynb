{
 "cells": [
  {
   "cell_type": "markdown",
   "metadata": {},
   "source": [
    "__Dependencies__"
   ]
  },
  {
   "cell_type": "code",
   "execution_count": 1,
   "metadata": {},
   "outputs": [],
   "source": [
    "import copy  # copy big/deep objects by value\n",
    "import datetime  # datetime operations\n",
    "import itertools  # operate with iterators\n",
    "import json  # read/write from/into json format\n",
    "import os  # OS operations (read/write files/folders)\n",
    "import warnings  # hide warnings\n",
    "\n",
    "# process parallelization\n",
    "from multiprocessing import Lock, Manager, Pool, RawArray, cpu_count\n",
    "\n",
    "import matplotlib.pyplot as plt  # mother of plots focr Python\n",
    "import matplotlib.ticker as ticker  # matplotlib ticker utils\n",
    "import numpy as np  # array/matrix operations (e.g. linear algebra)\n",
    "import pandas as pd  # operate with dataframes\n",
    "import seaborn as sns  # matplotlib plotting nice with shortcuts\n",
    "from IPython.display import display  # print nicely\n",
    "from tqdm.notebook import tqdm  # mother of progressbars for Python\n",
    "\n",
    "# from matplotlib.ticker import FormatStrFormatter  # tick formatter"
   ]
  },
  {
   "cell_type": "markdown",
   "metadata": {},
   "source": [
    "__Options and constants__"
   ]
  },
  {
   "cell_type": "code",
   "execution_count": 2,
   "metadata": {},
   "outputs": [
    {
     "name": "stdout",
     "output_type": "stream",
     "text": [
      "Total CPU threads: 16\n"
     ]
    }
   ],
   "source": [
    "warnings.filterwarnings(\"ignore\")\n",
    "# set default float display format to 2 decimals\n",
    "pd.options.display.float_format = \"{:.3f}\".format\n",
    "\n",
    "STYLE = \"darkgrid\"\n",
    "sns.set_style(STYLE)  # set seaborn plotting style\n",
    "\n",
    "PATH_RAYC = \"./data/raw/CsvData\"\n",
    "PATH_PROC = \"./data/processed\"\n",
    "\n",
    "# hit origin structure (parsed/new)\n",
    "HIT_ORIGIN = [\n",
    "    \"frame\",\n",
    "    \"originX\",\n",
    "    \"originY\",\n",
    "    \"originZ\",\n",
    "    \"rotationX\",\n",
    "    \"rotationY\",\n",
    "    \"rotationZ\",\n",
    "    \"rotationW\",\n",
    "    \"directionX\",\n",
    "    \"directionY\",\n",
    "    \"directionZ\",\n",
    "    \"angleX\",\n",
    "    \"angleY\",\n",
    "    \"angleZ\",\n",
    "]\n",
    "\n",
    "# hit information structure (all objects)\n",
    "HIT_INFO = [\n",
    "    \"frame\",\n",
    "    \"name\",\n",
    "    \"group\",\n",
    "    \"distance\",\n",
    "    \"objectX\",\n",
    "    \"objectY\",\n",
    "    \"objectZ\",\n",
    "    \"hitX\",\n",
    "    \"hitY\",\n",
    "    \"hitZ\",\n",
    "]\n",
    "\n",
    "GRP_REPLACE = {\n",
    "    \"ADV_linux(Clone)\": \"Inside Car\",\n",
    "    \"CarsManager\": \"Dynamic Cars\",\n",
    "    \"InsideCar\": \"Inside Car\",\n",
    "    \"Parking Cars\": \"Static Cars\",\n",
    "    \"Path_ MS Wissenschaft\": \"Roads\",\n",
    "    \"PedestriansManager\": \"Dynamic Pedestrians\",\n",
    "    \"WestRide Buildings\": \"Buildings\",\n",
    "    \"WestRide Street Prob\": \"Street Objects\",\n",
    "    \"WestRide Trees/Rocks/Nature\": \"Nature\",\n",
    "    \"Westdrive Crosswalks\": \"Crosswalks\",\n",
    "    \"Westdrive Static NPCs\": \"Static Pedestrians\",\n",
    "}\n",
    "\n",
    "# x, y, and z axis direction vectors\n",
    "X_DIR = np.array([1, 0, 0])\n",
    "Y_DIR = np.array([0, 1, 0])\n",
    "Z_DIR = np.array([0, 0, 1])\n",
    "\n",
    "# hit groups to skip\n",
    "EXCEPT_GROUPS = [\"End\", \"Events\", \"Start\"]\n",
    "\n",
    "# progress bar customized format\n",
    "B_FORMAT = \"\"\"📄 {n_fmt} of {total_fmt} {desc} processed: {bar} \n",
    "            {percentage:3.0f}% ⏱️{elapsed} ⏳{remaining} ⚙️{rate_fmt}{postfix}\"\"\"\n",
    "\n",
    "CORES = cpu_count()  # number of cpu threads for multiprocessing\n",
    "print(f\"Total CPU threads: {CORES}\")"
   ]
  },
  {
   "cell_type": "markdown",
   "metadata": {},
   "source": [
    "__Helper functions__"
   ]
  },
  {
   "cell_type": "code",
   "execution_count": 3,
   "metadata": {},
   "outputs": [],
   "source": [
    "def pbar_fork_hack(l=None):\n",
    "    \"\"\"\n",
    "    Hack to enforce progress bars to be displayed by fork processes on\n",
    "    IPython Apps like Jupyter Notebooks.\n",
    "\n",
    "    Avoids [IPKernelApp] WARNING | WARNING: attempted to send message from fork\n",
    "\n",
    "    Important: pass this function as argument for the initializer parameter\n",
    "    while initializing a multiprocessing pool to make it work. E.g.:\n",
    "\n",
    "    pool = Pool(processes=N_CORES, initializer=pbar_fork_hack)\n",
    "\n",
    "    Source:\n",
    "     - https://github.com/ipython/ipython/issues/11049#issue-306086846\n",
    "     - https://github.com/tqdm/tqdm/issues/485#issuecomment-473338308\n",
    "    \"\"\"\n",
    "    if l:\n",
    "        global lock\n",
    "        lock = l\n",
    "    print(\" \", end=\"\", flush=True)\n",
    "\n",
    "\n",
    "def angle(a, b):\n",
    "    \"\"\"\n",
    "    Angle (in degrees) between two vectors.\n",
    "\n",
    "    Given two 3D vectors (a and b):\n",
    "    a = [xa, ya, za] , b = [xb, yb, zb]\n",
    "\n",
    "    And the basic geometric formula for the dot product:\n",
    "    a · b = |a| * |b| * cos(α) => α = arccos[(a · b) / (|a| * |b|)]\n",
    "\n",
    "    In other words:\n",
    "    angle = arccos[(xa * xb + ya * yb + za * zb) / (√(xa2 + ya2 + za2) * √(xb2 + yb2 + zb2))]\n",
    "\n",
    "    Source: https://www.omnicalculator.com/math/angle-between-two-vectors\n",
    "\n",
    "    Parameters:\n",
    "        a (numpy.array): First vector\n",
    "        b (numpy.array): Second vector\n",
    "    Returns:\n",
    "        float: Angle between vectors a and b in degrees.\n",
    "    \"\"\"\n",
    "    # a · b\n",
    "    dotp = np.dot(a, b)\n",
    "\n",
    "    # magnitude vectors |a| and |b|\n",
    "    m_a = np.linalg.norm(a)\n",
    "    m_b = np.linalg.norm(b)\n",
    "\n",
    "    # |a| * |b|\n",
    "    m_prod = m_a * m_b\n",
    "\n",
    "    # (a * b) / (|a| * |b|)\n",
    "    res = dotp / m_prod\n",
    "\n",
    "    # α = arccos[(a · b) / (|a| * |b|)]\n",
    "    an = np.arccos(res)\n",
    "\n",
    "    # calculated angle from radians to degrees\n",
    "    return np.degrees(an)\n",
    "\n",
    "\n",
    "def parse_cordinates(cords):\n",
    "    \"\"\"\n",
    "    Get N cordinate values given the string representation \"(x, y, z, w...)\".\n",
    "\n",
    "    Parameters:\n",
    "        cords (string): Cordinates expressed as (x, y, z, w...)\n",
    "    Returns:\n",
    "        list: Parsed cordinates, N float values.\n",
    "    \"\"\"\n",
    "    # remove parenthesis from string\n",
    "    cords = cords.replace(\"(\", \"\").replace(\")\", \"\")\n",
    "    # split string by comma, cast values as floats\n",
    "    return [float(v) for v in cords.split(\",\")]"
   ]
  },
  {
   "cell_type": "markdown",
   "metadata": {},
   "source": [
    "__Read participants cleaned data__"
   ]
  },
  {
   "cell_type": "code",
   "execution_count": 4,
   "metadata": {},
   "outputs": [
    {
     "data": {
      "text/html": [
       "<div>\n",
       "<style scoped>\n",
       "    .dataframe tbody tr th:only-of-type {\n",
       "        vertical-align: middle;\n",
       "    }\n",
       "\n",
       "    .dataframe tbody tr th {\n",
       "        vertical-align: top;\n",
       "    }\n",
       "\n",
       "    .dataframe thead th {\n",
       "        text-align: right;\n",
       "    }\n",
       "</style>\n",
       "<table border=\"1\" class=\"dataframe\">\n",
       "  <thead>\n",
       "    <tr style=\"text-align: right;\">\n",
       "      <th></th>\n",
       "      <th>date</th>\n",
       "      <th>expo</th>\n",
       "      <th>side</th>\n",
       "      <th>condition</th>\n",
       "      <th>questionnaire</th>\n",
       "      <th>nulls_%</th>\n",
       "    </tr>\n",
       "    <tr>\n",
       "      <th>id</th>\n",
       "      <th></th>\n",
       "      <th></th>\n",
       "      <th></th>\n",
       "      <th></th>\n",
       "      <th></th>\n",
       "      <th></th>\n",
       "    </tr>\n",
       "  </thead>\n",
       "  <tbody>\n",
       "    <tr>\n",
       "      <th>4f583872ffed48249874b00f3d389cfc</th>\n",
       "      <td>2019-05-14 13:21:00</td>\n",
       "      <td>MSW</td>\n",
       "      <td>right</td>\n",
       "      <td>TaxiDriver</td>\n",
       "      <td>No</td>\n",
       "      <td>6.739</td>\n",
       "    </tr>\n",
       "    <tr>\n",
       "      <th>33d68ad55ef544fab9fd08108e3913ca</th>\n",
       "      <td>2019-05-14 16:44:00</td>\n",
       "      <td>MSW</td>\n",
       "      <td>right</td>\n",
       "      <td>AVAS</td>\n",
       "      <td>No</td>\n",
       "      <td>0.225</td>\n",
       "    </tr>\n",
       "    <tr>\n",
       "      <th>8598a83e2af441b8bcd0ae5d84beb875</th>\n",
       "      <td>2019-05-14 16:51:00</td>\n",
       "      <td>MSW</td>\n",
       "      <td>right</td>\n",
       "      <td>RadioTalk</td>\n",
       "      <td>No</td>\n",
       "      <td>46.237</td>\n",
       "    </tr>\n",
       "    <tr>\n",
       "      <th>37d7e67934974217830bb429bba7fd76</th>\n",
       "      <td>2019-05-14 16:54:00</td>\n",
       "      <td>MSW</td>\n",
       "      <td>left</td>\n",
       "      <td>AVAS</td>\n",
       "      <td>No</td>\n",
       "      <td>8.049</td>\n",
       "    </tr>\n",
       "    <tr>\n",
       "      <th>42bac596059749b5b8e8e83ae61de9b4</th>\n",
       "      <td>2019-05-14 16:56:00</td>\n",
       "      <td>MSW</td>\n",
       "      <td>right</td>\n",
       "      <td>TaxiDriver</td>\n",
       "      <td>No</td>\n",
       "      <td>26.881</td>\n",
       "    </tr>\n",
       "    <tr>\n",
       "      <th>...</th>\n",
       "      <td>...</td>\n",
       "      <td>...</td>\n",
       "      <td>...</td>\n",
       "      <td>...</td>\n",
       "      <td>...</td>\n",
       "      <td>...</td>\n",
       "    </tr>\n",
       "    <tr>\n",
       "      <th>cfe9482181f74f80b88cd4b1c048ab94</th>\n",
       "      <td>2019-12-30 15:29:00</td>\n",
       "      <td>BMBF</td>\n",
       "      <td>right</td>\n",
       "      <td>AVAS</td>\n",
       "      <td>No</td>\n",
       "      <td>34.182</td>\n",
       "    </tr>\n",
       "    <tr>\n",
       "      <th>611d35a7c3e940cc82495e53c2a8532d</th>\n",
       "      <td>2020-01-03 16:12:00</td>\n",
       "      <td>BMBF</td>\n",
       "      <td>right</td>\n",
       "      <td>TaxiDriver</td>\n",
       "      <td>No</td>\n",
       "      <td>7.413</td>\n",
       "    </tr>\n",
       "    <tr>\n",
       "      <th>3b6fda285d9e412eb081986b2f22a2e3</th>\n",
       "      <td>2020-01-03 16:13:00</td>\n",
       "      <td>BMBF</td>\n",
       "      <td>left</td>\n",
       "      <td>AVAS</td>\n",
       "      <td>No</td>\n",
       "      <td>7.151</td>\n",
       "    </tr>\n",
       "    <tr>\n",
       "      <th>18ffb0abdc8642098c479380bfa533d1</th>\n",
       "      <td>2020-01-03 16:15:00</td>\n",
       "      <td>BMBF</td>\n",
       "      <td>left</td>\n",
       "      <td>RadioTalk</td>\n",
       "      <td>Yes</td>\n",
       "      <td>13.890</td>\n",
       "    </tr>\n",
       "    <tr>\n",
       "      <th>c06f123b35b74bb489ec239b1cac9eb4</th>\n",
       "      <td>2020-01-03 16:16:00</td>\n",
       "      <td>BMBF</td>\n",
       "      <td>right</td>\n",
       "      <td>TaxiDriver</td>\n",
       "      <td>No</td>\n",
       "      <td>0.861</td>\n",
       "    </tr>\n",
       "  </tbody>\n",
       "</table>\n",
       "<p>24356 rows × 6 columns</p>\n",
       "</div>"
      ],
      "text/plain": [
       "                                                 date  expo   side  \\\n",
       "id                                                                   \n",
       "4f583872ffed48249874b00f3d389cfc  2019-05-14 13:21:00   MSW  right   \n",
       "33d68ad55ef544fab9fd08108e3913ca  2019-05-14 16:44:00   MSW  right   \n",
       "8598a83e2af441b8bcd0ae5d84beb875  2019-05-14 16:51:00   MSW  right   \n",
       "37d7e67934974217830bb429bba7fd76  2019-05-14 16:54:00   MSW   left   \n",
       "42bac596059749b5b8e8e83ae61de9b4  2019-05-14 16:56:00   MSW  right   \n",
       "...                                               ...   ...    ...   \n",
       "cfe9482181f74f80b88cd4b1c048ab94  2019-12-30 15:29:00  BMBF  right   \n",
       "611d35a7c3e940cc82495e53c2a8532d  2020-01-03 16:12:00  BMBF  right   \n",
       "3b6fda285d9e412eb081986b2f22a2e3  2020-01-03 16:13:00  BMBF   left   \n",
       "18ffb0abdc8642098c479380bfa533d1  2020-01-03 16:15:00  BMBF   left   \n",
       "c06f123b35b74bb489ec239b1cac9eb4  2020-01-03 16:16:00  BMBF  right   \n",
       "\n",
       "                                   condition questionnaire  nulls_%  \n",
       "id                                                                   \n",
       "4f583872ffed48249874b00f3d389cfc  TaxiDriver            No    6.739  \n",
       "33d68ad55ef544fab9fd08108e3913ca        AVAS            No    0.225  \n",
       "8598a83e2af441b8bcd0ae5d84beb875   RadioTalk            No   46.237  \n",
       "37d7e67934974217830bb429bba7fd76        AVAS            No    8.049  \n",
       "42bac596059749b5b8e8e83ae61de9b4  TaxiDriver            No   26.881  \n",
       "...                                      ...           ...      ...  \n",
       "cfe9482181f74f80b88cd4b1c048ab94        AVAS            No   34.182  \n",
       "611d35a7c3e940cc82495e53c2a8532d  TaxiDriver            No    7.413  \n",
       "3b6fda285d9e412eb081986b2f22a2e3        AVAS            No    7.151  \n",
       "18ffb0abdc8642098c479380bfa533d1   RadioTalk           Yes   13.890  \n",
       "c06f123b35b74bb489ec239b1cac9eb4  TaxiDriver            No    0.861  \n",
       "\n",
       "[24356 rows x 6 columns]"
      ]
     },
     "execution_count": 4,
     "metadata": {},
     "output_type": "execute_result"
    }
   ],
   "source": [
    "parts = pd.read_csv(\"./participants_clean.csv\")\n",
    "parts = parts.set_index(\"id\")  # set uid column as index (remove default)\n",
    "parts"
   ]
  },
  {
   "cell_type": "markdown",
   "metadata": {},
   "source": [
    "Participant data example to process"
   ]
  },
  {
   "cell_type": "code",
   "execution_count": 5,
   "metadata": {},
   "outputs": [
    {
     "data": {
      "text/html": [
       "<div>\n",
       "<style scoped>\n",
       "    .dataframe tbody tr th:only-of-type {\n",
       "        vertical-align: middle;\n",
       "    }\n",
       "\n",
       "    .dataframe tbody tr th {\n",
       "        vertical-align: top;\n",
       "    }\n",
       "\n",
       "    .dataframe thead th {\n",
       "        text-align: right;\n",
       "    }\n",
       "</style>\n",
       "<table border=\"1\" class=\"dataframe\">\n",
       "  <thead>\n",
       "    <tr style=\"text-align: right;\">\n",
       "      <th></th>\n",
       "      <th>trackerPosition</th>\n",
       "      <th>trackerRotation</th>\n",
       "      <th>noseVector</th>\n",
       "      <th>hitObjectNames</th>\n",
       "      <th>hitObjectPositions</th>\n",
       "      <th>hitPositionOnObjects</th>\n",
       "      <th>hitObjectGroups</th>\n",
       "    </tr>\n",
       "    <tr>\n",
       "      <th>frameNumber</th>\n",
       "      <th></th>\n",
       "      <th></th>\n",
       "      <th></th>\n",
       "      <th></th>\n",
       "      <th></th>\n",
       "      <th></th>\n",
       "      <th></th>\n",
       "    </tr>\n",
       "  </thead>\n",
       "  <tbody>\n",
       "    <tr>\n",
       "      <th>400</th>\n",
       "      <td>(-193.8, 102.3, -131.8)</td>\n",
       "      <td>(0.0, 0.7, 0.1, 0.7)</td>\n",
       "      <td>(1.0, 0.2, 0.1)</td>\n",
       "      <td>Start</td>\n",
       "      <td>(-166.9, 99.11023, -132)</td>\n",
       "      <td>(-177.7123, 104.7654, -130.4461)</td>\n",
       "      <td>Start</td>\n",
       "    </tr>\n",
       "    <tr>\n",
       "      <th>401</th>\n",
       "      <td>(-193.8, 102.3, -131.8)</td>\n",
       "      <td>(0.0, 0.7, 0.1, 0.7)</td>\n",
       "      <td>(1.0, 0.2, 0.1)</td>\n",
       "      <td>Start</td>\n",
       "      <td>(-166.9, 99.11023, -132)</td>\n",
       "      <td>(-177.7123, 104.8219, -130.527)</td>\n",
       "      <td>Start</td>\n",
       "    </tr>\n",
       "    <tr>\n",
       "      <th>402</th>\n",
       "      <td>(-193.8, 102.3, -131.8)</td>\n",
       "      <td>(0.0, 0.7, 0.1, 0.7)</td>\n",
       "      <td>(1.0, 0.2, 0.1)</td>\n",
       "      <td>Start</td>\n",
       "      <td>(-166.9, 99.11023, -132)</td>\n",
       "      <td>(-177.7123, 104.7937, -130.5624)</td>\n",
       "      <td>Start</td>\n",
       "    </tr>\n",
       "    <tr>\n",
       "      <th>403</th>\n",
       "      <td>(-193.7, 102.3, -131.8)</td>\n",
       "      <td>(0.0, 0.7, 0.1, 0.7)</td>\n",
       "      <td>(1.0, 0.2, 0.1)</td>\n",
       "      <td>Start</td>\n",
       "      <td>(-166.9, 99.11023, -132)</td>\n",
       "      <td>(-177.7123, 104.7296, -130.5805)</td>\n",
       "      <td>Start</td>\n",
       "    </tr>\n",
       "    <tr>\n",
       "      <th>404</th>\n",
       "      <td>(-193.7, 102.3, -131.8)</td>\n",
       "      <td>(0.0, 0.7, 0.1, 0.7)</td>\n",
       "      <td>(1.0, 0.2, 0.1)</td>\n",
       "      <td>Start</td>\n",
       "      <td>(-166.9, 99.11023, -132)</td>\n",
       "      <td>(-177.7123, 104.6884, -130.6121)</td>\n",
       "      <td>Start</td>\n",
       "    </tr>\n",
       "    <tr>\n",
       "      <th>...</th>\n",
       "      <td>...</td>\n",
       "      <td>...</td>\n",
       "      <td>...</td>\n",
       "      <td>...</td>\n",
       "      <td>...</td>\n",
       "      <td>...</td>\n",
       "      <td>...</td>\n",
       "    </tr>\n",
       "    <tr>\n",
       "      <th>3066</th>\n",
       "      <td>(-41.4, 102.2, -199.3)</td>\n",
       "      <td>(0.0, 0.8, 0.0, -0.7)</td>\n",
       "      <td>(-1.0, 0.0, -0.1)</td>\n",
       "      <td>3841_combined_LB_building-2  [Legacy Shaders/R...</td>\n",
       "      <td>(-89.89999, 122.5, -220.3999)</td>\n",
       "      <td>(-71.96298, 102.2121, -203.7472)</td>\n",
       "      <td>WestRide Buildings</td>\n",
       "    </tr>\n",
       "    <tr>\n",
       "      <th>3067</th>\n",
       "      <td>(-41.7, 102.2, -199.3)</td>\n",
       "      <td>(0.0, 0.8, 0.0, -0.7)</td>\n",
       "      <td>(-1.0, 0.0, -0.1)</td>\n",
       "      <td>3841_combined_LB_building-2  [Legacy Shaders/R...</td>\n",
       "      <td>(-89.89999, 122.5, -220.3999)</td>\n",
       "      <td>(-71.96298, 102.2188, -203.4849)</td>\n",
       "      <td>WestRide Buildings</td>\n",
       "    </tr>\n",
       "    <tr>\n",
       "      <th>3068</th>\n",
       "      <td>(-41.9, 102.2, -199.3)</td>\n",
       "      <td>(0.0, 0.8, 0.0, -0.7)</td>\n",
       "      <td>(-1.0, 0.0, -0.1)</td>\n",
       "      <td>3841_combined_LB_building-2  [Legacy Shaders/R...</td>\n",
       "      <td>(-89.89999, 122.5, -220.3999)</td>\n",
       "      <td>(-71.96298, 102.2288, -203.3641)</td>\n",
       "      <td>WestRide Buildings</td>\n",
       "    </tr>\n",
       "    <tr>\n",
       "      <th>3069</th>\n",
       "      <td>(-42.1, 102.2, -199.3)</td>\n",
       "      <td>(0.0, 0.8, 0.0, -0.7)</td>\n",
       "      <td>(-1.0, 0.0, -0.1)</td>\n",
       "      <td>3841_combined_LB_building-2  [Legacy Shaders/R...</td>\n",
       "      <td>(-89.89999, 122.5, -220.3999)</td>\n",
       "      <td>(-71.96298, 102.2259, -203.1313)</td>\n",
       "      <td>WestRide Buildings</td>\n",
       "    </tr>\n",
       "    <tr>\n",
       "      <th>3070</th>\n",
       "      <td>(-42.3, 102.2, -199.3)</td>\n",
       "      <td>(0.0, 0.7, 0.0, -0.7)</td>\n",
       "      <td>(-1.0, 0.0, -0.1)</td>\n",
       "      <td>3841_combined_LB_building-2  [Legacy Shaders/R...</td>\n",
       "      <td>(-89.89999, 122.5, -220.3999)</td>\n",
       "      <td>(-71.96298, 102.2273, -203.0254)</td>\n",
       "      <td>WestRide Buildings</td>\n",
       "    </tr>\n",
       "  </tbody>\n",
       "</table>\n",
       "<p>2671 rows × 7 columns</p>\n",
       "</div>"
      ],
      "text/plain": [
       "                     trackerPosition        trackerRotation  \\\n",
       "frameNumber                                                   \n",
       "400          (-193.8, 102.3, -131.8)   (0.0, 0.7, 0.1, 0.7)   \n",
       "401          (-193.8, 102.3, -131.8)   (0.0, 0.7, 0.1, 0.7)   \n",
       "402          (-193.8, 102.3, -131.8)   (0.0, 0.7, 0.1, 0.7)   \n",
       "403          (-193.7, 102.3, -131.8)   (0.0, 0.7, 0.1, 0.7)   \n",
       "404          (-193.7, 102.3, -131.8)   (0.0, 0.7, 0.1, 0.7)   \n",
       "...                              ...                    ...   \n",
       "3066          (-41.4, 102.2, -199.3)  (0.0, 0.8, 0.0, -0.7)   \n",
       "3067          (-41.7, 102.2, -199.3)  (0.0, 0.8, 0.0, -0.7)   \n",
       "3068          (-41.9, 102.2, -199.3)  (0.0, 0.8, 0.0, -0.7)   \n",
       "3069          (-42.1, 102.2, -199.3)  (0.0, 0.8, 0.0, -0.7)   \n",
       "3070          (-42.3, 102.2, -199.3)  (0.0, 0.7, 0.0, -0.7)   \n",
       "\n",
       "                    noseVector  \\\n",
       "frameNumber                      \n",
       "400            (1.0, 0.2, 0.1)   \n",
       "401            (1.0, 0.2, 0.1)   \n",
       "402            (1.0, 0.2, 0.1)   \n",
       "403            (1.0, 0.2, 0.1)   \n",
       "404            (1.0, 0.2, 0.1)   \n",
       "...                        ...   \n",
       "3066         (-1.0, 0.0, -0.1)   \n",
       "3067         (-1.0, 0.0, -0.1)   \n",
       "3068         (-1.0, 0.0, -0.1)   \n",
       "3069         (-1.0, 0.0, -0.1)   \n",
       "3070         (-1.0, 0.0, -0.1)   \n",
       "\n",
       "                                                hitObjectNames  \\\n",
       "frameNumber                                                      \n",
       "400                                                      Start   \n",
       "401                                                      Start   \n",
       "402                                                      Start   \n",
       "403                                                      Start   \n",
       "404                                                      Start   \n",
       "...                                                        ...   \n",
       "3066         3841_combined_LB_building-2  [Legacy Shaders/R...   \n",
       "3067         3841_combined_LB_building-2  [Legacy Shaders/R...   \n",
       "3068         3841_combined_LB_building-2  [Legacy Shaders/R...   \n",
       "3069         3841_combined_LB_building-2  [Legacy Shaders/R...   \n",
       "3070         3841_combined_LB_building-2  [Legacy Shaders/R...   \n",
       "\n",
       "                        hitObjectPositions              hitPositionOnObjects  \\\n",
       "frameNumber                                                                    \n",
       "400               (-166.9, 99.11023, -132)  (-177.7123, 104.7654, -130.4461)   \n",
       "401               (-166.9, 99.11023, -132)   (-177.7123, 104.8219, -130.527)   \n",
       "402               (-166.9, 99.11023, -132)  (-177.7123, 104.7937, -130.5624)   \n",
       "403               (-166.9, 99.11023, -132)  (-177.7123, 104.7296, -130.5805)   \n",
       "404               (-166.9, 99.11023, -132)  (-177.7123, 104.6884, -130.6121)   \n",
       "...                                    ...                               ...   \n",
       "3066         (-89.89999, 122.5, -220.3999)  (-71.96298, 102.2121, -203.7472)   \n",
       "3067         (-89.89999, 122.5, -220.3999)  (-71.96298, 102.2188, -203.4849)   \n",
       "3068         (-89.89999, 122.5, -220.3999)  (-71.96298, 102.2288, -203.3641)   \n",
       "3069         (-89.89999, 122.5, -220.3999)  (-71.96298, 102.2259, -203.1313)   \n",
       "3070         (-89.89999, 122.5, -220.3999)  (-71.96298, 102.2273, -203.0254)   \n",
       "\n",
       "                hitObjectGroups  \n",
       "frameNumber                      \n",
       "400                       Start  \n",
       "401                       Start  \n",
       "402                       Start  \n",
       "403                       Start  \n",
       "404                       Start  \n",
       "...                         ...  \n",
       "3066         WestRide Buildings  \n",
       "3067         WestRide Buildings  \n",
       "3068         WestRide Buildings  \n",
       "3069         WestRide Buildings  \n",
       "3070         WestRide Buildings  \n",
       "\n",
       "[2671 rows x 7 columns]"
      ]
     },
     "execution_count": 5,
     "metadata": {},
     "output_type": "execute_result"
    }
   ],
   "source": [
    "selected = parts.iloc[0]\n",
    "uid = pd.Index(selected).name\n",
    "\n",
    "file = f\"Path_ MS Wissenschaft-{selected.condition}-{uid}.csv\"\n",
    "df = pd.read_csv(f\"{PATH_RAYC}/{file}\")\n",
    "df = df.set_index(\"frameNumber\")\n",
    "df"
   ]
  },
  {
   "cell_type": "code",
   "execution_count": 7,
   "metadata": {},
   "outputs": [
    {
     "data": {
      "application/vnd.jupyter.widget-view+json": {
       "model_id": "ded0c022f19e407c92233c390276daed",
       "version_major": 2,
       "version_minor": 0
      },
      "text/plain": [
       "📄 0 of 24356 📂 participants processed:                                                                        …"
      ]
     },
     "metadata": {},
     "output_type": "display_data"
    }
   ],
   "source": [
    "def process_hits(uid):\n",
    "    \"\"\"\n",
    "    Process raw raycasted hit data as hit origin and information\n",
    "    separately given a participant UID:\n",
    "\n",
    "    - Disentangle origin and direction coordinates\n",
    "    - Disentangle object and group names\n",
    "    - Calculate direction (nose vector) angles and hit distances\n",
    "    - Order object hits within the same frame by distance\n",
    "    - Rename/rearrange object groups\n",
    "    - Fix objects belonging to wrong group\n",
    "    - Store as processed hit origin and hit info\n",
    "\n",
    "    Parameters:\n",
    "        uid (str): Participant UID to process.\n",
    "    \"\"\"\n",
    "\n",
    "    cond = parts.loc[uid].condition\n",
    "    file = f\"Path_ MS Wissenschaft-{cond}-{uid}.csv\"\n",
    "    df_part = pd.read_csv(f\"{PATH_RAYC}/{file}\")\n",
    "\n",
    "    # temporary fix (null object name and group -> Sky)\n",
    "    idxs = pd.isnull(df_part.hitObjectNames)\n",
    "    sky_fix = df_part.loc[idxs]\n",
    "    cols = [\n",
    "        \"hitObjectNames\",\n",
    "        \"hitObjectGroups\",\n",
    "        \"hitObjectPositions\",\n",
    "        \"hitPositionOnObjects\",\n",
    "    ]\n",
    "    sky_fix[cols] = [\"Sky\", \"Sky\", \"(0, 0, 0)\", \"(0, 0, 0)\"]\n",
    "    df_part.loc[idxs] = sky_fix\n",
    "\n",
    "    # generate the new dict (=> dataFrame) structure\n",
    "    orgs = {c: [] for c in HIT_ORIGIN}\n",
    "    hits = {c: [] for c in HIT_INFO}\n",
    "\n",
    "    # df indices (all frames)\n",
    "    frames = df_part.index.tolist()\n",
    "\n",
    "    for f in frames:  # iterate over frames\n",
    "\n",
    "        cur = df_part.loc[f]  # current row (frame)\n",
    "        # parse and store origin\n",
    "        origin = cur.trackerPosition\n",
    "        origX, origY, origZ = parse_cordinates(origin)\n",
    "        # parse and store rotation\n",
    "        rotation = cur.trackerRotation\n",
    "        rotX, rotY, rotZ, rotW = parse_cordinates(rotation)\n",
    "        # parse and store nose vector (direction)\n",
    "        direction = cur.noseVector\n",
    "        directX, directY, directZ = parse_cordinates(direction)\n",
    "        noseVector = np.array([directX, directY, directZ])\n",
    "        # calculate angles between nose vector and X-Y-Z axes\n",
    "        x_angle = angle(noseVector, X_DIR)\n",
    "        y_angle = angle(noseVector, Y_DIR)\n",
    "        z_angle = angle(noseVector, Z_DIR)\n",
    "\n",
    "        # store hit origin info\n",
    "        orgs[\"frame\"].append(f)\n",
    "        orgs[\"originX\"].append(origX)\n",
    "        orgs[\"originY\"].append(origY)\n",
    "        orgs[\"originZ\"].append(origZ)\n",
    "        orgs[\"rotationX\"].append(rotX)\n",
    "        orgs[\"rotationY\"].append(rotY)\n",
    "        orgs[\"rotationZ\"].append(rotZ)\n",
    "        orgs[\"rotationW\"].append(rotW)\n",
    "        orgs[\"directionX\"].append(directX)\n",
    "        orgs[\"directionY\"].append(directY)\n",
    "        orgs[\"directionZ\"].append(directZ)\n",
    "        # store horizontal and vertical angles\n",
    "        orgs[\"angleX\"].append(x_angle)\n",
    "        orgs[\"angleY\"].append(y_angle)\n",
    "        orgs[\"angleZ\"].append(z_angle)\n",
    "\n",
    "        # get hit names to check hits in frame\n",
    "        names = cur.hitObjectNames\n",
    "        groups = cur.hitObjectGroups\n",
    "        hit_pos = cur.hitPositionOnObjects\n",
    "        obj_pos = cur.hitObjectPositions\n",
    "        if names == \"null\":  # no hit\n",
    "            names = [None]\n",
    "            groups = [None]\n",
    "            dist = None\n",
    "            objX, objY, objZ = [None, None, None]\n",
    "            hitX, hitY, hitZ = [None, None, None]\n",
    "        elif \",\" not in names:  # single hit\n",
    "            # encapsulate single values on lists\n",
    "            names = [names]\n",
    "            groups = [groups]\n",
    "            obj_pos = [obj_pos]\n",
    "            hit_pos = [hit_pos]\n",
    "        else:  # more than 1 hit on the same frame\n",
    "            # parse object names (also remove left and right whitespaces)\n",
    "            names = [n.strip() for n in names.split(\", \")]\n",
    "            # parse object groups (also remove left and right whitespaces)\n",
    "            groups = [g.strip() for g in groups.split(\", \")]\n",
    "            # parse object and hit positions (3D cordinate groups)\n",
    "            obj_pos = obj_pos.split(\"),\")\n",
    "            hit_pos = hit_pos.split(\"),\")\n",
    "\n",
    "        n_objects = len(names)\n",
    "        for i in range(n_objects):  # for each object\n",
    "            # get name and group\n",
    "            name = names[i]\n",
    "            group = groups[i]\n",
    "            if name:\n",
    "                # parse and store object and hit position cordinates\n",
    "                objX, objY, objZ = parse_cordinates(obj_pos[i])\n",
    "                hitX, hitY, hitZ = parse_cordinates(hit_pos[i])\n",
    "                # calculate hit distance\n",
    "                orig = np.array([origX, origY, origZ])\n",
    "                hit = np.array([hitX, hitY, hitZ])\n",
    "                dist = np.linalg.norm(hit - orig)\n",
    "            # store frame number, origin, and direction values\n",
    "            hits[\"frame\"].append(f)\n",
    "            # store object name, group, and distance\n",
    "            hits[\"name\"].append(name)\n",
    "            hits[\"group\"].append(group)\n",
    "            hits[\"distance\"].append(dist)\n",
    "            # store object and hit cordinates\n",
    "            hits[\"objectX\"].append(hitX)\n",
    "            hits[\"objectY\"].append(hitY)\n",
    "            hits[\"objectZ\"].append(hitZ)\n",
    "            hits[\"hitX\"].append(hitX)\n",
    "            hits[\"hitY\"].append(hitY)\n",
    "            hits[\"hitZ\"].append(hitZ)\n",
    "\n",
    "    # dict to df\n",
    "    hits = pd.DataFrame(hits)\n",
    "    orgs = pd.DataFrame(orgs)\n",
    "    orgs = orgs.set_index(\"frame\")\n",
    "\n",
    "    # rename/rearrange group names\n",
    "    hits.group = hits.group.replace(GRP_REPLACE)\n",
    "\n",
    "    # Specific objects in wrong group fixes (car objects inside events and\n",
    "    # street objects)\n",
    "    # select indices (True/False) with dynamic car on \"Events\"\n",
    "    car_event = (hits.group == \"Events\") & (hits.name == \"U_SUV03(Clone)\")\n",
    "    # if any dynamic car on \"Events\" set group to \"Dynamic Cars\"\n",
    "    if any(car_event):\n",
    "        # for some strange reason the values of the column name \"group\" cannot\n",
    "        # be modified using a selection of rows. But by modifying it on a copy\n",
    "        # and then reassigning it to the original selection the change works.\n",
    "        sel = hits[car_event]\n",
    "        sel.group = \"Dynamic Cars\"\n",
    "        hits[car_event] = sel\n",
    "    # select indices (True/False) with static car on \"Street Objects\"\n",
    "    # object group selection\n",
    "    str_obj = hits.group == \"Street Objects\"\n",
    "    # object name selection\n",
    "    car_in = hits.name.str.contains(\"car (\", regex=False, na=False)\n",
    "    car_str_obj = str_obj & car_in  # combined selection (both conditions)\n",
    "    # if any static car on \"Street Objects\" set group to \"Static Cars\"\n",
    "    if any(car_str_obj):\n",
    "        # same trick as above\n",
    "        sel = hits[car_str_obj]\n",
    "        sel.group = \"Static Cars\"\n",
    "        hits[car_str_obj] = sel\n",
    "\n",
    "    # ensure all hit objects are ordered by distance whitin a frame.\n",
    "    new_idxs = []  # to collect new ordered indices\n",
    "    for f in frames:  # iterate over frames\n",
    "        cur = hits[hits.frame == f]  # select rows with current frame\n",
    "        idxs = cur.index.tolist()  # unordered indices\n",
    "        cur = cur.sort_values(by=\"distance\")  # sort series\n",
    "        ordered = cur.index.tolist()  # ordered indices\n",
    "        for idx in ordered:  # iterate over ordered indices\n",
    "            new_idxs.append(idx)  # store them\n",
    "\n",
    "    # reorder dataframe according to the indices stored\n",
    "    hits = hits.reindex(new_idxs)\n",
    "\n",
    "    # store into CSV and display\n",
    "    orgs.to_csv(f\"./data/processed/origins/{uid}.csv\")\n",
    "    hits.to_csv(f\"./data/processed/hits/{uid}.csv\", index=False)\n",
    "\n",
    "\n",
    "# initialize a multiprocessing pool with the available cpu cores\n",
    "pool = Pool(processes=CORES)\n",
    "\n",
    "# participants uids to process\n",
    "uids = parts.index.tolist()\n",
    "\n",
    "# participants progress bar\n",
    "parts_progress = tqdm(\n",
    "    iterable=pool.imap_unordered(func=process_hits, iterable=uids),\n",
    "    total=len(uids),\n",
    "    desc=\"📂 participants\",\n",
    "    dynamic_ncols=True,\n",
    "    bar_format=B_FORMAT,\n",
    ")\n",
    "\n",
    "# loop necessary for displaying properly the progressbar with multiprocessing\n",
    "# source: https://stackoverflow.com/a/40133278\n",
    "for _ in parts_progress:\n",
    "    pass\n",
    "\n",
    "# close pool instance, no more work to submit\n",
    "pool.close()\n",
    "# wait for the worker processes to terminate\n",
    "pool.join()"
   ]
  }
 ],
 "metadata": {
  "kernelspec": {
   "display_name": "Python (msw-bmbf_da)",
   "language": "python",
   "name": "msw-bmbf_da"
  },
  "language_info": {
   "codemirror_mode": {
    "name": "ipython",
    "version": 3
   },
   "file_extension": ".py",
   "mimetype": "text/x-python",
   "name": "python",
   "nbconvert_exporter": "python",
   "pygments_lexer": "ipython3",
   "version": "3.8.12"
  },
  "widgets": {
   "application/vnd.jupyter.widget-state+json": {
    "state": {
     "038fd700e03043f893486533527fc4d8": {
      "model_module": "@jupyter-widgets/controls",
      "model_module_version": "1.5.0",
      "model_name": "DescriptionStyleModel",
      "state": {
       "description_width": ""
      }
     },
     "0aceb42d13c54f2cbdae96dddfed3973": {
      "model_module": "@jupyter-widgets/controls",
      "model_module_version": "1.5.0",
      "model_name": "DescriptionStyleModel",
      "state": {
       "description_width": ""
      }
     },
     "13fa3c0386524bc884fef8bb14ba0136": {
      "model_module": "@jupyter-widgets/base",
      "model_module_version": "1.2.0",
      "model_name": "LayoutModel",
      "state": {}
     },
     "1ae1eefa4ed947fe8d385521f13bd95d": {
      "model_module": "@jupyter-widgets/controls",
      "model_module_version": "1.5.0",
      "model_name": "ProgressStyleModel",
      "state": {
       "description_width": ""
      }
     },
     "25feaa6d370349b28da37c9ace3d60ac": {
      "model_module": "@jupyter-widgets/controls",
      "model_module_version": "1.5.0",
      "model_name": "HBoxModel",
      "state": {
       "children": [
        "IPY_MODEL_9307582c558d4378987fe5d6fc48a4e4",
        "IPY_MODEL_29456cf47f924cbe892b6cd8207e9559",
        "IPY_MODEL_7f6494f4e25c4950afc7874d73c79da3"
       ],
       "layout": "IPY_MODEL_8bd798ae1cf24b9da148faccfb5487c0"
      }
     },
     "29456cf47f924cbe892b6cd8207e9559": {
      "model_module": "@jupyter-widgets/controls",
      "model_module_version": "1.5.0",
      "model_name": "FloatProgressModel",
      "state": {
       "bar_style": "danger",
       "layout": "IPY_MODEL_e0c68f75b421465c968e490d7c123ef2",
       "max": 24356,
       "style": "IPY_MODEL_1ae1eefa4ed947fe8d385521f13bd95d",
       "value": 7400
      }
     },
     "2e402718c813437b9abd8f2e0eff48e9": {
      "model_module": "@jupyter-widgets/base",
      "model_module_version": "1.2.0",
      "model_name": "LayoutModel",
      "state": {
       "display": "inline-flex",
       "flex_flow": "row wrap",
       "width": "100%"
      }
     },
     "3043d6ffc1744c8dbbacde831f712010": {
      "model_module": "@jupyter-widgets/base",
      "model_module_version": "1.2.0",
      "model_name": "LayoutModel",
      "state": {
       "display": "inline-flex",
       "flex_flow": "row wrap",
       "width": "100%"
      }
     },
     "3054986c57a74db5b7629412fae41ee9": {
      "model_module": "@jupyter-widgets/controls",
      "model_module_version": "1.5.0",
      "model_name": "ProgressStyleModel",
      "state": {
       "description_width": ""
      }
     },
     "32f48d3dc8f84dbf9da9ada10eb7254f": {
      "model_module": "@jupyter-widgets/controls",
      "model_module_version": "1.5.0",
      "model_name": "DescriptionStyleModel",
      "state": {
       "description_width": ""
      }
     },
     "36990993cf43439d8d31c2b964316304": {
      "model_module": "@jupyter-widgets/base",
      "model_module_version": "1.2.0",
      "model_name": "LayoutModel",
      "state": {
       "display": "inline-flex",
       "flex_flow": "row wrap",
       "width": "100%"
      }
     },
     "38971052aa9c47b98f134c57beb7bbde": {
      "model_module": "@jupyter-widgets/controls",
      "model_module_version": "1.5.0",
      "model_name": "ProgressStyleModel",
      "state": {
       "description_width": ""
      }
     },
     "3b2752acb06b47ed9f9e39702a7371fe": {
      "model_module": "@jupyter-widgets/controls",
      "model_module_version": "1.5.0",
      "model_name": "DescriptionStyleModel",
      "state": {
       "description_width": ""
      }
     },
     "408b02b04b1f47f191257a3ef98e61ab": {
      "model_module": "@jupyter-widgets/base",
      "model_module_version": "1.2.0",
      "model_name": "LayoutModel",
      "state": {
       "display": "inline-flex",
       "flex_flow": "row wrap",
       "width": "100%"
      }
     },
     "43ce36d2099a4124a35e300636bf1e18": {
      "model_module": "@jupyter-widgets/base",
      "model_module_version": "1.2.0",
      "model_name": "LayoutModel",
      "state": {}
     },
     "467fc979e2324e6dac9d39774cf2a809": {
      "model_module": "@jupyter-widgets/base",
      "model_module_version": "1.2.0",
      "model_name": "LayoutModel",
      "state": {}
     },
     "5022e2f0c0124d88aafb48885f602efb": {
      "model_module": "@jupyter-widgets/controls",
      "model_module_version": "1.5.0",
      "model_name": "FloatProgressModel",
      "state": {
       "bar_style": "success",
       "layout": "IPY_MODEL_703be5d635ce45d8afbddcbf137840ec",
       "max": 24356,
       "style": "IPY_MODEL_3054986c57a74db5b7629412fae41ee9",
       "value": 24356
      }
     },
     "5124c4c35e4a452fb2482b80e7989069": {
      "model_module": "@jupyter-widgets/controls",
      "model_module_version": "1.5.0",
      "model_name": "HTMLModel",
      "state": {
       "layout": "IPY_MODEL_467fc979e2324e6dac9d39774cf2a809",
       "style": "IPY_MODEL_3b2752acb06b47ed9f9e39702a7371fe",
       "value": " \n            100% ⏱️1:21:13 ⏳00:00 ⚙️ 6.75it/s"
      }
     },
     "51b61a68bd324f23bf739618fc413cad": {
      "model_module": "@jupyter-widgets/controls",
      "model_module_version": "1.5.0",
      "model_name": "DescriptionStyleModel",
      "state": {
       "description_width": ""
      }
     },
     "6369d83f7979427e8f78ed461fab00c0": {
      "model_module": "@jupyter-widgets/controls",
      "model_module_version": "1.5.0",
      "model_name": "ProgressStyleModel",
      "state": {
       "description_width": ""
      }
     },
     "6a3b6ad2b8464587a8cf01cbf3d492ba": {
      "model_module": "@jupyter-widgets/controls",
      "model_module_version": "1.5.0",
      "model_name": "HTMLModel",
      "state": {
       "layout": "IPY_MODEL_8da95ead79cc43dfa5bcf0d8f943b484",
       "style": "IPY_MODEL_e29538a9541847148d833fde90156fce",
       "value": " \n            100% ⏱️00:22 ⏳00:00 ⚙️1014.53it/s"
      }
     },
     "6a5d6d1c120948d2851d8c2051d25b60": {
      "model_module": "@jupyter-widgets/controls",
      "model_module_version": "1.5.0",
      "model_name": "FloatProgressModel",
      "state": {
       "bar_style": "success",
       "layout": "IPY_MODEL_d3bc12e2df1a460bb16761ef0f6b5d98",
       "max": 24356,
       "style": "IPY_MODEL_f2e1afe123b14c3c97fd7e6367d8836e",
       "value": 24356
      }
     },
     "6cccb5201835499e9eee5b2320aa8714": {
      "model_module": "@jupyter-widgets/base",
      "model_module_version": "1.2.0",
      "model_name": "LayoutModel",
      "state": {}
     },
     "6ea04903eb514885ab5eb5c9aa1c708c": {
      "model_module": "@jupyter-widgets/controls",
      "model_module_version": "1.5.0",
      "model_name": "HTMLModel",
      "state": {
       "layout": "IPY_MODEL_78b33ea67b78478f88b8a24c31fce859",
       "style": "IPY_MODEL_c9d034dd367c49cc84642a8d063f420e",
       "value": "📄 24356 of 24356 📂 participants processed: "
      }
     },
     "703be5d635ce45d8afbddcbf137840ec": {
      "model_module": "@jupyter-widgets/base",
      "model_module_version": "1.2.0",
      "model_name": "LayoutModel",
      "state": {
       "flex": "2"
      }
     },
     "71195db5c7234b1388511af44cd9d835": {
      "model_module": "@jupyter-widgets/controls",
      "model_module_version": "1.5.0",
      "model_name": "FloatProgressModel",
      "state": {
       "bar_style": "danger",
       "layout": "IPY_MODEL_efc495fcd8644e1b99c4b9c5504804d0",
       "max": 24356,
       "style": "IPY_MODEL_6369d83f7979427e8f78ed461fab00c0",
       "value": 1151
      }
     },
     "78b33ea67b78478f88b8a24c31fce859": {
      "model_module": "@jupyter-widgets/base",
      "model_module_version": "1.2.0",
      "model_name": "LayoutModel",
      "state": {}
     },
     "7f6494f4e25c4950afc7874d73c79da3": {
      "model_module": "@jupyter-widgets/controls",
      "model_module_version": "1.5.0",
      "model_name": "HTMLModel",
      "state": {
       "layout": "IPY_MODEL_13fa3c0386524bc884fef8bb14ba0136",
       "style": "IPY_MODEL_fc4113ab993e4579af0d53d15c698138",
       "value": " \n             30% ⏱️11:24 ⏳23:32 ⚙️12.00it/s"
      }
     },
     "8bd798ae1cf24b9da148faccfb5487c0": {
      "model_module": "@jupyter-widgets/base",
      "model_module_version": "1.2.0",
      "model_name": "LayoutModel",
      "state": {
       "display": "inline-flex",
       "flex_flow": "row wrap",
       "width": "100%"
      }
     },
     "8da95ead79cc43dfa5bcf0d8f943b484": {
      "model_module": "@jupyter-widgets/base",
      "model_module_version": "1.2.0",
      "model_name": "LayoutModel",
      "state": {}
     },
     "9307582c558d4378987fe5d6fc48a4e4": {
      "model_module": "@jupyter-widgets/controls",
      "model_module_version": "1.5.0",
      "model_name": "HTMLModel",
      "state": {
       "layout": "IPY_MODEL_6cccb5201835499e9eee5b2320aa8714",
       "style": "IPY_MODEL_9cff8b3adb3449a6886726a1fb62f983",
       "value": "📄 7400 of 24356 📂 participants processed: "
      }
     },
     "97c946617c9b42a78ef4f5d5d79a49ff": {
      "model_module": "@jupyter-widgets/controls",
      "model_module_version": "1.5.0",
      "model_name": "DescriptionStyleModel",
      "state": {
       "description_width": ""
      }
     },
     "9cff8b3adb3449a6886726a1fb62f983": {
      "model_module": "@jupyter-widgets/controls",
      "model_module_version": "1.5.0",
      "model_name": "DescriptionStyleModel",
      "state": {
       "description_width": ""
      }
     },
     "a558701d8373457690be85ec784bada2": {
      "model_module": "@jupyter-widgets/controls",
      "model_module_version": "1.5.0",
      "model_name": "HTMLModel",
      "state": {
       "layout": "IPY_MODEL_b1e5ac8592cc4ddf94fcb4ee84bdd551",
       "style": "IPY_MODEL_038fd700e03043f893486533527fc4d8",
       "value": "📄 24356 of 24356 📂 participants processed: "
      }
     },
     "a8e4773e53e84155a13737d3364f4cd0": {
      "model_module": "@jupyter-widgets/base",
      "model_module_version": "1.2.0",
      "model_name": "LayoutModel",
      "state": {
       "flex": "2"
      }
     },
     "ae51b16e99324b26a788c98d40a396b5": {
      "model_module": "@jupyter-widgets/controls",
      "model_module_version": "1.5.0",
      "model_name": "HBoxModel",
      "state": {
       "children": [
        "IPY_MODEL_a558701d8373457690be85ec784bada2",
        "IPY_MODEL_5022e2f0c0124d88aafb48885f602efb",
        "IPY_MODEL_6a3b6ad2b8464587a8cf01cbf3d492ba"
       ],
       "layout": "IPY_MODEL_3043d6ffc1744c8dbbacde831f712010"
      }
     },
     "b14379c5e2db4ae8b5ca337f43cd83a3": {
      "model_module": "@jupyter-widgets/controls",
      "model_module_version": "1.5.0",
      "model_name": "HTMLModel",
      "state": {
       "layout": "IPY_MODEL_ca5420d0f590463eb754af4b7c9a8759",
       "style": "IPY_MODEL_32f48d3dc8f84dbf9da9ada10eb7254f",
       "value": " \n            100% ⏱️00:22 ⏳00:00 ⚙️983.55it/s"
      }
     },
     "b1e5ac8592cc4ddf94fcb4ee84bdd551": {
      "model_module": "@jupyter-widgets/base",
      "model_module_version": "1.2.0",
      "model_name": "LayoutModel",
      "state": {}
     },
     "bb8a11b640364a1895e0f0dcb2550710": {
      "model_module": "@jupyter-widgets/controls",
      "model_module_version": "1.5.0",
      "model_name": "HTMLModel",
      "state": {
       "layout": "IPY_MODEL_f6d85eb2eee14924889f5acbc43d29e9",
       "style": "IPY_MODEL_97c946617c9b42a78ef4f5d5d79a49ff",
       "value": "📄 1151 of 24356 📂 participants processed: "
      }
     },
     "c8427038ee8b4e4cb3bea112b1833a28": {
      "model_module": "@jupyter-widgets/controls",
      "model_module_version": "1.5.0",
      "model_name": "HTMLModel",
      "state": {
       "layout": "IPY_MODEL_e03b4010550e4f7cbd46be70a4266b17",
       "style": "IPY_MODEL_0aceb42d13c54f2cbdae96dddfed3973",
       "value": " \n              5% ⏱️01:45 ⏳23:58 ⚙️16.13it/s"
      }
     },
     "c91c8b7f30364038a6f92f7c0742009d": {
      "model_module": "@jupyter-widgets/controls",
      "model_module_version": "1.5.0",
      "model_name": "FloatProgressModel",
      "state": {
       "bar_style": "success",
       "layout": "IPY_MODEL_a8e4773e53e84155a13737d3364f4cd0",
       "max": 24356,
       "style": "IPY_MODEL_38971052aa9c47b98f134c57beb7bbde",
       "value": 24356
      }
     },
     "c9d034dd367c49cc84642a8d063f420e": {
      "model_module": "@jupyter-widgets/controls",
      "model_module_version": "1.5.0",
      "model_name": "DescriptionStyleModel",
      "state": {
       "description_width": ""
      }
     },
     "ca5420d0f590463eb754af4b7c9a8759": {
      "model_module": "@jupyter-widgets/base",
      "model_module_version": "1.2.0",
      "model_name": "LayoutModel",
      "state": {}
     },
     "d0221b09e32748ad85266a21da5f77b8": {
      "model_module": "@jupyter-widgets/controls",
      "model_module_version": "1.5.0",
      "model_name": "HBoxModel",
      "state": {
       "children": [
        "IPY_MODEL_bb8a11b640364a1895e0f0dcb2550710",
        "IPY_MODEL_71195db5c7234b1388511af44cd9d835",
        "IPY_MODEL_c8427038ee8b4e4cb3bea112b1833a28"
       ],
       "layout": "IPY_MODEL_2e402718c813437b9abd8f2e0eff48e9"
      }
     },
     "d3bc12e2df1a460bb16761ef0f6b5d98": {
      "model_module": "@jupyter-widgets/base",
      "model_module_version": "1.2.0",
      "model_name": "LayoutModel",
      "state": {
       "flex": "2"
      }
     },
     "ded0c022f19e407c92233c390276daed": {
      "model_module": "@jupyter-widgets/controls",
      "model_module_version": "1.5.0",
      "model_name": "HBoxModel",
      "state": {
       "children": [
        "IPY_MODEL_6ea04903eb514885ab5eb5c9aa1c708c",
        "IPY_MODEL_6a5d6d1c120948d2851d8c2051d25b60",
        "IPY_MODEL_5124c4c35e4a452fb2482b80e7989069"
       ],
       "layout": "IPY_MODEL_408b02b04b1f47f191257a3ef98e61ab"
      }
     },
     "e03b4010550e4f7cbd46be70a4266b17": {
      "model_module": "@jupyter-widgets/base",
      "model_module_version": "1.2.0",
      "model_name": "LayoutModel",
      "state": {}
     },
     "e0c68f75b421465c968e490d7c123ef2": {
      "model_module": "@jupyter-widgets/base",
      "model_module_version": "1.2.0",
      "model_name": "LayoutModel",
      "state": {
       "flex": "2"
      }
     },
     "e29538a9541847148d833fde90156fce": {
      "model_module": "@jupyter-widgets/controls",
      "model_module_version": "1.5.0",
      "model_name": "DescriptionStyleModel",
      "state": {
       "description_width": ""
      }
     },
     "e4b186ce62c449d7b24da15ab1dd5781": {
      "model_module": "@jupyter-widgets/controls",
      "model_module_version": "1.5.0",
      "model_name": "HTMLModel",
      "state": {
       "layout": "IPY_MODEL_43ce36d2099a4124a35e300636bf1e18",
       "style": "IPY_MODEL_51b61a68bd324f23bf739618fc413cad",
       "value": "📄 24356 of 24356 📂 participants processed: "
      }
     },
     "eaba9d0d8a124951ad4ffa91258ea980": {
      "model_module": "@jupyter-widgets/controls",
      "model_module_version": "1.5.0",
      "model_name": "HBoxModel",
      "state": {
       "children": [
        "IPY_MODEL_e4b186ce62c449d7b24da15ab1dd5781",
        "IPY_MODEL_c91c8b7f30364038a6f92f7c0742009d",
        "IPY_MODEL_b14379c5e2db4ae8b5ca337f43cd83a3"
       ],
       "layout": "IPY_MODEL_36990993cf43439d8d31c2b964316304"
      }
     },
     "efc495fcd8644e1b99c4b9c5504804d0": {
      "model_module": "@jupyter-widgets/base",
      "model_module_version": "1.2.0",
      "model_name": "LayoutModel",
      "state": {
       "flex": "2"
      }
     },
     "f2e1afe123b14c3c97fd7e6367d8836e": {
      "model_module": "@jupyter-widgets/controls",
      "model_module_version": "1.5.0",
      "model_name": "ProgressStyleModel",
      "state": {
       "description_width": ""
      }
     },
     "f6d85eb2eee14924889f5acbc43d29e9": {
      "model_module": "@jupyter-widgets/base",
      "model_module_version": "1.2.0",
      "model_name": "LayoutModel",
      "state": {}
     },
     "fc4113ab993e4579af0d53d15c698138": {
      "model_module": "@jupyter-widgets/controls",
      "model_module_version": "1.5.0",
      "model_name": "DescriptionStyleModel",
      "state": {
       "description_width": ""
      }
     }
    },
    "version_major": 2,
    "version_minor": 0
   }
  }
 },
 "nbformat": 4,
 "nbformat_minor": 4
}
