{
 "cells": [
  {
   "cell_type": "markdown",
   "id": "6ea17106-ba66-436c-9d0c-c084e4477e5f",
   "metadata": {},
   "source": [
    "__Dependencies__"
   ]
  },
  {
   "cell_type": "code",
   "execution_count": 1,
   "id": "dcbfe465-af69-4541-ac8a-a01d96b5a4b1",
   "metadata": {},
   "outputs": [],
   "source": [
    "import itertools  # operate with iterators\n",
    "\n",
    "import matplotlib.pyplot as plt  # mother of plots focr Python\n",
    "import pandas as pd  # operate with dataframes\n",
    "import seaborn as sns  # matplotlib but write less do more\n",
    "from tqdm.notebook import tqdm  # mother of progressbars for Python\n",
    "\n",
    "# from matplotlib.ticker import FormatStrFormatter  # tick formatter"
   ]
  },
  {
   "cell_type": "markdown",
   "id": "998498dc-9227-4c5e-9a0f-188e79b02c8f",
   "metadata": {
    "tags": []
   },
   "source": [
    "__Options__"
   ]
  },
  {
   "cell_type": "code",
   "execution_count": 2,
   "id": "dbfc75e1-7dbc-4630-98f6-66a2f05749f1",
   "metadata": {},
   "outputs": [],
   "source": [
    "# progress bar customized format\n",
    "B_FORMAT = \"\"\"📄 {n_fmt} of {total_fmt} {desc} processed: {bar} \n",
    "            {percentage:3.0f}% ⏱️{elapsed} ⏳{remaining} ⚙️{rate_fmt}{postfix}\"\"\"\n",
    "\n",
    "# specify decimals format on pandas tables\n",
    "pd.options.display.float_format = \"{:.2f}\".format"
   ]
  },
  {
   "cell_type": "markdown",
   "id": "4e249ad8-db2c-45e4-8287-8a09cca0f8ca",
   "metadata": {},
   "source": [
    "__Helper functions__"
   ]
  },
  {
   "cell_type": "code",
   "execution_count": 3,
   "id": "d372499e-ddd1-4e66-8b0f-0e8981e6967d",
   "metadata": {},
   "outputs": [],
   "source": [
    "def query_plot(df, column=None, group=None):\n",
    "    \"\"\"Desc. and add parameters desc.\"\"\"\n",
    "\n",
    "    # generate colors\n",
    "    palette = itertools.cycle(sns.color_palette(palette=\"muted\"))\n",
    "    colors_len = len(df[column].unique())\n",
    "    colors = [next(palette) for i in range(colors_len)]\n",
    "\n",
    "    # total number of samples (participants)\n",
    "    total = df.index.size\n",
    "\n",
    "    if group:\n",
    "        # groupby plot\n",
    "        ax = (\n",
    "            df.groupby(group)[column]\n",
    "            .value_counts()\n",
    "            .unstack()\n",
    "            .plot.bar(figsize=(15, 7), alpha=0.5, color=colors, rot=0)\n",
    "        )\n",
    "        title = f\"{column.capitalize()} distribution per {group} (N={total})\"\n",
    "        column = group\n",
    "\n",
    "    else:\n",
    "        # plot\n",
    "        ax = (\n",
    "            df[column]\n",
    "            .value_counts()\n",
    "            .plot.bar(figsize=(15, 7), alpha=0.5, color=colors, rot=0)\n",
    "        )\n",
    "        title = f\"{column.capitalize()} distribution (N={total})\"\n",
    "\n",
    "    # prepare xtick labels (include total and percentage) and set them\n",
    "    cats = [lbl.get_text() for lbl in ax.get_xticklabels()]\n",
    "    cats_n = [df[df[column] == cat].index.size for cat in cats]\n",
    "    cats_p = [float(f\"{cnt * 100 / total:.2f}\") for cnt in cats_n]\n",
    "    lbls = [f\"{cat}\\nN={n}\\n{p}%\" for cat, n, p in zip(cats, cats_n, cats_p)]\n",
    "    ax.set_xticklabels(lbls)\n",
    "\n",
    "    # set plot and y-axis titles\n",
    "    plt.title(title)\n",
    "    ax.set_ylabel(\"Total (frequency)\")\n",
    "\n",
    "    plt.show()  # display plot"
   ]
  },
  {
   "cell_type": "markdown",
   "id": "29707919-9082-4bc1-bd5e-e50e089d367c",
   "metadata": {},
   "source": [
    "__Read participants cleaned data__"
   ]
  },
  {
   "cell_type": "code",
   "execution_count": 4,
   "id": "0372da8a-1551-44a0-9359-618280c948e8",
   "metadata": {},
   "outputs": [
    {
     "data": {
      "text/html": [
       "<div>\n",
       "<style scoped>\n",
       "    .dataframe tbody tr th:only-of-type {\n",
       "        vertical-align: middle;\n",
       "    }\n",
       "\n",
       "    .dataframe tbody tr th {\n",
       "        vertical-align: top;\n",
       "    }\n",
       "\n",
       "    .dataframe thead th {\n",
       "        text-align: right;\n",
       "    }\n",
       "</style>\n",
       "<table border=\"1\" class=\"dataframe\">\n",
       "  <thead>\n",
       "    <tr style=\"text-align: right;\">\n",
       "      <th></th>\n",
       "      <th>date</th>\n",
       "      <th>expo</th>\n",
       "      <th>side</th>\n",
       "      <th>condition</th>\n",
       "      <th>questionnaire</th>\n",
       "    </tr>\n",
       "    <tr>\n",
       "      <th>id</th>\n",
       "      <th></th>\n",
       "      <th></th>\n",
       "      <th></th>\n",
       "      <th></th>\n",
       "      <th></th>\n",
       "    </tr>\n",
       "  </thead>\n",
       "  <tbody>\n",
       "    <tr>\n",
       "      <th>4f583872ffed48249874b00f3d389cfc</th>\n",
       "      <td>2019-05-14 13:21:00</td>\n",
       "      <td>MSW</td>\n",
       "      <td>right</td>\n",
       "      <td>TaxiDriver</td>\n",
       "      <td>No</td>\n",
       "    </tr>\n",
       "    <tr>\n",
       "      <th>33d68ad55ef544fab9fd08108e3913ca</th>\n",
       "      <td>2019-05-14 16:44:00</td>\n",
       "      <td>MSW</td>\n",
       "      <td>right</td>\n",
       "      <td>AVAS</td>\n",
       "      <td>No</td>\n",
       "    </tr>\n",
       "    <tr>\n",
       "      <th>8598a83e2af441b8bcd0ae5d84beb875</th>\n",
       "      <td>2019-05-14 16:51:00</td>\n",
       "      <td>MSW</td>\n",
       "      <td>right</td>\n",
       "      <td>RadioTalk</td>\n",
       "      <td>No</td>\n",
       "    </tr>\n",
       "    <tr>\n",
       "      <th>37d7e67934974217830bb429bba7fd76</th>\n",
       "      <td>2019-05-14 16:54:00</td>\n",
       "      <td>MSW</td>\n",
       "      <td>left</td>\n",
       "      <td>AVAS</td>\n",
       "      <td>No</td>\n",
       "    </tr>\n",
       "    <tr>\n",
       "      <th>42bac596059749b5b8e8e83ae61de9b4</th>\n",
       "      <td>2019-05-14 16:56:00</td>\n",
       "      <td>MSW</td>\n",
       "      <td>right</td>\n",
       "      <td>TaxiDriver</td>\n",
       "      <td>No</td>\n",
       "    </tr>\n",
       "    <tr>\n",
       "      <th>...</th>\n",
       "      <td>...</td>\n",
       "      <td>...</td>\n",
       "      <td>...</td>\n",
       "      <td>...</td>\n",
       "      <td>...</td>\n",
       "    </tr>\n",
       "    <tr>\n",
       "      <th>cfe9482181f74f80b88cd4b1c048ab94</th>\n",
       "      <td>2019-12-30 15:29:00</td>\n",
       "      <td>BMBF</td>\n",
       "      <td>right</td>\n",
       "      <td>AVAS</td>\n",
       "      <td>No</td>\n",
       "    </tr>\n",
       "    <tr>\n",
       "      <th>611d35a7c3e940cc82495e53c2a8532d</th>\n",
       "      <td>2020-01-03 16:12:00</td>\n",
       "      <td>BMBF</td>\n",
       "      <td>right</td>\n",
       "      <td>TaxiDriver</td>\n",
       "      <td>No</td>\n",
       "    </tr>\n",
       "    <tr>\n",
       "      <th>3b6fda285d9e412eb081986b2f22a2e3</th>\n",
       "      <td>2020-01-03 16:13:00</td>\n",
       "      <td>BMBF</td>\n",
       "      <td>left</td>\n",
       "      <td>AVAS</td>\n",
       "      <td>No</td>\n",
       "    </tr>\n",
       "    <tr>\n",
       "      <th>18ffb0abdc8642098c479380bfa533d1</th>\n",
       "      <td>2020-01-03 16:15:00</td>\n",
       "      <td>BMBF</td>\n",
       "      <td>left</td>\n",
       "      <td>RadioTalk</td>\n",
       "      <td>Yes</td>\n",
       "    </tr>\n",
       "    <tr>\n",
       "      <th>c06f123b35b74bb489ec239b1cac9eb4</th>\n",
       "      <td>2020-01-03 16:16:00</td>\n",
       "      <td>BMBF</td>\n",
       "      <td>right</td>\n",
       "      <td>TaxiDriver</td>\n",
       "      <td>No</td>\n",
       "    </tr>\n",
       "  </tbody>\n",
       "</table>\n",
       "<p>24356 rows × 5 columns</p>\n",
       "</div>"
      ],
      "text/plain": [
       "                                                 date  expo   side  \\\n",
       "id                                                                   \n",
       "4f583872ffed48249874b00f3d389cfc  2019-05-14 13:21:00   MSW  right   \n",
       "33d68ad55ef544fab9fd08108e3913ca  2019-05-14 16:44:00   MSW  right   \n",
       "8598a83e2af441b8bcd0ae5d84beb875  2019-05-14 16:51:00   MSW  right   \n",
       "37d7e67934974217830bb429bba7fd76  2019-05-14 16:54:00   MSW   left   \n",
       "42bac596059749b5b8e8e83ae61de9b4  2019-05-14 16:56:00   MSW  right   \n",
       "...                                               ...   ...    ...   \n",
       "cfe9482181f74f80b88cd4b1c048ab94  2019-12-30 15:29:00  BMBF  right   \n",
       "611d35a7c3e940cc82495e53c2a8532d  2020-01-03 16:12:00  BMBF  right   \n",
       "3b6fda285d9e412eb081986b2f22a2e3  2020-01-03 16:13:00  BMBF   left   \n",
       "18ffb0abdc8642098c479380bfa533d1  2020-01-03 16:15:00  BMBF   left   \n",
       "c06f123b35b74bb489ec239b1cac9eb4  2020-01-03 16:16:00  BMBF  right   \n",
       "\n",
       "                                   condition questionnaire  \n",
       "id                                                          \n",
       "4f583872ffed48249874b00f3d389cfc  TaxiDriver            No  \n",
       "33d68ad55ef544fab9fd08108e3913ca        AVAS            No  \n",
       "8598a83e2af441b8bcd0ae5d84beb875   RadioTalk            No  \n",
       "37d7e67934974217830bb429bba7fd76        AVAS            No  \n",
       "42bac596059749b5b8e8e83ae61de9b4  TaxiDriver            No  \n",
       "...                                      ...           ...  \n",
       "cfe9482181f74f80b88cd4b1c048ab94        AVAS            No  \n",
       "611d35a7c3e940cc82495e53c2a8532d  TaxiDriver            No  \n",
       "3b6fda285d9e412eb081986b2f22a2e3        AVAS            No  \n",
       "18ffb0abdc8642098c479380bfa533d1   RadioTalk           Yes  \n",
       "c06f123b35b74bb489ec239b1cac9eb4  TaxiDriver            No  \n",
       "\n",
       "[24356 rows x 5 columns]"
      ]
     },
     "execution_count": 4,
     "metadata": {},
     "output_type": "execute_result"
    }
   ],
   "source": [
    "parts = pd.read_csv(\"../participants_clean.csv\", keep_default_na=False)\n",
    "parts = parts.set_index(\"id\")  # set uid column as index (remove default)\n",
    "parts"
   ]
  },
  {
   "cell_type": "markdown",
   "id": "9402d5fd-bca4-4b2b-8ced-f930a82da1ef",
   "metadata": {},
   "source": [
    "__Read questionnaire cleaned data__"
   ]
  },
  {
   "cell_type": "code",
   "execution_count": 5,
   "id": "8c60adff-e477-4d21-9741-f5d60ed4a971",
   "metadata": {},
   "outputs": [
    {
     "data": {
      "text/html": [
       "<div>\n",
       "<style scoped>\n",
       "    .dataframe tbody tr th:only-of-type {\n",
       "        vertical-align: middle;\n",
       "    }\n",
       "\n",
       "    .dataframe tbody tr th {\n",
       "        vertical-align: top;\n",
       "    }\n",
       "\n",
       "    .dataframe thead th {\n",
       "        text-align: right;\n",
       "    }\n",
       "</style>\n",
       "<table border=\"1\" class=\"dataframe\">\n",
       "  <thead>\n",
       "    <tr style=\"text-align: right;\">\n",
       "      <th></th>\n",
       "      <th>date</th>\n",
       "      <th>Intention</th>\n",
       "      <th>Usefulness</th>\n",
       "      <th>Ease</th>\n",
       "      <th>Trust</th>\n",
       "      <th>Gender</th>\n",
       "      <th>Age</th>\n",
       "      <th>Aviophobia</th>\n",
       "      <th>Driving</th>\n",
       "      <th>Play</th>\n",
       "      <th>VR</th>\n",
       "      <th>expo</th>\n",
       "      <th>side</th>\n",
       "      <th>condition</th>\n",
       "    </tr>\n",
       "    <tr>\n",
       "      <th>id</th>\n",
       "      <th></th>\n",
       "      <th></th>\n",
       "      <th></th>\n",
       "      <th></th>\n",
       "      <th></th>\n",
       "      <th></th>\n",
       "      <th></th>\n",
       "      <th></th>\n",
       "      <th></th>\n",
       "      <th></th>\n",
       "      <th></th>\n",
       "      <th></th>\n",
       "      <th></th>\n",
       "      <th></th>\n",
       "    </tr>\n",
       "  </thead>\n",
       "  <tbody>\n",
       "    <tr>\n",
       "      <th>ec61bab6e46741969bceb80ee2246983</th>\n",
       "      <td>2019-05-26 12:06:22</td>\n",
       "      <td>50</td>\n",
       "      <td>50</td>\n",
       "      <td>50</td>\n",
       "      <td>50</td>\n",
       "      <td>intersex</td>\n",
       "      <td>25</td>\n",
       "      <td>1</td>\n",
       "      <td>80</td>\n",
       "      <td>58</td>\n",
       "      <td>more than 10 times</td>\n",
       "      <td>MSW</td>\n",
       "      <td>right</td>\n",
       "      <td>RadioTalk</td>\n",
       "    </tr>\n",
       "    <tr>\n",
       "      <th>1fbde03890d94bddaf7aa987fc732607</th>\n",
       "      <td>2019-05-26 16:02:45</td>\n",
       "      <td>100</td>\n",
       "      <td>100</td>\n",
       "      <td>100</td>\n",
       "      <td>96</td>\n",
       "      <td>Male</td>\n",
       "      <td>13</td>\n",
       "      <td>0</td>\n",
       "      <td>0</td>\n",
       "      <td>5</td>\n",
       "      <td>once</td>\n",
       "      <td>MSW</td>\n",
       "      <td>left</td>\n",
       "      <td>RadioTalk</td>\n",
       "    </tr>\n",
       "    <tr>\n",
       "      <th>1ad9eea672a94518b150925bac41fcbc</th>\n",
       "      <td>2019-05-26 17:23:38</td>\n",
       "      <td>17</td>\n",
       "      <td>22</td>\n",
       "      <td>0</td>\n",
       "      <td>86</td>\n",
       "      <td>Female</td>\n",
       "      <td>24</td>\n",
       "      <td>0</td>\n",
       "      <td>4</td>\n",
       "      <td>2</td>\n",
       "      <td>once</td>\n",
       "      <td>MSW</td>\n",
       "      <td>right</td>\n",
       "      <td>RadioTalk</td>\n",
       "    </tr>\n",
       "    <tr>\n",
       "      <th>461b2d80132f47958e50003c16084cf4</th>\n",
       "      <td>2019-05-26 17:27:34</td>\n",
       "      <td>30</td>\n",
       "      <td>70</td>\n",
       "      <td>80</td>\n",
       "      <td>80</td>\n",
       "      <td>Male</td>\n",
       "      <td>22</td>\n",
       "      <td>0</td>\n",
       "      <td>3</td>\n",
       "      <td>1</td>\n",
       "      <td>less than 10 times</td>\n",
       "      <td>MSW</td>\n",
       "      <td>right</td>\n",
       "      <td>TaxiDriver</td>\n",
       "    </tr>\n",
       "    <tr>\n",
       "      <th>4f300efb4a9941f7a96f57e8030b12e2</th>\n",
       "      <td>2019-05-26 17:39:25</td>\n",
       "      <td>100</td>\n",
       "      <td>100</td>\n",
       "      <td>50</td>\n",
       "      <td>50</td>\n",
       "      <td>Male</td>\n",
       "      <td>16</td>\n",
       "      <td>0</td>\n",
       "      <td>0</td>\n",
       "      <td>3</td>\n",
       "      <td>less than 10 times</td>\n",
       "      <td>MSW</td>\n",
       "      <td>right</td>\n",
       "      <td>RadioTalk</td>\n",
       "    </tr>\n",
       "    <tr>\n",
       "      <th>...</th>\n",
       "      <td>...</td>\n",
       "      <td>...</td>\n",
       "      <td>...</td>\n",
       "      <td>...</td>\n",
       "      <td>...</td>\n",
       "      <td>...</td>\n",
       "      <td>...</td>\n",
       "      <td>...</td>\n",
       "      <td>...</td>\n",
       "      <td>...</td>\n",
       "      <td>...</td>\n",
       "      <td>...</td>\n",
       "      <td>...</td>\n",
       "      <td>...</td>\n",
       "    </tr>\n",
       "    <tr>\n",
       "      <th>eda9175e9e1d4153ac2ca3038b2ab008</th>\n",
       "      <td>2019-12-23 09:23:08</td>\n",
       "      <td>65</td>\n",
       "      <td>30</td>\n",
       "      <td>33</td>\n",
       "      <td>20</td>\n",
       "      <td>Male</td>\n",
       "      <td>12</td>\n",
       "      <td>0</td>\n",
       "      <td>0</td>\n",
       "      <td>25</td>\n",
       "      <td>once</td>\n",
       "      <td>BMBF</td>\n",
       "      <td>right</td>\n",
       "      <td>RadioTalk</td>\n",
       "    </tr>\n",
       "    <tr>\n",
       "      <th>b8c9e625f07444cc8d4a0fc245bab5dd</th>\n",
       "      <td>2019-12-23 09:28:25</td>\n",
       "      <td>100</td>\n",
       "      <td>50</td>\n",
       "      <td>50</td>\n",
       "      <td>100</td>\n",
       "      <td>Female</td>\n",
       "      <td>12</td>\n",
       "      <td>1</td>\n",
       "      <td>99</td>\n",
       "      <td>9</td>\n",
       "      <td>less than 10 times</td>\n",
       "      <td>BMBF</td>\n",
       "      <td>right</td>\n",
       "      <td>TaxiDriver</td>\n",
       "    </tr>\n",
       "    <tr>\n",
       "      <th>2cd78ad9a37945de9f8cfd5f81c42082</th>\n",
       "      <td>2019-12-27 12:56:23</td>\n",
       "      <td>86</td>\n",
       "      <td>20</td>\n",
       "      <td>71</td>\n",
       "      <td>69</td>\n",
       "      <td>Male</td>\n",
       "      <td>57</td>\n",
       "      <td>0</td>\n",
       "      <td>39</td>\n",
       "      <td>0</td>\n",
       "      <td>never</td>\n",
       "      <td>BMBF</td>\n",
       "      <td>right</td>\n",
       "      <td>RadioTalk</td>\n",
       "    </tr>\n",
       "    <tr>\n",
       "      <th>dba04b626e4c4c6e89aea4fb1f9cc32b</th>\n",
       "      <td>2019-12-30 13:50:37</td>\n",
       "      <td>84</td>\n",
       "      <td>89</td>\n",
       "      <td>61</td>\n",
       "      <td>92</td>\n",
       "      <td>Male</td>\n",
       "      <td>73</td>\n",
       "      <td>0</td>\n",
       "      <td>55</td>\n",
       "      <td>0</td>\n",
       "      <td>never</td>\n",
       "      <td>BMBF</td>\n",
       "      <td>left</td>\n",
       "      <td>TaxiDriver</td>\n",
       "    </tr>\n",
       "    <tr>\n",
       "      <th>18ffb0abdc8642098c479380bfa533d1</th>\n",
       "      <td>2020-01-03 16:16:41</td>\n",
       "      <td>88</td>\n",
       "      <td>83</td>\n",
       "      <td>94</td>\n",
       "      <td>33</td>\n",
       "      <td>Female</td>\n",
       "      <td>32</td>\n",
       "      <td>0</td>\n",
       "      <td>2</td>\n",
       "      <td>1</td>\n",
       "      <td>more than 10 times</td>\n",
       "      <td>BMBF</td>\n",
       "      <td>left</td>\n",
       "      <td>RadioTalk</td>\n",
       "    </tr>\n",
       "  </tbody>\n",
       "</table>\n",
       "<p>9507 rows × 14 columns</p>\n",
       "</div>"
      ],
      "text/plain": [
       "                                                 date  Intention  Usefulness  \\\n",
       "id                                                                             \n",
       "ec61bab6e46741969bceb80ee2246983  2019-05-26 12:06:22         50          50   \n",
       "1fbde03890d94bddaf7aa987fc732607  2019-05-26 16:02:45        100         100   \n",
       "1ad9eea672a94518b150925bac41fcbc  2019-05-26 17:23:38         17          22   \n",
       "461b2d80132f47958e50003c16084cf4  2019-05-26 17:27:34         30          70   \n",
       "4f300efb4a9941f7a96f57e8030b12e2  2019-05-26 17:39:25        100         100   \n",
       "...                                               ...        ...         ...   \n",
       "eda9175e9e1d4153ac2ca3038b2ab008  2019-12-23 09:23:08         65          30   \n",
       "b8c9e625f07444cc8d4a0fc245bab5dd  2019-12-23 09:28:25        100          50   \n",
       "2cd78ad9a37945de9f8cfd5f81c42082  2019-12-27 12:56:23         86          20   \n",
       "dba04b626e4c4c6e89aea4fb1f9cc32b  2019-12-30 13:50:37         84          89   \n",
       "18ffb0abdc8642098c479380bfa533d1  2020-01-03 16:16:41         88          83   \n",
       "\n",
       "                                  Ease  Trust    Gender  Age  Aviophobia  \\\n",
       "id                                                                         \n",
       "ec61bab6e46741969bceb80ee2246983    50     50  intersex   25           1   \n",
       "1fbde03890d94bddaf7aa987fc732607   100     96      Male   13           0   \n",
       "1ad9eea672a94518b150925bac41fcbc     0     86    Female   24           0   \n",
       "461b2d80132f47958e50003c16084cf4    80     80      Male   22           0   \n",
       "4f300efb4a9941f7a96f57e8030b12e2    50     50      Male   16           0   \n",
       "...                                ...    ...       ...  ...         ...   \n",
       "eda9175e9e1d4153ac2ca3038b2ab008    33     20      Male   12           0   \n",
       "b8c9e625f07444cc8d4a0fc245bab5dd    50    100    Female   12           1   \n",
       "2cd78ad9a37945de9f8cfd5f81c42082    71     69      Male   57           0   \n",
       "dba04b626e4c4c6e89aea4fb1f9cc32b    61     92      Male   73           0   \n",
       "18ffb0abdc8642098c479380bfa533d1    94     33    Female   32           0   \n",
       "\n",
       "                                  Driving  Play                  VR  expo  \\\n",
       "id                                                                          \n",
       "ec61bab6e46741969bceb80ee2246983       80    58  more than 10 times   MSW   \n",
       "1fbde03890d94bddaf7aa987fc732607        0     5                once   MSW   \n",
       "1ad9eea672a94518b150925bac41fcbc        4     2                once   MSW   \n",
       "461b2d80132f47958e50003c16084cf4        3     1  less than 10 times   MSW   \n",
       "4f300efb4a9941f7a96f57e8030b12e2        0     3  less than 10 times   MSW   \n",
       "...                                   ...   ...                 ...   ...   \n",
       "eda9175e9e1d4153ac2ca3038b2ab008        0    25                once  BMBF   \n",
       "b8c9e625f07444cc8d4a0fc245bab5dd       99     9  less than 10 times  BMBF   \n",
       "2cd78ad9a37945de9f8cfd5f81c42082       39     0               never  BMBF   \n",
       "dba04b626e4c4c6e89aea4fb1f9cc32b       55     0               never  BMBF   \n",
       "18ffb0abdc8642098c479380bfa533d1        2     1  more than 10 times  BMBF   \n",
       "\n",
       "                                   side   condition  \n",
       "id                                                   \n",
       "ec61bab6e46741969bceb80ee2246983  right   RadioTalk  \n",
       "1fbde03890d94bddaf7aa987fc732607   left   RadioTalk  \n",
       "1ad9eea672a94518b150925bac41fcbc  right   RadioTalk  \n",
       "461b2d80132f47958e50003c16084cf4  right  TaxiDriver  \n",
       "4f300efb4a9941f7a96f57e8030b12e2  right   RadioTalk  \n",
       "...                                 ...         ...  \n",
       "eda9175e9e1d4153ac2ca3038b2ab008  right   RadioTalk  \n",
       "b8c9e625f07444cc8d4a0fc245bab5dd  right  TaxiDriver  \n",
       "2cd78ad9a37945de9f8cfd5f81c42082  right   RadioTalk  \n",
       "dba04b626e4c4c6e89aea4fb1f9cc32b   left  TaxiDriver  \n",
       "18ffb0abdc8642098c479380bfa533d1   left   RadioTalk  \n",
       "\n",
       "[9507 rows x 14 columns]"
      ]
     },
     "execution_count": 5,
     "metadata": {},
     "output_type": "execute_result"
    }
   ],
   "source": [
    "quests = pd.read_csv(\"../questionnaires.csv\", keep_default_na=False)\n",
    "quests = quests.set_index(\"id\")  # set uid column as index (remove default)\n",
    "quests"
   ]
  },
  {
   "cell_type": "markdown",
   "id": "9c2deb84-6b06-4307-87b7-6a185fd3cd6f",
   "metadata": {},
   "source": [
    "__Finished rides__"
   ]
  },
  {
   "cell_type": "markdown",
   "id": "d001788e-30cf-468b-90cd-104a84939f54",
   "metadata": {},
   "source": [
    "Exhibition"
   ]
  },
  {
   "cell_type": "code",
   "execution_count": 6,
   "id": "a019aa65-b62a-490c-93e5-637ad39d1c4d",
   "metadata": {},
   "outputs": [
    {
     "data": {
      "image/png": "[encoded data removed]",
      "text/plain": [
       "<Figure size 1080x504 with 1 Axes>"
      ]
     },
     "metadata": {
      "needs_background": "light"
     },
     "output_type": "display_data"
    }
   ],
   "source": [
    "query_plot(df=parts, column=\"expo\")"
   ]
  },
  {
   "cell_type": "markdown",
   "id": "456d531d-268f-42e4-b1fb-91b0e588f7ad",
   "metadata": {},
   "source": [
    "Exhibition and side"
   ]
  },
  {
   "cell_type": "code",
   "execution_count": 7,
   "id": "2cd53fc3-924b-452b-a56d-b72cbfa00c9e",
   "metadata": {},
   "outputs": [
    {
     "data": {
      "image/png": "[encoded data removed]",
      "text/plain": [
       "<Figure size 1080x504 with 1 Axes>"
      ]
     },
     "metadata": {
      "needs_background": "light"
     },
     "output_type": "display_data"
    },
    {
     "name": "stdout",
     "output_type": "stream",
     "text": [
      "Counts:\n"
     ]
    },
    {
     "data": {
      "text/html": [
       "<div>\n",
       "<style scoped>\n",
       "    .dataframe tbody tr th:only-of-type {\n",
       "        vertical-align: middle;\n",
       "    }\n",
       "\n",
       "    .dataframe tbody tr th {\n",
       "        vertical-align: top;\n",
       "    }\n",
       "\n",
       "    .dataframe thead th {\n",
       "        text-align: right;\n",
       "    }\n",
       "</style>\n",
       "<table border=\"1\" class=\"dataframe\">\n",
       "  <thead>\n",
       "    <tr style=\"text-align: right;\">\n",
       "      <th>expo</th>\n",
       "      <th>BMBF</th>\n",
       "      <th>MSW</th>\n",
       "    </tr>\n",
       "    <tr>\n",
       "      <th>side</th>\n",
       "      <th></th>\n",
       "      <th></th>\n",
       "    </tr>\n",
       "  </thead>\n",
       "  <tbody>\n",
       "    <tr>\n",
       "      <th>left</th>\n",
       "      <td>984</td>\n",
       "      <td>12753</td>\n",
       "    </tr>\n",
       "    <tr>\n",
       "      <th>right</th>\n",
       "      <td>1013</td>\n",
       "      <td>9606</td>\n",
       "    </tr>\n",
       "  </tbody>\n",
       "</table>\n",
       "</div>"
      ],
      "text/plain": [
       "expo   BMBF    MSW\n",
       "side              \n",
       "left    984  12753\n",
       "right  1013   9606"
      ]
     },
     "metadata": {},
     "output_type": "display_data"
    },
    {
     "name": "stdout",
     "output_type": "stream",
     "text": [
      "Percentages:\n"
     ]
    },
    {
     "data": {
      "text/html": [
       "<div>\n",
       "<style scoped>\n",
       "    .dataframe tbody tr th:only-of-type {\n",
       "        vertical-align: middle;\n",
       "    }\n",
       "\n",
       "    .dataframe tbody tr th {\n",
       "        vertical-align: top;\n",
       "    }\n",
       "\n",
       "    .dataframe thead th {\n",
       "        text-align: right;\n",
       "    }\n",
       "</style>\n",
       "<table border=\"1\" class=\"dataframe\">\n",
       "  <thead>\n",
       "    <tr style=\"text-align: right;\">\n",
       "      <th>expo</th>\n",
       "      <th>BMBF</th>\n",
       "      <th>MSW</th>\n",
       "    </tr>\n",
       "    <tr>\n",
       "      <th>side</th>\n",
       "      <th></th>\n",
       "      <th></th>\n",
       "    </tr>\n",
       "  </thead>\n",
       "  <tbody>\n",
       "    <tr>\n",
       "      <th>left</th>\n",
       "      <td>49.27</td>\n",
       "      <td>57.04</td>\n",
       "    </tr>\n",
       "    <tr>\n",
       "      <th>right</th>\n",
       "      <td>50.73</td>\n",
       "      <td>42.96</td>\n",
       "    </tr>\n",
       "  </tbody>\n",
       "</table>\n",
       "</div>"
      ],
      "text/plain": [
       "expo   BMBF   MSW\n",
       "side             \n",
       "left  49.27 57.04\n",
       "right 50.73 42.96"
      ]
     },
     "metadata": {},
     "output_type": "display_data"
    }
   ],
   "source": [
    "df = parts\n",
    "column = \"side\"\n",
    "group = \"expo\"\n",
    "query_plot(df=df, column=column, group=group)\n",
    "\n",
    "print(\"Counts:\")\n",
    "display(df.groupby(group)[column].value_counts().unstack().transpose())\n",
    "print(\"Percentages:\")\n",
    "display(\n",
    "    df.groupby(group)[column]\n",
    "    .value_counts(normalize=True)\n",
    "    .unstack()\n",
    "    .transpose()\n",
    "    * 100\n",
    ")"
   ]
  },
  {
   "cell_type": "markdown",
   "id": "8dce532f-9c6b-4cde-ab25-94a641cdbba3",
   "metadata": {},
   "source": [
    "Condition"
   ]
  },
  {
   "cell_type": "code",
   "execution_count": 8,
   "id": "57fb0f09-266a-4ebe-b9a9-1d67c8f69b65",
   "metadata": {},
   "outputs": [
    {
     "data": {
      "image/png": "[encoded data removed]",
      "text/plain": [
       "<Figure size 1080x504 with 1 Axes>"
      ]
     },
     "metadata": {
      "needs_background": "light"
     },
     "output_type": "display_data"
    }
   ],
   "source": [
    "query_plot(df=parts, column=\"condition\")"
   ]
  },
  {
   "cell_type": "markdown",
   "id": "f832e736-30d2-460c-a8f2-9cb313c6ee6f",
   "metadata": {},
   "source": [
    "Condition and exhibition"
   ]
  },
  {
   "cell_type": "code",
   "execution_count": 9,
   "id": "ab32d0cb-2d8c-4939-bfc3-7b0be9124ad8",
   "metadata": {},
   "outputs": [
    {
     "data": {
      "image/png": "[encoded data removed]",
      "text/plain": [
       "<Figure size 1080x504 with 1 Axes>"
      ]
     },
     "metadata": {
      "needs_background": "light"
     },
     "output_type": "display_data"
    },
    {
     "name": "stdout",
     "output_type": "stream",
     "text": [
      "Counts:\n"
     ]
    },
    {
     "data": {
      "text/html": [
       "<div>\n",
       "<style scoped>\n",
       "    .dataframe tbody tr th:only-of-type {\n",
       "        vertical-align: middle;\n",
       "    }\n",
       "\n",
       "    .dataframe tbody tr th {\n",
       "        vertical-align: top;\n",
       "    }\n",
       "\n",
       "    .dataframe thead th {\n",
       "        text-align: right;\n",
       "    }\n",
       "</style>\n",
       "<table border=\"1\" class=\"dataframe\">\n",
       "  <thead>\n",
       "    <tr style=\"text-align: right;\">\n",
       "      <th>expo</th>\n",
       "      <th>BMBF</th>\n",
       "      <th>MSW</th>\n",
       "    </tr>\n",
       "    <tr>\n",
       "      <th>condition</th>\n",
       "      <th></th>\n",
       "      <th></th>\n",
       "    </tr>\n",
       "  </thead>\n",
       "  <tbody>\n",
       "    <tr>\n",
       "      <th>AVAS</th>\n",
       "      <td>692</td>\n",
       "      <td>7559</td>\n",
       "    </tr>\n",
       "    <tr>\n",
       "      <th>RadioTalk</th>\n",
       "      <td>660</td>\n",
       "      <td>7248</td>\n",
       "    </tr>\n",
       "    <tr>\n",
       "      <th>TaxiDriver</th>\n",
       "      <td>645</td>\n",
       "      <td>7552</td>\n",
       "    </tr>\n",
       "  </tbody>\n",
       "</table>\n",
       "</div>"
      ],
      "text/plain": [
       "expo        BMBF   MSW\n",
       "condition             \n",
       "AVAS         692  7559\n",
       "RadioTalk    660  7248\n",
       "TaxiDriver   645  7552"
      ]
     },
     "metadata": {},
     "output_type": "display_data"
    },
    {
     "name": "stdout",
     "output_type": "stream",
     "text": [
      "Percentages:\n"
     ]
    },
    {
     "data": {
      "text/html": [
       "<div>\n",
       "<style scoped>\n",
       "    .dataframe tbody tr th:only-of-type {\n",
       "        vertical-align: middle;\n",
       "    }\n",
       "\n",
       "    .dataframe tbody tr th {\n",
       "        vertical-align: top;\n",
       "    }\n",
       "\n",
       "    .dataframe thead th {\n",
       "        text-align: right;\n",
       "    }\n",
       "</style>\n",
       "<table border=\"1\" class=\"dataframe\">\n",
       "  <thead>\n",
       "    <tr style=\"text-align: right;\">\n",
       "      <th>expo</th>\n",
       "      <th>BMBF</th>\n",
       "      <th>MSW</th>\n",
       "    </tr>\n",
       "    <tr>\n",
       "      <th>condition</th>\n",
       "      <th></th>\n",
       "      <th></th>\n",
       "    </tr>\n",
       "  </thead>\n",
       "  <tbody>\n",
       "    <tr>\n",
       "      <th>AVAS</th>\n",
       "      <td>34.65</td>\n",
       "      <td>33.81</td>\n",
       "    </tr>\n",
       "    <tr>\n",
       "      <th>RadioTalk</th>\n",
       "      <td>33.05</td>\n",
       "      <td>32.42</td>\n",
       "    </tr>\n",
       "    <tr>\n",
       "      <th>TaxiDriver</th>\n",
       "      <td>32.30</td>\n",
       "      <td>33.78</td>\n",
       "    </tr>\n",
       "  </tbody>\n",
       "</table>\n",
       "</div>"
      ],
      "text/plain": [
       "expo        BMBF   MSW\n",
       "condition             \n",
       "AVAS       34.65 33.81\n",
       "RadioTalk  33.05 32.42\n",
       "TaxiDriver 32.30 33.78"
      ]
     },
     "metadata": {},
     "output_type": "display_data"
    }
   ],
   "source": [
    "df = parts\n",
    "column = \"condition\"\n",
    "group = \"expo\"\n",
    "query_plot(df=df, column=column, group=group)\n",
    "\n",
    "print(\"Counts:\")\n",
    "display(df.groupby(group)[column].value_counts().unstack().transpose())\n",
    "print(\"Percentages:\")\n",
    "display(\n",
    "    df.groupby(group)[column]\n",
    "    .value_counts(normalize=True)\n",
    "    .unstack()\n",
    "    .transpose()\n",
    "    * 100\n",
    ")"
   ]
  },
  {
   "cell_type": "markdown",
   "id": "093d0586-c8f7-4329-81ad-8558c2f2f889",
   "metadata": {},
   "source": [
    "Side"
   ]
  },
  {
   "cell_type": "code",
   "execution_count": 10,
   "id": "544c8ff0-0bc4-4d6a-b7bb-99758bba466a",
   "metadata": {},
   "outputs": [
    {
     "data": {
      "image/png": "[encoded data removed]",
      "text/plain": [
       "<Figure size 1080x504 with 1 Axes>"
      ]
     },
     "metadata": {
      "needs_background": "light"
     },
     "output_type": "display_data"
    }
   ],
   "source": [
    "query_plot(df=parts, column=\"side\")"
   ]
  },
  {
   "cell_type": "markdown",
   "id": "ea8d5b20-ba9e-4ffa-b67b-c959ec3dcb54",
   "metadata": {},
   "source": [
    "Side and condition"
   ]
  },
  {
   "cell_type": "code",
   "execution_count": 11,
   "id": "19ecaa22-8ea3-4d43-ad01-f2a18da78f43",
   "metadata": {},
   "outputs": [
    {
     "data": {
      "image/png": "[encoded data removed]",
      "text/plain": [
       "<Figure size 1080x504 with 1 Axes>"
      ]
     },
     "metadata": {
      "needs_background": "light"
     },
     "output_type": "display_data"
    },
    {
     "name": "stdout",
     "output_type": "stream",
     "text": [
      "Counts:\n"
     ]
    },
    {
     "data": {
      "text/html": [
       "<div>\n",
       "<style scoped>\n",
       "    .dataframe tbody tr th:only-of-type {\n",
       "        vertical-align: middle;\n",
       "    }\n",
       "\n",
       "    .dataframe tbody tr th {\n",
       "        vertical-align: top;\n",
       "    }\n",
       "\n",
       "    .dataframe thead th {\n",
       "        text-align: right;\n",
       "    }\n",
       "</style>\n",
       "<table border=\"1\" class=\"dataframe\">\n",
       "  <thead>\n",
       "    <tr style=\"text-align: right;\">\n",
       "      <th>condition</th>\n",
       "      <th>AVAS</th>\n",
       "      <th>RadioTalk</th>\n",
       "      <th>TaxiDriver</th>\n",
       "    </tr>\n",
       "    <tr>\n",
       "      <th>side</th>\n",
       "      <th></th>\n",
       "      <th></th>\n",
       "      <th></th>\n",
       "    </tr>\n",
       "  </thead>\n",
       "  <tbody>\n",
       "    <tr>\n",
       "      <th>left</th>\n",
       "      <td>4683</td>\n",
       "      <td>4402</td>\n",
       "      <td>4652</td>\n",
       "    </tr>\n",
       "    <tr>\n",
       "      <th>right</th>\n",
       "      <td>3568</td>\n",
       "      <td>3506</td>\n",
       "      <td>3545</td>\n",
       "    </tr>\n",
       "  </tbody>\n",
       "</table>\n",
       "</div>"
      ],
      "text/plain": [
       "condition  AVAS  RadioTalk  TaxiDriver\n",
       "side                                  \n",
       "left       4683       4402        4652\n",
       "right      3568       3506        3545"
      ]
     },
     "metadata": {},
     "output_type": "display_data"
    },
    {
     "name": "stdout",
     "output_type": "stream",
     "text": [
      "Percentages:\n"
     ]
    },
    {
     "data": {
      "text/html": [
       "<div>\n",
       "<style scoped>\n",
       "    .dataframe tbody tr th:only-of-type {\n",
       "        vertical-align: middle;\n",
       "    }\n",
       "\n",
       "    .dataframe tbody tr th {\n",
       "        vertical-align: top;\n",
       "    }\n",
       "\n",
       "    .dataframe thead th {\n",
       "        text-align: right;\n",
       "    }\n",
       "</style>\n",
       "<table border=\"1\" class=\"dataframe\">\n",
       "  <thead>\n",
       "    <tr style=\"text-align: right;\">\n",
       "      <th>condition</th>\n",
       "      <th>AVAS</th>\n",
       "      <th>RadioTalk</th>\n",
       "      <th>TaxiDriver</th>\n",
       "    </tr>\n",
       "    <tr>\n",
       "      <th>side</th>\n",
       "      <th></th>\n",
       "      <th></th>\n",
       "      <th></th>\n",
       "    </tr>\n",
       "  </thead>\n",
       "  <tbody>\n",
       "    <tr>\n",
       "      <th>left</th>\n",
       "      <td>56.76</td>\n",
       "      <td>55.67</td>\n",
       "      <td>56.75</td>\n",
       "    </tr>\n",
       "    <tr>\n",
       "      <th>right</th>\n",
       "      <td>43.24</td>\n",
       "      <td>44.33</td>\n",
       "      <td>43.25</td>\n",
       "    </tr>\n",
       "  </tbody>\n",
       "</table>\n",
       "</div>"
      ],
      "text/plain": [
       "condition  AVAS  RadioTalk  TaxiDriver\n",
       "side                                  \n",
       "left      56.76      55.67       56.75\n",
       "right     43.24      44.33       43.25"
      ]
     },
     "metadata": {},
     "output_type": "display_data"
    }
   ],
   "source": [
    "df = parts\n",
    "column = \"side\"\n",
    "group = \"condition\"\n",
    "query_plot(df=df, column=column, group=group)\n",
    "\n",
    "print(\"Counts:\")\n",
    "display(df.groupby(group)[column].value_counts().unstack().transpose())\n",
    "print(\"Percentages:\")\n",
    "display(\n",
    "    df.groupby(group)[column]\n",
    "    .value_counts(normalize=True)\n",
    "    .unstack()\n",
    "    .transpose()\n",
    "    * 100\n",
    ")"
   ]
  },
  {
   "cell_type": "markdown",
   "id": "a699c95d-3c5e-4808-97a9-e7a6874f1a4c",
   "metadata": {},
   "source": [
    "Condition and side"
   ]
  },
  {
   "cell_type": "code",
   "execution_count": 12,
   "id": "30f6a558-7e47-4b8e-9be3-a02beb68a773",
   "metadata": {},
   "outputs": [
    {
     "data": {
      "image/png": "[encoded data removed]",
      "text/plain": [
       "<Figure size 1080x504 with 1 Axes>"
      ]
     },
     "metadata": {
      "needs_background": "light"
     },
     "output_type": "display_data"
    },
    {
     "name": "stdout",
     "output_type": "stream",
     "text": [
      "Counts:\n"
     ]
    },
    {
     "data": {
      "text/html": [
       "<div>\n",
       "<style scoped>\n",
       "    .dataframe tbody tr th:only-of-type {\n",
       "        vertical-align: middle;\n",
       "    }\n",
       "\n",
       "    .dataframe tbody tr th {\n",
       "        vertical-align: top;\n",
       "    }\n",
       "\n",
       "    .dataframe thead th {\n",
       "        text-align: right;\n",
       "    }\n",
       "</style>\n",
       "<table border=\"1\" class=\"dataframe\">\n",
       "  <thead>\n",
       "    <tr style=\"text-align: right;\">\n",
       "      <th>side</th>\n",
       "      <th>left</th>\n",
       "      <th>right</th>\n",
       "    </tr>\n",
       "    <tr>\n",
       "      <th>condition</th>\n",
       "      <th></th>\n",
       "      <th></th>\n",
       "    </tr>\n",
       "  </thead>\n",
       "  <tbody>\n",
       "    <tr>\n",
       "      <th>AVAS</th>\n",
       "      <td>4683</td>\n",
       "      <td>3568</td>\n",
       "    </tr>\n",
       "    <tr>\n",
       "      <th>RadioTalk</th>\n",
       "      <td>4402</td>\n",
       "      <td>3506</td>\n",
       "    </tr>\n",
       "    <tr>\n",
       "      <th>TaxiDriver</th>\n",
       "      <td>4652</td>\n",
       "      <td>3545</td>\n",
       "    </tr>\n",
       "  </tbody>\n",
       "</table>\n",
       "</div>"
      ],
      "text/plain": [
       "side        left  right\n",
       "condition              \n",
       "AVAS        4683   3568\n",
       "RadioTalk   4402   3506\n",
       "TaxiDriver  4652   3545"
      ]
     },
     "metadata": {},
     "output_type": "display_data"
    },
    {
     "name": "stdout",
     "output_type": "stream",
     "text": [
      "Percentages:\n"
     ]
    },
    {
     "data": {
      "text/html": [
       "<div>\n",
       "<style scoped>\n",
       "    .dataframe tbody tr th:only-of-type {\n",
       "        vertical-align: middle;\n",
       "    }\n",
       "\n",
       "    .dataframe tbody tr th {\n",
       "        vertical-align: top;\n",
       "    }\n",
       "\n",
       "    .dataframe thead th {\n",
       "        text-align: right;\n",
       "    }\n",
       "</style>\n",
       "<table border=\"1\" class=\"dataframe\">\n",
       "  <thead>\n",
       "    <tr style=\"text-align: right;\">\n",
       "      <th>side</th>\n",
       "      <th>left</th>\n",
       "      <th>right</th>\n",
       "    </tr>\n",
       "    <tr>\n",
       "      <th>condition</th>\n",
       "      <th></th>\n",
       "      <th></th>\n",
       "    </tr>\n",
       "  </thead>\n",
       "  <tbody>\n",
       "    <tr>\n",
       "      <th>AVAS</th>\n",
       "      <td>34.09</td>\n",
       "      <td>33.60</td>\n",
       "    </tr>\n",
       "    <tr>\n",
       "      <th>RadioTalk</th>\n",
       "      <td>32.04</td>\n",
       "      <td>33.02</td>\n",
       "    </tr>\n",
       "    <tr>\n",
       "      <th>TaxiDriver</th>\n",
       "      <td>33.86</td>\n",
       "      <td>33.38</td>\n",
       "    </tr>\n",
       "  </tbody>\n",
       "</table>\n",
       "</div>"
      ],
      "text/plain": [
       "side        left  right\n",
       "condition              \n",
       "AVAS       34.09  33.60\n",
       "RadioTalk  32.04  33.02\n",
       "TaxiDriver 33.86  33.38"
      ]
     },
     "metadata": {},
     "output_type": "display_data"
    }
   ],
   "source": [
    "df = parts\n",
    "column = \"condition\"\n",
    "group = \"side\"\n",
    "query_plot(df=df, column=column, group=group)\n",
    "\n",
    "print(\"Counts:\")\n",
    "display(df.groupby(group)[column].value_counts().unstack().transpose())\n",
    "print(\"Percentages:\")\n",
    "display(\n",
    "    df.groupby(group)[column]\n",
    "    .value_counts(normalize=True)\n",
    "    .unstack()\n",
    "    .transpose()\n",
    "    * 100\n",
    ")"
   ]
  },
  {
   "cell_type": "markdown",
   "id": "c6844af8-440d-4fb1-888a-1ad6fed689fa",
   "metadata": {},
   "source": [
    "__Finished rides with questionnaire__"
   ]
  },
  {
   "cell_type": "markdown",
   "id": "5190d7ad-ec9b-4dcc-b251-361e4cd6c434",
   "metadata": {},
   "source": [
    "Exhibition"
   ]
  },
  {
   "cell_type": "code",
   "execution_count": 13,
   "id": "45f10395-8b6b-4589-96d2-bf23f83526ff",
   "metadata": {},
   "outputs": [
    {
     "data": {
      "image/png": "[encoded data removed]",
      "text/plain": [
       "<Figure size 1080x504 with 1 Axes>"
      ]
     },
     "metadata": {
      "needs_background": "light"
     },
     "output_type": "display_data"
    }
   ],
   "source": [
    "query_plot(df=quests, column=\"expo\")"
   ]
  },
  {
   "cell_type": "markdown",
   "id": "e22fd723-a2d0-4905-9e29-882f8e58775c",
   "metadata": {},
   "source": [
    "Exhibition and side"
   ]
  },
  {
   "cell_type": "code",
   "execution_count": 14,
   "id": "7b61b56e-903e-4ab9-abd2-5bcf82afc036",
   "metadata": {},
   "outputs": [
    {
     "data": {
      "image/png": "[encoded data removed]",
      "text/plain": [
       "<Figure size 1080x504 with 1 Axes>"
      ]
     },
     "metadata": {
      "needs_background": "light"
     },
     "output_type": "display_data"
    },
    {
     "name": "stdout",
     "output_type": "stream",
     "text": [
      "Counts:\n"
     ]
    },
    {
     "data": {
      "text/html": [
       "<div>\n",
       "<style scoped>\n",
       "    .dataframe tbody tr th:only-of-type {\n",
       "        vertical-align: middle;\n",
       "    }\n",
       "\n",
       "    .dataframe tbody tr th {\n",
       "        vertical-align: top;\n",
       "    }\n",
       "\n",
       "    .dataframe thead th {\n",
       "        text-align: right;\n",
       "    }\n",
       "</style>\n",
       "<table border=\"1\" class=\"dataframe\">\n",
       "  <thead>\n",
       "    <tr style=\"text-align: right;\">\n",
       "      <th>expo</th>\n",
       "      <th>BMBF</th>\n",
       "      <th>MSW</th>\n",
       "    </tr>\n",
       "    <tr>\n",
       "      <th>side</th>\n",
       "      <th></th>\n",
       "      <th></th>\n",
       "    </tr>\n",
       "  </thead>\n",
       "  <tbody>\n",
       "    <tr>\n",
       "      <th>left</th>\n",
       "      <td>517</td>\n",
       "      <td>4996</td>\n",
       "    </tr>\n",
       "    <tr>\n",
       "      <th>right</th>\n",
       "      <td>633</td>\n",
       "      <td>3361</td>\n",
       "    </tr>\n",
       "  </tbody>\n",
       "</table>\n",
       "</div>"
      ],
      "text/plain": [
       "expo   BMBF   MSW\n",
       "side             \n",
       "left    517  4996\n",
       "right   633  3361"
      ]
     },
     "metadata": {},
     "output_type": "display_data"
    },
    {
     "name": "stdout",
     "output_type": "stream",
     "text": [
      "Percentages:\n"
     ]
    },
    {
     "data": {
      "text/html": [
       "<div>\n",
       "<style scoped>\n",
       "    .dataframe tbody tr th:only-of-type {\n",
       "        vertical-align: middle;\n",
       "    }\n",
       "\n",
       "    .dataframe tbody tr th {\n",
       "        vertical-align: top;\n",
       "    }\n",
       "\n",
       "    .dataframe thead th {\n",
       "        text-align: right;\n",
       "    }\n",
       "</style>\n",
       "<table border=\"1\" class=\"dataframe\">\n",
       "  <thead>\n",
       "    <tr style=\"text-align: right;\">\n",
       "      <th>expo</th>\n",
       "      <th>BMBF</th>\n",
       "      <th>MSW</th>\n",
       "    </tr>\n",
       "    <tr>\n",
       "      <th>side</th>\n",
       "      <th></th>\n",
       "      <th></th>\n",
       "    </tr>\n",
       "  </thead>\n",
       "  <tbody>\n",
       "    <tr>\n",
       "      <th>left</th>\n",
       "      <td>44.96</td>\n",
       "      <td>59.78</td>\n",
       "    </tr>\n",
       "    <tr>\n",
       "      <th>right</th>\n",
       "      <td>55.04</td>\n",
       "      <td>40.22</td>\n",
       "    </tr>\n",
       "  </tbody>\n",
       "</table>\n",
       "</div>"
      ],
      "text/plain": [
       "expo   BMBF   MSW\n",
       "side             \n",
       "left  44.96 59.78\n",
       "right 55.04 40.22"
      ]
     },
     "metadata": {},
     "output_type": "display_data"
    }
   ],
   "source": [
    "df = quests\n",
    "column = \"side\"\n",
    "group = \"expo\"\n",
    "query_plot(df=df, column=column, group=group)\n",
    "\n",
    "print(\"Counts:\")\n",
    "display(df.groupby(group)[column].value_counts().unstack().transpose())\n",
    "print(\"Percentages:\")\n",
    "display(\n",
    "    df.groupby(group)[column]\n",
    "    .value_counts(normalize=True)\n",
    "    .unstack()\n",
    "    .transpose()\n",
    "    * 100\n",
    ")"
   ]
  },
  {
   "cell_type": "markdown",
   "id": "c3e6648b-d84d-4548-b7b1-9cc07a15ea5b",
   "metadata": {},
   "source": [
    "Condition"
   ]
  },
  {
   "cell_type": "code",
   "execution_count": 15,
   "id": "a5820765-2b56-4acc-b8a2-11e4db2f7ebc",
   "metadata": {},
   "outputs": [
    {
     "data": {
      "image/png": "[encoded data removed]",
      "text/plain": [
       "<Figure size 1080x504 with 1 Axes>"
      ]
     },
     "metadata": {
      "needs_background": "light"
     },
     "output_type": "display_data"
    }
   ],
   "source": [
    "query_plot(df=quests, column=\"condition\")"
   ]
  },
  {
   "cell_type": "markdown",
   "id": "0f37afb2-0f33-404c-8497-60b23a9ebea0",
   "metadata": {},
   "source": [
    "Condition and exhibition"
   ]
  },
  {
   "cell_type": "code",
   "execution_count": 16,
   "id": "c6a947cb-a65d-4837-a33e-264c1f83b2f8",
   "metadata": {},
   "outputs": [
    {
     "data": {
      "image/png": "[encoded data removed]",
      "text/plain": [
       "<Figure size 1080x504 with 1 Axes>"
      ]
     },
     "metadata": {
      "needs_background": "light"
     },
     "output_type": "display_data"
    },
    {
     "name": "stdout",
     "output_type": "stream",
     "text": [
      "Counts:\n"
     ]
    },
    {
     "data": {
      "text/html": [
       "<div>\n",
       "<style scoped>\n",
       "    .dataframe tbody tr th:only-of-type {\n",
       "        vertical-align: middle;\n",
       "    }\n",
       "\n",
       "    .dataframe tbody tr th {\n",
       "        vertical-align: top;\n",
       "    }\n",
       "\n",
       "    .dataframe thead th {\n",
       "        text-align: right;\n",
       "    }\n",
       "</style>\n",
       "<table border=\"1\" class=\"dataframe\">\n",
       "  <thead>\n",
       "    <tr style=\"text-align: right;\">\n",
       "      <th>expo</th>\n",
       "      <th>BMBF</th>\n",
       "      <th>MSW</th>\n",
       "    </tr>\n",
       "    <tr>\n",
       "      <th>condition</th>\n",
       "      <th></th>\n",
       "      <th></th>\n",
       "    </tr>\n",
       "  </thead>\n",
       "  <tbody>\n",
       "    <tr>\n",
       "      <th>AVAS</th>\n",
       "      <td>404</td>\n",
       "      <td>2880</td>\n",
       "    </tr>\n",
       "    <tr>\n",
       "      <th>RadioTalk</th>\n",
       "      <td>380</td>\n",
       "      <td>2666</td>\n",
       "    </tr>\n",
       "    <tr>\n",
       "      <th>TaxiDriver</th>\n",
       "      <td>366</td>\n",
       "      <td>2811</td>\n",
       "    </tr>\n",
       "  </tbody>\n",
       "</table>\n",
       "</div>"
      ],
      "text/plain": [
       "expo        BMBF   MSW\n",
       "condition             \n",
       "AVAS         404  2880\n",
       "RadioTalk    380  2666\n",
       "TaxiDriver   366  2811"
      ]
     },
     "metadata": {},
     "output_type": "display_data"
    },
    {
     "name": "stdout",
     "output_type": "stream",
     "text": [
      "Percentages:\n"
     ]
    },
    {
     "data": {
      "text/html": [
       "<div>\n",
       "<style scoped>\n",
       "    .dataframe tbody tr th:only-of-type {\n",
       "        vertical-align: middle;\n",
       "    }\n",
       "\n",
       "    .dataframe tbody tr th {\n",
       "        vertical-align: top;\n",
       "    }\n",
       "\n",
       "    .dataframe thead th {\n",
       "        text-align: right;\n",
       "    }\n",
       "</style>\n",
       "<table border=\"1\" class=\"dataframe\">\n",
       "  <thead>\n",
       "    <tr style=\"text-align: right;\">\n",
       "      <th>expo</th>\n",
       "      <th>BMBF</th>\n",
       "      <th>MSW</th>\n",
       "    </tr>\n",
       "    <tr>\n",
       "      <th>condition</th>\n",
       "      <th></th>\n",
       "      <th></th>\n",
       "    </tr>\n",
       "  </thead>\n",
       "  <tbody>\n",
       "    <tr>\n",
       "      <th>AVAS</th>\n",
       "      <td>35.13</td>\n",
       "      <td>34.46</td>\n",
       "    </tr>\n",
       "    <tr>\n",
       "      <th>RadioTalk</th>\n",
       "      <td>33.04</td>\n",
       "      <td>31.90</td>\n",
       "    </tr>\n",
       "    <tr>\n",
       "      <th>TaxiDriver</th>\n",
       "      <td>31.83</td>\n",
       "      <td>33.64</td>\n",
       "    </tr>\n",
       "  </tbody>\n",
       "</table>\n",
       "</div>"
      ],
      "text/plain": [
       "expo        BMBF   MSW\n",
       "condition             \n",
       "AVAS       35.13 34.46\n",
       "RadioTalk  33.04 31.90\n",
       "TaxiDriver 31.83 33.64"
      ]
     },
     "metadata": {},
     "output_type": "display_data"
    }
   ],
   "source": [
    "df = quests\n",
    "column = \"condition\"\n",
    "group = \"expo\"\n",
    "query_plot(df=df, column=column, group=group)\n",
    "\n",
    "print(\"Counts:\")\n",
    "display(df.groupby(group)[column].value_counts().unstack().transpose())\n",
    "print(\"Percentages:\")\n",
    "display(\n",
    "    df.groupby(group)[column]\n",
    "    .value_counts(normalize=True)\n",
    "    .unstack()\n",
    "    .transpose()\n",
    "    * 100\n",
    ")"
   ]
  },
  {
   "cell_type": "markdown",
   "id": "c9526195-6051-4402-81c5-c186ab33e593",
   "metadata": {},
   "source": [
    "Side"
   ]
  },
  {
   "cell_type": "code",
   "execution_count": 17,
   "id": "db1a1841-69c9-4072-9115-904cb38da7f9",
   "metadata": {},
   "outputs": [
    {
     "data": {
      "image/png": "[encoded data removed]",
      "text/plain": [
       "<Figure size 1080x504 with 1 Axes>"
      ]
     },
     "metadata": {
      "needs_background": "light"
     },
     "output_type": "display_data"
    }
   ],
   "source": [
    "query_plot(df=quests, column=\"side\")"
   ]
  },
  {
   "cell_type": "markdown",
   "id": "840b5066-4b13-4254-96e8-162b9503aab0",
   "metadata": {},
   "source": [
    "Side and condition"
   ]
  },
  {
   "cell_type": "code",
   "execution_count": 18,
   "id": "15679074-15db-4d24-986f-93f0fde2c862",
   "metadata": {},
   "outputs": [
    {
     "data": {
      "image/png": "[encoded data removed]",
      "text/plain": [
       "<Figure size 1080x504 with 1 Axes>"
      ]
     },
     "metadata": {
      "needs_background": "light"
     },
     "output_type": "display_data"
    },
    {
     "name": "stdout",
     "output_type": "stream",
     "text": [
      "Counts:\n"
     ]
    },
    {
     "data": {
      "text/html": [
       "<div>\n",
       "<style scoped>\n",
       "    .dataframe tbody tr th:only-of-type {\n",
       "        vertical-align: middle;\n",
       "    }\n",
       "\n",
       "    .dataframe tbody tr th {\n",
       "        vertical-align: top;\n",
       "    }\n",
       "\n",
       "    .dataframe thead th {\n",
       "        text-align: right;\n",
       "    }\n",
       "</style>\n",
       "<table border=\"1\" class=\"dataframe\">\n",
       "  <thead>\n",
       "    <tr style=\"text-align: right;\">\n",
       "      <th>condition</th>\n",
       "      <th>AVAS</th>\n",
       "      <th>RadioTalk</th>\n",
       "      <th>TaxiDriver</th>\n",
       "    </tr>\n",
       "    <tr>\n",
       "      <th>side</th>\n",
       "      <th></th>\n",
       "      <th></th>\n",
       "      <th></th>\n",
       "    </tr>\n",
       "  </thead>\n",
       "  <tbody>\n",
       "    <tr>\n",
       "      <th>left</th>\n",
       "      <td>1876</td>\n",
       "      <td>1768</td>\n",
       "      <td>1869</td>\n",
       "    </tr>\n",
       "    <tr>\n",
       "      <th>right</th>\n",
       "      <td>1408</td>\n",
       "      <td>1278</td>\n",
       "      <td>1308</td>\n",
       "    </tr>\n",
       "  </tbody>\n",
       "</table>\n",
       "</div>"
      ],
      "text/plain": [
       "condition  AVAS  RadioTalk  TaxiDriver\n",
       "side                                  \n",
       "left       1876       1768        1869\n",
       "right      1408       1278        1308"
      ]
     },
     "metadata": {},
     "output_type": "display_data"
    },
    {
     "name": "stdout",
     "output_type": "stream",
     "text": [
      "Percentages:\n"
     ]
    },
    {
     "data": {
      "text/html": [
       "<div>\n",
       "<style scoped>\n",
       "    .dataframe tbody tr th:only-of-type {\n",
       "        vertical-align: middle;\n",
       "    }\n",
       "\n",
       "    .dataframe tbody tr th {\n",
       "        vertical-align: top;\n",
       "    }\n",
       "\n",
       "    .dataframe thead th {\n",
       "        text-align: right;\n",
       "    }\n",
       "</style>\n",
       "<table border=\"1\" class=\"dataframe\">\n",
       "  <thead>\n",
       "    <tr style=\"text-align: right;\">\n",
       "      <th>condition</th>\n",
       "      <th>AVAS</th>\n",
       "      <th>RadioTalk</th>\n",
       "      <th>TaxiDriver</th>\n",
       "    </tr>\n",
       "    <tr>\n",
       "      <th>side</th>\n",
       "      <th></th>\n",
       "      <th></th>\n",
       "      <th></th>\n",
       "    </tr>\n",
       "  </thead>\n",
       "  <tbody>\n",
       "    <tr>\n",
       "      <th>left</th>\n",
       "      <td>57.13</td>\n",
       "      <td>58.04</td>\n",
       "      <td>58.83</td>\n",
       "    </tr>\n",
       "    <tr>\n",
       "      <th>right</th>\n",
       "      <td>42.87</td>\n",
       "      <td>41.96</td>\n",
       "      <td>41.17</td>\n",
       "    </tr>\n",
       "  </tbody>\n",
       "</table>\n",
       "</div>"
      ],
      "text/plain": [
       "condition  AVAS  RadioTalk  TaxiDriver\n",
       "side                                  \n",
       "left      57.13      58.04       58.83\n",
       "right     42.87      41.96       41.17"
      ]
     },
     "metadata": {},
     "output_type": "display_data"
    }
   ],
   "source": [
    "df = quests\n",
    "column = \"side\"\n",
    "group = \"condition\"\n",
    "query_plot(df=df, column=column, group=group)\n",
    "\n",
    "print(\"Counts:\")\n",
    "display(df.groupby(group)[column].value_counts().unstack().transpose())\n",
    "print(\"Percentages:\")\n",
    "display(\n",
    "    df.groupby(group)[column]\n",
    "    .value_counts(normalize=True)\n",
    "    .unstack()\n",
    "    .transpose()\n",
    "    * 100\n",
    ")"
   ]
  },
  {
   "cell_type": "markdown",
   "id": "8afd72e2-30a8-45d7-9e03-e96b1392a34d",
   "metadata": {},
   "source": [
    "Condition and side"
   ]
  },
  {
   "cell_type": "code",
   "execution_count": 19,
   "id": "6003cb93-bbf8-4a1f-a410-60b357d692f5",
   "metadata": {},
   "outputs": [
    {
     "data": {
      "image/png": "[encoded data removed]",
      "text/plain": [
       "<Figure size 1080x504 with 1 Axes>"
      ]
     },
     "metadata": {
      "needs_background": "light"
     },
     "output_type": "display_data"
    },
    {
     "name": "stdout",
     "output_type": "stream",
     "text": [
      "Counts:\n"
     ]
    },
    {
     "data": {
      "text/html": [
       "<div>\n",
       "<style scoped>\n",
       "    .dataframe tbody tr th:only-of-type {\n",
       "        vertical-align: middle;\n",
       "    }\n",
       "\n",
       "    .dataframe tbody tr th {\n",
       "        vertical-align: top;\n",
       "    }\n",
       "\n",
       "    .dataframe thead th {\n",
       "        text-align: right;\n",
       "    }\n",
       "</style>\n",
       "<table border=\"1\" class=\"dataframe\">\n",
       "  <thead>\n",
       "    <tr style=\"text-align: right;\">\n",
       "      <th>side</th>\n",
       "      <th>left</th>\n",
       "      <th>right</th>\n",
       "    </tr>\n",
       "    <tr>\n",
       "      <th>condition</th>\n",
       "      <th></th>\n",
       "      <th></th>\n",
       "    </tr>\n",
       "  </thead>\n",
       "  <tbody>\n",
       "    <tr>\n",
       "      <th>AVAS</th>\n",
       "      <td>1876</td>\n",
       "      <td>1408</td>\n",
       "    </tr>\n",
       "    <tr>\n",
       "      <th>RadioTalk</th>\n",
       "      <td>1768</td>\n",
       "      <td>1278</td>\n",
       "    </tr>\n",
       "    <tr>\n",
       "      <th>TaxiDriver</th>\n",
       "      <td>1869</td>\n",
       "      <td>1308</td>\n",
       "    </tr>\n",
       "  </tbody>\n",
       "</table>\n",
       "</div>"
      ],
      "text/plain": [
       "side        left  right\n",
       "condition              \n",
       "AVAS        1876   1408\n",
       "RadioTalk   1768   1278\n",
       "TaxiDriver  1869   1308"
      ]
     },
     "metadata": {},
     "output_type": "display_data"
    },
    {
     "name": "stdout",
     "output_type": "stream",
     "text": [
      "Percentages:\n"
     ]
    },
    {
     "data": {
      "text/html": [
       "<div>\n",
       "<style scoped>\n",
       "    .dataframe tbody tr th:only-of-type {\n",
       "        vertical-align: middle;\n",
       "    }\n",
       "\n",
       "    .dataframe tbody tr th {\n",
       "        vertical-align: top;\n",
       "    }\n",
       "\n",
       "    .dataframe thead th {\n",
       "        text-align: right;\n",
       "    }\n",
       "</style>\n",
       "<table border=\"1\" class=\"dataframe\">\n",
       "  <thead>\n",
       "    <tr style=\"text-align: right;\">\n",
       "      <th>side</th>\n",
       "      <th>left</th>\n",
       "      <th>right</th>\n",
       "    </tr>\n",
       "    <tr>\n",
       "      <th>condition</th>\n",
       "      <th></th>\n",
       "      <th></th>\n",
       "    </tr>\n",
       "  </thead>\n",
       "  <tbody>\n",
       "    <tr>\n",
       "      <th>AVAS</th>\n",
       "      <td>34.03</td>\n",
       "      <td>35.25</td>\n",
       "    </tr>\n",
       "    <tr>\n",
       "      <th>RadioTalk</th>\n",
       "      <td>32.07</td>\n",
       "      <td>32.00</td>\n",
       "    </tr>\n",
       "    <tr>\n",
       "      <th>TaxiDriver</th>\n",
       "      <td>33.90</td>\n",
       "      <td>32.75</td>\n",
       "    </tr>\n",
       "  </tbody>\n",
       "</table>\n",
       "</div>"
      ],
      "text/plain": [
       "side        left  right\n",
       "condition              \n",
       "AVAS       34.03  35.25\n",
       "RadioTalk  32.07  32.00\n",
       "TaxiDriver 33.90  32.75"
      ]
     },
     "metadata": {},
     "output_type": "display_data"
    }
   ],
   "source": [
    "df = quests\n",
    "column = \"condition\"\n",
    "group = \"side\"\n",
    "query_plot(df=df, column=column, group=group)\n",
    "\n",
    "print(\"Counts:\")\n",
    "display(df.groupby(group)[column].value_counts().unstack().transpose())\n",
    "print(\"Percentages:\")\n",
    "display(\n",
    "    df.groupby(group)[column]\n",
    "    .value_counts(normalize=True)\n",
    "    .unstack()\n",
    "    .transpose()\n",
    "    * 100\n",
    ")"
   ]
  }
 ],
 "metadata": {
  "kernelspec": {
   "display_name": "Python (msw-bmbf_da)",
   "language": "python",
   "name": "msw-bmbf_da"
  },
  "language_info": {
   "codemirror_mode": {
    "name": "ipython",
    "version": 3
   },
   "file_extension": ".py",
   "mimetype": "text/x-python",
   "name": "python",
   "nbconvert_exporter": "python",
   "pygments_lexer": "ipython3",
   "version": "3.8.10"
  },
  "widgets": {
   "application/vnd.jupyter.widget-state+json": {
    "state": {},
    "version_major": 2,
    "version_minor": 0
   }
  }
 },
 "nbformat": 4,
 "nbformat_minor": 5
}
