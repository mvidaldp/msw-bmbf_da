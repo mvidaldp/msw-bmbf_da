{
 "cells": [
  {
   "cell_type": "markdown",
   "id": "6ea17106-ba66-436c-9d0c-c084e4477e5f",
   "metadata": {},
   "source": [
    "__Dependencies__"
   ]
  },
  {
   "cell_type": "code",
   "execution_count": 1,
   "id": "dcbfe465-af69-4541-ac8a-a01d96b5a4b1",
   "metadata": {},
   "outputs": [],
   "source": [
    "import copy  # copy big/deep objects by value\n",
    "import os  # OS operations (read/write files/folders)\n",
    "\n",
    "# process parallelization\n",
    "from multiprocessing import Manager, Pool, RawArray, cpu_count\n",
    "\n",
    "import matplotlib.pyplot as plt  # mother of plots focr Python\n",
    "import pandas as pd  # operate with dataframes\n",
    "from IPython.display import display  # print nicely\n",
    "from tqdm.notebook import tqdm  # mother of progressbars for Python\n",
    "\n",
    "# from matplotlib.ticker import FormatStrFormatter  # tick formatter"
   ]
  },
  {
   "cell_type": "markdown",
   "id": "998498dc-9227-4c5e-9a0f-188e79b02c8f",
   "metadata": {
    "tags": []
   },
   "source": [
    "__Options__"
   ]
  },
  {
   "cell_type": "code",
   "execution_count": 2,
   "id": "dbfc75e1-7dbc-4630-98f6-66a2f05749f1",
   "metadata": {},
   "outputs": [],
   "source": [
    "PATH_OLD = \"../data/colliders_old\"\n",
    "PATH = \"../data/raw/CsvData\"\n",
    "\n",
    "# progress bar customized format\n",
    "B_FORMAT = \"\"\"📄 {n_fmt} of {total_fmt} {desc} processed: {bar} \n",
    "            {percentage:3.0f}% ⏱️{elapsed} ⏳{remaining} ⚙️{rate_fmt}{postfix}\"\"\""
   ]
  },
  {
   "cell_type": "markdown",
   "id": "29707919-9082-4bc1-bd5e-e50e089d367c",
   "metadata": {},
   "source": [
    "__Read participants cleaned data__"
   ]
  },
  {
   "cell_type": "code",
   "execution_count": 3,
   "id": "0372da8a-1551-44a0-9359-618280c948e8",
   "metadata": {},
   "outputs": [
    {
     "data": {
      "text/html": [
       "<div>\n",
       "<style scoped>\n",
       "    .dataframe tbody tr th:only-of-type {\n",
       "        vertical-align: middle;\n",
       "    }\n",
       "\n",
       "    .dataframe tbody tr th {\n",
       "        vertical-align: top;\n",
       "    }\n",
       "\n",
       "    .dataframe thead th {\n",
       "        text-align: right;\n",
       "    }\n",
       "</style>\n",
       "<table border=\"1\" class=\"dataframe\">\n",
       "  <thead>\n",
       "    <tr style=\"text-align: right;\">\n",
       "      <th></th>\n",
       "      <th>date</th>\n",
       "      <th>expo</th>\n",
       "      <th>side</th>\n",
       "      <th>condition</th>\n",
       "      <th>questionnaire</th>\n",
       "    </tr>\n",
       "    <tr>\n",
       "      <th>id</th>\n",
       "      <th></th>\n",
       "      <th></th>\n",
       "      <th></th>\n",
       "      <th></th>\n",
       "      <th></th>\n",
       "    </tr>\n",
       "  </thead>\n",
       "  <tbody>\n",
       "    <tr>\n",
       "      <th>4f583872ffed48249874b00f3d389cfc</th>\n",
       "      <td>2019-05-14 13:21:00</td>\n",
       "      <td>MSW</td>\n",
       "      <td>right</td>\n",
       "      <td>TaxiDriver</td>\n",
       "      <td>No</td>\n",
       "    </tr>\n",
       "    <tr>\n",
       "      <th>33d68ad55ef544fab9fd08108e3913ca</th>\n",
       "      <td>2019-05-14 16:44:00</td>\n",
       "      <td>MSW</td>\n",
       "      <td>right</td>\n",
       "      <td>AVAS</td>\n",
       "      <td>No</td>\n",
       "    </tr>\n",
       "    <tr>\n",
       "      <th>8598a83e2af441b8bcd0ae5d84beb875</th>\n",
       "      <td>2019-05-14 16:51:00</td>\n",
       "      <td>MSW</td>\n",
       "      <td>right</td>\n",
       "      <td>RadioTalk</td>\n",
       "      <td>No</td>\n",
       "    </tr>\n",
       "    <tr>\n",
       "      <th>37d7e67934974217830bb429bba7fd76</th>\n",
       "      <td>2019-05-14 16:54:00</td>\n",
       "      <td>MSW</td>\n",
       "      <td>left</td>\n",
       "      <td>AVAS</td>\n",
       "      <td>No</td>\n",
       "    </tr>\n",
       "    <tr>\n",
       "      <th>42bac596059749b5b8e8e83ae61de9b4</th>\n",
       "      <td>2019-05-14 16:56:00</td>\n",
       "      <td>MSW</td>\n",
       "      <td>right</td>\n",
       "      <td>TaxiDriver</td>\n",
       "      <td>No</td>\n",
       "    </tr>\n",
       "    <tr>\n",
       "      <th>...</th>\n",
       "      <td>...</td>\n",
       "      <td>...</td>\n",
       "      <td>...</td>\n",
       "      <td>...</td>\n",
       "      <td>...</td>\n",
       "    </tr>\n",
       "    <tr>\n",
       "      <th>cfe9482181f74f80b88cd4b1c048ab94</th>\n",
       "      <td>2019-12-30 15:29:00</td>\n",
       "      <td>BMBF</td>\n",
       "      <td>right</td>\n",
       "      <td>AVAS</td>\n",
       "      <td>No</td>\n",
       "    </tr>\n",
       "    <tr>\n",
       "      <th>611d35a7c3e940cc82495e53c2a8532d</th>\n",
       "      <td>2020-01-03 16:12:00</td>\n",
       "      <td>BMBF</td>\n",
       "      <td>right</td>\n",
       "      <td>TaxiDriver</td>\n",
       "      <td>No</td>\n",
       "    </tr>\n",
       "    <tr>\n",
       "      <th>3b6fda285d9e412eb081986b2f22a2e3</th>\n",
       "      <td>2020-01-03 16:13:00</td>\n",
       "      <td>BMBF</td>\n",
       "      <td>left</td>\n",
       "      <td>AVAS</td>\n",
       "      <td>No</td>\n",
       "    </tr>\n",
       "    <tr>\n",
       "      <th>18ffb0abdc8642098c479380bfa533d1</th>\n",
       "      <td>2020-01-03 16:15:00</td>\n",
       "      <td>BMBF</td>\n",
       "      <td>left</td>\n",
       "      <td>RadioTalk</td>\n",
       "      <td>Yes</td>\n",
       "    </tr>\n",
       "    <tr>\n",
       "      <th>c06f123b35b74bb489ec239b1cac9eb4</th>\n",
       "      <td>2020-01-03 16:16:00</td>\n",
       "      <td>BMBF</td>\n",
       "      <td>right</td>\n",
       "      <td>TaxiDriver</td>\n",
       "      <td>No</td>\n",
       "    </tr>\n",
       "  </tbody>\n",
       "</table>\n",
       "<p>24356 rows × 5 columns</p>\n",
       "</div>"
      ],
      "text/plain": [
       "                                                 date  expo   side  \\\n",
       "id                                                                   \n",
       "4f583872ffed48249874b00f3d389cfc  2019-05-14 13:21:00   MSW  right   \n",
       "33d68ad55ef544fab9fd08108e3913ca  2019-05-14 16:44:00   MSW  right   \n",
       "8598a83e2af441b8bcd0ae5d84beb875  2019-05-14 16:51:00   MSW  right   \n",
       "37d7e67934974217830bb429bba7fd76  2019-05-14 16:54:00   MSW   left   \n",
       "42bac596059749b5b8e8e83ae61de9b4  2019-05-14 16:56:00   MSW  right   \n",
       "...                                               ...   ...    ...   \n",
       "cfe9482181f74f80b88cd4b1c048ab94  2019-12-30 15:29:00  BMBF  right   \n",
       "611d35a7c3e940cc82495e53c2a8532d  2020-01-03 16:12:00  BMBF  right   \n",
       "3b6fda285d9e412eb081986b2f22a2e3  2020-01-03 16:13:00  BMBF   left   \n",
       "18ffb0abdc8642098c479380bfa533d1  2020-01-03 16:15:00  BMBF   left   \n",
       "c06f123b35b74bb489ec239b1cac9eb4  2020-01-03 16:16:00  BMBF  right   \n",
       "\n",
       "                                   condition questionnaire  \n",
       "id                                                          \n",
       "4f583872ffed48249874b00f3d389cfc  TaxiDriver            No  \n",
       "33d68ad55ef544fab9fd08108e3913ca        AVAS            No  \n",
       "8598a83e2af441b8bcd0ae5d84beb875   RadioTalk            No  \n",
       "37d7e67934974217830bb429bba7fd76        AVAS            No  \n",
       "42bac596059749b5b8e8e83ae61de9b4  TaxiDriver            No  \n",
       "...                                      ...           ...  \n",
       "cfe9482181f74f80b88cd4b1c048ab94        AVAS            No  \n",
       "611d35a7c3e940cc82495e53c2a8532d  TaxiDriver            No  \n",
       "3b6fda285d9e412eb081986b2f22a2e3        AVAS            No  \n",
       "18ffb0abdc8642098c479380bfa533d1   RadioTalk           Yes  \n",
       "c06f123b35b74bb489ec239b1cac9eb4  TaxiDriver            No  \n",
       "\n",
       "[24356 rows x 5 columns]"
      ]
     },
     "execution_count": 3,
     "metadata": {},
     "output_type": "execute_result"
    }
   ],
   "source": [
    "parts = pd.read_csv(\"../participants_clean.csv\", keep_default_na=False)\n",
    "parts = parts.set_index(\"id\")  # set uid column as index (remove default)\n",
    "parts"
   ]
  },
  {
   "cell_type": "code",
   "execution_count": 4,
   "id": "b5ece551-416d-4e5a-80a0-98adfdec9ae5",
   "metadata": {},
   "outputs": [
    {
     "data": {
      "application/vnd.jupyter.widget-view+json": {
       "model_id": "56e8045a24324b4b84c786328bfa0cfd",
       "version_major": 2,
       "version_minor": 0
      },
      "text/plain": [
       "📄 0 of 24356 🎯 colliders processed:                                                                           …"
      ]
     },
     "metadata": {},
     "output_type": "display_data"
    },
    {
     "ename": "FileNotFoundError",
     "evalue": "[Errno 2] No such file or directory: '../data/colliders_old/Path_ MS Wissenschaft-TaxiDriver-5cea15f12a31476ca95089cf4a435a6a.csv'",
     "output_type": "error",
     "traceback": [
      "\u001b[0;31m---------------------------------------------------------------------------\u001b[0m",
      "\u001b[0;31mFileNotFoundError\u001b[0m                         Traceback (most recent call last)",
      "\u001b[0;32m/tmp/ipykernel_4219/1097824357.py\u001b[0m in \u001b[0;36m<module>\u001b[0;34m\u001b[0m\n\u001b[1;32m     23\u001b[0m     \u001b[0mcond\u001b[0m \u001b[0;34m=\u001b[0m \u001b[0mcur\u001b[0m\u001b[0;34m.\u001b[0m\u001b[0mcondition\u001b[0m\u001b[0;34m\u001b[0m\u001b[0;34m\u001b[0m\u001b[0m\n\u001b[1;32m     24\u001b[0m     \u001b[0mfile\u001b[0m \u001b[0;34m=\u001b[0m \u001b[0;34mf\"Path_ MS Wissenschaft-{cond}-{uid}.csv\"\u001b[0m\u001b[0;34m\u001b[0m\u001b[0;34m\u001b[0m\u001b[0m\n\u001b[0;32m---> 25\u001b[0;31m     \u001b[0mdf_part\u001b[0m \u001b[0;34m=\u001b[0m \u001b[0mpd\u001b[0m\u001b[0;34m.\u001b[0m\u001b[0mread_csv\u001b[0m\u001b[0;34m(\u001b[0m\u001b[0;34mf\"{PATH_OLD}/{file}\"\u001b[0m\u001b[0;34m,\u001b[0m \u001b[0mkeep_default_na\u001b[0m\u001b[0;34m=\u001b[0m\u001b[0;32mFalse\u001b[0m\u001b[0;34m)\u001b[0m\u001b[0;34m\u001b[0m\u001b[0;34m\u001b[0m\u001b[0m\n\u001b[0m\u001b[1;32m     26\u001b[0m     \u001b[0mdf_part_new\u001b[0m \u001b[0;34m=\u001b[0m \u001b[0mpd\u001b[0m\u001b[0;34m.\u001b[0m\u001b[0mread_csv\u001b[0m\u001b[0;34m(\u001b[0m\u001b[0;34mf\"{PATH}/{file}\"\u001b[0m\u001b[0;34m,\u001b[0m \u001b[0mkeep_default_na\u001b[0m\u001b[0;34m=\u001b[0m\u001b[0;32mFalse\u001b[0m\u001b[0;34m)\u001b[0m\u001b[0;34m\u001b[0m\u001b[0;34m\u001b[0m\u001b[0m\n\u001b[1;32m     27\u001b[0m     \u001b[0mN\u001b[0m \u001b[0;34m=\u001b[0m \u001b[0mdf_part\u001b[0m\u001b[0;34m.\u001b[0m\u001b[0mindex\u001b[0m\u001b[0;34m.\u001b[0m\u001b[0msize\u001b[0m\u001b[0;34m\u001b[0m\u001b[0;34m\u001b[0m\u001b[0m\n",
      "\u001b[0;32m/net/store/nbp/projects/wd_ride_village/venvs/msw-bmbf_da/lib/python3.8/site-packages/pandas/util/_decorators.py\u001b[0m in \u001b[0;36mwrapper\u001b[0;34m(*args, **kwargs)\u001b[0m\n\u001b[1;32m    309\u001b[0m                     \u001b[0mstacklevel\u001b[0m\u001b[0;34m=\u001b[0m\u001b[0mstacklevel\u001b[0m\u001b[0;34m,\u001b[0m\u001b[0;34m\u001b[0m\u001b[0;34m\u001b[0m\u001b[0m\n\u001b[1;32m    310\u001b[0m                 )\n\u001b[0;32m--> 311\u001b[0;31m             \u001b[0;32mreturn\u001b[0m \u001b[0mfunc\u001b[0m\u001b[0;34m(\u001b[0m\u001b[0;34m*\u001b[0m\u001b[0margs\u001b[0m\u001b[0;34m,\u001b[0m \u001b[0;34m**\u001b[0m\u001b[0mkwargs\u001b[0m\u001b[0;34m)\u001b[0m\u001b[0;34m\u001b[0m\u001b[0;34m\u001b[0m\u001b[0m\n\u001b[0m\u001b[1;32m    312\u001b[0m \u001b[0;34m\u001b[0m\u001b[0m\n\u001b[1;32m    313\u001b[0m         \u001b[0;32mreturn\u001b[0m \u001b[0mwrapper\u001b[0m\u001b[0;34m\u001b[0m\u001b[0;34m\u001b[0m\u001b[0m\n",
      "\u001b[0;32m/net/store/nbp/projects/wd_ride_village/venvs/msw-bmbf_da/lib/python3.8/site-packages/pandas/io/parsers/readers.py\u001b[0m in \u001b[0;36mread_csv\u001b[0;34m(filepath_or_buffer, sep, delimiter, header, names, index_col, usecols, squeeze, prefix, mangle_dupe_cols, dtype, engine, converters, true_values, false_values, skipinitialspace, skiprows, skipfooter, nrows, na_values, keep_default_na, na_filter, verbose, skip_blank_lines, parse_dates, infer_datetime_format, keep_date_col, date_parser, dayfirst, cache_dates, iterator, chunksize, compression, thousands, decimal, lineterminator, quotechar, quoting, doublequote, escapechar, comment, encoding, encoding_errors, dialect, error_bad_lines, warn_bad_lines, on_bad_lines, delim_whitespace, low_memory, memory_map, float_precision, storage_options)\u001b[0m\n\u001b[1;32m    584\u001b[0m     \u001b[0mkwds\u001b[0m\u001b[0;34m.\u001b[0m\u001b[0mupdate\u001b[0m\u001b[0;34m(\u001b[0m\u001b[0mkwds_defaults\u001b[0m\u001b[0;34m)\u001b[0m\u001b[0;34m\u001b[0m\u001b[0;34m\u001b[0m\u001b[0m\n\u001b[1;32m    585\u001b[0m \u001b[0;34m\u001b[0m\u001b[0m\n\u001b[0;32m--> 586\u001b[0;31m     \u001b[0;32mreturn\u001b[0m \u001b[0m_read\u001b[0m\u001b[0;34m(\u001b[0m\u001b[0mfilepath_or_buffer\u001b[0m\u001b[0;34m,\u001b[0m \u001b[0mkwds\u001b[0m\u001b[0;34m)\u001b[0m\u001b[0;34m\u001b[0m\u001b[0;34m\u001b[0m\u001b[0m\n\u001b[0m\u001b[1;32m    587\u001b[0m \u001b[0;34m\u001b[0m\u001b[0m\n\u001b[1;32m    588\u001b[0m \u001b[0;34m\u001b[0m\u001b[0m\n",
      "\u001b[0;32m/net/store/nbp/projects/wd_ride_village/venvs/msw-bmbf_da/lib/python3.8/site-packages/pandas/io/parsers/readers.py\u001b[0m in \u001b[0;36m_read\u001b[0;34m(filepath_or_buffer, kwds)\u001b[0m\n\u001b[1;32m    480\u001b[0m \u001b[0;34m\u001b[0m\u001b[0m\n\u001b[1;32m    481\u001b[0m     \u001b[0;31m# Create the parser.\u001b[0m\u001b[0;34m\u001b[0m\u001b[0;34m\u001b[0m\u001b[0;34m\u001b[0m\u001b[0m\n\u001b[0;32m--> 482\u001b[0;31m     \u001b[0mparser\u001b[0m \u001b[0;34m=\u001b[0m \u001b[0mTextFileReader\u001b[0m\u001b[0;34m(\u001b[0m\u001b[0mfilepath_or_buffer\u001b[0m\u001b[0;34m,\u001b[0m \u001b[0;34m**\u001b[0m\u001b[0mkwds\u001b[0m\u001b[0;34m)\u001b[0m\u001b[0;34m\u001b[0m\u001b[0;34m\u001b[0m\u001b[0m\n\u001b[0m\u001b[1;32m    483\u001b[0m \u001b[0;34m\u001b[0m\u001b[0m\n\u001b[1;32m    484\u001b[0m     \u001b[0;32mif\u001b[0m \u001b[0mchunksize\u001b[0m \u001b[0;32mor\u001b[0m \u001b[0miterator\u001b[0m\u001b[0;34m:\u001b[0m\u001b[0;34m\u001b[0m\u001b[0;34m\u001b[0m\u001b[0m\n",
      "\u001b[0;32m/net/store/nbp/projects/wd_ride_village/venvs/msw-bmbf_da/lib/python3.8/site-packages/pandas/io/parsers/readers.py\u001b[0m in \u001b[0;36m__init__\u001b[0;34m(self, f, engine, **kwds)\u001b[0m\n\u001b[1;32m    809\u001b[0m             \u001b[0mself\u001b[0m\u001b[0;34m.\u001b[0m\u001b[0moptions\u001b[0m\u001b[0;34m[\u001b[0m\u001b[0;34m\"has_index_names\"\u001b[0m\u001b[0;34m]\u001b[0m \u001b[0;34m=\u001b[0m \u001b[0mkwds\u001b[0m\u001b[0;34m[\u001b[0m\u001b[0;34m\"has_index_names\"\u001b[0m\u001b[0;34m]\u001b[0m\u001b[0;34m\u001b[0m\u001b[0;34m\u001b[0m\u001b[0m\n\u001b[1;32m    810\u001b[0m \u001b[0;34m\u001b[0m\u001b[0m\n\u001b[0;32m--> 811\u001b[0;31m         \u001b[0mself\u001b[0m\u001b[0;34m.\u001b[0m\u001b[0m_engine\u001b[0m \u001b[0;34m=\u001b[0m \u001b[0mself\u001b[0m\u001b[0;34m.\u001b[0m\u001b[0m_make_engine\u001b[0m\u001b[0;34m(\u001b[0m\u001b[0mself\u001b[0m\u001b[0;34m.\u001b[0m\u001b[0mengine\u001b[0m\u001b[0;34m)\u001b[0m\u001b[0;34m\u001b[0m\u001b[0;34m\u001b[0m\u001b[0m\n\u001b[0m\u001b[1;32m    812\u001b[0m \u001b[0;34m\u001b[0m\u001b[0m\n\u001b[1;32m    813\u001b[0m     \u001b[0;32mdef\u001b[0m \u001b[0mclose\u001b[0m\u001b[0;34m(\u001b[0m\u001b[0mself\u001b[0m\u001b[0;34m)\u001b[0m\u001b[0;34m:\u001b[0m\u001b[0;34m\u001b[0m\u001b[0;34m\u001b[0m\u001b[0m\n",
      "\u001b[0;32m/net/store/nbp/projects/wd_ride_village/venvs/msw-bmbf_da/lib/python3.8/site-packages/pandas/io/parsers/readers.py\u001b[0m in \u001b[0;36m_make_engine\u001b[0;34m(self, engine)\u001b[0m\n\u001b[1;32m   1038\u001b[0m             )\n\u001b[1;32m   1039\u001b[0m         \u001b[0;31m# error: Too many arguments for \"ParserBase\"\u001b[0m\u001b[0;34m\u001b[0m\u001b[0;34m\u001b[0m\u001b[0;34m\u001b[0m\u001b[0m\n\u001b[0;32m-> 1040\u001b[0;31m         \u001b[0;32mreturn\u001b[0m \u001b[0mmapping\u001b[0m\u001b[0;34m[\u001b[0m\u001b[0mengine\u001b[0m\u001b[0;34m]\u001b[0m\u001b[0;34m(\u001b[0m\u001b[0mself\u001b[0m\u001b[0;34m.\u001b[0m\u001b[0mf\u001b[0m\u001b[0;34m,\u001b[0m \u001b[0;34m**\u001b[0m\u001b[0mself\u001b[0m\u001b[0;34m.\u001b[0m\u001b[0moptions\u001b[0m\u001b[0;34m)\u001b[0m  \u001b[0;31m# type: ignore[call-arg]\u001b[0m\u001b[0;34m\u001b[0m\u001b[0;34m\u001b[0m\u001b[0m\n\u001b[0m\u001b[1;32m   1041\u001b[0m \u001b[0;34m\u001b[0m\u001b[0m\n\u001b[1;32m   1042\u001b[0m     \u001b[0;32mdef\u001b[0m \u001b[0m_failover_to_python\u001b[0m\u001b[0;34m(\u001b[0m\u001b[0mself\u001b[0m\u001b[0;34m)\u001b[0m\u001b[0;34m:\u001b[0m\u001b[0;34m\u001b[0m\u001b[0;34m\u001b[0m\u001b[0m\n",
      "\u001b[0;32m/net/store/nbp/projects/wd_ride_village/venvs/msw-bmbf_da/lib/python3.8/site-packages/pandas/io/parsers/c_parser_wrapper.py\u001b[0m in \u001b[0;36m__init__\u001b[0;34m(self, src, **kwds)\u001b[0m\n\u001b[1;32m     49\u001b[0m \u001b[0;34m\u001b[0m\u001b[0m\n\u001b[1;32m     50\u001b[0m         \u001b[0;31m# open handles\u001b[0m\u001b[0;34m\u001b[0m\u001b[0;34m\u001b[0m\u001b[0;34m\u001b[0m\u001b[0m\n\u001b[0;32m---> 51\u001b[0;31m         \u001b[0mself\u001b[0m\u001b[0;34m.\u001b[0m\u001b[0m_open_handles\u001b[0m\u001b[0;34m(\u001b[0m\u001b[0msrc\u001b[0m\u001b[0;34m,\u001b[0m \u001b[0mkwds\u001b[0m\u001b[0;34m)\u001b[0m\u001b[0;34m\u001b[0m\u001b[0;34m\u001b[0m\u001b[0m\n\u001b[0m\u001b[1;32m     52\u001b[0m         \u001b[0;32massert\u001b[0m \u001b[0mself\u001b[0m\u001b[0;34m.\u001b[0m\u001b[0mhandles\u001b[0m \u001b[0;32mis\u001b[0m \u001b[0;32mnot\u001b[0m \u001b[0;32mNone\u001b[0m\u001b[0;34m\u001b[0m\u001b[0;34m\u001b[0m\u001b[0m\n\u001b[1;32m     53\u001b[0m \u001b[0;34m\u001b[0m\u001b[0m\n",
      "\u001b[0;32m/net/store/nbp/projects/wd_ride_village/venvs/msw-bmbf_da/lib/python3.8/site-packages/pandas/io/parsers/base_parser.py\u001b[0m in \u001b[0;36m_open_handles\u001b[0;34m(self, src, kwds)\u001b[0m\n\u001b[1;32m    220\u001b[0m         \u001b[0mLet\u001b[0m \u001b[0mthe\u001b[0m \u001b[0mreaders\u001b[0m \u001b[0mopen\u001b[0m \u001b[0mIOHandles\u001b[0m \u001b[0mafter\u001b[0m \u001b[0mthey\u001b[0m \u001b[0mare\u001b[0m \u001b[0mdone\u001b[0m \u001b[0;32mwith\u001b[0m \u001b[0mtheir\u001b[0m \u001b[0mpotential\u001b[0m \u001b[0mraises\u001b[0m\u001b[0;34m.\u001b[0m\u001b[0;34m\u001b[0m\u001b[0;34m\u001b[0m\u001b[0m\n\u001b[1;32m    221\u001b[0m         \"\"\"\n\u001b[0;32m--> 222\u001b[0;31m         self.handles = get_handle(\n\u001b[0m\u001b[1;32m    223\u001b[0m             \u001b[0msrc\u001b[0m\u001b[0;34m,\u001b[0m\u001b[0;34m\u001b[0m\u001b[0;34m\u001b[0m\u001b[0m\n\u001b[1;32m    224\u001b[0m             \u001b[0;34m\"r\"\u001b[0m\u001b[0;34m,\u001b[0m\u001b[0;34m\u001b[0m\u001b[0;34m\u001b[0m\u001b[0m\n",
      "\u001b[0;32m/net/store/nbp/projects/wd_ride_village/venvs/msw-bmbf_da/lib/python3.8/site-packages/pandas/io/common.py\u001b[0m in \u001b[0;36mget_handle\u001b[0;34m(path_or_buf, mode, encoding, compression, memory_map, is_text, errors, storage_options)\u001b[0m\n\u001b[1;32m    699\u001b[0m         \u001b[0;32mif\u001b[0m \u001b[0mioargs\u001b[0m\u001b[0;34m.\u001b[0m\u001b[0mencoding\u001b[0m \u001b[0;32mand\u001b[0m \u001b[0;34m\"b\"\u001b[0m \u001b[0;32mnot\u001b[0m \u001b[0;32min\u001b[0m \u001b[0mioargs\u001b[0m\u001b[0;34m.\u001b[0m\u001b[0mmode\u001b[0m\u001b[0;34m:\u001b[0m\u001b[0;34m\u001b[0m\u001b[0;34m\u001b[0m\u001b[0m\n\u001b[1;32m    700\u001b[0m             \u001b[0;31m# Encoding\u001b[0m\u001b[0;34m\u001b[0m\u001b[0;34m\u001b[0m\u001b[0;34m\u001b[0m\u001b[0m\n\u001b[0;32m--> 701\u001b[0;31m             handle = open(\n\u001b[0m\u001b[1;32m    702\u001b[0m                 \u001b[0mhandle\u001b[0m\u001b[0;34m,\u001b[0m\u001b[0;34m\u001b[0m\u001b[0;34m\u001b[0m\u001b[0m\n\u001b[1;32m    703\u001b[0m                 \u001b[0mioargs\u001b[0m\u001b[0;34m.\u001b[0m\u001b[0mmode\u001b[0m\u001b[0;34m,\u001b[0m\u001b[0;34m\u001b[0m\u001b[0;34m\u001b[0m\u001b[0m\n",
      "\u001b[0;31mFileNotFoundError\u001b[0m: [Errno 2] No such file or directory: '../data/colliders_old/Path_ MS Wissenschaft-TaxiDriver-5cea15f12a31476ca95089cf4a435a6a.csv'"
     ]
    }
   ],
   "source": [
    "uids = parts.index.tolist()\n",
    "\n",
    "# recordings progress bar\n",
    "colls_pbar = tqdm(\n",
    "    iterable=uids,\n",
    "    total=len(uids),\n",
    "    desc=\"🎯 colliders\",\n",
    "    dynamic_ncols=True,\n",
    "    bar_format=B_FORMAT,\n",
    ")\n",
    "\n",
    "checks = {\n",
    "    \"uid\": [],\n",
    "    \"N\": [],\n",
    "    \"%valOld\": [],\n",
    "    \"%valNew\": [],\n",
    "    \"%nullOld\": [],\n",
    "    \"%nullNew\": [],\n",
    "}\n",
    "\n",
    "for uid in colls_pbar:\n",
    "    cur = parts.loc[uid]\n",
    "    cond = cur.condition\n",
    "    file = f\"Path_ MS Wissenschaft-{cond}-{uid}.csv\"\n",
    "    df_part = pd.read_csv(f\"{PATH_OLD}/{file}\", keep_default_na=False)\n",
    "    df_part_new = pd.read_csv(f\"{PATH}/{file}\", keep_default_na=False)\n",
    "    N = df_part.index.size\n",
    "    perc_val_old = df_part[df_part.centerHit != \"null\"].index.size * 100 / N\n",
    "    perc_val_new = (\n",
    "        df_part_new[df_part_new.hitObjectNames != \"null\"].index.size * 100 / N\n",
    "    )\n",
    "    perc_nul_old = 100 - perc_val_old\n",
    "    perc_nul_new = 100 - perc_val_new\n",
    "\n",
    "    checks[\"uid\"].append(uid)\n",
    "    checks[\"N\"].append(N)\n",
    "    checks[\"%valOld\"].append(perc_val_old)\n",
    "    checks[\"%valNew\"].append(perc_val_new)\n",
    "    checks[\"%nullOld\"].append(perc_nul_old)\n",
    "    checks[\"%nullNew\"].append(perc_nul_new)"
   ]
  },
  {
   "cell_type": "code",
   "execution_count": 6,
   "id": "29a1e7a1-8c48-4516-b989-cdacaaeb3ce6",
   "metadata": {},
   "outputs": [
    {
     "data": {
      "text/html": [
       "<div>\n",
       "<style scoped>\n",
       "    .dataframe tbody tr th:only-of-type {\n",
       "        vertical-align: middle;\n",
       "    }\n",
       "\n",
       "    .dataframe tbody tr th {\n",
       "        vertical-align: top;\n",
       "    }\n",
       "\n",
       "    .dataframe thead th {\n",
       "        text-align: right;\n",
       "    }\n",
       "</style>\n",
       "<table border=\"1\" class=\"dataframe\">\n",
       "  <thead>\n",
       "    <tr style=\"text-align: right;\">\n",
       "      <th></th>\n",
       "      <th>uid</th>\n",
       "      <th>N</th>\n",
       "      <th>%valOld</th>\n",
       "      <th>%valNew</th>\n",
       "      <th>%nullOld</th>\n",
       "      <th>%nullNew</th>\n",
       "    </tr>\n",
       "  </thead>\n",
       "  <tbody>\n",
       "    <tr>\n",
       "      <th>0</th>\n",
       "      <td>1890c7b8c5004f30bd551c8c83ff7392</td>\n",
       "      <td>2671</td>\n",
       "      <td>84.874579</td>\n",
       "      <td>97.978285</td>\n",
       "      <td>15.125421</td>\n",
       "      <td>2.021715</td>\n",
       "    </tr>\n",
       "    <tr>\n",
       "      <th>1</th>\n",
       "      <td>b2e4d0f90a74498e9f978fafb36e9960</td>\n",
       "      <td>2671</td>\n",
       "      <td>2.920255</td>\n",
       "      <td>99.625608</td>\n",
       "      <td>97.079745</td>\n",
       "      <td>0.374392</td>\n",
       "    </tr>\n",
       "    <tr>\n",
       "      <th>2</th>\n",
       "      <td>a3a133cbc9d4496eb0f1a366461f3bd5</td>\n",
       "      <td>2671</td>\n",
       "      <td>89.517035</td>\n",
       "      <td>88.843130</td>\n",
       "      <td>10.482965</td>\n",
       "      <td>11.156870</td>\n",
       "    </tr>\n",
       "    <tr>\n",
       "      <th>3</th>\n",
       "      <td>cf8bea70b941498a9a6859dff1b2d445</td>\n",
       "      <td>2671</td>\n",
       "      <td>1.085736</td>\n",
       "      <td>99.962561</td>\n",
       "      <td>98.914264</td>\n",
       "      <td>0.037439</td>\n",
       "    </tr>\n",
       "    <tr>\n",
       "      <th>4</th>\n",
       "      <td>1ab45d75eb2b4504a98fc6d8173e5130</td>\n",
       "      <td>2671</td>\n",
       "      <td>51.216773</td>\n",
       "      <td>63.796331</td>\n",
       "      <td>48.783227</td>\n",
       "      <td>36.203669</td>\n",
       "    </tr>\n",
       "    <tr>\n",
       "      <th>...</th>\n",
       "      <td>...</td>\n",
       "      <td>...</td>\n",
       "      <td>...</td>\n",
       "      <td>...</td>\n",
       "      <td>...</td>\n",
       "      <td>...</td>\n",
       "    </tr>\n",
       "    <tr>\n",
       "      <th>1145</th>\n",
       "      <td>eda9175e9e1d4153ac2ca3038b2ab008</td>\n",
       "      <td>2671</td>\n",
       "      <td>49.681767</td>\n",
       "      <td>97.416698</td>\n",
       "      <td>50.318233</td>\n",
       "      <td>2.583302</td>\n",
       "    </tr>\n",
       "    <tr>\n",
       "      <th>1146</th>\n",
       "      <td>b8c9e625f07444cc8d4a0fc245bab5dd</td>\n",
       "      <td>2671</td>\n",
       "      <td>56.720329</td>\n",
       "      <td>97.978285</td>\n",
       "      <td>43.279671</td>\n",
       "      <td>2.021715</td>\n",
       "    </tr>\n",
       "    <tr>\n",
       "      <th>1147</th>\n",
       "      <td>2cd78ad9a37945de9f8cfd5f81c42082</td>\n",
       "      <td>2671</td>\n",
       "      <td>10.819918</td>\n",
       "      <td>99.475852</td>\n",
       "      <td>89.180082</td>\n",
       "      <td>0.524148</td>\n",
       "    </tr>\n",
       "    <tr>\n",
       "      <th>1148</th>\n",
       "      <td>dba04b626e4c4c6e89aea4fb1f9cc32b</td>\n",
       "      <td>2671</td>\n",
       "      <td>83.639086</td>\n",
       "      <td>77.836016</td>\n",
       "      <td>16.360914</td>\n",
       "      <td>22.163984</td>\n",
       "    </tr>\n",
       "    <tr>\n",
       "      <th>1149</th>\n",
       "      <td>18ffb0abdc8642098c479380bfa533d1</td>\n",
       "      <td>2671</td>\n",
       "      <td>72.706851</td>\n",
       "      <td>86.184949</td>\n",
       "      <td>27.293149</td>\n",
       "      <td>13.815051</td>\n",
       "    </tr>\n",
       "  </tbody>\n",
       "</table>\n",
       "<p>1150 rows × 6 columns</p>\n",
       "</div>"
      ],
      "text/plain": [
       "                                   uid     N    %valOld    %valNew   %nullOld  \\\n",
       "0     1890c7b8c5004f30bd551c8c83ff7392  2671  84.874579  97.978285  15.125421   \n",
       "1     b2e4d0f90a74498e9f978fafb36e9960  2671   2.920255  99.625608  97.079745   \n",
       "2     a3a133cbc9d4496eb0f1a366461f3bd5  2671  89.517035  88.843130  10.482965   \n",
       "3     cf8bea70b941498a9a6859dff1b2d445  2671   1.085736  99.962561  98.914264   \n",
       "4     1ab45d75eb2b4504a98fc6d8173e5130  2671  51.216773  63.796331  48.783227   \n",
       "...                                ...   ...        ...        ...        ...   \n",
       "1145  eda9175e9e1d4153ac2ca3038b2ab008  2671  49.681767  97.416698  50.318233   \n",
       "1146  b8c9e625f07444cc8d4a0fc245bab5dd  2671  56.720329  97.978285  43.279671   \n",
       "1147  2cd78ad9a37945de9f8cfd5f81c42082  2671  10.819918  99.475852  89.180082   \n",
       "1148  dba04b626e4c4c6e89aea4fb1f9cc32b  2671  83.639086  77.836016  16.360914   \n",
       "1149  18ffb0abdc8642098c479380bfa533d1  2671  72.706851  86.184949  27.293149   \n",
       "\n",
       "       %nullNew  \n",
       "0      2.021715  \n",
       "1      0.374392  \n",
       "2     11.156870  \n",
       "3      0.037439  \n",
       "4     36.203669  \n",
       "...         ...  \n",
       "1145   2.583302  \n",
       "1146   2.021715  \n",
       "1147   0.524148  \n",
       "1148  22.163984  \n",
       "1149  13.815051  \n",
       "\n",
       "[1150 rows x 6 columns]"
      ]
     },
     "execution_count": 6,
     "metadata": {},
     "output_type": "execute_result"
    }
   ],
   "source": [
    "checks = pd.DataFrame(checks)\n",
    "checks = checks.set_index(\"uid\")\n",
    "checks"
   ]
  },
  {
   "cell_type": "code",
   "execution_count": 7,
   "id": "c3b59329-188f-451c-b3e7-f73d7fece599",
   "metadata": {},
   "outputs": [
    {
     "data": {
      "text/plain": [
       "count    1150.000000\n",
       "mean       50.981818\n",
       "std        28.359037\n",
       "min         0.000000\n",
       "25%        27.190191\n",
       "50%        56.813927\n",
       "75%        75.131037\n",
       "max        99.737926\n",
       "Name: %valOld, dtype: float64"
      ]
     },
     "execution_count": 7,
     "metadata": {},
     "output_type": "execute_result"
    }
   ],
   "source": [
    "checks[\"%valOld\"].describe()"
   ]
  },
  {
   "cell_type": "code",
   "execution_count": 8,
   "id": "e69c0150-95d0-4ef3-b27f-866b816fff83",
   "metadata": {},
   "outputs": [
    {
     "data": {
      "text/plain": [
       "count    1150.000000\n",
       "mean       88.397734\n",
       "std        11.929235\n",
       "min        43.579184\n",
       "25%        81.701610\n",
       "50%        92.736803\n",
       "75%        97.903407\n",
       "max       100.000000\n",
       "Name: %valNew, dtype: float64"
      ]
     },
     "execution_count": 8,
     "metadata": {},
     "output_type": "execute_result"
    }
   ],
   "source": [
    "checks[\"%valNew\"].describe()"
   ]
  },
  {
   "cell_type": "code",
   "execution_count": 9,
   "id": "be1ca5a3-8354-4ce6-9e92-43fa7d348841",
   "metadata": {},
   "outputs": [
    {
     "data": {
      "text/plain": [
       "count    1150.000000\n",
       "mean       49.018182\n",
       "std        28.359037\n",
       "min         0.262074\n",
       "25%        24.868963\n",
       "50%        43.186073\n",
       "75%        72.809809\n",
       "max       100.000000\n",
       "Name: %nullOld, dtype: float64"
      ]
     },
     "execution_count": 9,
     "metadata": {},
     "output_type": "execute_result"
    }
   ],
   "source": [
    "checks[\"%nullOld\"].describe()"
   ]
  },
  {
   "cell_type": "code",
   "execution_count": 10,
   "id": "ab2ec4f9-3e76-4ba1-8c4b-e2ad40f27885",
   "metadata": {},
   "outputs": [
    {
     "data": {
      "text/plain": [
       "count    1150.000000\n",
       "mean       11.602266\n",
       "std        11.929235\n",
       "min         0.000000\n",
       "25%         2.096593\n",
       "50%         7.263197\n",
       "75%        18.298390\n",
       "max        56.420816\n",
       "Name: %nullNew, dtype: float64"
      ]
     },
     "execution_count": 10,
     "metadata": {},
     "output_type": "execute_result"
    }
   ],
   "source": [
    "checks[\"%nullNew\"].describe()"
   ]
  },
  {
   "cell_type": "code",
   "execution_count": 12,
   "id": "57fb0f09-266a-4ebe-b9a9-1d67c8f69b65",
   "metadata": {},
   "outputs": [
    {
     "data": {
      "image/png": "[encoded data removed]",
      "text/plain": [
       "<Figure size 720x504 with 1 Axes>"
      ]
     },
     "metadata": {
      "needs_background": "light"
     },
     "output_type": "display_data"
    }
   ],
   "source": [
    "checks[[\"%valNew\", \"%valOld\"]].plot.hist(figsize=(10, 7), alpha=0.5, bins=10)\n",
    "plt.show()"
   ]
  }
 ],
 "metadata": {
  "kernelspec": {
   "display_name": "Python (msw-bmbf_da)",
   "language": "python",
   "name": "msw-bmbf_da"
  },
  "language_info": {
   "codemirror_mode": {
    "name": "ipython",
    "version": 3
   },
   "file_extension": ".py",
   "mimetype": "text/x-python",
   "name": "python",
   "nbconvert_exporter": "python",
   "pygments_lexer": "ipython3",
   "version": "3.8.10"
  },
  "widgets": {
   "application/vnd.jupyter.widget-state+json": {
    "state": {
     "1405d4a397ef45e7911ba2f08e47f9fc": {
      "model_module": "@jupyter-widgets/controls",
      "model_module_version": "1.5.0",
      "model_name": "FloatProgressModel",
      "state": {
       "bar_style": "danger",
       "layout": "IPY_MODEL_611940ae4ce4400daa25b304ab3cdbc5",
       "max": 24356,
       "style": "IPY_MODEL_c664cb55fd074ffa8e136a1272f53503",
       "value": 7
      }
     },
     "56e8045a24324b4b84c786328bfa0cfd": {
      "model_module": "@jupyter-widgets/controls",
      "model_module_version": "1.5.0",
      "model_name": "HBoxModel",
      "state": {
       "children": [
        "IPY_MODEL_b2a7fcacef964ca0bd2a6874466fed08",
        "IPY_MODEL_1405d4a397ef45e7911ba2f08e47f9fc",
        "IPY_MODEL_db2f62e5c77e40d7b37ca4f41a99c048"
       ],
       "layout": "IPY_MODEL_ef3c9106236b4269a9dc7d885fb97471"
      }
     },
     "57add48af9ee4ead8f8c9e1870b1d7e3": {
      "model_module": "@jupyter-widgets/base",
      "model_module_version": "1.2.0",
      "model_name": "LayoutModel",
      "state": {}
     },
     "611940ae4ce4400daa25b304ab3cdbc5": {
      "model_module": "@jupyter-widgets/base",
      "model_module_version": "1.2.0",
      "model_name": "LayoutModel",
      "state": {
       "flex": "2"
      }
     },
     "79e207d437d94e7f83b5bc5182a02035": {
      "model_module": "@jupyter-widgets/base",
      "model_module_version": "1.2.0",
      "model_name": "LayoutModel",
      "state": {}
     },
     "8615552481094c6fb9e198144a1eba73": {
      "model_module": "@jupyter-widgets/controls",
      "model_module_version": "1.5.0",
      "model_name": "DescriptionStyleModel",
      "state": {
       "description_width": ""
      }
     },
     "b2a7fcacef964ca0bd2a6874466fed08": {
      "model_module": "@jupyter-widgets/controls",
      "model_module_version": "1.5.0",
      "model_name": "HTMLModel",
      "state": {
       "layout": "IPY_MODEL_79e207d437d94e7f83b5bc5182a02035",
       "style": "IPY_MODEL_e066cf1e07824c8ea975ed1dc4f8221d",
       "value": "📄 7 of 24356 🎯 colliders processed: "
      }
     },
     "c664cb55fd074ffa8e136a1272f53503": {
      "model_module": "@jupyter-widgets/controls",
      "model_module_version": "1.5.0",
      "model_name": "ProgressStyleModel",
      "state": {
       "description_width": ""
      }
     },
     "db2f62e5c77e40d7b37ca4f41a99c048": {
      "model_module": "@jupyter-widgets/controls",
      "model_module_version": "1.5.0",
      "model_name": "HTMLModel",
      "state": {
       "layout": "IPY_MODEL_57add48af9ee4ead8f8c9e1870b1d7e3",
       "style": "IPY_MODEL_8615552481094c6fb9e198144a1eba73",
       "value": " \n              0% ⏱️00:00 ⏳41:55 ⚙️ 9.68it/s"
      }
     },
     "e066cf1e07824c8ea975ed1dc4f8221d": {
      "model_module": "@jupyter-widgets/controls",
      "model_module_version": "1.5.0",
      "model_name": "DescriptionStyleModel",
      "state": {
       "description_width": ""
      }
     },
     "ef3c9106236b4269a9dc7d885fb97471": {
      "model_module": "@jupyter-widgets/base",
      "model_module_version": "1.2.0",
      "model_name": "LayoutModel",
      "state": {
       "display": "inline-flex",
       "flex_flow": "row wrap",
       "width": "100%"
      }
     }
    },
    "version_major": 2,
    "version_minor": 0
   }
  }
 },
 "nbformat": 4,
 "nbformat_minor": 5
}
