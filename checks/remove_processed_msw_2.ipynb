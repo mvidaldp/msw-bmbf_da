{
 "cells": [
  {
   "cell_type": "code",
   "execution_count": 1,
   "id": "ee9a7ef5-0829-4cb7-86be-bac86725b8ba",
   "metadata": {},
   "outputs": [],
   "source": [
    "import os"
   ]
  },
  {
   "cell_type": "code",
   "execution_count": 2,
   "id": "147430ce-1f8f-4bea-a205-b57f3e77efc7",
   "metadata": {},
   "outputs": [],
   "source": [
    "files = os.listdir(\"../data/msw_progress/CsvData\")\n",
    "\n",
    "for f in files:  # iterate over files\n",
    "    # remove hidden/config files and folders\n",
    "    if not f.endswith(\".csv\"):\n",
    "        files.remove(f)\n",
    "\n",
    "uids_csv = [f.split(\"-\")[2].split(\".\")[0] for f in files]"
   ]
  },
  {
   "cell_type": "code",
   "execution_count": 3,
   "id": "41543bbc-55f6-46ea-af49-12107cdacab6",
   "metadata": {},
   "outputs": [],
   "source": [
    "files_exp = os.listdir(\"../data/msw_progress/ExperimentData\")\n",
    "\n",
    "for f in files_exp:  # iterate over files\n",
    "    # remove hidden/config files and folders\n",
    "    if not f.endswith(\".raw\"):\n",
    "        files_exp.remove(f)\n",
    "\n",
    "uids_exp = [f.split(\"-\")[2].split(\".\")[0] for f in files_exp]"
   ]
  },
  {
   "cell_type": "code",
   "execution_count": 4,
   "id": "e21a83d5-d87d-4a46-ad3d-21a15cba52be",
   "metadata": {},
   "outputs": [],
   "source": [
    "files_eve = os.listdir(\"../data/msw_progress/EventData\")\n",
    "\n",
    "for f in files_eve:  # iterate over files\n",
    "    # remove hidden/config files and folders\n",
    "    if not f.endswith(\".bin\"):\n",
    "        files_eve.remove(f)\n",
    "\n",
    "uids_eve = [f.split(\"-\")[2].split(\".\")[0] for f in files_eve]"
   ]
  },
  {
   "cell_type": "code",
   "execution_count": 5,
   "id": "33489acb-381d-4ed4-bd84-52ab0c557e57",
   "metadata": {},
   "outputs": [
    {
     "name": "stdout",
     "output_type": "stream",
     "text": [
      "17829\n",
      "21712\n",
      "21712\n"
     ]
    }
   ],
   "source": [
    "print(len(uids_csv))\n",
    "print(len(uids_exp))\n",
    "print(len(uids_eve))"
   ]
  },
  {
   "cell_type": "code",
   "execution_count": 6,
   "id": "abe3c34e-a993-4489-8b9c-64f658e1f99d",
   "metadata": {},
   "outputs": [],
   "source": [
    "csv = set(uids_csv)\n",
    "exp = set(uids_exp)\n",
    "eve = set(uids_eve)"
   ]
  },
  {
   "cell_type": "code",
   "execution_count": 7,
   "id": "ad637958-f881-4e77-9e6e-ba8c306acc33",
   "metadata": {},
   "outputs": [],
   "source": [
    "diff_exp = exp - csv\n",
    "diff_eve = eve - csv\n",
    "diff = diff_exp - diff_eve"
   ]
  },
  {
   "cell_type": "code",
   "execution_count": 8,
   "id": "ff83c680-5a0d-4a07-89d6-3c42a2b152cb",
   "metadata": {
    "tags": []
   },
   "outputs": [
    {
     "data": {
      "text/plain": [
       "0"
      ]
     },
     "execution_count": 8,
     "metadata": {},
     "output_type": "execute_result"
    }
   ],
   "source": [
    "len(diff)"
   ]
  },
  {
   "cell_type": "code",
   "execution_count": 10,
   "id": "ccd748f5-506c-4a24-b526-ac5aef49278d",
   "metadata": {},
   "outputs": [
    {
     "name": "stdout",
     "output_type": "stream",
     "text": [
      "3883\n",
      "3883\n"
     ]
    }
   ],
   "source": [
    "print(len(diff_exp))\n",
    "print(len(diff_eve))"
   ]
  },
  {
   "cell_type": "code",
   "execution_count": 11,
   "id": "88d9956b-4c45-47d7-a5da-9c5c2ef3252b",
   "metadata": {},
   "outputs": [],
   "source": [
    "# remove already processed experiment files\n",
    "for f in files_exp:\n",
    "    uid = f.split(\"-\")[2].split(\".\")[0]\n",
    "    if uid in csv:\n",
    "        os.remove(f\"../data/msw_progress/ExperimentData/{f}\")"
   ]
  },
  {
   "cell_type": "code",
   "execution_count": 12,
   "id": "b46a1e6e-3f2d-45f4-9e91-e34bc4879b40",
   "metadata": {},
   "outputs": [
    {
     "data": {
      "text/plain": [
       "3883"
      ]
     },
     "execution_count": 12,
     "metadata": {},
     "output_type": "execute_result"
    }
   ],
   "source": [
    "# check result\n",
    "files_exp = os.listdir(\"../data/msw_progress/ExperimentData\")\n",
    "\n",
    "for f in files_exp:  # iterate over files\n",
    "    # remove hidden/config files and folders\n",
    "    if not f.endswith(\".raw\"):\n",
    "        files_exp.remove(f)\n",
    "\n",
    "uids_exp = [f.split(\"-\")[2].split(\".\")[0] for f in files_exp]\n",
    "len(uids_exp)"
   ]
  },
  {
   "cell_type": "code",
   "execution_count": 13,
   "id": "46334312-a757-4858-85c1-bf7cb28520b2",
   "metadata": {},
   "outputs": [],
   "source": [
    "# remove already processed event files\n",
    "for f in files_eve:\n",
    "    uid = f.split(\"-\")[2].split(\".\")[0]\n",
    "    if uid in csv:\n",
    "        os.remove(f\"../data/msw_progress/EventData/{f}\")"
   ]
  },
  {
   "cell_type": "code",
   "execution_count": 14,
   "id": "84ed9272-be76-4f47-903e-d57e0c866f39",
   "metadata": {},
   "outputs": [
    {
     "data": {
      "text/plain": [
       "3883"
      ]
     },
     "execution_count": 14,
     "metadata": {},
     "output_type": "execute_result"
    }
   ],
   "source": [
    "# check result\n",
    "files_exp = os.listdir(\"../data/msw_progress/EventData\")\n",
    "\n",
    "for f in files_exp:  # iterate over files\n",
    "    # remove hidden/config files and folders\n",
    "    if not f.endswith(\".bin\"):\n",
    "        files_exp.remove(f)\n",
    "\n",
    "uids_exp = [f.split(\"-\")[2].split(\".\")[0] for f in files_exp]\n",
    "len(uids_exp)"
   ]
  }
 ],
 "metadata": {
  "kernelspec": {
   "display_name": "Python (lsl_eeg)",
   "language": "python",
   "name": "lsl_eeg"
  },
  "language_info": {
   "codemirror_mode": {
    "name": "ipython",
    "version": 3
   },
   "file_extension": ".py",
   "mimetype": "text/x-python",
   "name": "python",
   "nbconvert_exporter": "python",
   "pygments_lexer": "ipython3",
   "version": "3.8.10"
  },
  "widgets": {
   "application/vnd.jupyter.widget-state+json": {
    "state": {},
    "version_major": 2,
    "version_minor": 0
   }
  }
 },
 "nbformat": 4,
 "nbformat_minor": 5
}
