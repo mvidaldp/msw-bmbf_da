{
 "cells": [
  {
   "cell_type": "code",
   "execution_count": 1,
   "id": "ee9a7ef5-0829-4cb7-86be-bac86725b8ba",
   "metadata": {},
   "outputs": [],
   "source": [
    "import os"
   ]
  },
  {
   "cell_type": "code",
   "execution_count": 2,
   "id": "147430ce-1f8f-4bea-a205-b57f3e77efc7",
   "metadata": {},
   "outputs": [],
   "source": [
    "files = os.listdir(\"./data/raw/msw/ExperimentData\")\n",
    "\n",
    "for f in files:  # iterate over files\n",
    "    # remove hidden/config files and folders\n",
    "    if not f.endswith(\".raw\"):\n",
    "        files.remove(f)\n",
    "        \n",
    "uids_exp = [f.split(\"-\")[2].split(\".\")[0] for f in files]"
   ]
  },
  {
   "cell_type": "code",
   "execution_count": 3,
   "id": "e21a83d5-d87d-4a46-ad3d-21a15cba52be",
   "metadata": {},
   "outputs": [],
   "source": [
    "files = os.listdir(\"./data/raw/msw/EventData\")\n",
    "\n",
    "for f in files:  # iterate over files\n",
    "    # remove hidden/config files and folders\n",
    "    if not f.endswith(\".bin\"):\n",
    "        files.remove(f)\n",
    "        \n",
    "uids_eve = [f.split(\"-\")[2].split(\".\")[0] for f in files]"
   ]
  },
  {
   "cell_type": "code",
   "execution_count": 4,
   "id": "33489acb-381d-4ed4-bd84-52ab0c557e57",
   "metadata": {},
   "outputs": [
    {
     "name": "stdout",
     "output_type": "stream",
     "text": [
      "24336\n",
      "24336\n"
     ]
    }
   ],
   "source": [
    "print(len(uids_exp))\n",
    "print(len(uids_eve))"
   ]
  },
  {
   "cell_type": "code",
   "execution_count": 5,
   "id": "abe3c34e-a993-4489-8b9c-64f658e1f99d",
   "metadata": {},
   "outputs": [],
   "source": [
    "exp = set(uids_exp)\n",
    "eve = set(uids_eve)"
   ]
  },
  {
   "cell_type": "code",
   "execution_count": 6,
   "id": "ad637958-f881-4e77-9e6e-ba8c306acc33",
   "metadata": {},
   "outputs": [
    {
     "data": {
      "text/plain": [
       "set()"
      ]
     },
     "execution_count": 6,
     "metadata": {},
     "output_type": "execute_result"
    }
   ],
   "source": [
    "diff_a = exp - eve\n",
    "diff_a"
   ]
  },
  {
   "cell_type": "code",
   "execution_count": 7,
   "id": "ff83c680-5a0d-4a07-89d6-3c42a2b152cb",
   "metadata": {},
   "outputs": [
    {
     "data": {
      "text/plain": [
       "set()"
      ]
     },
     "execution_count": 7,
     "metadata": {},
     "output_type": "execute_result"
    }
   ],
   "source": [
    "diff_b = eve - exp\n",
    "diff_b"
   ]
  },
  {
   "cell_type": "code",
   "execution_count": 8,
   "id": "88d9956b-4c45-47d7-a5da-9c5c2ef3252b",
   "metadata": {},
   "outputs": [],
   "source": [
    "for f in files:\n",
    "    uid = f.split(\"-\")[2].split(\".\")[0]\n",
    "    if uid in diff_b:\n",
    "        os.remove(f\"./data/raw/msw/EventData/{f}\")\n",
    "        print(f\"Removed: {f}\")"
   ]
  }
 ],
 "metadata": {
  "kernelspec": {
   "display_name": "Python (lsl_eeg)",
   "language": "python",
   "name": "lsl_eeg"
  },
  "language_info": {
   "codemirror_mode": {
    "name": "ipython",
    "version": 3
   },
   "file_extension": ".py",
   "mimetype": "text/x-python",
   "name": "python",
   "nbconvert_exporter": "python",
   "pygments_lexer": "ipython3",
   "version": "3.8.10"
  },
  "widgets": {
   "application/vnd.jupyter.widget-state+json": {
    "state": {},
    "version_major": 2,
    "version_minor": 0
   }
  }
 },
 "nbformat": 4,
 "nbformat_minor": 5
}
