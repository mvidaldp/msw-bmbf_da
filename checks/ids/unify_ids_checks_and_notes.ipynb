{
 "cells": [
  {
   "cell_type": "code",
   "execution_count": 1,
   "id": "3bf9945c-bf38-463f-b8d6-8fdb2b737aeb",
   "metadata": {},
   "outputs": [],
   "source": [
    "import os\n",
    "\n",
    "import pandas as pd"
   ]
  },
  {
   "cell_type": "markdown",
   "id": "6a7b7bcc-42eb-494c-8107-4373c70a14da",
   "metadata": {},
   "source": [
    "The following BMBF (left and right) recordings had `EventData` but no matching `ExperimentData`."
   ]
  },
  {
   "cell_type": "code",
   "execution_count": 2,
   "id": "30e830e8-7399-45bc-97d6-7e031532de1e",
   "metadata": {},
   "outputs": [],
   "source": [
    "left = [\n",
    "    \"0cadb84adb8c4d7e8dad99e93fd63c92\",\n",
    "    \"0cd501320bd841758f204e43ce00362f\",\n",
    "    \"267d95a19e8147eca7b2080ba596cba1\",\n",
    "    \"2e2ce16f18514b0080db2e9dfbd8d919\",\n",
    "    \"4159d09e5c524e8c85e1ac40796898e4\",\n",
    "    \"4bb7262bc74d41c0ad80df8aa1b4fdcd\",\n",
    "    \"5caba490f12a49fd91013d09ff416e79\",\n",
    "    \"61a79ce907f14fd2b9e06bf69d420085\",\n",
    "    \"7412abdcc0104860bfde9e8d1ce70af9\",\n",
    "    \"8110573ec3554563a8a28e280992430b\",\n",
    "    \"98366ddf797b4785b0892ff9a9fbbafd\",\n",
    "    \"9950350e2b204ee4bf6b88fb06900040\",\n",
    "    \"9efb284a2e0341c983268338dfd53e92\",\n",
    "    \"aaf4193bd94c47d28982ee9509486e84\",\n",
    "    \"bd58ebe70fa44bafad76ecacca28f2b0\",\n",
    "    \"c227fc73d82244de8a37f3592161a53e\",\n",
    "    \"c76ddcb99c9940ecaf8d7a0fbef6bdb2\",\n",
    "    \"c7ffb69015b94c819d131095ffd09568\",\n",
    "    \"da26f4ead610421785f7fd0cda87dcfe\",\n",
    "    \"e7af7fc5e75c43809a96ae4e1f0e730e\",\n",
    "]\n",
    "right = [\n",
    "    \"0cd501320bd841758f204e43ce00362f\",\n",
    "    \"267d95a19e8147eca7b2080ba596cba1\",\n",
    "    \"2e2ce16f18514b0080db2e9dfbd8d919\",\n",
    "    \"4159d09e5c524e8c85e1ac40796898e4\",\n",
    "    \"4bb7262bc74d41c0ad80df8aa1b4fdcd\",\n",
    "    \"7412abdcc0104860bfde9e8d1ce70af9\",\n",
    "    \"98366ddf797b4785b0892ff9a9fbbafd\",\n",
    "    \"9950350e2b204ee4bf6b88fb06900040\",\n",
    "    \"bd58ebe70fa44bafad76ecacca28f2b0\",\n",
    "    \"c227fc73d82244de8a37f3592161a53e\",\n",
    "    \"c76ddcb99c9940ecaf8d7a0fbef6bdb2\",\n",
    "    \"c7ffb69015b94c819d131095ffd09568\",\n",
    "    \"da26f4ead610421785f7fd0cda87dcfe\",\n",
    "    \"e7af7fc5e75c43809a96ae4e1f0e730e\",\n",
    "]"
   ]
  },
  {
   "cell_type": "code",
   "execution_count": 3,
   "id": "739deb2a-f49a-40db-8b61-bf7de45dce64",
   "metadata": {},
   "outputs": [
    {
     "name": "stdout",
     "output_type": "stream",
     "text": [
      "TOTAL left: 20\n",
      "TOTAL right: 14\n",
      "Duplicated ID => 0cd501320bd841758f204e43ce00362f\n",
      "Duplicated ID => 267d95a19e8147eca7b2080ba596cba1\n",
      "Duplicated ID => 2e2ce16f18514b0080db2e9dfbd8d919\n",
      "Duplicated ID => 4159d09e5c524e8c85e1ac40796898e4\n",
      "Duplicated ID => 4bb7262bc74d41c0ad80df8aa1b4fdcd\n",
      "Duplicated ID => 7412abdcc0104860bfde9e8d1ce70af9\n",
      "Duplicated ID => 98366ddf797b4785b0892ff9a9fbbafd\n",
      "Duplicated ID => 9950350e2b204ee4bf6b88fb06900040\n",
      "Duplicated ID => bd58ebe70fa44bafad76ecacca28f2b0\n",
      "Duplicated ID => c227fc73d82244de8a37f3592161a53e\n",
      "Duplicated ID => c76ddcb99c9940ecaf8d7a0fbef6bdb2\n",
      "Duplicated ID => c7ffb69015b94c819d131095ffd09568\n",
      "Duplicated ID => da26f4ead610421785f7fd0cda87dcfe\n",
      "Duplicated ID => e7af7fc5e75c43809a96ae4e1f0e730e\n",
      "TOTAL left duplicated: 14\n"
     ]
    }
   ],
   "source": [
    "print(f\"TOTAL left: {len(left)}\")\n",
    "print(f\"TOTAL right: {len(right)}\")\n",
    "\n",
    "dup_left = []\n",
    "for l in left:\n",
    "    if l in right:\n",
    "        print(f\"Duplicated ID => {l}\")\n",
    "        dup_left.append(l)\n",
    "\n",
    "print(f\"TOTAL left duplicated: {len(dup_left)}\")"
   ]
  },
  {
   "cell_type": "code",
   "execution_count": 4,
   "id": "900bc5bb-5117-4257-8a1e-8aec79dc3931",
   "metadata": {},
   "outputs": [
    {
     "name": "stdout",
     "output_type": "stream",
     "text": [
      "TOTAL left: 20\n",
      "TOTAL right: 14\n",
      "Duplicated ID => 0cd501320bd841758f204e43ce00362f\n",
      "Duplicated ID => 267d95a19e8147eca7b2080ba596cba1\n",
      "Duplicated ID => 2e2ce16f18514b0080db2e9dfbd8d919\n",
      "Duplicated ID => 4159d09e5c524e8c85e1ac40796898e4\n",
      "Duplicated ID => 4bb7262bc74d41c0ad80df8aa1b4fdcd\n",
      "Duplicated ID => 7412abdcc0104860bfde9e8d1ce70af9\n",
      "Duplicated ID => 98366ddf797b4785b0892ff9a9fbbafd\n",
      "Duplicated ID => 9950350e2b204ee4bf6b88fb06900040\n",
      "Duplicated ID => bd58ebe70fa44bafad76ecacca28f2b0\n",
      "Duplicated ID => c227fc73d82244de8a37f3592161a53e\n",
      "Duplicated ID => c76ddcb99c9940ecaf8d7a0fbef6bdb2\n",
      "Duplicated ID => c7ffb69015b94c819d131095ffd09568\n",
      "Duplicated ID => da26f4ead610421785f7fd0cda87dcfe\n",
      "Duplicated ID => e7af7fc5e75c43809a96ae4e1f0e730e\n",
      "TOTAL right duplicated: 14\n"
     ]
    }
   ],
   "source": [
    "print(f\"TOTAL left: {len(left)}\")\n",
    "print(f\"TOTAL right: {len(right)}\")\n",
    "\n",
    "dup_left = []\n",
    "for r in right:\n",
    "    if r in left:\n",
    "        print(f\"Duplicated ID => {r}\")\n",
    "        dup_left.append(l)\n",
    "\n",
    "print(f\"TOTAL right duplicated: {len(dup_left)}\")"
   ]
  },
  {
   "cell_type": "markdown",
   "id": "cfd08730-5069-4f4f-8d2c-6050fefb2b10",
   "metadata": {},
   "source": [
    "Interestingly, 14 out of 20 `EventData` recording ids were generated on both left and right sides without matching `ExperimentData` recording."
   ]
  },
  {
   "cell_type": "code",
   "execution_count": 5,
   "id": "d521afda-96fd-472a-bd4b-b24ddbb0430b",
   "metadata": {},
   "outputs": [
    {
     "data": {
      "text/plain": [
       "['bmbf_left_uids.csv',\n",
       " 'bmbf_right_uids.csv',\n",
       " 'msw_left_uids.csv',\n",
       " 'msw_right_uids.csv']"
      ]
     },
     "execution_count": 5,
     "metadata": {},
     "output_type": "execute_result"
    }
   ],
   "source": [
    "# get files to merge ids\n",
    "path = \"../data/ids\"\n",
    "\n",
    "files = os.listdir(path)\n",
    "files"
   ]
  },
  {
   "cell_type": "code",
   "execution_count": 6,
   "id": "be7ec37d-631c-4cda-b418-03916c55f857",
   "metadata": {},
   "outputs": [
    {
     "data": {
      "text/html": [
       "<div>\n",
       "<style scoped>\n",
       "    .dataframe tbody tr th:only-of-type {\n",
       "        vertical-align: middle;\n",
       "    }\n",
       "\n",
       "    .dataframe tbody tr th {\n",
       "        vertical-align: top;\n",
       "    }\n",
       "\n",
       "    .dataframe thead th {\n",
       "        text-align: right;\n",
       "    }\n",
       "</style>\n",
       "<table border=\"1\" class=\"dataframe\">\n",
       "  <thead>\n",
       "    <tr style=\"text-align: right;\">\n",
       "      <th></th>\n",
       "      <th>id</th>\n",
       "      <th>created</th>\n",
       "      <th>expo</th>\n",
       "      <th>side</th>\n",
       "    </tr>\n",
       "  </thead>\n",
       "  <tbody>\n",
       "    <tr>\n",
       "      <th>0</th>\n",
       "      <td>155e035d01544c8b82152d6831787980</td>\n",
       "      <td>01.06.2019 11:38</td>\n",
       "      <td>MSW</td>\n",
       "      <td>left</td>\n",
       "    </tr>\n",
       "    <tr>\n",
       "      <th>1</th>\n",
       "      <td>0382fc9d07994096ae4853e8b177f3ca</td>\n",
       "      <td>01.06.2019 12:02</td>\n",
       "      <td>MSW</td>\n",
       "      <td>left</td>\n",
       "    </tr>\n",
       "    <tr>\n",
       "      <th>0</th>\n",
       "      <td>9a7cf99094a7446eab3d27841d672fd5</td>\n",
       "      <td>01.06.2019 12:02</td>\n",
       "      <td>MSW</td>\n",
       "      <td>right</td>\n",
       "    </tr>\n",
       "    <tr>\n",
       "      <th>1</th>\n",
       "      <td>ddd3ef19c983441db648c17d46595a52</td>\n",
       "      <td>01.06.2019 12:10</td>\n",
       "      <td>MSW</td>\n",
       "      <td>right</td>\n",
       "    </tr>\n",
       "    <tr>\n",
       "      <th>2</th>\n",
       "      <td>c226385e176a49c8af9a854554c3b403</td>\n",
       "      <td>01.06.2019 12:11</td>\n",
       "      <td>MSW</td>\n",
       "      <td>left</td>\n",
       "    </tr>\n",
       "    <tr>\n",
       "      <th>...</th>\n",
       "      <td>...</td>\n",
       "      <td>...</td>\n",
       "      <td>...</td>\n",
       "      <td>...</td>\n",
       "    </tr>\n",
       "    <tr>\n",
       "      <th>1136</th>\n",
       "      <td>6d04c2f469cb42a5bc3da098df4720eb</td>\n",
       "      <td>31.10.2019 16:26</td>\n",
       "      <td>BMBF</td>\n",
       "      <td>right</td>\n",
       "    </tr>\n",
       "    <tr>\n",
       "      <th>1095</th>\n",
       "      <td>6a86150f0826424c9d22eedffeca2e27</td>\n",
       "      <td>31.10.2019 18:36</td>\n",
       "      <td>BMBF</td>\n",
       "      <td>left</td>\n",
       "    </tr>\n",
       "    <tr>\n",
       "      <th>1137</th>\n",
       "      <td>62abc20d51b04f8abb93bc6823d59ee4</td>\n",
       "      <td>31.10.2019 18:36</td>\n",
       "      <td>BMBF</td>\n",
       "      <td>right</td>\n",
       "    </tr>\n",
       "    <tr>\n",
       "      <th>1096</th>\n",
       "      <td>aa3e2f14e2f94012aceed69128b40d21</td>\n",
       "      <td>31.10.2019 18:42</td>\n",
       "      <td>BMBF</td>\n",
       "      <td>left</td>\n",
       "    </tr>\n",
       "    <tr>\n",
       "      <th>1138</th>\n",
       "      <td>82ca3c6ee6484e4ba5e1eb58a6247429</td>\n",
       "      <td>31.10.2019 18:43</td>\n",
       "      <td>BMBF</td>\n",
       "      <td>right</td>\n",
       "    </tr>\n",
       "  </tbody>\n",
       "</table>\n",
       "<p>26572 rows × 4 columns</p>\n",
       "</div>"
      ],
      "text/plain": [
       "                                    id           created  expo   side\n",
       "0     155e035d01544c8b82152d6831787980  01.06.2019 11:38   MSW   left\n",
       "1     0382fc9d07994096ae4853e8b177f3ca  01.06.2019 12:02   MSW   left\n",
       "0     9a7cf99094a7446eab3d27841d672fd5  01.06.2019 12:02   MSW  right\n",
       "1     ddd3ef19c983441db648c17d46595a52  01.06.2019 12:10   MSW  right\n",
       "2     c226385e176a49c8af9a854554c3b403  01.06.2019 12:11   MSW   left\n",
       "...                                ...               ...   ...    ...\n",
       "1136  6d04c2f469cb42a5bc3da098df4720eb  31.10.2019 16:26  BMBF  right\n",
       "1095  6a86150f0826424c9d22eedffeca2e27  31.10.2019 18:36  BMBF   left\n",
       "1137  62abc20d51b04f8abb93bc6823d59ee4  31.10.2019 18:36  BMBF  right\n",
       "1096  aa3e2f14e2f94012aceed69128b40d21  31.10.2019 18:42  BMBF   left\n",
       "1138  82ca3c6ee6484e4ba5e1eb58a6247429  31.10.2019 18:43  BMBF  right\n",
       "\n",
       "[26572 rows x 4 columns]"
      ]
     },
     "metadata": {},
     "output_type": "display_data"
    }
   ],
   "source": [
    "df = pd.DataFrame()\n",
    "# merge uids in one df\n",
    "for f in files:\n",
    "    cur = pd.read_csv(f\"{path}/{f}\")\n",
    "    df = cur if df.index.size == 0 else df.append(cur)\n",
    "\n",
    "df = df.sort_values(\"created\")\n",
    "display(df)"
   ]
  },
  {
   "cell_type": "code",
   "execution_count": 7,
   "id": "7813ae2c-0b3a-4b84-9829-0a99b2eed554",
   "metadata": {},
   "outputs": [
    {
     "data": {
      "text/html": [
       "<div>\n",
       "<style scoped>\n",
       "    .dataframe tbody tr th:only-of-type {\n",
       "        vertical-align: middle;\n",
       "    }\n",
       "\n",
       "    .dataframe tbody tr th {\n",
       "        vertical-align: top;\n",
       "    }\n",
       "\n",
       "    .dataframe thead th {\n",
       "        text-align: right;\n",
       "    }\n",
       "</style>\n",
       "<table border=\"1\" class=\"dataframe\">\n",
       "  <thead>\n",
       "    <tr style=\"text-align: right;\">\n",
       "      <th></th>\n",
       "      <th>id</th>\n",
       "      <th>created</th>\n",
       "      <th>expo</th>\n",
       "      <th>side</th>\n",
       "    </tr>\n",
       "  </thead>\n",
       "  <tbody>\n",
       "  </tbody>\n",
       "</table>\n",
       "</div>"
      ],
      "text/plain": [
       "Empty DataFrame\n",
       "Columns: [id, created, expo, side]\n",
       "Index: []"
      ]
     },
     "execution_count": 7,
     "metadata": {},
     "output_type": "execute_result"
    }
   ],
   "source": [
    "# check for duplicates\n",
    "duplicated = df[df[\"id\"].duplicated() == True]\n",
    "duplicated"
   ]
  },
  {
   "cell_type": "code",
   "execution_count": 8,
   "id": "8798a4e5-a6e9-4c6f-89a0-239bcba98089",
   "metadata": {},
   "outputs": [
    {
     "name": "stdout",
     "output_type": "stream",
     "text": [
      "Length before duplicates check: 26572\n",
      "Length after duplicates check:  26572\n"
     ]
    }
   ],
   "source": [
    "# to be 100% sure\n",
    "print(f\"Length before duplicates check: {df.index.size}\")\n",
    "print(f\"Length after duplicates check:  {len(df.id.unique())}\")"
   ]
  },
  {
   "cell_type": "markdown",
   "id": "8dd81dad-1eaf-4a92-82e1-881adc742053",
   "metadata": {},
   "source": [
    "There are no duplicates (uids)"
   ]
  },
  {
   "cell_type": "code",
   "execution_count": 9,
   "id": "4d1898d1-4b94-47dc-8ae6-d3d07e4a6996",
   "metadata": {},
   "outputs": [
    {
     "data": {
      "text/html": [
       "<div>\n",
       "<style scoped>\n",
       "    .dataframe tbody tr th:only-of-type {\n",
       "        vertical-align: middle;\n",
       "    }\n",
       "\n",
       "    .dataframe tbody tr th {\n",
       "        vertical-align: top;\n",
       "    }\n",
       "\n",
       "    .dataframe thead th {\n",
       "        text-align: right;\n",
       "    }\n",
       "</style>\n",
       "<table border=\"1\" class=\"dataframe\">\n",
       "  <thead>\n",
       "    <tr style=\"text-align: right;\">\n",
       "      <th></th>\n",
       "      <th>created</th>\n",
       "      <th>expo</th>\n",
       "      <th>side</th>\n",
       "    </tr>\n",
       "    <tr>\n",
       "      <th>id</th>\n",
       "      <th></th>\n",
       "      <th></th>\n",
       "      <th></th>\n",
       "    </tr>\n",
       "  </thead>\n",
       "  <tbody>\n",
       "    <tr>\n",
       "      <th>155e035d01544c8b82152d6831787980</th>\n",
       "      <td>01.06.2019 11:38</td>\n",
       "      <td>MSW</td>\n",
       "      <td>left</td>\n",
       "    </tr>\n",
       "    <tr>\n",
       "      <th>0382fc9d07994096ae4853e8b177f3ca</th>\n",
       "      <td>01.06.2019 12:02</td>\n",
       "      <td>MSW</td>\n",
       "      <td>left</td>\n",
       "    </tr>\n",
       "    <tr>\n",
       "      <th>9a7cf99094a7446eab3d27841d672fd5</th>\n",
       "      <td>01.06.2019 12:02</td>\n",
       "      <td>MSW</td>\n",
       "      <td>right</td>\n",
       "    </tr>\n",
       "    <tr>\n",
       "      <th>ddd3ef19c983441db648c17d46595a52</th>\n",
       "      <td>01.06.2019 12:10</td>\n",
       "      <td>MSW</td>\n",
       "      <td>right</td>\n",
       "    </tr>\n",
       "    <tr>\n",
       "      <th>c226385e176a49c8af9a854554c3b403</th>\n",
       "      <td>01.06.2019 12:11</td>\n",
       "      <td>MSW</td>\n",
       "      <td>left</td>\n",
       "    </tr>\n",
       "    <tr>\n",
       "      <th>...</th>\n",
       "      <td>...</td>\n",
       "      <td>...</td>\n",
       "      <td>...</td>\n",
       "    </tr>\n",
       "    <tr>\n",
       "      <th>6d04c2f469cb42a5bc3da098df4720eb</th>\n",
       "      <td>31.10.2019 16:26</td>\n",
       "      <td>BMBF</td>\n",
       "      <td>right</td>\n",
       "    </tr>\n",
       "    <tr>\n",
       "      <th>6a86150f0826424c9d22eedffeca2e27</th>\n",
       "      <td>31.10.2019 18:36</td>\n",
       "      <td>BMBF</td>\n",
       "      <td>left</td>\n",
       "    </tr>\n",
       "    <tr>\n",
       "      <th>62abc20d51b04f8abb93bc6823d59ee4</th>\n",
       "      <td>31.10.2019 18:36</td>\n",
       "      <td>BMBF</td>\n",
       "      <td>right</td>\n",
       "    </tr>\n",
       "    <tr>\n",
       "      <th>aa3e2f14e2f94012aceed69128b40d21</th>\n",
       "      <td>31.10.2019 18:42</td>\n",
       "      <td>BMBF</td>\n",
       "      <td>left</td>\n",
       "    </tr>\n",
       "    <tr>\n",
       "      <th>82ca3c6ee6484e4ba5e1eb58a6247429</th>\n",
       "      <td>31.10.2019 18:43</td>\n",
       "      <td>BMBF</td>\n",
       "      <td>right</td>\n",
       "    </tr>\n",
       "  </tbody>\n",
       "</table>\n",
       "<p>26572 rows × 3 columns</p>\n",
       "</div>"
      ],
      "text/plain": [
       "                                           created  expo   side\n",
       "id                                                             \n",
       "155e035d01544c8b82152d6831787980  01.06.2019 11:38   MSW   left\n",
       "0382fc9d07994096ae4853e8b177f3ca  01.06.2019 12:02   MSW   left\n",
       "9a7cf99094a7446eab3d27841d672fd5  01.06.2019 12:02   MSW  right\n",
       "ddd3ef19c983441db648c17d46595a52  01.06.2019 12:10   MSW  right\n",
       "c226385e176a49c8af9a854554c3b403  01.06.2019 12:11   MSW   left\n",
       "...                                            ...   ...    ...\n",
       "6d04c2f469cb42a5bc3da098df4720eb  31.10.2019 16:26  BMBF  right\n",
       "6a86150f0826424c9d22eedffeca2e27  31.10.2019 18:36  BMBF   left\n",
       "62abc20d51b04f8abb93bc6823d59ee4  31.10.2019 18:36  BMBF  right\n",
       "aa3e2f14e2f94012aceed69128b40d21  31.10.2019 18:42  BMBF   left\n",
       "82ca3c6ee6484e4ba5e1eb58a6247429  31.10.2019 18:43  BMBF  right\n",
       "\n",
       "[26572 rows x 3 columns]"
      ]
     },
     "execution_count": 9,
     "metadata": {},
     "output_type": "execute_result"
    }
   ],
   "source": [
    "df = df.set_index(\"id\")\n",
    "df"
   ]
  },
  {
   "cell_type": "code",
   "execution_count": 10,
   "id": "470e9e87-c2fa-4e5c-8555-794cc5f122a3",
   "metadata": {},
   "outputs": [],
   "source": [
    "df.to_csv(\"../participants_full.csv\")"
   ]
  }
 ],
 "metadata": {
  "kernelspec": {
   "display_name": "Python (lsl_eeg)",
   "language": "python",
   "name": "lsl_eeg"
  },
  "language_info": {
   "codemirror_mode": {
    "name": "ipython",
    "version": 3
   },
   "file_extension": ".py",
   "mimetype": "text/x-python",
   "name": "python",
   "nbconvert_exporter": "python",
   "pygments_lexer": "ipython3",
   "version": "3.8.10"
  },
  "widgets": {
   "application/vnd.jupyter.widget-state+json": {
    "state": {},
    "version_major": 2,
    "version_minor": 0
   }
  }
 },
 "nbformat": 4,
 "nbformat_minor": 5
}
