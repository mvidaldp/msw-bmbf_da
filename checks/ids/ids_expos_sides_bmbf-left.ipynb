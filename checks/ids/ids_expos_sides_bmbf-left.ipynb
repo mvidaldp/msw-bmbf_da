{
 "cells": [
  {
   "cell_type": "code",
   "execution_count": 1,
   "id": "127d249a-62ec-496f-9b43-75d8fa75edd2",
   "metadata": {},
   "outputs": [],
   "source": [
    "import datetime\n",
    "import os\n",
    "\n",
    "import pandas as pd"
   ]
  },
  {
   "cell_type": "code",
   "execution_count": 2,
   "id": "e83cb741-7001-4289-9ba6-298792c2fd2e",
   "metadata": {},
   "outputs": [],
   "source": [
    "EXPO = \"BMBF\"\n",
    "SIDE = \"left\""
   ]
  },
  {
   "cell_type": "code",
   "execution_count": 3,
   "id": "d6d21d1e-20c4-4138-b324-a184a4925aa9",
   "metadata": {},
   "outputs": [],
   "source": [
    "path = \"./ExperimentData\"\n",
    "files_exp = os.listdir(path)\n",
    "created_exp = []\n",
    "\n",
    "for f in files_exp:  # iterate over files\n",
    "    # remove hidden/config files and folders\n",
    "    if not f.endswith(\".raw\"):\n",
    "        files_exp.remove(f)\n",
    "    else:\n",
    "        created = os.path.getmtime(f\"{path}/{f}\")  # creation timestamp\n",
    "        created = datetime.datetime.fromtimestamp(created)  # translate to dt\n",
    "        created = created.strftime(\"%d.%m.%Y %H:%M\")  # arrange it\n",
    "        created_exp.append(created)  # store it\n",
    "\n",
    "uids_exp = set([f.split(\"-\")[2].split(\".\")[0] for f in files_exp])"
   ]
  },
  {
   "cell_type": "code",
   "execution_count": 4,
   "id": "8faf9e63-69d9-4087-8d70-17fba6999340",
   "metadata": {},
   "outputs": [],
   "source": [
    "path = \"./EventData\"\n",
    "files_eve = os.listdir(path)\n",
    "created_eve = []\n",
    "\n",
    "for f in files_eve:  # iterate over files\n",
    "    # remove hidden/config files and folders\n",
    "    if not f.endswith(\".bin\"):\n",
    "        files_eve.remove(f)\n",
    "    else:\n",
    "        created = os.path.getmtime(f\"{path}/{f}\")  # creation timestamp\n",
    "        created = datetime.datetime.fromtimestamp(created)  # translate to dt\n",
    "        created = created.strftime(\"%d.%m.%Y %H:%M\")  # arrange it\n",
    "        created_eve.append(created)  # store it\n",
    "\n",
    "uids_eve = set([f.split(\"-\")[2].split(\".\")[0] for f in files_eve])"
   ]
  },
  {
   "cell_type": "code",
   "execution_count": 5,
   "id": "50e4a4b9-c822-44f3-bfd6-c4a446780220",
   "metadata": {},
   "outputs": [
    {
     "data": {
      "text/plain": [
       "set()"
      ]
     },
     "execution_count": 5,
     "metadata": {},
     "output_type": "execute_result"
    }
   ],
   "source": [
    "uids_exp - uids_eve"
   ]
  },
  {
   "cell_type": "code",
   "execution_count": 6,
   "id": "9f751120-299e-490d-bb30-036f557e0412",
   "metadata": {},
   "outputs": [
    {
     "data": {
      "text/plain": [
       "{'0cadb84adb8c4d7e8dad99e93fd63c92',\n",
       " '0cd501320bd841758f204e43ce00362f',\n",
       " '267d95a19e8147eca7b2080ba596cba1',\n",
       " '2e2ce16f18514b0080db2e9dfbd8d919',\n",
       " '4159d09e5c524e8c85e1ac40796898e4',\n",
       " '4bb7262bc74d41c0ad80df8aa1b4fdcd',\n",
       " '5caba490f12a49fd91013d09ff416e79',\n",
       " '61a79ce907f14fd2b9e06bf69d420085',\n",
       " '7412abdcc0104860bfde9e8d1ce70af9',\n",
       " '8110573ec3554563a8a28e280992430b',\n",
       " '98366ddf797b4785b0892ff9a9fbbafd',\n",
       " '9950350e2b204ee4bf6b88fb06900040',\n",
       " '9efb284a2e0341c983268338dfd53e92',\n",
       " 'aaf4193bd94c47d28982ee9509486e84',\n",
       " 'bd58ebe70fa44bafad76ecacca28f2b0',\n",
       " 'c227fc73d82244de8a37f3592161a53e',\n",
       " 'c76ddcb99c9940ecaf8d7a0fbef6bdb2',\n",
       " 'c7ffb69015b94c819d131095ffd09568',\n",
       " 'da26f4ead610421785f7fd0cda87dcfe',\n",
       " 'e7af7fc5e75c43809a96ae4e1f0e730e'}"
      ]
     },
     "execution_count": 6,
     "metadata": {},
     "output_type": "execute_result"
    }
   ],
   "source": [
    "uids_eve - uids_exp"
   ]
  },
  {
   "cell_type": "code",
   "execution_count": 7,
   "id": "61d34f4e-29ae-4802-99b2-3e0c0a2b6dc6",
   "metadata": {},
   "outputs": [
    {
     "name": "stdout",
     "output_type": "stream",
     "text": [
      "1097\n",
      "1117\n",
      "20\n"
     ]
    }
   ],
   "source": [
    "print(len(uids_exp))\n",
    "print(len(uids_eve))\n",
    "print(abs(len(uids_exp) - len(uids_eve)))"
   ]
  },
  {
   "cell_type": "code",
   "execution_count": 8,
   "id": "7bc8d7c0-31c0-48ac-8941-ea2d5b3f675d",
   "metadata": {},
   "outputs": [],
   "source": [
    "# select shortest uid lis, there are 20 missing recordings from one side\n",
    "id_side = [\n",
    "    {\n",
    "        \"id\": f.split(\"-\")[2].split(\".\")[0],\n",
    "        \"created\": created_exp[i],\n",
    "        \"expo\": EXPO,\n",
    "        \"side\": SIDE,\n",
    "    }\n",
    "    for i, f in enumerate(files_exp)\n",
    "]"
   ]
  },
  {
   "cell_type": "code",
   "execution_count": 9,
   "id": "f465cb95-dd4a-421e-bae8-a8e766b45dcf",
   "metadata": {},
   "outputs": [
    {
     "data": {
      "text/html": [
       "<div>\n",
       "<style scoped>\n",
       "    .dataframe tbody tr th:only-of-type {\n",
       "        vertical-align: middle;\n",
       "    }\n",
       "\n",
       "    .dataframe tbody tr th {\n",
       "        vertical-align: top;\n",
       "    }\n",
       "\n",
       "    .dataframe thead th {\n",
       "        text-align: right;\n",
       "    }\n",
       "</style>\n",
       "<table border=\"1\" class=\"dataframe\">\n",
       "  <thead>\n",
       "    <tr style=\"text-align: right;\">\n",
       "      <th></th>\n",
       "      <th>id</th>\n",
       "      <th>created</th>\n",
       "      <th>expo</th>\n",
       "      <th>side</th>\n",
       "    </tr>\n",
       "  </thead>\n",
       "  <tbody>\n",
       "    <tr>\n",
       "      <th>985</th>\n",
       "      <td>b79415c9762b4a9eb4aeebb0ec68698b</td>\n",
       "      <td>01.07.2019 18:21</td>\n",
       "      <td>BMBF</td>\n",
       "      <td>left</td>\n",
       "    </tr>\n",
       "    <tr>\n",
       "      <th>400</th>\n",
       "      <td>f0969eb2f5c04a988f5ac863ad435402</td>\n",
       "      <td>01.07.2019 19:30</td>\n",
       "      <td>BMBF</td>\n",
       "      <td>left</td>\n",
       "    </tr>\n",
       "    <tr>\n",
       "      <th>364</th>\n",
       "      <td>062fef13760e46fda940d62d428b3020</td>\n",
       "      <td>01.08.2019 13:12</td>\n",
       "      <td>BMBF</td>\n",
       "      <td>left</td>\n",
       "    </tr>\n",
       "    <tr>\n",
       "      <th>689</th>\n",
       "      <td>e3c073c3c5fc4277945bd2d6b77e97df</td>\n",
       "      <td>01.08.2019 13:23</td>\n",
       "      <td>BMBF</td>\n",
       "      <td>left</td>\n",
       "    </tr>\n",
       "    <tr>\n",
       "      <th>822</th>\n",
       "      <td>3b21e13f1eee40dc815ef2ef2263cce0</td>\n",
       "      <td>01.08.2019 13:31</td>\n",
       "      <td>BMBF</td>\n",
       "      <td>left</td>\n",
       "    </tr>\n",
       "    <tr>\n",
       "      <th>...</th>\n",
       "      <td>...</td>\n",
       "      <td>...</td>\n",
       "      <td>...</td>\n",
       "      <td>...</td>\n",
       "    </tr>\n",
       "    <tr>\n",
       "      <th>928</th>\n",
       "      <td>91554fe0e04c46c8a24f9e3ea5499b40</td>\n",
       "      <td>31.10.2019 14:43</td>\n",
       "      <td>BMBF</td>\n",
       "      <td>left</td>\n",
       "    </tr>\n",
       "    <tr>\n",
       "      <th>1052</th>\n",
       "      <td>e94c3d7a012548498361417eb347e84e</td>\n",
       "      <td>31.10.2019 14:46</td>\n",
       "      <td>BMBF</td>\n",
       "      <td>left</td>\n",
       "    </tr>\n",
       "    <tr>\n",
       "      <th>351</th>\n",
       "      <td>f5373021de014e9eb5e8d1d451ffa6dd</td>\n",
       "      <td>31.10.2019 16:25</td>\n",
       "      <td>BMBF</td>\n",
       "      <td>left</td>\n",
       "    </tr>\n",
       "    <tr>\n",
       "      <th>516</th>\n",
       "      <td>6a86150f0826424c9d22eedffeca2e27</td>\n",
       "      <td>31.10.2019 18:36</td>\n",
       "      <td>BMBF</td>\n",
       "      <td>left</td>\n",
       "    </tr>\n",
       "    <tr>\n",
       "      <th>962</th>\n",
       "      <td>aa3e2f14e2f94012aceed69128b40d21</td>\n",
       "      <td>31.10.2019 18:42</td>\n",
       "      <td>BMBF</td>\n",
       "      <td>left</td>\n",
       "    </tr>\n",
       "  </tbody>\n",
       "</table>\n",
       "<p>1097 rows × 4 columns</p>\n",
       "</div>"
      ],
      "text/plain": [
       "                                    id           created  expo  side\n",
       "985   b79415c9762b4a9eb4aeebb0ec68698b  01.07.2019 18:21  BMBF  left\n",
       "400   f0969eb2f5c04a988f5ac863ad435402  01.07.2019 19:30  BMBF  left\n",
       "364   062fef13760e46fda940d62d428b3020  01.08.2019 13:12  BMBF  left\n",
       "689   e3c073c3c5fc4277945bd2d6b77e97df  01.08.2019 13:23  BMBF  left\n",
       "822   3b21e13f1eee40dc815ef2ef2263cce0  01.08.2019 13:31  BMBF  left\n",
       "...                                ...               ...   ...   ...\n",
       "928   91554fe0e04c46c8a24f9e3ea5499b40  31.10.2019 14:43  BMBF  left\n",
       "1052  e94c3d7a012548498361417eb347e84e  31.10.2019 14:46  BMBF  left\n",
       "351   f5373021de014e9eb5e8d1d451ffa6dd  31.10.2019 16:25  BMBF  left\n",
       "516   6a86150f0826424c9d22eedffeca2e27  31.10.2019 18:36  BMBF  left\n",
       "962   aa3e2f14e2f94012aceed69128b40d21  31.10.2019 18:42  BMBF  left\n",
       "\n",
       "[1097 rows x 4 columns]"
      ]
     },
     "execution_count": 9,
     "metadata": {},
     "output_type": "execute_result"
    }
   ],
   "source": [
    "id_side = pd.DataFrame(id_side)\n",
    "id_side = id_side.sort_values(\"created\")\n",
    "id_side"
   ]
  },
  {
   "cell_type": "code",
   "execution_count": 10,
   "id": "b1f04730-6d3f-40ea-8581-a17598cecfd8",
   "metadata": {},
   "outputs": [],
   "source": [
    "id_side.to_csv(f\"./{EXPO.lower()}_{SIDE}_uids.csv\", index=False)"
   ]
  }
 ],
 "metadata": {
  "kernelspec": {
   "display_name": "Python (msw-bmbf_da)",
   "language": "python",
   "name": "msw-bmbf_da"
  },
  "language_info": {
   "codemirror_mode": {
    "name": "ipython",
    "version": 3
   },
   "file_extension": ".py",
   "mimetype": "text/x-python",
   "name": "python",
   "nbconvert_exporter": "python",
   "pygments_lexer": "ipython3",
   "version": "3.8.10"
  },
  "widgets": {
   "application/vnd.jupyter.widget-state+json": {
    "state": {},
    "version_major": 2,
    "version_minor": 0
   }
  }
 },
 "nbformat": 4,
 "nbformat_minor": 5
}
