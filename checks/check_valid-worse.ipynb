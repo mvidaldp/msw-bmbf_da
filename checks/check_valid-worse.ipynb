{
 "cells": [
  {
   "cell_type": "markdown",
   "id": "6ea17106-ba66-436c-9d0c-c084e4477e5f",
   "metadata": {},
   "source": [
    "__Dependencies__"
   ]
  },
  {
   "cell_type": "code",
   "execution_count": 1,
   "id": "dcbfe465-af69-4541-ac8a-a01d96b5a4b1",
   "metadata": {},
   "outputs": [],
   "source": [
    "import copy  # copy big/deep objects by value\n",
    "import os  # OS operations (read/write files/folders)\n",
    "\n",
    "# process parallelization\n",
    "from multiprocessing import Lock, Manager, Pool, cpu_count\n",
    "\n",
    "import matplotlib.pyplot as plt  # mother of plots focr Python\n",
    "import pandas as pd  # operate with dataframes\n",
    "from IPython.display import display  # print nicely\n",
    "from tqdm.notebook import tqdm  # mother of progressbars for Python\n",
    "\n",
    "# from matplotlib.ticker import FormatStrFormatter  # tick formatter"
   ]
  },
  {
   "cell_type": "markdown",
   "id": "998498dc-9227-4c5e-9a0f-188e79b02c8f",
   "metadata": {
    "tags": []
   },
   "source": [
    "__Options__"
   ]
  },
  {
   "cell_type": "code",
   "execution_count": 2,
   "id": "dbfc75e1-7dbc-4630-98f6-66a2f05749f1",
   "metadata": {},
   "outputs": [
    {
     "name": "stdout",
     "output_type": "stream",
     "text": [
      "Total CPU threads: 16\n"
     ]
    }
   ],
   "source": [
    "# progress bar customized format\n",
    "B_FORMAT = \"\"\"📄 {n_fmt} of {total_fmt} {desc} processed: {bar} \n",
    "            {percentage:3.0f}% ⏱️{elapsed} ⏳{remaining} ⚙️{rate_fmt}{postfix}\"\"\"\n",
    "\n",
    "# specify decimals format on pandas tables\n",
    "pd.options.display.float_format = \"{:.2f}\".format\n",
    "\n",
    "CORES = cpu_count()  # number of cpu threads for multiprocessing\n",
    "print(f\"Total CPU threads: {CORES}\")"
   ]
  },
  {
   "cell_type": "markdown",
   "id": "a2803de8-1784-4bb4-accd-7d7b32fe6170",
   "metadata": {},
   "source": [
    "__Helper functions__"
   ]
  },
  {
   "cell_type": "code",
   "execution_count": 3,
   "id": "263eaa1c-37be-4db8-87e4-9e1296e39b8d",
   "metadata": {},
   "outputs": [],
   "source": [
    "def pbar_fork_hack(l=None):\n",
    "    \"\"\"\n",
    "    Hack to enforce progress bars to be displayed by fork processes on\n",
    "    IPython Apps like Jupyter Notebooks.\n",
    "\n",
    "    Avoids [IPKernelApp] WARNING | WARNING: attempted to send message from fork\n",
    "\n",
    "    Important: pass this function as argument for the initializer parameter\n",
    "    while initializing a multiprocessing pool to make it work. E.g.:\n",
    "\n",
    "    pool = Pool(processes=N_CORES, initializer=pbar_fork_hack)\n",
    "\n",
    "    Source:\n",
    "     - https://github.com/ipython/ipython/issues/11049#issue-306086846\n",
    "     - https://github.com/tqdm/tqdm/issues/485#issuecomment-473338308\n",
    "    \"\"\"\n",
    "    if l:\n",
    "        global lock\n",
    "        lock = l\n",
    "    print(\" \", end=\"\", flush=True)"
   ]
  },
  {
   "cell_type": "markdown",
   "id": "29707919-9082-4bc1-bd5e-e50e089d367c",
   "metadata": {},
   "source": [
    "__Read participants cleaned data__"
   ]
  },
  {
   "cell_type": "code",
   "execution_count": 4,
   "id": "0372da8a-1551-44a0-9359-618280c948e8",
   "metadata": {},
   "outputs": [
    {
     "data": {
      "text/html": [
       "<div>\n",
       "<style scoped>\n",
       "    .dataframe tbody tr th:only-of-type {\n",
       "        vertical-align: middle;\n",
       "    }\n",
       "\n",
       "    .dataframe tbody tr th {\n",
       "        vertical-align: top;\n",
       "    }\n",
       "\n",
       "    .dataframe thead th {\n",
       "        text-align: right;\n",
       "    }\n",
       "</style>\n",
       "<table border=\"1\" class=\"dataframe\">\n",
       "  <thead>\n",
       "    <tr style=\"text-align: right;\">\n",
       "      <th></th>\n",
       "      <th>date</th>\n",
       "      <th>expo</th>\n",
       "      <th>side</th>\n",
       "      <th>condition</th>\n",
       "      <th>questionnaire</th>\n",
       "      <th>nulls_%</th>\n",
       "    </tr>\n",
       "    <tr>\n",
       "      <th>id</th>\n",
       "      <th></th>\n",
       "      <th></th>\n",
       "      <th></th>\n",
       "      <th></th>\n",
       "      <th></th>\n",
       "      <th></th>\n",
       "    </tr>\n",
       "  </thead>\n",
       "  <tbody>\n",
       "    <tr>\n",
       "      <th>4f583872ffed48249874b00f3d389cfc</th>\n",
       "      <td>2019-05-14 13:21:00</td>\n",
       "      <td>MSW</td>\n",
       "      <td>right</td>\n",
       "      <td>TaxiDriver</td>\n",
       "      <td>No</td>\n",
       "      <td>6.74</td>\n",
       "    </tr>\n",
       "    <tr>\n",
       "      <th>33d68ad55ef544fab9fd08108e3913ca</th>\n",
       "      <td>2019-05-14 16:44:00</td>\n",
       "      <td>MSW</td>\n",
       "      <td>right</td>\n",
       "      <td>AVAS</td>\n",
       "      <td>No</td>\n",
       "      <td>0.22</td>\n",
       "    </tr>\n",
       "    <tr>\n",
       "      <th>8598a83e2af441b8bcd0ae5d84beb875</th>\n",
       "      <td>2019-05-14 16:51:00</td>\n",
       "      <td>MSW</td>\n",
       "      <td>right</td>\n",
       "      <td>RadioTalk</td>\n",
       "      <td>No</td>\n",
       "      <td>46.24</td>\n",
       "    </tr>\n",
       "    <tr>\n",
       "      <th>37d7e67934974217830bb429bba7fd76</th>\n",
       "      <td>2019-05-14 16:54:00</td>\n",
       "      <td>MSW</td>\n",
       "      <td>left</td>\n",
       "      <td>AVAS</td>\n",
       "      <td>No</td>\n",
       "      <td>8.05</td>\n",
       "    </tr>\n",
       "    <tr>\n",
       "      <th>42bac596059749b5b8e8e83ae61de9b4</th>\n",
       "      <td>2019-05-14 16:56:00</td>\n",
       "      <td>MSW</td>\n",
       "      <td>right</td>\n",
       "      <td>TaxiDriver</td>\n",
       "      <td>No</td>\n",
       "      <td>26.88</td>\n",
       "    </tr>\n",
       "    <tr>\n",
       "      <th>...</th>\n",
       "      <td>...</td>\n",
       "      <td>...</td>\n",
       "      <td>...</td>\n",
       "      <td>...</td>\n",
       "      <td>...</td>\n",
       "      <td>...</td>\n",
       "    </tr>\n",
       "    <tr>\n",
       "      <th>cfe9482181f74f80b88cd4b1c048ab94</th>\n",
       "      <td>2019-12-30 15:29:00</td>\n",
       "      <td>BMBF</td>\n",
       "      <td>right</td>\n",
       "      <td>AVAS</td>\n",
       "      <td>No</td>\n",
       "      <td>34.18</td>\n",
       "    </tr>\n",
       "    <tr>\n",
       "      <th>611d35a7c3e940cc82495e53c2a8532d</th>\n",
       "      <td>2020-01-03 16:12:00</td>\n",
       "      <td>BMBF</td>\n",
       "      <td>right</td>\n",
       "      <td>TaxiDriver</td>\n",
       "      <td>No</td>\n",
       "      <td>7.41</td>\n",
       "    </tr>\n",
       "    <tr>\n",
       "      <th>3b6fda285d9e412eb081986b2f22a2e3</th>\n",
       "      <td>2020-01-03 16:13:00</td>\n",
       "      <td>BMBF</td>\n",
       "      <td>left</td>\n",
       "      <td>AVAS</td>\n",
       "      <td>No</td>\n",
       "      <td>7.15</td>\n",
       "    </tr>\n",
       "    <tr>\n",
       "      <th>18ffb0abdc8642098c479380bfa533d1</th>\n",
       "      <td>2020-01-03 16:15:00</td>\n",
       "      <td>BMBF</td>\n",
       "      <td>left</td>\n",
       "      <td>RadioTalk</td>\n",
       "      <td>Yes</td>\n",
       "      <td>13.89</td>\n",
       "    </tr>\n",
       "    <tr>\n",
       "      <th>c06f123b35b74bb489ec239b1cac9eb4</th>\n",
       "      <td>2020-01-03 16:16:00</td>\n",
       "      <td>BMBF</td>\n",
       "      <td>right</td>\n",
       "      <td>TaxiDriver</td>\n",
       "      <td>No</td>\n",
       "      <td>0.86</td>\n",
       "    </tr>\n",
       "  </tbody>\n",
       "</table>\n",
       "<p>24356 rows × 6 columns</p>\n",
       "</div>"
      ],
      "text/plain": [
       "                                                 date  expo   side  \\\n",
       "id                                                                   \n",
       "4f583872ffed48249874b00f3d389cfc  2019-05-14 13:21:00   MSW  right   \n",
       "33d68ad55ef544fab9fd08108e3913ca  2019-05-14 16:44:00   MSW  right   \n",
       "8598a83e2af441b8bcd0ae5d84beb875  2019-05-14 16:51:00   MSW  right   \n",
       "37d7e67934974217830bb429bba7fd76  2019-05-14 16:54:00   MSW   left   \n",
       "42bac596059749b5b8e8e83ae61de9b4  2019-05-14 16:56:00   MSW  right   \n",
       "...                                               ...   ...    ...   \n",
       "cfe9482181f74f80b88cd4b1c048ab94  2019-12-30 15:29:00  BMBF  right   \n",
       "611d35a7c3e940cc82495e53c2a8532d  2020-01-03 16:12:00  BMBF  right   \n",
       "3b6fda285d9e412eb081986b2f22a2e3  2020-01-03 16:13:00  BMBF   left   \n",
       "18ffb0abdc8642098c479380bfa533d1  2020-01-03 16:15:00  BMBF   left   \n",
       "c06f123b35b74bb489ec239b1cac9eb4  2020-01-03 16:16:00  BMBF  right   \n",
       "\n",
       "                                   condition questionnaire  nulls_%  \n",
       "id                                                                   \n",
       "4f583872ffed48249874b00f3d389cfc  TaxiDriver            No     6.74  \n",
       "33d68ad55ef544fab9fd08108e3913ca        AVAS            No     0.22  \n",
       "8598a83e2af441b8bcd0ae5d84beb875   RadioTalk            No    46.24  \n",
       "37d7e67934974217830bb429bba7fd76        AVAS            No     8.05  \n",
       "42bac596059749b5b8e8e83ae61de9b4  TaxiDriver            No    26.88  \n",
       "...                                      ...           ...      ...  \n",
       "cfe9482181f74f80b88cd4b1c048ab94        AVAS            No    34.18  \n",
       "611d35a7c3e940cc82495e53c2a8532d  TaxiDriver            No     7.41  \n",
       "3b6fda285d9e412eb081986b2f22a2e3        AVAS            No     7.15  \n",
       "18ffb0abdc8642098c479380bfa533d1   RadioTalk           Yes    13.89  \n",
       "c06f123b35b74bb489ec239b1cac9eb4  TaxiDriver            No     0.86  \n",
       "\n",
       "[24356 rows x 6 columns]"
      ]
     },
     "execution_count": 4,
     "metadata": {},
     "output_type": "execute_result"
    }
   ],
   "source": [
    "parts = pd.read_csv(\"../participants_clean.csv\", keep_default_na=False)\n",
    "parts = parts.set_index(\"id\")  # set uid column as index (remove default)\n",
    "parts"
   ]
  },
  {
   "cell_type": "code",
   "execution_count": 5,
   "id": "46093603-e100-41fe-a29e-78a7d5671ece",
   "metadata": {},
   "outputs": [
    {
     "data": {
      "text/plain": [
       "95"
      ]
     },
     "execution_count": 5,
     "metadata": {},
     "output_type": "execute_result"
    }
   ],
   "source": [
    "files_worse = os.listdir(\"../data/raw/CsvData_worse\")\n",
    "\n",
    "for f in files_worse:  # iterate over files\n",
    "    # remove hidden/config files and folders\n",
    "    if not f.endswith(\".csv\"):\n",
    "        files_worse.remove(f)\n",
    "\n",
    "uids_worse = list(set([f.split(\"-\")[2].split(\".\")[0] for f in files_worse]))\n",
    "len(uids_worse)"
   ]
  },
  {
   "cell_type": "code",
   "execution_count": 6,
   "id": "d695bde4-8064-4636-bfb5-883617313bff",
   "metadata": {},
   "outputs": [
    {
     "data": {
      "text/plain": [
       "95"
      ]
     },
     "execution_count": 6,
     "metadata": {},
     "output_type": "execute_result"
    }
   ],
   "source": [
    "parts = parts.loc[uids_worse]\n",
    "parts.index.size"
   ]
  },
  {
   "cell_type": "code",
   "execution_count": 7,
   "id": "41ffddd1-28e8-487e-9344-87e5dfb74470",
   "metadata": {},
   "outputs": [
    {
     "name": "stdout",
     "output_type": "stream",
     "text": [
      "                "
     ]
    },
    {
     "data": {
      "application/vnd.jupyter.widget-view+json": {
       "model_id": "82edac3008b94b2aaf808ea39eb7bb32",
       "version_major": 2,
       "version_minor": 0
      },
      "text/plain": [
       "📄 0 of 95 📂 worse participants processed:                                                                     …"
      ]
     },
     "metadata": {},
     "output_type": "display_data"
    }
   ],
   "source": [
    "def get_perc_valid(uid):\n",
    "    \"\"\"Description.\"\"\"\n",
    "    sel = parts.loc[uid]\n",
    "    file = f\"Path_ MS Wissenschaft-{sel.condition}-{uid}.csv\"\n",
    "    worse = pd.read_csv(f\"../data/raw/CsvData_worse/{file}\")\n",
    "    total = worse.index.size\n",
    "    val_worse = worse[pd.isnull(worse.hitObjectNames)].index.size\n",
    "    val_worse_p = val_worse * 100 / total\n",
    "    res[uid][\"%nullWorseOld\"] = sel[\"nulls_%\"]\n",
    "    res[uid][\"%nullWorse\"] = val_worse_p\n",
    "\n",
    "\n",
    "manager = Manager()  # manage shared memory types\n",
    "\n",
    "# convert into memory-shared dict of lists for multiprocessing\n",
    "res = manager.dict(\n",
    "    {\n",
    "        uid: manager.dict({\"%nullWorseOld\": None, \"%nullWorse\": None})\n",
    "        for uid in uids_worse\n",
    "    }\n",
    ")\n",
    "\n",
    "# multiprocessing lock to avoid raicing conditions\n",
    "l = Lock()\n",
    "\n",
    "# initialize pool of processes according to the available cpu core threads\n",
    "pool = Pool(processes=CORES, initializer=pbar_fork_hack, initargs=(l,))\n",
    "\n",
    "# test participants progress bar\n",
    "parts_pbar = tqdm(\n",
    "    iterable=pool.imap(func=get_perc_valid, iterable=uids_worse),\n",
    "    total=len(uids_worse),\n",
    "    desc=\"📂 worse participants\",\n",
    "    dynamic_ncols=True,\n",
    "    bar_format=B_FORMAT,\n",
    ")\n",
    "\n",
    "# loop necessary for displaying properly the progressbar with multiprocessing\n",
    "# source: https://stackoverflow.com/a/40133278\n",
    "for _ in parts_pbar:\n",
    "    pass\n",
    "\n",
    "# close pool instance, no more work to submit\n",
    "pool.close()\n",
    "# wait for the worker processes to terminate\n",
    "pool.join()"
   ]
  },
  {
   "cell_type": "code",
   "execution_count": 8,
   "id": "82eeefbf-7e7d-4e3f-8199-b89399e9119d",
   "metadata": {},
   "outputs": [],
   "source": [
    "test = dict(res)\n",
    "\n",
    "test = {k: dict(v) for k, v in res.items()}\n",
    "\n",
    "test = pd.DataFrame(test)\n",
    "test = test.transpose()"
   ]
  },
  {
   "cell_type": "code",
   "execution_count": 9,
   "id": "1338dfb7-5dea-42d4-b3d0-4837e9b3fa8d",
   "metadata": {},
   "outputs": [
    {
     "data": {
      "text/html": [
       "<div>\n",
       "<style scoped>\n",
       "    .dataframe tbody tr th:only-of-type {\n",
       "        vertical-align: middle;\n",
       "    }\n",
       "\n",
       "    .dataframe tbody tr th {\n",
       "        vertical-align: top;\n",
       "    }\n",
       "\n",
       "    .dataframe thead th {\n",
       "        text-align: right;\n",
       "    }\n",
       "</style>\n",
       "<table border=\"1\" class=\"dataframe\">\n",
       "  <thead>\n",
       "    <tr style=\"text-align: right;\">\n",
       "      <th></th>\n",
       "      <th>%nullWorseOld</th>\n",
       "      <th>%nullWorse</th>\n",
       "    </tr>\n",
       "  </thead>\n",
       "  <tbody>\n",
       "    <tr>\n",
       "      <th>6aef7feed2dd42cca4265715cc2464eb</th>\n",
       "      <td>51.03</td>\n",
       "      <td>30.29</td>\n",
       "    </tr>\n",
       "    <tr>\n",
       "      <th>bfbf1b340a254f2ea3d062e281fda330</th>\n",
       "      <td>54.14</td>\n",
       "      <td>43.88</td>\n",
       "    </tr>\n",
       "    <tr>\n",
       "      <th>b96944c2608547fb8140a3bf77676d1f</th>\n",
       "      <td>53.61</td>\n",
       "      <td>52.38</td>\n",
       "    </tr>\n",
       "    <tr>\n",
       "      <th>e70f20b3956748fab589e4c3015f1ed5</th>\n",
       "      <td>50.84</td>\n",
       "      <td>37.21</td>\n",
       "    </tr>\n",
       "    <tr>\n",
       "      <th>d2a3860415634b408e0714b835ef301f</th>\n",
       "      <td>55.67</td>\n",
       "      <td>44.59</td>\n",
       "    </tr>\n",
       "    <tr>\n",
       "      <th>...</th>\n",
       "      <td>...</td>\n",
       "      <td>...</td>\n",
       "    </tr>\n",
       "    <tr>\n",
       "      <th>63bd71ddcccb45b5b539fbc53b1e9e4e</th>\n",
       "      <td>52.79</td>\n",
       "      <td>30.55</td>\n",
       "    </tr>\n",
       "    <tr>\n",
       "      <th>1eab0b87e162459fb6e86324c28106b0</th>\n",
       "      <td>52.12</td>\n",
       "      <td>50.73</td>\n",
       "    </tr>\n",
       "    <tr>\n",
       "      <th>4a14708c40c34276ba9b6c150c8a69ef</th>\n",
       "      <td>50.43</td>\n",
       "      <td>36.80</td>\n",
       "    </tr>\n",
       "    <tr>\n",
       "      <th>4388678182784d01a430421ffee98f8c</th>\n",
       "      <td>52.23</td>\n",
       "      <td>39.65</td>\n",
       "    </tr>\n",
       "    <tr>\n",
       "      <th>f78f986c70b642ba9b9c0ceb908735c1</th>\n",
       "      <td>51.40</td>\n",
       "      <td>49.01</td>\n",
       "    </tr>\n",
       "  </tbody>\n",
       "</table>\n",
       "<p>95 rows × 2 columns</p>\n",
       "</div>"
      ],
      "text/plain": [
       "                                  %nullWorseOld  %nullWorse\n",
       "6aef7feed2dd42cca4265715cc2464eb          51.03       30.29\n",
       "bfbf1b340a254f2ea3d062e281fda330          54.14       43.88\n",
       "b96944c2608547fb8140a3bf77676d1f          53.61       52.38\n",
       "e70f20b3956748fab589e4c3015f1ed5          50.84       37.21\n",
       "d2a3860415634b408e0714b835ef301f          55.67       44.59\n",
       "...                                         ...         ...\n",
       "63bd71ddcccb45b5b539fbc53b1e9e4e          52.79       30.55\n",
       "1eab0b87e162459fb6e86324c28106b0          52.12       50.73\n",
       "4a14708c40c34276ba9b6c150c8a69ef          50.43       36.80\n",
       "4388678182784d01a430421ffee98f8c          52.23       39.65\n",
       "f78f986c70b642ba9b9c0ceb908735c1          51.40       49.01\n",
       "\n",
       "[95 rows x 2 columns]"
      ]
     },
     "execution_count": 9,
     "metadata": {},
     "output_type": "execute_result"
    }
   ],
   "source": [
    "test"
   ]
  },
  {
   "cell_type": "code",
   "execution_count": 10,
   "id": "a4bd93f2-451d-467d-ba8a-141106e9fee6",
   "metadata": {},
   "outputs": [
    {
     "data": {
      "text/html": [
       "<div>\n",
       "<style scoped>\n",
       "    .dataframe tbody tr th:only-of-type {\n",
       "        vertical-align: middle;\n",
       "    }\n",
       "\n",
       "    .dataframe tbody tr th {\n",
       "        vertical-align: top;\n",
       "    }\n",
       "\n",
       "    .dataframe thead th {\n",
       "        text-align: right;\n",
       "    }\n",
       "</style>\n",
       "<table border=\"1\" class=\"dataframe\">\n",
       "  <thead>\n",
       "    <tr style=\"text-align: right;\">\n",
       "      <th></th>\n",
       "      <th>%nullWorseOld</th>\n",
       "      <th>%nullWorse</th>\n",
       "      <th>%valWorseOld</th>\n",
       "      <th>%valWorse</th>\n",
       "    </tr>\n",
       "  </thead>\n",
       "  <tbody>\n",
       "    <tr>\n",
       "      <th>6aef7feed2dd42cca4265715cc2464eb</th>\n",
       "      <td>51.03</td>\n",
       "      <td>30.29</td>\n",
       "      <td>48.97</td>\n",
       "      <td>69.71</td>\n",
       "    </tr>\n",
       "    <tr>\n",
       "      <th>bfbf1b340a254f2ea3d062e281fda330</th>\n",
       "      <td>54.14</td>\n",
       "      <td>43.88</td>\n",
       "      <td>45.86</td>\n",
       "      <td>56.12</td>\n",
       "    </tr>\n",
       "    <tr>\n",
       "      <th>b96944c2608547fb8140a3bf77676d1f</th>\n",
       "      <td>53.61</td>\n",
       "      <td>52.38</td>\n",
       "      <td>46.39</td>\n",
       "      <td>47.62</td>\n",
       "    </tr>\n",
       "    <tr>\n",
       "      <th>e70f20b3956748fab589e4c3015f1ed5</th>\n",
       "      <td>50.84</td>\n",
       "      <td>37.21</td>\n",
       "      <td>49.16</td>\n",
       "      <td>62.79</td>\n",
       "    </tr>\n",
       "    <tr>\n",
       "      <th>d2a3860415634b408e0714b835ef301f</th>\n",
       "      <td>55.67</td>\n",
       "      <td>44.59</td>\n",
       "      <td>44.33</td>\n",
       "      <td>55.41</td>\n",
       "    </tr>\n",
       "    <tr>\n",
       "      <th>...</th>\n",
       "      <td>...</td>\n",
       "      <td>...</td>\n",
       "      <td>...</td>\n",
       "      <td>...</td>\n",
       "    </tr>\n",
       "    <tr>\n",
       "      <th>63bd71ddcccb45b5b539fbc53b1e9e4e</th>\n",
       "      <td>52.79</td>\n",
       "      <td>30.55</td>\n",
       "      <td>47.21</td>\n",
       "      <td>69.45</td>\n",
       "    </tr>\n",
       "    <tr>\n",
       "      <th>1eab0b87e162459fb6e86324c28106b0</th>\n",
       "      <td>52.12</td>\n",
       "      <td>50.73</td>\n",
       "      <td>47.88</td>\n",
       "      <td>49.27</td>\n",
       "    </tr>\n",
       "    <tr>\n",
       "      <th>4a14708c40c34276ba9b6c150c8a69ef</th>\n",
       "      <td>50.43</td>\n",
       "      <td>36.80</td>\n",
       "      <td>49.57</td>\n",
       "      <td>63.20</td>\n",
       "    </tr>\n",
       "    <tr>\n",
       "      <th>4388678182784d01a430421ffee98f8c</th>\n",
       "      <td>52.23</td>\n",
       "      <td>39.65</td>\n",
       "      <td>47.77</td>\n",
       "      <td>60.35</td>\n",
       "    </tr>\n",
       "    <tr>\n",
       "      <th>f78f986c70b642ba9b9c0ceb908735c1</th>\n",
       "      <td>51.40</td>\n",
       "      <td>49.01</td>\n",
       "      <td>48.60</td>\n",
       "      <td>50.99</td>\n",
       "    </tr>\n",
       "  </tbody>\n",
       "</table>\n",
       "<p>95 rows × 4 columns</p>\n",
       "</div>"
      ],
      "text/plain": [
       "                                  %nullWorseOld  %nullWorse  %valWorseOld  \\\n",
       "6aef7feed2dd42cca4265715cc2464eb          51.03       30.29         48.97   \n",
       "bfbf1b340a254f2ea3d062e281fda330          54.14       43.88         45.86   \n",
       "b96944c2608547fb8140a3bf77676d1f          53.61       52.38         46.39   \n",
       "e70f20b3956748fab589e4c3015f1ed5          50.84       37.21         49.16   \n",
       "d2a3860415634b408e0714b835ef301f          55.67       44.59         44.33   \n",
       "...                                         ...         ...           ...   \n",
       "63bd71ddcccb45b5b539fbc53b1e9e4e          52.79       30.55         47.21   \n",
       "1eab0b87e162459fb6e86324c28106b0          52.12       50.73         47.88   \n",
       "4a14708c40c34276ba9b6c150c8a69ef          50.43       36.80         49.57   \n",
       "4388678182784d01a430421ffee98f8c          52.23       39.65         47.77   \n",
       "f78f986c70b642ba9b9c0ceb908735c1          51.40       49.01         48.60   \n",
       "\n",
       "                                  %valWorse  \n",
       "6aef7feed2dd42cca4265715cc2464eb      69.71  \n",
       "bfbf1b340a254f2ea3d062e281fda330      56.12  \n",
       "b96944c2608547fb8140a3bf77676d1f      47.62  \n",
       "e70f20b3956748fab589e4c3015f1ed5      62.79  \n",
       "d2a3860415634b408e0714b835ef301f      55.41  \n",
       "...                                     ...  \n",
       "63bd71ddcccb45b5b539fbc53b1e9e4e      69.45  \n",
       "1eab0b87e162459fb6e86324c28106b0      49.27  \n",
       "4a14708c40c34276ba9b6c150c8a69ef      63.20  \n",
       "4388678182784d01a430421ffee98f8c      60.35  \n",
       "f78f986c70b642ba9b9c0ceb908735c1      50.99  \n",
       "\n",
       "[95 rows x 4 columns]"
      ]
     },
     "execution_count": 10,
     "metadata": {},
     "output_type": "execute_result"
    }
   ],
   "source": [
    "test[\"%valWorseOld\"] = 100 - test[\"%nullWorseOld\"]\n",
    "test[\"%valWorse\"] = 100 - test[\"%nullWorse\"]\n",
    "test"
   ]
  },
  {
   "cell_type": "code",
   "execution_count": 12,
   "id": "da61ab8b-276a-4db7-a567-354552103d41",
   "metadata": {},
   "outputs": [
    {
     "data": {
      "text/html": [
       "<div>\n",
       "<style scoped>\n",
       "    .dataframe tbody tr th:only-of-type {\n",
       "        vertical-align: middle;\n",
       "    }\n",
       "\n",
       "    .dataframe tbody tr th {\n",
       "        vertical-align: top;\n",
       "    }\n",
       "\n",
       "    .dataframe thead th {\n",
       "        text-align: right;\n",
       "    }\n",
       "</style>\n",
       "<table border=\"1\" class=\"dataframe\">\n",
       "  <thead>\n",
       "    <tr style=\"text-align: right;\">\n",
       "      <th></th>\n",
       "      <th>%nullWorseOld</th>\n",
       "      <th>%nullWorse</th>\n",
       "      <th>%valWorseOld</th>\n",
       "      <th>%valWorse</th>\n",
       "    </tr>\n",
       "  </thead>\n",
       "  <tbody>\n",
       "    <tr>\n",
       "      <th>count</th>\n",
       "      <td>95.00</td>\n",
       "      <td>95.00</td>\n",
       "      <td>95.00</td>\n",
       "      <td>95.00</td>\n",
       "    </tr>\n",
       "    <tr>\n",
       "      <th>mean</th>\n",
       "      <td>53.71</td>\n",
       "      <td>45.03</td>\n",
       "      <td>46.29</td>\n",
       "      <td>54.97</td>\n",
       "    </tr>\n",
       "    <tr>\n",
       "      <th>std</th>\n",
       "      <td>3.27</td>\n",
       "      <td>8.54</td>\n",
       "      <td>3.27</td>\n",
       "      <td>8.54</td>\n",
       "    </tr>\n",
       "    <tr>\n",
       "      <th>min</th>\n",
       "      <td>50.09</td>\n",
       "      <td>25.42</td>\n",
       "      <td>33.96</td>\n",
       "      <td>34.74</td>\n",
       "    </tr>\n",
       "    <tr>\n",
       "      <th>25%</th>\n",
       "      <td>51.48</td>\n",
       "      <td>38.52</td>\n",
       "      <td>44.95</td>\n",
       "      <td>48.91</td>\n",
       "    </tr>\n",
       "    <tr>\n",
       "      <th>50%</th>\n",
       "      <td>52.60</td>\n",
       "      <td>45.00</td>\n",
       "      <td>47.40</td>\n",
       "      <td>55.00</td>\n",
       "    </tr>\n",
       "    <tr>\n",
       "      <th>75%</th>\n",
       "      <td>55.05</td>\n",
       "      <td>51.09</td>\n",
       "      <td>48.52</td>\n",
       "      <td>61.48</td>\n",
       "    </tr>\n",
       "    <tr>\n",
       "      <th>max</th>\n",
       "      <td>66.04</td>\n",
       "      <td>65.26</td>\n",
       "      <td>49.91</td>\n",
       "      <td>74.58</td>\n",
       "    </tr>\n",
       "  </tbody>\n",
       "</table>\n",
       "</div>"
      ],
      "text/plain": [
       "       %nullWorseOld  %nullWorse  %valWorseOld  %valWorse\n",
       "count          95.00       95.00         95.00      95.00\n",
       "mean           53.71       45.03         46.29      54.97\n",
       "std             3.27        8.54          3.27       8.54\n",
       "min            50.09       25.42         33.96      34.74\n",
       "25%            51.48       38.52         44.95      48.91\n",
       "50%            52.60       45.00         47.40      55.00\n",
       "75%            55.05       51.09         48.52      61.48\n",
       "max            66.04       65.26         49.91      74.58"
      ]
     },
     "execution_count": 12,
     "metadata": {},
     "output_type": "execute_result"
    }
   ],
   "source": [
    "test.describe()"
   ]
  },
  {
   "cell_type": "code",
   "execution_count": 11,
   "id": "57fb0f09-266a-4ebe-b9a9-1d67c8f69b65",
   "metadata": {},
   "outputs": [
    {
     "data": {
      "image/png": "[encoded data removed]",
      "text/plain": [
       "<Figure size 1440x720 with 1 Axes>"
      ]
     },
     "metadata": {
      "needs_background": "light"
     },
     "output_type": "display_data"
    }
   ],
   "source": [
    "ax = test[[\"%valWorseOld\", \"%valWorse\"]].plot.hist(\n",
    "    figsize=(20, 10), alpha=0.4, bins=100\n",
    ")\n",
    "ax.set_xticks([i * 10 for i in range(0, 11)])\n",
    "ax.set_xlabel(\"% of valid data\")\n",
    "plt.show()"
   ]
  },
  {
   "cell_type": "code",
   "execution_count": null,
   "id": "e7651f2b-18ab-417a-bd92-21f2477c5c35",
   "metadata": {},
   "outputs": [],
   "source": []
  }
 ],
 "metadata": {
  "kernelspec": {
   "display_name": "Python (msw-bmbf_da)",
   "language": "python",
   "name": "msw-bmbf_da"
  },
  "language_info": {
   "codemirror_mode": {
    "name": "ipython",
    "version": 3
   },
   "file_extension": ".py",
   "mimetype": "text/x-python",
   "name": "python",
   "nbconvert_exporter": "python",
   "pygments_lexer": "ipython3",
   "version": "3.8.12"
  },
  "widgets": {
   "application/vnd.jupyter.widget-state+json": {
    "state": {
     "0d8594457f654ef5b434c64c3746b7f1": {
      "model_module": "@jupyter-widgets/controls",
      "model_module_version": "1.5.0",
      "model_name": "DescriptionStyleModel",
      "state": {
       "description_width": ""
      }
     },
     "68b4a819d1f741fea47cf10b4bba2ae9": {
      "model_module": "@jupyter-widgets/base",
      "model_module_version": "1.2.0",
      "model_name": "LayoutModel",
      "state": {}
     },
     "7479931febba42449e4c343489a6b84c": {
      "model_module": "@jupyter-widgets/controls",
      "model_module_version": "1.5.0",
      "model_name": "DescriptionStyleModel",
      "state": {
       "description_width": ""
      }
     },
     "82edac3008b94b2aaf808ea39eb7bb32": {
      "model_module": "@jupyter-widgets/controls",
      "model_module_version": "1.5.0",
      "model_name": "HBoxModel",
      "state": {
       "children": [
        "IPY_MODEL_f19a966cbc444d6fb40968d8b1633653",
        "IPY_MODEL_94ef5bfebf3d43e3af73feabe7000472",
        "IPY_MODEL_883fd4dfb2eb44eb98b942d459fafe54"
       ],
       "layout": "IPY_MODEL_e9d4f1bf107b4a25a3d30e957ffe6621"
      }
     },
     "883fd4dfb2eb44eb98b942d459fafe54": {
      "model_module": "@jupyter-widgets/controls",
      "model_module_version": "1.5.0",
      "model_name": "HTMLModel",
      "state": {
       "layout": "IPY_MODEL_fb6cefc06460446d9e06d3e9c4f2f622",
       "style": "IPY_MODEL_0d8594457f654ef5b434c64c3746b7f1",
       "value": " \n            100% ⏱️00:00 ⏳00:00 ⚙️503.57it/s"
      }
     },
     "94ef5bfebf3d43e3af73feabe7000472": {
      "model_module": "@jupyter-widgets/controls",
      "model_module_version": "1.5.0",
      "model_name": "FloatProgressModel",
      "state": {
       "bar_style": "success",
       "layout": "IPY_MODEL_d84c5df96bdf49e1bf5feca75c6f4323",
       "max": 95,
       "style": "IPY_MODEL_9c43ec16eaff4f648cbe716e19c137da",
       "value": 95
      }
     },
     "9c43ec16eaff4f648cbe716e19c137da": {
      "model_module": "@jupyter-widgets/controls",
      "model_module_version": "1.5.0",
      "model_name": "ProgressStyleModel",
      "state": {
       "description_width": ""
      }
     },
     "d84c5df96bdf49e1bf5feca75c6f4323": {
      "model_module": "@jupyter-widgets/base",
      "model_module_version": "1.2.0",
      "model_name": "LayoutModel",
      "state": {
       "flex": "2"
      }
     },
     "e9d4f1bf107b4a25a3d30e957ffe6621": {
      "model_module": "@jupyter-widgets/base",
      "model_module_version": "1.2.0",
      "model_name": "LayoutModel",
      "state": {
       "display": "inline-flex",
       "flex_flow": "row wrap",
       "width": "100%"
      }
     },
     "f19a966cbc444d6fb40968d8b1633653": {
      "model_module": "@jupyter-widgets/controls",
      "model_module_version": "1.5.0",
      "model_name": "HTMLModel",
      "state": {
       "layout": "IPY_MODEL_68b4a819d1f741fea47cf10b4bba2ae9",
       "style": "IPY_MODEL_7479931febba42449e4c343489a6b84c",
       "value": "📄 95 of 95 📂 worse participants processed: "
      }
     },
     "fb6cefc06460446d9e06d3e9c4f2f622": {
      "model_module": "@jupyter-widgets/base",
      "model_module_version": "1.2.0",
      "model_name": "LayoutModel",
      "state": {}
     }
    },
    "version_major": 2,
    "version_minor": 0
   }
  }
 },
 "nbformat": 4,
 "nbformat_minor": 5
}
