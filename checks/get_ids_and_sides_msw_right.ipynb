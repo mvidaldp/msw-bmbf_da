{
 "cells": [
  {
   "cell_type": "code",
   "execution_count": 1,
   "id": "127d249a-62ec-496f-9b43-75d8fa75edd2",
   "metadata": {},
   "outputs": [],
   "source": [
    "import datetime\n",
    "import os\n",
    "\n",
    "import pandas as pd"
   ]
  },
  {
   "cell_type": "code",
   "execution_count": 2,
   "id": "e83cb741-7001-4289-9ba6-298792c2fd2e",
   "metadata": {},
   "outputs": [],
   "source": [
    "EXPO = \"MSW\"\n",
    "SIDE = \"right\""
   ]
  },
  {
   "cell_type": "code",
   "execution_count": 3,
   "id": "d6d21d1e-20c4-4138-b324-a184a4925aa9",
   "metadata": {},
   "outputs": [],
   "source": [
    "path = \"./ExperimentData\"\n",
    "files_exp = os.listdir(path)\n",
    "created_exp = []\n",
    "\n",
    "for f in files_exp:  # iterate over files\n",
    "    # remove hidden/config files and folders\n",
    "    if not f.endswith(\".raw\"):\n",
    "        files_exp.remove(f)\n",
    "    else:\n",
    "        created = os.path.getmtime(f\"{path}/{f}\")  # creation timestamp\n",
    "        created = datetime.datetime.fromtimestamp(created)  # translate to dt\n",
    "        created = created.strftime(\"%d.%m.%Y %H:%M\")  # arrange it\n",
    "        created_exp.append(created)  # store it\n",
    "\n",
    "uids_exp = set([f.split(\"-\")[2].split(\".\")[0] for f in files_exp])"
   ]
  },
  {
   "cell_type": "code",
   "execution_count": 4,
   "id": "8faf9e63-69d9-4087-8d70-17fba6999340",
   "metadata": {},
   "outputs": [],
   "source": [
    "path = \"./EventData\"\n",
    "files_eve = os.listdir(path)\n",
    "created_eve = []\n",
    "\n",
    "for f in files_eve:  # iterate over files\n",
    "    # remove hidden/config files and folders\n",
    "    if not f.endswith(\".bin\"):\n",
    "        files_eve.remove(f)\n",
    "    else:\n",
    "        created = os.path.getmtime(f\"{path}/{f}\")  # creation timestamp\n",
    "        created = datetime.datetime.fromtimestamp(created)  # translate to dt\n",
    "        created = created.strftime(\"%d.%m.%Y %H:%M\")  # arrange it\n",
    "        created_eve.append(created)  # store it\n",
    "\n",
    "uids_eve = set([f.split(\"-\")[2].split(\".\")[0] for f in files_eve])"
   ]
  },
  {
   "cell_type": "code",
   "execution_count": 5,
   "id": "50e4a4b9-c822-44f3-bfd6-c4a446780220",
   "metadata": {},
   "outputs": [
    {
     "data": {
      "text/plain": [
       "set()"
      ]
     },
     "execution_count": 5,
     "metadata": {},
     "output_type": "execute_result"
    }
   ],
   "source": [
    "uids_exp - uids_eve"
   ]
  },
  {
   "cell_type": "code",
   "execution_count": 6,
   "id": "9f751120-299e-490d-bb30-036f557e0412",
   "metadata": {},
   "outputs": [
    {
     "data": {
      "text/plain": [
       "set()"
      ]
     },
     "execution_count": 6,
     "metadata": {},
     "output_type": "execute_result"
    }
   ],
   "source": [
    "uids_eve - uids_exp"
   ]
  },
  {
   "cell_type": "code",
   "execution_count": 7,
   "id": "61d34f4e-29ae-4802-99b2-3e0c0a2b6dc6",
   "metadata": {},
   "outputs": [
    {
     "name": "stdout",
     "output_type": "stream",
     "text": [
      "10366\n",
      "10366\n",
      "0\n"
     ]
    }
   ],
   "source": [
    "print(len(uids_exp))\n",
    "print(len(uids_eve))\n",
    "print(abs(len(uids_exp) - len(uids_eve)))"
   ]
  },
  {
   "cell_type": "code",
   "execution_count": 8,
   "id": "7bc8d7c0-31c0-48ac-8941-ea2d5b3f675d",
   "metadata": {},
   "outputs": [],
   "source": [
    "# select shortest uid lis, there are 20 missing recordings from one side\n",
    "id_side = [\n",
    "    {\n",
    "        \"id\": f.split(\"-\")[2].split(\".\")[0],\n",
    "        \"created\": created_exp[i],\n",
    "        \"expo\": EXPO,\n",
    "        \"side\": SIDE,\n",
    "    }\n",
    "    for i, f in enumerate(files_exp)\n",
    "]"
   ]
  },
  {
   "cell_type": "code",
   "execution_count": 9,
   "id": "f465cb95-dd4a-421e-bae8-a8e766b45dcf",
   "metadata": {},
   "outputs": [
    {
     "data": {
      "text/html": [
       "<div>\n",
       "<style scoped>\n",
       "    .dataframe tbody tr th:only-of-type {\n",
       "        vertical-align: middle;\n",
       "    }\n",
       "\n",
       "    .dataframe tbody tr th {\n",
       "        vertical-align: top;\n",
       "    }\n",
       "\n",
       "    .dataframe thead th {\n",
       "        text-align: right;\n",
       "    }\n",
       "</style>\n",
       "<table border=\"1\" class=\"dataframe\">\n",
       "  <thead>\n",
       "    <tr style=\"text-align: right;\">\n",
       "      <th></th>\n",
       "      <th>id</th>\n",
       "      <th>created</th>\n",
       "      <th>expo</th>\n",
       "      <th>side</th>\n",
       "    </tr>\n",
       "  </thead>\n",
       "  <tbody>\n",
       "    <tr>\n",
       "      <th>9070</th>\n",
       "      <td>9a7cf99094a7446eab3d27841d672fd5</td>\n",
       "      <td>01.06.2019 12:02</td>\n",
       "      <td>MSW</td>\n",
       "      <td>right</td>\n",
       "    </tr>\n",
       "    <tr>\n",
       "      <th>2959</th>\n",
       "      <td>ddd3ef19c983441db648c17d46595a52</td>\n",
       "      <td>01.06.2019 12:10</td>\n",
       "      <td>MSW</td>\n",
       "      <td>right</td>\n",
       "    </tr>\n",
       "    <tr>\n",
       "      <th>3058</th>\n",
       "      <td>e4f5dce0407b45fa90aeb6afa5768c23</td>\n",
       "      <td>01.06.2019 12:15</td>\n",
       "      <td>MSW</td>\n",
       "      <td>right</td>\n",
       "    </tr>\n",
       "    <tr>\n",
       "      <th>4969</th>\n",
       "      <td>7385122ad478473da4fcaa50c5832f95</td>\n",
       "      <td>01.06.2019 12:18</td>\n",
       "      <td>MSW</td>\n",
       "      <td>right</td>\n",
       "    </tr>\n",
       "    <tr>\n",
       "      <th>9993</th>\n",
       "      <td>e0ac23be20324e22b3585331320a3b2c</td>\n",
       "      <td>01.06.2019 12:24</td>\n",
       "      <td>MSW</td>\n",
       "      <td>right</td>\n",
       "    </tr>\n",
       "    <tr>\n",
       "      <th>...</th>\n",
       "      <td>...</td>\n",
       "      <td>...</td>\n",
       "      <td>...</td>\n",
       "      <td>...</td>\n",
       "    </tr>\n",
       "    <tr>\n",
       "      <th>6983</th>\n",
       "      <td>054085c5d302445eb5f5b934684373b1</td>\n",
       "      <td>31.05.2019 19:04</td>\n",
       "      <td>MSW</td>\n",
       "      <td>right</td>\n",
       "    </tr>\n",
       "    <tr>\n",
       "      <th>2070</th>\n",
       "      <td>9de5c30e5aac426aa8f9d3f6750dd52b</td>\n",
       "      <td>31.05.2019 19:07</td>\n",
       "      <td>MSW</td>\n",
       "      <td>right</td>\n",
       "    </tr>\n",
       "    <tr>\n",
       "      <th>7336</th>\n",
       "      <td>1e9c667bc9bc47389d17bd031e57bc6a</td>\n",
       "      <td>31.05.2019 19:11</td>\n",
       "      <td>MSW</td>\n",
       "      <td>right</td>\n",
       "    </tr>\n",
       "    <tr>\n",
       "      <th>580</th>\n",
       "      <td>2b8ccd7b26f949b1bff6861fe6031349</td>\n",
       "      <td>31.05.2019 19:30</td>\n",
       "      <td>MSW</td>\n",
       "      <td>right</td>\n",
       "    </tr>\n",
       "    <tr>\n",
       "      <th>8241</th>\n",
       "      <td>5fa1a65af47545d1b71ccf712479db1c</td>\n",
       "      <td>31.05.2019 19:45</td>\n",
       "      <td>MSW</td>\n",
       "      <td>right</td>\n",
       "    </tr>\n",
       "  </tbody>\n",
       "</table>\n",
       "<p>10366 rows × 4 columns</p>\n",
       "</div>"
      ],
      "text/plain": [
       "                                    id           created expo   side\n",
       "9070  9a7cf99094a7446eab3d27841d672fd5  01.06.2019 12:02  MSW  right\n",
       "2959  ddd3ef19c983441db648c17d46595a52  01.06.2019 12:10  MSW  right\n",
       "3058  e4f5dce0407b45fa90aeb6afa5768c23  01.06.2019 12:15  MSW  right\n",
       "4969  7385122ad478473da4fcaa50c5832f95  01.06.2019 12:18  MSW  right\n",
       "9993  e0ac23be20324e22b3585331320a3b2c  01.06.2019 12:24  MSW  right\n",
       "...                                ...               ...  ...    ...\n",
       "6983  054085c5d302445eb5f5b934684373b1  31.05.2019 19:04  MSW  right\n",
       "2070  9de5c30e5aac426aa8f9d3f6750dd52b  31.05.2019 19:07  MSW  right\n",
       "7336  1e9c667bc9bc47389d17bd031e57bc6a  31.05.2019 19:11  MSW  right\n",
       "580   2b8ccd7b26f949b1bff6861fe6031349  31.05.2019 19:30  MSW  right\n",
       "8241  5fa1a65af47545d1b71ccf712479db1c  31.05.2019 19:45  MSW  right\n",
       "\n",
       "[10366 rows x 4 columns]"
      ]
     },
     "execution_count": 9,
     "metadata": {},
     "output_type": "execute_result"
    }
   ],
   "source": [
    "id_side = pd.DataFrame(id_side)\n",
    "id_side = id_side.sort_values(\"created\")\n",
    "id_side"
   ]
  },
  {
   "cell_type": "code",
   "execution_count": 10,
   "id": "b1f04730-6d3f-40ea-8581-a17598cecfd8",
   "metadata": {},
   "outputs": [],
   "source": [
    "id_side.to_csv(f\"./{EXPO.lower()}_{SIDE}_uids.csv\", index=False)"
   ]
  }
 ],
 "metadata": {
  "kernelspec": {
   "display_name": "Python (lsl_eeg)",
   "language": "python",
   "name": "lsl_eeg"
  },
  "language_info": {
   "codemirror_mode": {
    "name": "ipython",
    "version": 3
   },
   "file_extension": ".py",
   "mimetype": "text/x-python",
   "name": "python",
   "nbconvert_exporter": "python",
   "pygments_lexer": "ipython3",
   "version": "3.9.6"
  },
  "widgets": {
   "application/vnd.jupyter.widget-state+json": {
    "state": {},
    "version_major": 2,
    "version_minor": 0
   }
  }
 },
 "nbformat": 4,
 "nbformat_minor": 5
}
