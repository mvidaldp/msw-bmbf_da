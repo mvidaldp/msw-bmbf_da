{
 "cells": [
  {
   "cell_type": "code",
   "execution_count": 1,
   "id": "127d249a-62ec-496f-9b43-75d8fa75edd2",
   "metadata": {},
   "outputs": [],
   "source": [
    "import datetime\n",
    "import os\n",
    "\n",
    "import pandas as pd"
   ]
  },
  {
   "cell_type": "code",
   "execution_count": 2,
   "id": "e83cb741-7001-4289-9ba6-298792c2fd2e",
   "metadata": {},
   "outputs": [],
   "source": [
    "EXPO = \"MSW\"\n",
    "SIDE = \"left\""
   ]
  },
  {
   "cell_type": "code",
   "execution_count": 3,
   "id": "d6d21d1e-20c4-4138-b324-a184a4925aa9",
   "metadata": {},
   "outputs": [],
   "source": [
    "path = \"./ExperimentData\"\n",
    "files_exp = os.listdir(path)\n",
    "created_exp = []\n",
    "\n",
    "for f in files_exp:  # iterate over files\n",
    "    # remove hidden/config files and folders\n",
    "    if not f.endswith(\".raw\"):\n",
    "        files_exp.remove(f)\n",
    "    else:\n",
    "        created = os.path.getmtime(f\"{path}/{f}\")  # creation timestamp\n",
    "        created = datetime.datetime.fromtimestamp(created)  # translate to dt\n",
    "        created = created.strftime(\"%d.%m.%Y %H:%M\")  # arrange it\n",
    "        created_exp.append(created)  # store it\n",
    "\n",
    "uids_exp = set([f.split(\"-\")[2].split(\".\")[0] for f in files_exp])"
   ]
  },
  {
   "cell_type": "code",
   "execution_count": 4,
   "id": "8faf9e63-69d9-4087-8d70-17fba6999340",
   "metadata": {},
   "outputs": [],
   "source": [
    "path = \"./EventData\"\n",
    "files_eve = os.listdir(path)\n",
    "created_eve = []\n",
    "\n",
    "for f in files_eve:  # iterate over files\n",
    "    # remove hidden/config files and folders\n",
    "    if not f.endswith(\".bin\"):\n",
    "        files_eve.remove(f)\n",
    "    else:\n",
    "        created = os.path.getmtime(f\"{path}/{f}\")  # creation timestamp\n",
    "        created = datetime.datetime.fromtimestamp(created)  # translate to dt\n",
    "        created = created.strftime(\"%d.%m.%Y %H:%M\")  # arrange it\n",
    "        created_eve.append(created)  # store it\n",
    "\n",
    "uids_eve = set([f.split(\"-\")[2].split(\".\")[0] for f in files_eve])"
   ]
  },
  {
   "cell_type": "code",
   "execution_count": 5,
   "id": "50e4a4b9-c822-44f3-bfd6-c4a446780220",
   "metadata": {},
   "outputs": [
    {
     "data": {
      "text/plain": [
       "set()"
      ]
     },
     "execution_count": 5,
     "metadata": {},
     "output_type": "execute_result"
    }
   ],
   "source": [
    "uids_exp - uids_eve"
   ]
  },
  {
   "cell_type": "code",
   "execution_count": 6,
   "id": "9f751120-299e-490d-bb30-036f557e0412",
   "metadata": {},
   "outputs": [
    {
     "data": {
      "text/plain": [
       "set()"
      ]
     },
     "execution_count": 6,
     "metadata": {},
     "output_type": "execute_result"
    }
   ],
   "source": [
    "uids_eve - uids_exp"
   ]
  },
  {
   "cell_type": "code",
   "execution_count": 7,
   "id": "61d34f4e-29ae-4802-99b2-3e0c0a2b6dc6",
   "metadata": {},
   "outputs": [
    {
     "name": "stdout",
     "output_type": "stream",
     "text": [
      "13970\n",
      "13970\n",
      "0\n"
     ]
    }
   ],
   "source": [
    "print(len(uids_exp))\n",
    "print(len(uids_eve))\n",
    "print(abs(len(uids_exp) - len(uids_eve)))"
   ]
  },
  {
   "cell_type": "code",
   "execution_count": 8,
   "id": "7bc8d7c0-31c0-48ac-8941-ea2d5b3f675d",
   "metadata": {},
   "outputs": [],
   "source": [
    "# select shortest uid lis, there are 20 missing recordings from one side\n",
    "id_side = [\n",
    "    {\n",
    "        \"id\": f.split(\"-\")[2].split(\".\")[0],\n",
    "        \"created\": created_exp[i],\n",
    "        \"expo\": EXPO,\n",
    "        \"side\": SIDE,\n",
    "    }\n",
    "    for i, f in enumerate(files_exp)\n",
    "]"
   ]
  },
  {
   "cell_type": "code",
   "execution_count": 9,
   "id": "f465cb95-dd4a-421e-bae8-a8e766b45dcf",
   "metadata": {},
   "outputs": [
    {
     "data": {
      "text/html": [
       "<div>\n",
       "<style scoped>\n",
       "    .dataframe tbody tr th:only-of-type {\n",
       "        vertical-align: middle;\n",
       "    }\n",
       "\n",
       "    .dataframe tbody tr th {\n",
       "        vertical-align: top;\n",
       "    }\n",
       "\n",
       "    .dataframe thead th {\n",
       "        text-align: right;\n",
       "    }\n",
       "</style>\n",
       "<table border=\"1\" class=\"dataframe\">\n",
       "  <thead>\n",
       "    <tr style=\"text-align: right;\">\n",
       "      <th></th>\n",
       "      <th>id</th>\n",
       "      <th>created</th>\n",
       "      <th>expo</th>\n",
       "      <th>side</th>\n",
       "    </tr>\n",
       "  </thead>\n",
       "  <tbody>\n",
       "    <tr>\n",
       "      <th>5067</th>\n",
       "      <td>155e035d01544c8b82152d6831787980</td>\n",
       "      <td>01.06.2019 11:38</td>\n",
       "      <td>MSW</td>\n",
       "      <td>left</td>\n",
       "    </tr>\n",
       "    <tr>\n",
       "      <th>4744</th>\n",
       "      <td>0382fc9d07994096ae4853e8b177f3ca</td>\n",
       "      <td>01.06.2019 12:02</td>\n",
       "      <td>MSW</td>\n",
       "      <td>left</td>\n",
       "    </tr>\n",
       "    <tr>\n",
       "      <th>8111</th>\n",
       "      <td>c226385e176a49c8af9a854554c3b403</td>\n",
       "      <td>01.06.2019 12:11</td>\n",
       "      <td>MSW</td>\n",
       "      <td>left</td>\n",
       "    </tr>\n",
       "    <tr>\n",
       "      <th>5788</th>\n",
       "      <td>3ebdc6d50ac042ec81b0e1318a5c5199</td>\n",
       "      <td>01.06.2019 12:15</td>\n",
       "      <td>MSW</td>\n",
       "      <td>left</td>\n",
       "    </tr>\n",
       "    <tr>\n",
       "      <th>8484</th>\n",
       "      <td>d716dcdaa06a499e9fa723d758e5c703</td>\n",
       "      <td>01.06.2019 12:19</td>\n",
       "      <td>MSW</td>\n",
       "      <td>left</td>\n",
       "    </tr>\n",
       "    <tr>\n",
       "      <th>...</th>\n",
       "      <td>...</td>\n",
       "      <td>...</td>\n",
       "      <td>...</td>\n",
       "      <td>...</td>\n",
       "    </tr>\n",
       "    <tr>\n",
       "      <th>1091</th>\n",
       "      <td>3adde848f6cf481ba56379a0b2bd9117</td>\n",
       "      <td>31.08.2019 14:25</td>\n",
       "      <td>MSW</td>\n",
       "      <td>left</td>\n",
       "    </tr>\n",
       "    <tr>\n",
       "      <th>10321</th>\n",
       "      <td>3aee0db4fbf94a6bb72e8bfe8601ac97</td>\n",
       "      <td>31.08.2019 14:49</td>\n",
       "      <td>MSW</td>\n",
       "      <td>left</td>\n",
       "    </tr>\n",
       "    <tr>\n",
       "      <th>7875</th>\n",
       "      <td>b4eed6ac55db4480841a3c708931d8c3</td>\n",
       "      <td>31.08.2019 16:12</td>\n",
       "      <td>MSW</td>\n",
       "      <td>left</td>\n",
       "    </tr>\n",
       "    <tr>\n",
       "      <th>7486</th>\n",
       "      <td>9d31731aaded44139207164c63c6e923</td>\n",
       "      <td>31.08.2019 16:17</td>\n",
       "      <td>MSW</td>\n",
       "      <td>left</td>\n",
       "    </tr>\n",
       "    <tr>\n",
       "      <th>5212</th>\n",
       "      <td>1eb0d2a71865456281fdb8a108c2b7d0</td>\n",
       "      <td>31.08.2019 16:22</td>\n",
       "      <td>MSW</td>\n",
       "      <td>left</td>\n",
       "    </tr>\n",
       "  </tbody>\n",
       "</table>\n",
       "<p>13970 rows × 4 columns</p>\n",
       "</div>"
      ],
      "text/plain": [
       "                                     id           created expo  side\n",
       "5067   155e035d01544c8b82152d6831787980  01.06.2019 11:38  MSW  left\n",
       "4744   0382fc9d07994096ae4853e8b177f3ca  01.06.2019 12:02  MSW  left\n",
       "8111   c226385e176a49c8af9a854554c3b403  01.06.2019 12:11  MSW  left\n",
       "5788   3ebdc6d50ac042ec81b0e1318a5c5199  01.06.2019 12:15  MSW  left\n",
       "8484   d716dcdaa06a499e9fa723d758e5c703  01.06.2019 12:19  MSW  left\n",
       "...                                 ...               ...  ...   ...\n",
       "1091   3adde848f6cf481ba56379a0b2bd9117  31.08.2019 14:25  MSW  left\n",
       "10321  3aee0db4fbf94a6bb72e8bfe8601ac97  31.08.2019 14:49  MSW  left\n",
       "7875   b4eed6ac55db4480841a3c708931d8c3  31.08.2019 16:12  MSW  left\n",
       "7486   9d31731aaded44139207164c63c6e923  31.08.2019 16:17  MSW  left\n",
       "5212   1eb0d2a71865456281fdb8a108c2b7d0  31.08.2019 16:22  MSW  left\n",
       "\n",
       "[13970 rows x 4 columns]"
      ]
     },
     "execution_count": 9,
     "metadata": {},
     "output_type": "execute_result"
    }
   ],
   "source": [
    "id_side = pd.DataFrame(id_side)\n",
    "id_side = id_side.sort_values(\"created\")\n",
    "id_side"
   ]
  },
  {
   "cell_type": "code",
   "execution_count": 10,
   "id": "b1f04730-6d3f-40ea-8581-a17598cecfd8",
   "metadata": {},
   "outputs": [],
   "source": [
    "id_side.to_csv(f\"./{EXPO.lower()}_{SIDE}_uids.csv\", index=False)"
   ]
  }
 ],
 "metadata": {
  "kernelspec": {
   "display_name": "Python (lsl_eeg)",
   "language": "python",
   "name": "lsl_eeg"
  },
  "language_info": {
   "codemirror_mode": {
    "name": "ipython",
    "version": 3
   },
   "file_extension": ".py",
   "mimetype": "text/x-python",
   "name": "python",
   "nbconvert_exporter": "python",
   "pygments_lexer": "ipython3",
   "version": "3.9.6"
  },
  "widgets": {
   "application/vnd.jupyter.widget-state+json": {
    "state": {},
    "version_major": 2,
    "version_minor": 0
   }
  }
 },
 "nbformat": 4,
 "nbformat_minor": 5
}
