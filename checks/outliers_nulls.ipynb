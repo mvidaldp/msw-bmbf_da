{
 "cells": [
  {
   "cell_type": "markdown",
   "metadata": {
    "tags": []
   },
   "source": [
    "##### __Dependencies__"
   ]
  },
  {
   "cell_type": "code",
   "execution_count": 1,
   "metadata": {},
   "outputs": [],
   "source": [
    "import copy  # copy big/deep objects by value\n",
    "import datetime  # datetime operations\n",
    "import itertools  # operate with iterators\n",
    "import json  # read/write from/into json format\n",
    "import os  # OS operations (read/write files/folders)\n",
    "import warnings  # hide warnings\n",
    "\n",
    "# process parallelization\n",
    "from multiprocessing import Manager, Pool, RawArray, cpu_count\n",
    "\n",
    "import matplotlib.patches as mpatches  # create custom plot legends\n",
    "import matplotlib.pyplot as plt  # mother of plots focr Python\n",
    "import matplotlib.ticker as ticker  # matplotlib ticker utils\n",
    "import numpy as np  # array/matrix operations (e.g. linear algebra)\n",
    "import pandas as pd  # operate with dataframes\n",
    "import seaborn as sns  # matplotlib plotting nice with shortcuts\n",
    "from IPython.display import display  # print nicely\n",
    "from matplotlib.lines import Line2D  # matplotlib custom lines\n",
    "from scipy import stats  # statistical tests\n",
    "from tqdm.notebook import tqdm  # mother of progressbars for Python\n",
    "\n",
    "# from matplotlib.ticker import FormatStrFormatter  # tick formatter"
   ]
  },
  {
   "cell_type": "markdown",
   "metadata": {
    "tags": []
   },
   "source": [
    "##### __Options and constants__"
   ]
  },
  {
   "cell_type": "code",
   "execution_count": 2,
   "metadata": {},
   "outputs": [
    {
     "name": "stdout",
     "output_type": "stream",
     "text": [
      "Total CPU threads: 16\n"
     ]
    }
   ],
   "source": [
    "warnings.filterwarnings(\"ignore\")\n",
    "\n",
    "# progress bar customized format\n",
    "B_FORMAT = \"\"\"📄 {n_fmt} of {total_fmt} {desc} processed: {bar} \n",
    "            {percentage:3.0f}% ⏱️{elapsed} ⏳{remaining} ⚙️{rate_fmt}{postfix}\"\"\"\n",
    "\n",
    "CHECK = \"nulls_%\"\n",
    "\n",
    "# specify decimals format on pandas tables\n",
    "pd.options.display.float_format = \"{:.2f}\".format\n",
    "\n",
    "CORES = cpu_count()  # number of cpu threads for multiprocessing\n",
    "print(f\"Total CPU threads: {CORES}\")"
   ]
  },
  {
   "cell_type": "markdown",
   "metadata": {
    "tags": []
   },
   "source": [
    "##### __Helper functions__"
   ]
  },
  {
   "cell_type": "code",
   "execution_count": 3,
   "metadata": {},
   "outputs": [],
   "source": [
    "def pbar_fork_hack():\n",
    "    \"\"\"\n",
    "    Hack to enforce progress bars to be displayed by fork processes on\n",
    "    IPython Apps like Jupyter Notebooks.\n",
    "\n",
    "    Avoids [IPKernelApp] WARNING | WARNING: attempted to send message from fork\n",
    "\n",
    "    Important: pass this function as argument for the initializer parameter\n",
    "    while initializing a multiprocessing pool to make it work. E.g.:\n",
    "\n",
    "    pool = Pool(processes=N_CORES, initializer=pbar_fork_hack)\n",
    "\n",
    "    Source:\n",
    "     - https://github.com/ipython/ipython/issues/11049#issue-306086846\n",
    "     - https://github.com/tqdm/tqdm/issues/485#issuecomment-473338308\n",
    "    \"\"\"\n",
    "    print(\" \", end=\"\", flush=True)\n",
    "\n",
    "\n",
    "def bartlett_test(df):\n",
    "    # check if the variance is homogeneous\n",
    "    # collect conditions\n",
    "    conds = df.condition.unique()\n",
    "\n",
    "    print(f\"{CHECK} variance per condition:\")\n",
    "    cond_var = pd.DataFrame(columns=conds)\n",
    "    for cond in conds:\n",
    "        cond_var[cond] = df[df.condition == cond].var()\n",
    "    display(cond_var.loc[CHECK])\n",
    "\n",
    "    # check for variance homogeneity using Bartlett's test:\n",
    "    bartlett_pv = stats.bartlett(\n",
    "        df[df.condition == \"AVAS\"][CHECK],\n",
    "        df[df.condition == \"TaxiDriver\"][CHECK],\n",
    "        df[df.condition == \"RadioTalk\"][CHECK],\n",
    "    )[1]\n",
    "\n",
    "    print(f\"Bartlett's p-value is {bartlett_pv:.12f}\")\n",
    "    print(f\"So, is the variance ({CHECK}) between groups homogeneous (p > 0.05)?\")\n",
    "    res = bartlett_pv > 0.05\n",
    "    print(res)\n",
    "    return res\n",
    "\n",
    "\n",
    "def t_test(df, eq_var):\n",
    "    # conditions\n",
    "    conds = df.condition.unique()\n",
    "    # combinations of conditions to test\n",
    "    combs = list(itertools.combinations(conds, 2))\n",
    "    # tranlate combinations (tuples) to column names\n",
    "    combs_str = [f\"{c[0]} vs {c[1]}\" for c in combs]\n",
    "    # df result to fill out\n",
    "    res = pd.DataFrame(columns=combs_str)\n",
    "\n",
    "    # iterate over combinations to compute t-test\n",
    "    for i, c in enumerate(combs_str):\n",
    "        # select groups to test\n",
    "        first_grp = df[df.condition == combs[i][0]][CHECK]\n",
    "        second_grp = df[df.condition == combs[i][1]][CHECK]\n",
    "        # p-value using Student's (equal var) or Welch's t-test (diff var)\n",
    "        values = stats.ttest_ind(first_grp, second_grp, equal_var=eq_var)\n",
    "        res.loc[\"p-value\", c] = values[1]\n",
    "        check = \"✔️\" if values[1] < 0.05 else \"❌\"\n",
    "        res.loc[\"significance\", c] = check\n",
    "\n",
    "    display(res)"
   ]
  },
  {
   "cell_type": "code",
   "execution_count": 4,
   "metadata": {},
   "outputs": [
    {
     "data": {
      "text/html": [
       "<div>\n",
       "<style scoped>\n",
       "    .dataframe tbody tr th:only-of-type {\n",
       "        vertical-align: middle;\n",
       "    }\n",
       "\n",
       "    .dataframe tbody tr th {\n",
       "        vertical-align: top;\n",
       "    }\n",
       "\n",
       "    .dataframe thead th {\n",
       "        text-align: right;\n",
       "    }\n",
       "</style>\n",
       "<table border=\"1\" class=\"dataframe\">\n",
       "  <thead>\n",
       "    <tr style=\"text-align: right;\">\n",
       "      <th></th>\n",
       "      <th>date</th>\n",
       "      <th>expo</th>\n",
       "      <th>side</th>\n",
       "      <th>condition</th>\n",
       "      <th>nulls_%</th>\n",
       "      <th>sky_%</th>\n",
       "      <th>insidecar_%</th>\n",
       "      <th>questionnaire</th>\n",
       "    </tr>\n",
       "    <tr>\n",
       "      <th>id</th>\n",
       "      <th></th>\n",
       "      <th></th>\n",
       "      <th></th>\n",
       "      <th></th>\n",
       "      <th></th>\n",
       "      <th></th>\n",
       "      <th></th>\n",
       "      <th></th>\n",
       "    </tr>\n",
       "  </thead>\n",
       "  <tbody>\n",
       "    <tr>\n",
       "      <th>4f583872ffed48249874b00f3d389cfc</th>\n",
       "      <td>2019-05-14 13:21:00</td>\n",
       "      <td>MSW</td>\n",
       "      <td>right</td>\n",
       "      <td>TaxiDriver</td>\n",
       "      <td>1.61</td>\n",
       "      <td>13.74</td>\n",
       "      <td>0.49</td>\n",
       "      <td>No</td>\n",
       "    </tr>\n",
       "    <tr>\n",
       "      <th>33d68ad55ef544fab9fd08108e3913ca</th>\n",
       "      <td>2019-05-14 16:44:00</td>\n",
       "      <td>MSW</td>\n",
       "      <td>right</td>\n",
       "      <td>AVAS</td>\n",
       "      <td>0.04</td>\n",
       "      <td>0.67</td>\n",
       "      <td>0.00</td>\n",
       "      <td>No</td>\n",
       "    </tr>\n",
       "    <tr>\n",
       "      <th>8598a83e2af441b8bcd0ae5d84beb875</th>\n",
       "      <td>2019-05-14 16:51:00</td>\n",
       "      <td>MSW</td>\n",
       "      <td>right</td>\n",
       "      <td>RadioTalk</td>\n",
       "      <td>0.04</td>\n",
       "      <td>33.13</td>\n",
       "      <td>0.00</td>\n",
       "      <td>No</td>\n",
       "    </tr>\n",
       "    <tr>\n",
       "      <th>37d7e67934974217830bb429bba7fd76</th>\n",
       "      <td>2019-05-14 16:54:00</td>\n",
       "      <td>MSW</td>\n",
       "      <td>left</td>\n",
       "      <td>AVAS</td>\n",
       "      <td>0.82</td>\n",
       "      <td>18.61</td>\n",
       "      <td>0.37</td>\n",
       "      <td>No</td>\n",
       "    </tr>\n",
       "    <tr>\n",
       "      <th>42bac596059749b5b8e8e83ae61de9b4</th>\n",
       "      <td>2019-05-14 16:56:00</td>\n",
       "      <td>MSW</td>\n",
       "      <td>right</td>\n",
       "      <td>TaxiDriver</td>\n",
       "      <td>0.22</td>\n",
       "      <td>26.99</td>\n",
       "      <td>0.00</td>\n",
       "      <td>No</td>\n",
       "    </tr>\n",
       "    <tr>\n",
       "      <th>...</th>\n",
       "      <td>...</td>\n",
       "      <td>...</td>\n",
       "      <td>...</td>\n",
       "      <td>...</td>\n",
       "      <td>...</td>\n",
       "      <td>...</td>\n",
       "      <td>...</td>\n",
       "      <td>...</td>\n",
       "    </tr>\n",
       "    <tr>\n",
       "      <th>cfe9482181f74f80b88cd4b1c048ab94</th>\n",
       "      <td>2019-12-30 15:29:00</td>\n",
       "      <td>BMBF</td>\n",
       "      <td>right</td>\n",
       "      <td>AVAS</td>\n",
       "      <td>0.30</td>\n",
       "      <td>32.16</td>\n",
       "      <td>0.00</td>\n",
       "      <td>No</td>\n",
       "    </tr>\n",
       "    <tr>\n",
       "      <th>611d35a7c3e940cc82495e53c2a8532d</th>\n",
       "      <td>2020-01-03 16:12:00</td>\n",
       "      <td>BMBF</td>\n",
       "      <td>right</td>\n",
       "      <td>TaxiDriver</td>\n",
       "      <td>0.67</td>\n",
       "      <td>15.46</td>\n",
       "      <td>0.04</td>\n",
       "      <td>No</td>\n",
       "    </tr>\n",
       "    <tr>\n",
       "      <th>3b6fda285d9e412eb081986b2f22a2e3</th>\n",
       "      <td>2020-01-03 16:13:00</td>\n",
       "      <td>BMBF</td>\n",
       "      <td>left</td>\n",
       "      <td>AVAS</td>\n",
       "      <td>1.80</td>\n",
       "      <td>3.37</td>\n",
       "      <td>0.15</td>\n",
       "      <td>No</td>\n",
       "    </tr>\n",
       "    <tr>\n",
       "      <th>18ffb0abdc8642098c479380bfa533d1</th>\n",
       "      <td>2020-01-03 16:15:00</td>\n",
       "      <td>BMBF</td>\n",
       "      <td>left</td>\n",
       "      <td>RadioTalk</td>\n",
       "      <td>0.15</td>\n",
       "      <td>17.48</td>\n",
       "      <td>0.19</td>\n",
       "      <td>Yes</td>\n",
       "    </tr>\n",
       "    <tr>\n",
       "      <th>c06f123b35b74bb489ec239b1cac9eb4</th>\n",
       "      <td>2020-01-03 16:16:00</td>\n",
       "      <td>BMBF</td>\n",
       "      <td>right</td>\n",
       "      <td>TaxiDriver</td>\n",
       "      <td>0.19</td>\n",
       "      <td>2.58</td>\n",
       "      <td>1.01</td>\n",
       "      <td>No</td>\n",
       "    </tr>\n",
       "  </tbody>\n",
       "</table>\n",
       "<p>24356 rows × 8 columns</p>\n",
       "</div>"
      ],
      "text/plain": [
       "                                                 date  expo   side  \\\n",
       "id                                                                   \n",
       "4f583872ffed48249874b00f3d389cfc  2019-05-14 13:21:00   MSW  right   \n",
       "33d68ad55ef544fab9fd08108e3913ca  2019-05-14 16:44:00   MSW  right   \n",
       "8598a83e2af441b8bcd0ae5d84beb875  2019-05-14 16:51:00   MSW  right   \n",
       "37d7e67934974217830bb429bba7fd76  2019-05-14 16:54:00   MSW   left   \n",
       "42bac596059749b5b8e8e83ae61de9b4  2019-05-14 16:56:00   MSW  right   \n",
       "...                                               ...   ...    ...   \n",
       "cfe9482181f74f80b88cd4b1c048ab94  2019-12-30 15:29:00  BMBF  right   \n",
       "611d35a7c3e940cc82495e53c2a8532d  2020-01-03 16:12:00  BMBF  right   \n",
       "3b6fda285d9e412eb081986b2f22a2e3  2020-01-03 16:13:00  BMBF   left   \n",
       "18ffb0abdc8642098c479380bfa533d1  2020-01-03 16:15:00  BMBF   left   \n",
       "c06f123b35b74bb489ec239b1cac9eb4  2020-01-03 16:16:00  BMBF  right   \n",
       "\n",
       "                                   condition  nulls_%  sky_%  insidecar_%  \\\n",
       "id                                                                          \n",
       "4f583872ffed48249874b00f3d389cfc  TaxiDriver     1.61  13.74         0.49   \n",
       "33d68ad55ef544fab9fd08108e3913ca        AVAS     0.04   0.67         0.00   \n",
       "8598a83e2af441b8bcd0ae5d84beb875   RadioTalk     0.04  33.13         0.00   \n",
       "37d7e67934974217830bb429bba7fd76        AVAS     0.82  18.61         0.37   \n",
       "42bac596059749b5b8e8e83ae61de9b4  TaxiDriver     0.22  26.99         0.00   \n",
       "...                                      ...      ...    ...          ...   \n",
       "cfe9482181f74f80b88cd4b1c048ab94        AVAS     0.30  32.16         0.00   \n",
       "611d35a7c3e940cc82495e53c2a8532d  TaxiDriver     0.67  15.46         0.04   \n",
       "3b6fda285d9e412eb081986b2f22a2e3        AVAS     1.80   3.37         0.15   \n",
       "18ffb0abdc8642098c479380bfa533d1   RadioTalk     0.15  17.48         0.19   \n",
       "c06f123b35b74bb489ec239b1cac9eb4  TaxiDriver     0.19   2.58         1.01   \n",
       "\n",
       "                                 questionnaire  \n",
       "id                                              \n",
       "4f583872ffed48249874b00f3d389cfc            No  \n",
       "33d68ad55ef544fab9fd08108e3913ca            No  \n",
       "8598a83e2af441b8bcd0ae5d84beb875            No  \n",
       "37d7e67934974217830bb429bba7fd76            No  \n",
       "42bac596059749b5b8e8e83ae61de9b4            No  \n",
       "...                                        ...  \n",
       "cfe9482181f74f80b88cd4b1c048ab94            No  \n",
       "611d35a7c3e940cc82495e53c2a8532d            No  \n",
       "3b6fda285d9e412eb081986b2f22a2e3            No  \n",
       "18ffb0abdc8642098c479380bfa533d1           Yes  \n",
       "c06f123b35b74bb489ec239b1cac9eb4            No  \n",
       "\n",
       "[24356 rows x 8 columns]"
      ]
     },
     "execution_count": 4,
     "metadata": {},
     "output_type": "execute_result"
    }
   ],
   "source": [
    "# store and preview the enhanced participants list\n",
    "parts = pd.read_csv(\"./participants_clean.csv\", index_col=0)\n",
    "parts"
   ]
  },
  {
   "cell_type": "markdown",
   "metadata": {},
   "source": [
    "Gaussian fit of the distribution"
   ]
  },
  {
   "cell_type": "code",
   "execution_count": 5,
   "metadata": {},
   "outputs": [
    {
     "name": "stdout",
     "output_type": "stream",
     "text": [
      "mean: 0.5017379481285922\n",
      "std: 0.7243881065425092\n"
     ]
    },
    {
     "data": {
      "image/png": "[encoded data removed]",
      "text/plain": [
       "<Figure size 720x576 with 1 Axes>"
      ]
     },
     "metadata": {
      "needs_background": "light"
     },
     "output_type": "display_data"
    }
   ],
   "source": [
    "mean, std = stats.norm.fit(parts[CHECK])\n",
    "print(f\"mean: {mean}\")\n",
    "print(f\"std: {std}\")\n",
    "\n",
    "plt.rcParams[\"figure.figsize\"] = (10, 8)\n",
    "plt.hist(parts[CHECK], bins=30, density=True)\n",
    "xmin, xmax = plt.xlim()\n",
    "x = np.linspace(xmin, xmax, 100)\n",
    "y = stats.norm.pdf(x, mean, std)\n",
    "plt.plot(x, y)\n",
    "plt.axvline(mean, color=\"g\")\n",
    "plt.axvline(mean + std, color=\"orange\")\n",
    "plt.axvline(mean + std * 2, color=\"r\")\n",
    "\n",
    "plt.title(\n",
    "    f\"Gaussian fit of {CHECK} distribution \\n(mean=green, orange=mean+std, red=mean+2std)\"\n",
    ")\n",
    "plt.show()"
   ]
  },
  {
   "cell_type": "markdown",
   "metadata": {},
   "source": [
    "How many participants are outliers (more than 2 std)?"
   ]
  },
  {
   "cell_type": "code",
   "execution_count": 6,
   "metadata": {},
   "outputs": [
    {
     "name": "stdout",
     "output_type": "stream",
     "text": [
      "From a total of 24356 (100%) participants (mean=0.50, std=0.72):\n",
      "=> 1027 (4.22%) are clear outliers (> mean + 2 * std)\n",
      "=> 2952 (12.12%) are soft outliers (> mean + std)\n"
     ]
    }
   ],
   "source": [
    "total_parts = parts.index.size\n",
    "total_out = parts[parts[CHECK] > mean + std * 2].index.size\n",
    "perc_out = total_out * 100 / total_parts\n",
    "\n",
    "soft_out = parts[parts[CHECK] > mean + std].index.size\n",
    "perc_soft = soft_out * 100 / total_parts\n",
    "\n",
    "print(\n",
    "    f\"From a total of {total_parts} (100%) participants (mean={mean:.2f}, std={std:.2f}):\"\n",
    ")\n",
    "print(\n",
    "    f\"=> {total_out} ({perc_out:.2f}%) are clear outliers (> mean + 2 * std)\"\n",
    ")\n",
    "print(f\"=> {soft_out} ({perc_soft:.2f}%) are soft outliers (> mean + std)\")"
   ]
  },
  {
   "cell_type": "markdown",
   "metadata": {},
   "source": [
    "How are the conditions distributed before and after removing the outliers?"
   ]
  },
  {
   "cell_type": "code",
   "execution_count": 7,
   "metadata": {},
   "outputs": [
    {
     "data": {
      "image/png": "[encoded data removed]",
      "text/plain": [
       "<Figure size 720x576 with 1 Axes>"
      ]
     },
     "metadata": {
      "needs_background": "light"
     },
     "output_type": "display_data"
    },
    {
     "name": "stdout",
     "output_type": "stream",
     "text": [
      "nulls_% variance per condition:\n"
     ]
    },
    {
     "data": {
      "text/plain": [
       "TaxiDriver   0.50\n",
       "AVAS         0.53\n",
       "RadioTalk    0.55\n",
       "Name: nulls_%, dtype: float64"
      ]
     },
     "metadata": {},
     "output_type": "display_data"
    },
    {
     "name": "stdout",
     "output_type": "stream",
     "text": [
      "Bartlett's p-value is 0.000586085527\n",
      "So, is the variance (nulls_%) between groups homogeneous (p > 0.05)?\n",
      "False\n",
      "\n",
      "Is the difference between nulls_% between conditions significant?\n"
     ]
    },
    {
     "data": {
      "text/html": [
       "<div>\n",
       "<style scoped>\n",
       "    .dataframe tbody tr th:only-of-type {\n",
       "        vertical-align: middle;\n",
       "    }\n",
       "\n",
       "    .dataframe tbody tr th {\n",
       "        vertical-align: top;\n",
       "    }\n",
       "\n",
       "    .dataframe thead th {\n",
       "        text-align: right;\n",
       "    }\n",
       "</style>\n",
       "<table border=\"1\" class=\"dataframe\">\n",
       "  <thead>\n",
       "    <tr style=\"text-align: right;\">\n",
       "      <th></th>\n",
       "      <th>TaxiDriver vs AVAS</th>\n",
       "      <th>TaxiDriver vs RadioTalk</th>\n",
       "      <th>AVAS vs RadioTalk</th>\n",
       "    </tr>\n",
       "  </thead>\n",
       "  <tbody>\n",
       "    <tr>\n",
       "      <th>p-value</th>\n",
       "      <td>0.00000000063420813975</td>\n",
       "      <td>0.00000000000000983526</td>\n",
       "      <td>0.09417568092233147281</td>\n",
       "    </tr>\n",
       "    <tr>\n",
       "      <th>significance</th>\n",
       "      <td>✔️</td>\n",
       "      <td>✔️</td>\n",
       "      <td>❌</td>\n",
       "    </tr>\n",
       "  </tbody>\n",
       "</table>\n",
       "</div>"
      ],
      "text/plain": [
       "                 TaxiDriver vs AVAS TaxiDriver vs RadioTalk  \\\n",
       "p-value      0.00000000063420813975  0.00000000000000983526   \n",
       "significance                     ✔️                      ✔️   \n",
       "\n",
       "                  AVAS vs RadioTalk  \n",
       "p-value      0.09417568092233147281  \n",
       "significance                      ❌  "
      ]
     },
     "metadata": {},
     "output_type": "display_data"
    }
   ],
   "source": [
    "sel = parts\n",
    "N = sel.index.size\n",
    "title = f\"Before removing outliers\\nN={parts.index.size}\"\n",
    "ax = sel[\"condition\"].value_counts().plot(kind=\"bar\", title=title)\n",
    "for p in ax.patches:\n",
    "    height = p.get_height()\n",
    "    width = p.get_width()\n",
    "    x, y = p.get_xy()\n",
    "    perc = height * 100 / N\n",
    "    ax.annotate(\n",
    "        f\"{height} ({perc:.2f}%)\",\n",
    "        (x + width / 2, y + height * 1.02),\n",
    "        ha=\"center\",\n",
    "    )\n",
    "plt.show()\n",
    "\n",
    "eq_var = bartlett_test(sel)\n",
    "\n",
    "# specify decimals format on pandas tables\n",
    "pd.options.display.float_format = \"{:.20f}\".format\n",
    "print()\n",
    "print(f\"Is the difference between {CHECK} between conditions significant?\")\n",
    "t_test(sel, eq_var)"
   ]
  },
  {
   "cell_type": "code",
   "execution_count": 8,
   "metadata": {},
   "outputs": [
    {
     "data": {
      "image/png": "[encoded data removed]",
      "text/plain": [
       "<Figure size 720x576 with 1 Axes>"
      ]
     },
     "metadata": {
      "needs_background": "light"
     },
     "output_type": "display_data"
    },
    {
     "name": "stdout",
     "output_type": "stream",
     "text": [
      "nulls_% variance per condition:\n"
     ]
    },
    {
     "data": {
      "text/plain": [
       "TaxiDriver   0.19900442766168768838\n",
       "AVAS         0.22192187272834931755\n",
       "RadioTalk    0.22788111391935608752\n",
       "Name: nulls_%, dtype: float64"
      ]
     },
     "metadata": {},
     "output_type": "display_data"
    },
    {
     "name": "stdout",
     "output_type": "stream",
     "text": [
      "Bartlett's p-value is 0.000000002319\n",
      "So, is the variance (nulls_%) between groups homogeneous (p > 0.05)?\n",
      "False\n",
      "\n",
      "Is the difference between nulls_% between conditions significant?\n"
     ]
    },
    {
     "data": {
      "text/html": [
       "<div>\n",
       "<style scoped>\n",
       "    .dataframe tbody tr th:only-of-type {\n",
       "        vertical-align: middle;\n",
       "    }\n",
       "\n",
       "    .dataframe tbody tr th {\n",
       "        vertical-align: top;\n",
       "    }\n",
       "\n",
       "    .dataframe thead th {\n",
       "        text-align: right;\n",
       "    }\n",
       "</style>\n",
       "<table border=\"1\" class=\"dataframe\">\n",
       "  <thead>\n",
       "    <tr style=\"text-align: right;\">\n",
       "      <th></th>\n",
       "      <th>TaxiDriver vs AVAS</th>\n",
       "      <th>TaxiDriver vs RadioTalk</th>\n",
       "      <th>AVAS vs RadioTalk</th>\n",
       "    </tr>\n",
       "  </thead>\n",
       "  <tbody>\n",
       "    <tr>\n",
       "      <th>p-value</th>\n",
       "      <td>0.00000000001918055122</td>\n",
       "      <td>0.00000000000000000194</td>\n",
       "      <td>0.03360124862175574434</td>\n",
       "    </tr>\n",
       "    <tr>\n",
       "      <th>significance</th>\n",
       "      <td>✔️</td>\n",
       "      <td>✔️</td>\n",
       "      <td>✔️</td>\n",
       "    </tr>\n",
       "  </tbody>\n",
       "</table>\n",
       "</div>"
      ],
      "text/plain": [
       "                 TaxiDriver vs AVAS TaxiDriver vs RadioTalk  \\\n",
       "p-value      0.00000000001918055122  0.00000000000000000194   \n",
       "significance                     ✔️                      ✔️   \n",
       "\n",
       "                  AVAS vs RadioTalk  \n",
       "p-value      0.03360124862175574434  \n",
       "significance                     ✔️  "
      ]
     },
     "metadata": {},
     "output_type": "display_data"
    }
   ],
   "source": [
    "sel = parts[parts[CHECK] < mean + std * 2]\n",
    "N = sel.index.size\n",
    "title = f\"After removing clear outliers (mean + 2 std)\\nN={sel.index.size}\"\n",
    "ax = sel[\"condition\"].value_counts().plot(kind=\"bar\", title=title)\n",
    "for p in ax.patches:\n",
    "    height = p.get_height()\n",
    "    width = p.get_width()\n",
    "    x, y = p.get_xy()\n",
    "    perc = height * 100 / N\n",
    "    ax.annotate(\n",
    "        f\"{height} ({perc:.2f}%)\",\n",
    "        (x + width / 2, y + height * 1.02),\n",
    "        ha=\"center\",\n",
    "    )\n",
    "plt.show()\n",
    "\n",
    "eq_var = bartlett_test(sel)\n",
    "\n",
    "# specify decimals format on pandas tables\n",
    "pd.options.display.float_format = \"{:.20f}\".format\n",
    "print()\n",
    "print(f\"Is the difference between {CHECK} between conditions significant?\")\n",
    "t_test(sel, eq_var)"
   ]
  },
  {
   "cell_type": "code",
   "execution_count": 9,
   "metadata": {},
   "outputs": [
    {
     "data": {
      "image/png": "[encoded data removed]",
      "text/plain": [
       "<Figure size 720x576 with 1 Axes>"
      ]
     },
     "metadata": {
      "needs_background": "light"
     },
     "output_type": "display_data"
    },
    {
     "name": "stdout",
     "output_type": "stream",
     "text": [
      "nulls_% variance per condition:\n"
     ]
    },
    {
     "data": {
      "text/plain": [
       "AVAS         0.11112214570564148131\n",
       "RadioTalk    0.11663227101828818610\n",
       "TaxiDriver   0.09997649933063440519\n",
       "Name: nulls_%, dtype: float64"
      ]
     },
     "metadata": {},
     "output_type": "display_data"
    },
    {
     "name": "stdout",
     "output_type": "stream",
     "text": [
      "Bartlett's p-value is 0.000000000271\n",
      "So, is the variance (nulls_%) between groups homogeneous (p > 0.05)?\n",
      "False\n",
      "\n",
      "Is the difference between nulls_% between conditions significant?\n"
     ]
    },
    {
     "data": {
      "text/html": [
       "<div>\n",
       "<style scoped>\n",
       "    .dataframe tbody tr th:only-of-type {\n",
       "        vertical-align: middle;\n",
       "    }\n",
       "\n",
       "    .dataframe tbody tr th {\n",
       "        vertical-align: top;\n",
       "    }\n",
       "\n",
       "    .dataframe thead th {\n",
       "        text-align: right;\n",
       "    }\n",
       "</style>\n",
       "<table border=\"1\" class=\"dataframe\">\n",
       "  <thead>\n",
       "    <tr style=\"text-align: right;\">\n",
       "      <th></th>\n",
       "      <th>AVAS vs RadioTalk</th>\n",
       "      <th>AVAS vs TaxiDriver</th>\n",
       "      <th>RadioTalk vs TaxiDriver</th>\n",
       "    </tr>\n",
       "  </thead>\n",
       "  <tbody>\n",
       "    <tr>\n",
       "      <th>p-value</th>\n",
       "      <td>0.01369605918057864580</td>\n",
       "      <td>0.00000000045300649807</td>\n",
       "      <td>0.00000000000000000764</td>\n",
       "    </tr>\n",
       "    <tr>\n",
       "      <th>significance</th>\n",
       "      <td>✔️</td>\n",
       "      <td>✔️</td>\n",
       "      <td>✔️</td>\n",
       "    </tr>\n",
       "  </tbody>\n",
       "</table>\n",
       "</div>"
      ],
      "text/plain": [
       "                  AVAS vs RadioTalk     AVAS vs TaxiDriver  \\\n",
       "p-value      0.01369605918057864580 0.00000000045300649807   \n",
       "significance                     ✔️                     ✔️   \n",
       "\n",
       "             RadioTalk vs TaxiDriver  \n",
       "p-value       0.00000000000000000764  \n",
       "significance                      ✔️  "
      ]
     },
     "metadata": {},
     "output_type": "display_data"
    }
   ],
   "source": [
    "sel = parts[parts[CHECK] < mean + std]\n",
    "N = sel.index.size\n",
    "title = f\"After removing soft outliers (mean + std)\\nN={N}\"\n",
    "ax = sel[\"condition\"].value_counts().plot(kind=\"bar\", title=title)\n",
    "for p in ax.patches:\n",
    "    height = p.get_height()\n",
    "    width = p.get_width()\n",
    "    x, y = p.get_xy()\n",
    "    perc = height * 100 / N\n",
    "    ax.annotate(\n",
    "        f\"{height} ({perc:.2f}%)\",\n",
    "        (x + width / 2, y + height * 1.02),\n",
    "        ha=\"center\",\n",
    "    )\n",
    "plt.show()\n",
    "\n",
    "eq_var = bartlett_test(sel)\n",
    "\n",
    "# specify decimals format on pandas tables\n",
    "pd.options.display.float_format = \"{:.20f}\".format\n",
    "print()\n",
    "print(f\"Is the difference between {CHECK} between conditions significant?\")\n",
    "t_test(sel, eq_var)"
   ]
  },
  {
   "cell_type": "markdown",
   "metadata": {},
   "source": [
    "Store outliers"
   ]
  },
  {
   "cell_type": "code",
   "execution_count": 10,
   "metadata": {},
   "outputs": [
    {
     "data": {
      "text/html": [
       "<div>\n",
       "<style scoped>\n",
       "    .dataframe tbody tr th:only-of-type {\n",
       "        vertical-align: middle;\n",
       "    }\n",
       "\n",
       "    .dataframe tbody tr th {\n",
       "        vertical-align: top;\n",
       "    }\n",
       "\n",
       "    .dataframe thead th {\n",
       "        text-align: right;\n",
       "    }\n",
       "</style>\n",
       "<table border=\"1\" class=\"dataframe\">\n",
       "  <thead>\n",
       "    <tr style=\"text-align: right;\">\n",
       "      <th></th>\n",
       "      <th>condition</th>\n",
       "      <th>2std</th>\n",
       "      <th>1std</th>\n",
       "    </tr>\n",
       "    <tr>\n",
       "      <th>id</th>\n",
       "      <th></th>\n",
       "      <th></th>\n",
       "      <th></th>\n",
       "    </tr>\n",
       "  </thead>\n",
       "  <tbody>\n",
       "    <tr>\n",
       "      <th>4f583872ffed48249874b00f3d389cfc</th>\n",
       "      <td>TaxiDriver</td>\n",
       "      <td>False</td>\n",
       "      <td>True</td>\n",
       "    </tr>\n",
       "    <tr>\n",
       "      <th>33d68ad55ef544fab9fd08108e3913ca</th>\n",
       "      <td>AVAS</td>\n",
       "      <td>False</td>\n",
       "      <td>False</td>\n",
       "    </tr>\n",
       "    <tr>\n",
       "      <th>8598a83e2af441b8bcd0ae5d84beb875</th>\n",
       "      <td>RadioTalk</td>\n",
       "      <td>False</td>\n",
       "      <td>False</td>\n",
       "    </tr>\n",
       "    <tr>\n",
       "      <th>37d7e67934974217830bb429bba7fd76</th>\n",
       "      <td>AVAS</td>\n",
       "      <td>False</td>\n",
       "      <td>False</td>\n",
       "    </tr>\n",
       "    <tr>\n",
       "      <th>42bac596059749b5b8e8e83ae61de9b4</th>\n",
       "      <td>TaxiDriver</td>\n",
       "      <td>False</td>\n",
       "      <td>False</td>\n",
       "    </tr>\n",
       "    <tr>\n",
       "      <th>...</th>\n",
       "      <td>...</td>\n",
       "      <td>...</td>\n",
       "      <td>...</td>\n",
       "    </tr>\n",
       "    <tr>\n",
       "      <th>cfe9482181f74f80b88cd4b1c048ab94</th>\n",
       "      <td>AVAS</td>\n",
       "      <td>False</td>\n",
       "      <td>False</td>\n",
       "    </tr>\n",
       "    <tr>\n",
       "      <th>611d35a7c3e940cc82495e53c2a8532d</th>\n",
       "      <td>TaxiDriver</td>\n",
       "      <td>False</td>\n",
       "      <td>False</td>\n",
       "    </tr>\n",
       "    <tr>\n",
       "      <th>3b6fda285d9e412eb081986b2f22a2e3</th>\n",
       "      <td>AVAS</td>\n",
       "      <td>False</td>\n",
       "      <td>True</td>\n",
       "    </tr>\n",
       "    <tr>\n",
       "      <th>18ffb0abdc8642098c479380bfa533d1</th>\n",
       "      <td>RadioTalk</td>\n",
       "      <td>False</td>\n",
       "      <td>False</td>\n",
       "    </tr>\n",
       "    <tr>\n",
       "      <th>c06f123b35b74bb489ec239b1cac9eb4</th>\n",
       "      <td>TaxiDriver</td>\n",
       "      <td>False</td>\n",
       "      <td>False</td>\n",
       "    </tr>\n",
       "  </tbody>\n",
       "</table>\n",
       "<p>24356 rows × 3 columns</p>\n",
       "</div>"
      ],
      "text/plain": [
       "                                   condition   2std   1std\n",
       "id                                                        \n",
       "4f583872ffed48249874b00f3d389cfc  TaxiDriver  False   True\n",
       "33d68ad55ef544fab9fd08108e3913ca        AVAS  False  False\n",
       "8598a83e2af441b8bcd0ae5d84beb875   RadioTalk  False  False\n",
       "37d7e67934974217830bb429bba7fd76        AVAS  False  False\n",
       "42bac596059749b5b8e8e83ae61de9b4  TaxiDriver  False  False\n",
       "...                                      ...    ...    ...\n",
       "cfe9482181f74f80b88cd4b1c048ab94        AVAS  False  False\n",
       "611d35a7c3e940cc82495e53c2a8532d  TaxiDriver  False  False\n",
       "3b6fda285d9e412eb081986b2f22a2e3        AVAS  False   True\n",
       "18ffb0abdc8642098c479380bfa533d1   RadioTalk  False  False\n",
       "c06f123b35b74bb489ec239b1cac9eb4  TaxiDriver  False  False\n",
       "\n",
       "[24356 rows x 3 columns]"
      ]
     },
     "execution_count": 10,
     "metadata": {},
     "output_type": "execute_result"
    }
   ],
   "source": [
    "parts_out = pd.DataFrame(parts.condition)\n",
    "parts_out[\"2std\"] = parts[CHECK] > mean + std * 2\n",
    "parts_out[\"1std\"] = parts[CHECK] > mean + std\n",
    "\n",
    "parts_out.to_csv(f\"./outliers_{CHECK}.csv\")\n",
    "\n",
    "parts_out"
   ]
  }
 ],
 "metadata": {
  "kernelspec": {
   "display_name": "Python (msw-bmbf_da)",
   "language": "python",
   "name": "msw-bmbf_da"
  },
  "language_info": {
   "codemirror_mode": {
    "name": "ipython",
    "version": 3
   },
   "file_extension": ".py",
   "mimetype": "text/x-python",
   "name": "python",
   "nbconvert_exporter": "python",
   "pygments_lexer": "ipython3",
   "version": "3.9.10"
  },
  "toc-autonumbering": false,
  "toc-showcode": false,
  "toc-showmarkdowntxt": false,
  "widgets": {
   "application/vnd.jupyter.widget-state+json": {
    "state": {},
    "version_major": 2,
    "version_minor": 0
   }
  }
 },
 "nbformat": 4,
 "nbformat_minor": 4
}
