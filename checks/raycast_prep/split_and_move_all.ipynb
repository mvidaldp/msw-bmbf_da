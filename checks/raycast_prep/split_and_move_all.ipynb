{
 "cells": [
  {
   "cell_type": "code",
   "execution_count": 33,
   "id": "ee9a7ef5-0829-4cb7-86be-bac86725b8ba",
   "metadata": {},
   "outputs": [],
   "source": [
    "import os"
   ]
  },
  {
   "cell_type": "code",
   "execution_count": 34,
   "id": "41543bbc-55f6-46ea-af49-12107cdacab6",
   "metadata": {},
   "outputs": [],
   "source": [
    "files_exp = os.listdir(\"./data/msw_progress/ExperimentData\")\n",
    "\n",
    "for f in files_exp:  # iterate over files\n",
    "    # remove hidden/config files and folders\n",
    "    if not f.endswith(\".raw\"):\n",
    "        files_exp.remove(f)\n",
    "\n",
    "uids_exp = set([f.split(\"-\")[2].split(\".\")[0] for f in files_exp])"
   ]
  },
  {
   "cell_type": "code",
   "execution_count": 35,
   "id": "e21a83d5-d87d-4a46-ad3d-21a15cba52be",
   "metadata": {},
   "outputs": [],
   "source": [
    "files_eve = os.listdir(\"./data/msw_progress/EventData\")\n",
    "\n",
    "for f in files_eve:  # iterate over files\n",
    "    # remove hidden/config files and folders\n",
    "    if not f.endswith(\".bin\"):\n",
    "        files_eve.remove(f)\n",
    "\n",
    "uids_eve = set([f.split(\"-\")[2].split(\".\")[0] for f in files_eve])"
   ]
  },
  {
   "cell_type": "code",
   "execution_count": 36,
   "id": "33489acb-381d-4ed4-bd84-52ab0c557e57",
   "metadata": {
    "tags": []
   },
   "outputs": [
    {
     "name": "stdout",
     "output_type": "stream",
     "text": [
      "21712\n",
      "21712\n"
     ]
    }
   ],
   "source": [
    "print(len(files_exp))\n",
    "print(len(files_eve))"
   ]
  },
  {
   "cell_type": "code",
   "execution_count": 37,
   "id": "0bd20aff-5c24-4cca-b7f5-130a5b08b68a",
   "metadata": {},
   "outputs": [
    {
     "data": {
      "text/plain": [
       "10856"
      ]
     },
     "execution_count": 37,
     "metadata": {},
     "output_type": "execute_result"
    }
   ],
   "source": [
    "uids_exp = list(uids_exp)\n",
    "selected_uids = [uids_exp[i] for i in range(int(len(uids_exp) / 2))]\n",
    "len(selected_uids)"
   ]
  },
  {
   "cell_type": "code",
   "execution_count": 38,
   "id": "31f7f52d-a15b-4d68-baf7-006835c30874",
   "metadata": {},
   "outputs": [],
   "source": [
    "for f in files_exp:\n",
    "    uid = f.split(\"-\")[2].split(\".\")[0]\n",
    "    if uid in selected_uids:\n",
    "        os.rename(\n",
    "            f\"./data/msw_progress/ExperimentData/{f}\",\n",
    "            f\"./data/msw_progress/ExperimentData2/{f}\",\n",
    "        )\n",
    "for f in files_eve:\n",
    "    uid = f.split(\"-\")[2].split(\".\")[0]\n",
    "    if uid in selected_uids:\n",
    "        os.rename(\n",
    "            f\"./data/msw_progress/EventData/{f}\",\n",
    "            f\"./data/msw_progress/EventData2/{f}\",\n",
    "        )"
   ]
  },
  {
   "cell_type": "markdown",
   "id": "626435f3-268d-478e-8840-780ccf0656f0",
   "metadata": {},
   "source": [
    "Check results"
   ]
  },
  {
   "cell_type": "code",
   "execution_count": 39,
   "id": "f996fcc4-5255-4b3c-bb1e-fabc14e865a6",
   "metadata": {},
   "outputs": [],
   "source": [
    "files_exp = os.listdir(\"./data/msw_progress/ExperimentData\")\n",
    "\n",
    "for f in files_exp:  # iterate over files\n",
    "    # remove hidden/config files and folders\n",
    "    if not f.endswith(\".raw\"):\n",
    "        files_exp.remove(f)\n",
    "\n",
    "uids_exp = set([f.split(\"-\")[2].split(\".\")[0] for f in files_exp])"
   ]
  },
  {
   "cell_type": "code",
   "execution_count": 40,
   "id": "dea88d56-1782-4741-8fce-3b04e02e45e6",
   "metadata": {},
   "outputs": [],
   "source": [
    "files_eve = os.listdir(\"./data/msw_progress/EventData\")\n",
    "\n",
    "for f in files_eve:  # iterate over files\n",
    "    # remove hidden/config files and folders\n",
    "    if not f.endswith(\".bin\"):\n",
    "        files_eve.remove(f)\n",
    "\n",
    "uids_eve = set([f.split(\"-\")[2].split(\".\")[0] for f in files_eve])"
   ]
  },
  {
   "cell_type": "code",
   "execution_count": 41,
   "id": "01b63d7f-2449-4dc9-80eb-5b07481d440b",
   "metadata": {},
   "outputs": [
    {
     "name": "stdout",
     "output_type": "stream",
     "text": [
      "10856\n",
      "10856\n",
      "0\n"
     ]
    }
   ],
   "source": [
    "print(len(files_exp))\n",
    "print(len(files_eve))\n",
    "\n",
    "res = uids_exp - uids_eve\n",
    "print(len(res))"
   ]
  }
 ],
 "metadata": {
  "kernelspec": {
   "display_name": "Python (msw-bmbf_da)",
   "language": "python",
   "name": "msw-bmbf_da"
  },
  "language_info": {
   "codemirror_mode": {
    "name": "ipython",
    "version": 3
   },
   "file_extension": ".py",
   "mimetype": "text/x-python",
   "name": "python",
   "nbconvert_exporter": "python",
   "pygments_lexer": "ipython3",
   "version": "3.8.10"
  },
  "widgets": {
   "application/vnd.jupyter.widget-state+json": {
    "state": {},
    "version_major": 2,
    "version_minor": 0
   }
  }
 },
 "nbformat": 4,
 "nbformat_minor": 5
}
