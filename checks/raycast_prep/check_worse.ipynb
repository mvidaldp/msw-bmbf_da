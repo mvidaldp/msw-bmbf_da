{
 "cells": [
  {
   "cell_type": "code",
   "execution_count": 1,
   "id": "ee9a7ef5-0829-4cb7-86be-bac86725b8ba",
   "metadata": {},
   "outputs": [],
   "source": [
    "import os\n",
    "from shutil import copyfile\n",
    "\n",
    "from tqdm.notebook import tqdm  # mother of progressbars for Python"
   ]
  },
  {
   "cell_type": "code",
   "execution_count": 2,
   "id": "45780f62-99af-44c7-be35-656d49701c6c",
   "metadata": {},
   "outputs": [],
   "source": [
    "worse_parts = [\n",
    "    \"9118e707c7e94c1e96cebd74b03499d2\",\n",
    "    \"0023cac5d9c141e09fe615991b0e80b6\",\n",
    "    \"6e8b4e41b77e41a3ac8644ae2f95d665\",\n",
    "    \"b7c58bd81eb64e22930a403a973d5e1d\",\n",
    "    \"abe7bcc97fd14f1ca44e923b9deb38ad\",\n",
    "    \"a474f3e9edec42d8b1bca52597b68fba\",\n",
    "    \"3146346e67994423a5f50bbd7ada0aed\",\n",
    "    \"31a0a3cc6e184e9e9a3ad2fdc894f20c\",\n",
    "    \"ab364384421a462181768bca51a1f6b4\",\n",
    "    \"ebbd9381c0d44f59bfc1090d6be75546\",\n",
    "    \"70dc802b3d714594a691ae91c688bf83\",\n",
    "    \"1eab0b87e162459fb6e86324c28106b0\",\n",
    "    \"1a05c21738fc4a7e83df51354baf3742\",\n",
    "    \"7c66c9180f7b4d7eb3251567ad4cb04b\",\n",
    "    \"60eb9062568f4b2c9be82d92b6477b05\",\n",
    "    \"6c553037e7f5481a8c29b6161823e8ec\",\n",
    "    \"63bd71ddcccb45b5b539fbc53b1e9e4e\",\n",
    "    \"58b8180a32db46ce9066078b01a329c0\",\n",
    "    \"e16804ec09ee47e1bce9e2056d043494\",\n",
    "    \"d2a3860415634b408e0714b835ef301f\",\n",
    "    \"dacee7cc4c9f4ca8a1e31591c92b517c\",\n",
    "    \"75bed7bd2aa64cab81e72e58a1fae856\",\n",
    "    \"1b9ea329b7da4bb181a50f2652a7651b\",\n",
    "    \"84b0e7b921e544fc98d52fb30121ebcf\",\n",
    "    \"06365c74330f47cdb7dc139dc806d5bc\",\n",
    "    \"57db6799bc2b49b9abcdb6bc3f99c465\",\n",
    "    \"2656601f0e1e45948ed569643c0e33bb\",\n",
    "    \"4a92ff8709df40c794b400b5ae41150f\",\n",
    "    \"f8d6d9125d0e43d49c7bc0cfe491f4cc\",\n",
    "    \"b96944c2608547fb8140a3bf77676d1f\",\n",
    "    \"f7017308295144c888a6f71e188f2721\",\n",
    "    \"c0968782bbf244d88a37f4e0df2b3692\",\n",
    "    \"7ec042e35aff4fd38f3359a78177af7d\",\n",
    "    \"5109970cf86c4e31a38a6d44ca53f5e4\",\n",
    "    \"4289c89c80744945819830dcc4e4fa24\",\n",
    "    \"c60483a678df4386a61ee550396dc955\",\n",
    "    \"4b37536323c641c59ea58224260d8123\",\n",
    "    \"f764d085815f49e7ab8ae36e2e240b05\",\n",
    "    \"704331f5e0df49f1845baffd4e4fbef0\",\n",
    "    \"8e434b754b294f2aa1f0e919c3fc6e9b\",\n",
    "    \"14149540d8774fe2ab5b8a8257818241\",\n",
    "    \"368c3d6a6cde4a9f879399d73abcbd05\",\n",
    "    \"3989eec956ee4bd8a3cd7c777283087e\",\n",
    "    \"90a2bc9859bf4faea03f4fad5d68a606\",\n",
    "    \"0d6cbad78f8e459585a5a9ad9d564e68\",\n",
    "    \"15370249b94c4c608af8e291bae3d858\",\n",
    "    \"2fd12fb3b7eb464c9e6e655620a85fb9\",\n",
    "    \"ffc249e4b4b04c82a7da802dfe728cdf\",\n",
    "    \"ba369dff20a54e93ad0c58e584f9aa8b\",\n",
    "    \"1ad8508301d44542a0fa3b6f06e7226e\",\n",
    "    \"d22380de08d34254b5d8c62db43fc6d2\",\n",
    "    \"da12d647041649ba87dce3f920eb3cd6\",\n",
    "    \"69fed39dd6a940e8a7c9d435327b21fc\",\n",
    "    \"a84dd315ff974b2fa1041a3c3beb46dc\",\n",
    "    \"922800b653c94f348cdb0be7c393c65d\",\n",
    "    \"31fdde4eb76542babcd76c0ccfb028e3\",\n",
    "    \"978d1a326a484751a50694c5528786ec\",\n",
    "    \"a4f4683894824e52b90493f12a05ab1b\",\n",
    "    \"7e21aedc87eb48f596a5b9d1a653d8c2\",\n",
    "    \"fa891b94c0a34444bfc37ee9a3648899\",\n",
    "    \"e4223754233d4c0997ca6b59153e7435\",\n",
    "    \"f78f986c70b642ba9b9c0ceb908735c1\",\n",
    "    \"bfbf1b340a254f2ea3d062e281fda330\",\n",
    "    \"3b55a5e41aeb40cdaf73b67994b77ecf\",\n",
    "    \"3410a67f636f418695f9d60a80cf8e37\",\n",
    "    \"589cbe23fafa4a8fbea7ba7589f840c1\",\n",
    "    \"f835e93c6aed4acfac74171401bb125c\",\n",
    "    \"6aef7feed2dd42cca4265715cc2464eb\",\n",
    "    \"43961ea5b85d4832a1864756fd21dcb1\",\n",
    "    \"694ccbdf0ec94469a906141c62c1fbbc\",\n",
    "    \"30b9c44fdec44f81a7b59bb2c0dc4c8a\",\n",
    "    \"d992960cf2654743a7cb346231dcff69\",\n",
    "    \"e70f20b3956748fab589e4c3015f1ed5\",\n",
    "    \"c8963a3d31bb4b0586962d8bd816f899\",\n",
    "    \"4a14708c40c34276ba9b6c150c8a69ef\",\n",
    "    \"dee86ab9f19d46a8b42a4e4afe4b0452\",\n",
    "    \"29d9bcc834c1449daac59ce3b78d15cc\",\n",
    "    \"b8bfa94447034382a5896ced17da1106\",\n",
    "    \"240886921d3b4898abca9cab3574845c\",\n",
    "    \"57d9e121eda94dbfaf134f6c186905f3\",\n",
    "    \"e3762d45e6234d7b96c6353c3e96c8d2\",\n",
    "    \"d7e7f8c8a5b547c1923030d032f34aea\",\n",
    "    \"c98c823d21eb47eaa94d83351ae57ee1\",\n",
    "    \"c24babf051854395be5fc54476303bc7\",\n",
    "    \"34ce81df968f4aef95a8e860e5cf9373\",\n",
    "    \"9e67340078624219af22e342f776d70d\",\n",
    "    \"4816e29d19fd47f49888cd956995ac4c\",\n",
    "    \"15c8bc470e5f49ceab1ff956ede85b28\",\n",
    "    \"6128b47b6db54822801567fd4414c033\",\n",
    "    \"9a2c8a2e55f346149d42a16a31df4ebc\",\n",
    "    \"5b46739a50e54d1da7e7c6a75a70cffc\",\n",
    "    \"4388678182784d01a430421ffee98f8c\",\n",
    "    \"af63af7531ea4fa4ac344287801e9f5c\",\n",
    "    \"d0553fa272014123a923bfe06ced5a1c\",\n",
    "    \"a25188751e2c44c685aa74005dc12a7e\",\n",
    "]\n",
    "\n",
    "PATH_RAW = \"../../data/raw\"\n",
    "\n",
    "# progress bar customized format\n",
    "B_FORMAT = \"\"\"📄 {n_fmt} of {total_fmt} {desc} processed: {bar} \n",
    "            {percentage:3.0f}% ⏱️{elapsed} ⏳{remaining} ⚙️{rate_fmt}{postfix}\"\"\""
   ]
  },
  {
   "cell_type": "code",
   "execution_count": 3,
   "id": "41543bbc-55f6-46ea-af49-12107cdacab6",
   "metadata": {},
   "outputs": [],
   "source": [
    "files_exp = os.listdir(f\"{PATH_RAW}/ExperimentData\")\n",
    "\n",
    "for f in files_exp:  # iterate over files\n",
    "    # remove hidden/config files and folders\n",
    "    if not f.endswith(\".raw\"):\n",
    "        files_exp.remove(f)\n",
    "\n",
    "uids_exp = set([f.split(\"-\")[2].split(\".\")[0] for f in files_exp])"
   ]
  },
  {
   "cell_type": "code",
   "execution_count": 4,
   "id": "e21a83d5-d87d-4a46-ad3d-21a15cba52be",
   "metadata": {},
   "outputs": [],
   "source": [
    "files_eve = os.listdir(f\"{PATH_RAW}/EventData\")\n",
    "\n",
    "for f in files_eve:  # iterate over files\n",
    "    # remove hidden/config files and folders\n",
    "    if not f.endswith(\".bin\"):\n",
    "        files_eve.remove(f)\n",
    "\n",
    "uids_eve = set([f.split(\"-\")[2].split(\".\")[0] for f in files_eve])"
   ]
  },
  {
   "cell_type": "code",
   "execution_count": 5,
   "id": "33489acb-381d-4ed4-bd84-52ab0c557e57",
   "metadata": {},
   "outputs": [
    {
     "name": "stdout",
     "output_type": "stream",
     "text": [
      "26572\n",
      "26572\n"
     ]
    }
   ],
   "source": [
    "print(len(files_exp))\n",
    "print(len(files_eve))"
   ]
  },
  {
   "cell_type": "code",
   "execution_count": 6,
   "id": "0bd20aff-5c24-4cca-b7f5-130a5b08b68a",
   "metadata": {},
   "outputs": [
    {
     "data": {
      "text/plain": [
       "95"
      ]
     },
     "execution_count": 6,
     "metadata": {},
     "output_type": "execute_result"
    }
   ],
   "source": [
    "uids_exp = list(uids_exp)\n",
    "selected_uids = worse_parts\n",
    "len(selected_uids)"
   ]
  },
  {
   "cell_type": "code",
   "execution_count": 7,
   "id": "31f7f52d-a15b-4d68-baf7-006835c30874",
   "metadata": {},
   "outputs": [
    {
     "data": {
      "application/vnd.jupyter.widget-view+json": {
       "model_id": "b0f6818b48d44ab9a6e9d9896ef22b57",
       "version_major": 2,
       "version_minor": 0
      },
      "text/plain": [
       "📄 0 of 26572 📂 Worse ExperimentData files processed:                                                          …"
      ]
     },
     "metadata": {},
     "output_type": "display_data"
    },
    {
     "data": {
      "application/vnd.jupyter.widget-view+json": {
       "model_id": "946efcc749064a328f2832de3436a3cd",
       "version_major": 2,
       "version_minor": 0
      },
      "text/plain": [
       "📄 0 of 26572 📂 Worse EventData files processed:                                                               …"
      ]
     },
     "metadata": {},
     "output_type": "display_data"
    }
   ],
   "source": [
    "fexp_pbar = tqdm(\n",
    "    iterable=files_exp,\n",
    "    total=len(files_exp),\n",
    "    desc=\"📂 Worse ExperimentData files\",\n",
    "    dynamic_ncols=True,\n",
    "    bar_format=B_FORMAT,\n",
    ")\n",
    "\n",
    "for f in fexp_pbar:\n",
    "    uid = f.split(\"-\")[2].split(\".\")[0]\n",
    "    if uid in selected_uids:\n",
    "        copyfile(\n",
    "            f\"{PATH_RAW}/ExperimentData/{f}\",\n",
    "            f\"{PATH_RAW}/test_worse/ExperimentData/{f}\",\n",
    "        )\n",
    "\n",
    "feve_pbar = tqdm(\n",
    "    iterable=files_eve,\n",
    "    total=len(files_eve),\n",
    "    desc=\"📂 Worse EventData files\",\n",
    "    dynamic_ncols=True,\n",
    "    bar_format=B_FORMAT,\n",
    ")\n",
    "\n",
    "for f in feve_pbar:\n",
    "    uid = f.split(\"-\")[2].split(\".\")[0]\n",
    "    if uid in selected_uids:\n",
    "        copyfile(\n",
    "            f\"{PATH_RAW}/EventData/{f}\",\n",
    "            f\"{PATH_RAW}/test_worse/EventData/{f}\",\n",
    "        )"
   ]
  }
 ],
 "metadata": {
  "kernelspec": {
   "display_name": "Python (msw-bmbf_da)",
   "language": "python",
   "name": "msw-bmbf_da"
  },
  "language_info": {
   "codemirror_mode": {
    "name": "ipython",
    "version": 3
   },
   "file_extension": ".py",
   "mimetype": "text/x-python",
   "name": "python",
   "nbconvert_exporter": "python",
   "pygments_lexer": "ipython3",
   "version": "3.8.12"
  },
  "widgets": {
   "application/vnd.jupyter.widget-state+json": {
    "state": {
     "02137c725ab944daa79c9f981d99c9e7": {
      "model_module": "@jupyter-widgets/controls",
      "model_module_version": "1.5.0",
      "model_name": "DescriptionStyleModel",
      "state": {
       "description_width": ""
      }
     },
     "12fa2ff811484f388e858726fedcc5bc": {
      "model_module": "@jupyter-widgets/controls",
      "model_module_version": "1.5.0",
      "model_name": "ProgressStyleModel",
      "state": {
       "description_width": ""
      }
     },
     "24ad1f3fb3ad430fa1988235f94b4531": {
      "model_module": "@jupyter-widgets/base",
      "model_module_version": "1.2.0",
      "model_name": "LayoutModel",
      "state": {
       "flex": "2"
      }
     },
     "28dc5ba3c673423da0e6fd7bbf64665f": {
      "model_module": "@jupyter-widgets/controls",
      "model_module_version": "1.5.0",
      "model_name": "FloatProgressModel",
      "state": {
       "bar_style": "success",
       "layout": "IPY_MODEL_24ad1f3fb3ad430fa1988235f94b4531",
       "max": 26572,
       "style": "IPY_MODEL_12fa2ff811484f388e858726fedcc5bc",
       "value": 26572
      }
     },
     "2a623b117f344e91b1667fce47aa281f": {
      "model_module": "@jupyter-widgets/base",
      "model_module_version": "1.2.0",
      "model_name": "LayoutModel",
      "state": {
       "display": "inline-flex",
       "flex_flow": "row wrap",
       "width": "100%"
      }
     },
     "338bfea973c547a98c17e0259b513247": {
      "model_module": "@jupyter-widgets/base",
      "model_module_version": "1.2.0",
      "model_name": "LayoutModel",
      "state": {}
     },
     "4bcc2ac8a3064c4fa590547aa932d302": {
      "model_module": "@jupyter-widgets/controls",
      "model_module_version": "1.5.0",
      "model_name": "HTMLModel",
      "state": {
       "layout": "IPY_MODEL_829d8bcd45eb4692ad755132153bad47",
       "style": "IPY_MODEL_8948ef10a1be4f33804287708ef99ab3",
       "value": "📄 26572 of 26572 📂 Worse ExperimentData files processed: "
      }
     },
     "4c37d4827e934202a12670913fc13cc8": {
      "model_module": "@jupyter-widgets/controls",
      "model_module_version": "1.5.0",
      "model_name": "DescriptionStyleModel",
      "state": {
       "description_width": ""
      }
     },
     "5edfe515bf6d4127be5eb52958d54975": {
      "model_module": "@jupyter-widgets/base",
      "model_module_version": "1.2.0",
      "model_name": "LayoutModel",
      "state": {}
     },
     "829d8bcd45eb4692ad755132153bad47": {
      "model_module": "@jupyter-widgets/base",
      "model_module_version": "1.2.0",
      "model_name": "LayoutModel",
      "state": {}
     },
     "8948ef10a1be4f33804287708ef99ab3": {
      "model_module": "@jupyter-widgets/controls",
      "model_module_version": "1.5.0",
      "model_name": "DescriptionStyleModel",
      "state": {
       "description_width": ""
      }
     },
     "8cf437ed32de4c69806d1e47b9593857": {
      "model_module": "@jupyter-widgets/base",
      "model_module_version": "1.2.0",
      "model_name": "LayoutModel",
      "state": {
       "flex": "2"
      }
     },
     "946efcc749064a328f2832de3436a3cd": {
      "model_module": "@jupyter-widgets/controls",
      "model_module_version": "1.5.0",
      "model_name": "HBoxModel",
      "state": {
       "children": [
        "IPY_MODEL_fa22e33908e1408b849c0963280dd3d7",
        "IPY_MODEL_b28f0aff3df14c449d0d7a03d576668c",
        "IPY_MODEL_b9de5e05aab74395891e78a6529a71c0"
       ],
       "layout": "IPY_MODEL_2a623b117f344e91b1667fce47aa281f"
      }
     },
     "a304fd460341445b82bb45744fcd4f0d": {
      "model_module": "@jupyter-widgets/controls",
      "model_module_version": "1.5.0",
      "model_name": "DescriptionStyleModel",
      "state": {
       "description_width": ""
      }
     },
     "b0f6818b48d44ab9a6e9d9896ef22b57": {
      "model_module": "@jupyter-widgets/controls",
      "model_module_version": "1.5.0",
      "model_name": "HBoxModel",
      "state": {
       "children": [
        "IPY_MODEL_4bcc2ac8a3064c4fa590547aa932d302",
        "IPY_MODEL_28dc5ba3c673423da0e6fd7bbf64665f",
        "IPY_MODEL_e1a25fcc4dde4b95bedbda9c510131a0"
       ],
       "layout": "IPY_MODEL_d84daa86bb57409089ceafb6428e676d"
      }
     },
     "b28f0aff3df14c449d0d7a03d576668c": {
      "model_module": "@jupyter-widgets/controls",
      "model_module_version": "1.5.0",
      "model_name": "FloatProgressModel",
      "state": {
       "bar_style": "success",
       "layout": "IPY_MODEL_8cf437ed32de4c69806d1e47b9593857",
       "max": 26572,
       "style": "IPY_MODEL_ba03c097fd084e74a045095dc6e64793",
       "value": 26572
      }
     },
     "b9de5e05aab74395891e78a6529a71c0": {
      "model_module": "@jupyter-widgets/controls",
      "model_module_version": "1.5.0",
      "model_name": "HTMLModel",
      "state": {
       "layout": "IPY_MODEL_f2978c60cfc646dca53a0f60a3b54f08",
       "style": "IPY_MODEL_a304fd460341445b82bb45744fcd4f0d",
       "value": " \n            100% ⏱️00:00 ⏳00:00 ⚙️85270.22it/s"
      }
     },
     "ba03c097fd084e74a045095dc6e64793": {
      "model_module": "@jupyter-widgets/controls",
      "model_module_version": "1.5.0",
      "model_name": "ProgressStyleModel",
      "state": {
       "description_width": ""
      }
     },
     "d84daa86bb57409089ceafb6428e676d": {
      "model_module": "@jupyter-widgets/base",
      "model_module_version": "1.2.0",
      "model_name": "LayoutModel",
      "state": {
       "display": "inline-flex",
       "flex_flow": "row wrap",
       "width": "100%"
      }
     },
     "e1a25fcc4dde4b95bedbda9c510131a0": {
      "model_module": "@jupyter-widgets/controls",
      "model_module_version": "1.5.0",
      "model_name": "HTMLModel",
      "state": {
       "layout": "IPY_MODEL_5edfe515bf6d4127be5eb52958d54975",
       "style": "IPY_MODEL_02137c725ab944daa79c9f981d99c9e7",
       "value": " \n            100% ⏱️00:00 ⏳00:00 ⚙️111168.37it/s"
      }
     },
     "f2978c60cfc646dca53a0f60a3b54f08": {
      "model_module": "@jupyter-widgets/base",
      "model_module_version": "1.2.0",
      "model_name": "LayoutModel",
      "state": {}
     },
     "fa22e33908e1408b849c0963280dd3d7": {
      "model_module": "@jupyter-widgets/controls",
      "model_module_version": "1.5.0",
      "model_name": "HTMLModel",
      "state": {
       "layout": "IPY_MODEL_338bfea973c547a98c17e0259b513247",
       "style": "IPY_MODEL_4c37d4827e934202a12670913fc13cc8",
       "value": "📄 26572 of 26572 📂 Worse EventData files processed: "
      }
     }
    },
    "version_major": 2,
    "version_minor": 0
   }
  }
 },
 "nbformat": 4,
 "nbformat_minor": 5
}
