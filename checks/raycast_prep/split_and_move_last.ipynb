{
 "cells": [
  {
   "cell_type": "code",
   "execution_count": 1,
   "id": "ee9a7ef5-0829-4cb7-86be-bac86725b8ba",
   "metadata": {},
   "outputs": [],
   "source": [
    "import os\n",
    "from shutil import copyfile\n",
    "\n",
    "from tqdm.notebook import tqdm  # mother of progressbars for Python"
   ]
  },
  {
   "cell_type": "code",
   "execution_count": 2,
   "id": "45780f62-99af-44c7-be35-656d49701c6c",
   "metadata": {},
   "outputs": [],
   "source": [
    "PATH_RAW = \"../../data/raw\"\n",
    "\n",
    "# progress bar customized format\n",
    "B_FORMAT = \"\"\"📄 {n_fmt} of {total_fmt} {desc} processed: {bar} \n",
    "            {percentage:3.0f}% ⏱️{elapsed} ⏳{remaining} ⚙️{rate_fmt}{postfix}\"\"\""
   ]
  },
  {
   "cell_type": "code",
   "execution_count": 3,
   "id": "41543bbc-55f6-46ea-af49-12107cdacab6",
   "metadata": {},
   "outputs": [],
   "source": [
    "files_exp = os.listdir(f\"{PATH_RAW}/split/both/ExperimentData\")\n",
    "\n",
    "for f in files_exp:  # iterate over files\n",
    "    # remove hidden/config files and folders\n",
    "    if not f.endswith(\".raw\"):\n",
    "        files_exp.remove(f)\n",
    "\n",
    "uids_exp = set([f.split(\"-\")[2].split(\".\")[0] for f in files_exp])"
   ]
  },
  {
   "cell_type": "code",
   "execution_count": 4,
   "id": "e21a83d5-d87d-4a46-ad3d-21a15cba52be",
   "metadata": {},
   "outputs": [],
   "source": [
    "files_eve = os.listdir(f\"{PATH_RAW}/split/both/EventData\")\n",
    "\n",
    "for f in files_eve:  # iterate over files\n",
    "    # remove hidden/config files and folders\n",
    "    if not f.endswith(\".bin\"):\n",
    "        files_eve.remove(f)\n",
    "\n",
    "uids_eve = set([f.split(\"-\")[2].split(\".\")[0] for f in files_eve])"
   ]
  },
  {
   "cell_type": "code",
   "execution_count": 5,
   "id": "33489acb-381d-4ed4-bd84-52ab0c557e57",
   "metadata": {},
   "outputs": [
    {
     "name": "stdout",
     "output_type": "stream",
     "text": [
      "10941\n",
      "10941\n"
     ]
    }
   ],
   "source": [
    "print(len(files_exp))\n",
    "print(len(files_eve))"
   ]
  },
  {
   "cell_type": "code",
   "execution_count": 6,
   "id": "0bd20aff-5c24-4cca-b7f5-130a5b08b68a",
   "metadata": {},
   "outputs": [
    {
     "data": {
      "text/plain": [
       "5470"
      ]
     },
     "execution_count": 6,
     "metadata": {},
     "output_type": "execute_result"
    }
   ],
   "source": [
    "# uids for wd-left\n",
    "uids_exp = list(uids_exp)\n",
    "selected_uids = [uids_exp[i] for i in range(int(len(uids_exp) / 2))]\n",
    "len(selected_uids)"
   ]
  },
  {
   "cell_type": "code",
   "execution_count": 7,
   "id": "6a06e780-8ee2-4888-9885-4aefd202da9f",
   "metadata": {},
   "outputs": [
    {
     "data": {
      "text/plain": [
       "5471"
      ]
     },
     "execution_count": 7,
     "metadata": {},
     "output_type": "execute_result"
    }
   ],
   "source": [
    "# uids for ml03\n",
    "inv_selected = list(set(uids_exp) - set(selected_uids))\n",
    "len(inv_selected)"
   ]
  },
  {
   "cell_type": "code",
   "execution_count": 8,
   "id": "31f7f52d-a15b-4d68-baf7-006835c30874",
   "metadata": {},
   "outputs": [
    {
     "data": {
      "application/vnd.jupyter.widget-view+json": {
       "model_id": "3e72eac0319248fea98e5e395f86afae",
       "version_major": 2,
       "version_minor": 0
      },
      "text/plain": [
       "📄 0 of 10941 📂 WD-LEFT ExperimentData files processed:                                                        …"
      ]
     },
     "metadata": {},
     "output_type": "display_data"
    },
    {
     "data": {
      "application/vnd.jupyter.widget-view+json": {
       "model_id": "480e9526b65c43968f019becc54a9afb",
       "version_major": 2,
       "version_minor": 0
      },
      "text/plain": [
       "📄 0 of 10941 📂 WD-LEFT EventData files processed:                                                             …"
      ]
     },
     "metadata": {},
     "output_type": "display_data"
    },
    {
     "data": {
      "application/vnd.jupyter.widget-view+json": {
       "model_id": "0be27480e36348d5aa17c417390ef37e",
       "version_major": 2,
       "version_minor": 0
      },
      "text/plain": [
       "📄 0 of 10941 📂 ml03 ExperimentData files processed:                                                           …"
      ]
     },
     "metadata": {},
     "output_type": "display_data"
    },
    {
     "data": {
      "application/vnd.jupyter.widget-view+json": {
       "model_id": "fad635b9800f413d9412d1f65d8be88d",
       "version_major": 2,
       "version_minor": 0
      },
      "text/plain": [
       "📄 0 of 10941 📂 ml03 EventData files processed:                                                                …"
      ]
     },
     "metadata": {},
     "output_type": "display_data"
    }
   ],
   "source": [
    "fexp_pbar = tqdm(\n",
    "    iterable=files_exp,\n",
    "    total=len(files_exp),\n",
    "    desc=\"📂 WD-LEFT ExperimentData files\",\n",
    "    dynamic_ncols=True,\n",
    "    bar_format=B_FORMAT,\n",
    ")\n",
    "\n",
    "for f in fexp_pbar:\n",
    "    uid = f.split(\"-\")[2].split(\".\")[0]\n",
    "    if uid in selected_uids:\n",
    "        copyfile(\n",
    "            f\"{PATH_RAW}/split/both/ExperimentData/{f}\",\n",
    "            f\"{PATH_RAW}/split/wd-left/ExperimentData/{f}\",\n",
    "        )\n",
    "\n",
    "feve_pbar = tqdm(\n",
    "    iterable=files_eve,\n",
    "    total=len(files_eve),\n",
    "    desc=\"📂 WD-LEFT EventData files\",\n",
    "    dynamic_ncols=True,\n",
    "    bar_format=B_FORMAT,\n",
    ")\n",
    "\n",
    "for f in feve_pbar:\n",
    "    uid = f.split(\"-\")[2].split(\".\")[0]\n",
    "    if uid in selected_uids:\n",
    "        copyfile(\n",
    "            f\"{PATH_RAW}/split/both/EventData/{f}\",\n",
    "            f\"{PATH_RAW}/split/wd-left/EventData/{f}\",\n",
    "        )\n",
    "\n",
    "fexp_pbar = tqdm(\n",
    "    iterable=files_exp,\n",
    "    total=len(files_exp),\n",
    "    desc=\"📂 ml03 ExperimentData files\",\n",
    "    dynamic_ncols=True,\n",
    "    bar_format=B_FORMAT,\n",
    ")\n",
    "\n",
    "for f in fexp_pbar:\n",
    "    uid = f.split(\"-\")[2].split(\".\")[0]\n",
    "    if uid in inv_selected:\n",
    "        copyfile(\n",
    "            f\"{PATH_RAW}/split/both/ExperimentData/{f}\",\n",
    "            f\"{PATH_RAW}/split/ml03/ExperimentData/{f}\",\n",
    "        )\n",
    "\n",
    "feve_pbar = tqdm(\n",
    "    iterable=files_eve,\n",
    "    total=len(files_eve),\n",
    "    desc=\"📂 ml03 EventData files\",\n",
    "    dynamic_ncols=True,\n",
    "    bar_format=B_FORMAT,\n",
    ")\n",
    "\n",
    "for f in feve_pbar:\n",
    "    uid = f.split(\"-\")[2].split(\".\")[0]\n",
    "    if uid in inv_selected:\n",
    "        copyfile(\n",
    "            f\"{PATH_RAW}/split/both/EventData/{f}\",\n",
    "            f\"{PATH_RAW}/split/ml03/EventData/{f}\",\n",
    "        )"
   ]
  }
 ],
 "metadata": {
  "kernelspec": {
   "display_name": "Python (msw-bmbf_da)",
   "language": "python",
   "name": "msw-bmbf_da"
  },
  "language_info": {
   "codemirror_mode": {
    "name": "ipython",
    "version": 3
   },
   "file_extension": ".py",
   "mimetype": "text/x-python",
   "name": "python",
   "nbconvert_exporter": "python",
   "pygments_lexer": "ipython3",
   "version": "3.8.10"
  },
  "widgets": {
   "application/vnd.jupyter.widget-state+json": {
    "state": {
     "00b64b3af1ee4849a9d3cced7cb4f0f0": {
      "model_module": "@jupyter-widgets/controls",
      "model_module_version": "1.5.0",
      "model_name": "HTMLModel",
      "state": {
       "layout": "IPY_MODEL_03f6b8c2f60241218b3cab52a0e8be09",
       "style": "IPY_MODEL_c566c549c0024222887e860f7de90538",
       "value": "📄 10941 of 10941 📂 ml03 ExperimentData files processed: "
      }
     },
     "03f6b8c2f60241218b3cab52a0e8be09": {
      "model_module": "@jupyter-widgets/base",
      "model_module_version": "1.2.0",
      "model_name": "LayoutModel",
      "state": {}
     },
     "0be27480e36348d5aa17c417390ef37e": {
      "model_module": "@jupyter-widgets/controls",
      "model_module_version": "1.5.0",
      "model_name": "HBoxModel",
      "state": {
       "children": [
        "IPY_MODEL_00b64b3af1ee4849a9d3cced7cb4f0f0",
        "IPY_MODEL_64e4eae5ec2c476eb644c5a75904c318",
        "IPY_MODEL_3e6f085fa33344e6bf3dbf8204390a90"
       ],
       "layout": "IPY_MODEL_69a1bd6d5f7e4fa299b840ff0eacf811"
      }
     },
     "0e8acab66e57487195a00f9ec334b8c1": {
      "model_module": "@jupyter-widgets/base",
      "model_module_version": "1.2.0",
      "model_name": "LayoutModel",
      "state": {
       "flex": "2"
      }
     },
     "193f777758c74f129d256866d9129e06": {
      "model_module": "@jupyter-widgets/controls",
      "model_module_version": "1.5.0",
      "model_name": "DescriptionStyleModel",
      "state": {
       "description_width": ""
      }
     },
     "1a50ced39c2e4b49ae6af5ee32deeb1a": {
      "model_module": "@jupyter-widgets/controls",
      "model_module_version": "1.5.0",
      "model_name": "ProgressStyleModel",
      "state": {
       "description_width": ""
      }
     },
     "3e6f085fa33344e6bf3dbf8204390a90": {
      "model_module": "@jupyter-widgets/controls",
      "model_module_version": "1.5.0",
      "model_name": "HTMLModel",
      "state": {
       "layout": "IPY_MODEL_c2307f107fd04a8d85fd2794733906af",
       "style": "IPY_MODEL_c4dbee16cf4f46448096915dbf32f510",
       "value": " \n            100% ⏱️00:23 ⏳00:00 ⚙️489.51it/s"
      }
     },
     "3e72eac0319248fea98e5e395f86afae": {
      "model_module": "@jupyter-widgets/controls",
      "model_module_version": "1.5.0",
      "model_name": "HBoxModel",
      "state": {
       "children": [
        "IPY_MODEL_479108979cc64de394ca2b22fca59af5",
        "IPY_MODEL_c9925ee28e5f4145899d997631214222",
        "IPY_MODEL_8e23e259c3304b568b19bee345653815"
       ],
       "layout": "IPY_MODEL_7958b7e05cee41cf9f254dd336e1c8cb"
      }
     },
     "455b721173e540a4a9e99dc7e550f575": {
      "model_module": "@jupyter-widgets/controls",
      "model_module_version": "1.5.0",
      "model_name": "HTMLModel",
      "state": {
       "layout": "IPY_MODEL_60d7f9b7c9134b51bddb39c8dd863b32",
       "style": "IPY_MODEL_a1b8dfe910c342f6a581be849f624e44",
       "value": " \n            100% ⏱️00:16 ⏳00:00 ⚙️620.24it/s"
      }
     },
     "479108979cc64de394ca2b22fca59af5": {
      "model_module": "@jupyter-widgets/controls",
      "model_module_version": "1.5.0",
      "model_name": "HTMLModel",
      "state": {
       "layout": "IPY_MODEL_c610c1494c69400d82c36acdea9b42c4",
       "style": "IPY_MODEL_193f777758c74f129d256866d9129e06",
       "value": "📄 10941 of 10941 📂 WD-LEFT ExperimentData files processed: "
      }
     },
     "480e9526b65c43968f019becc54a9afb": {
      "model_module": "@jupyter-widgets/controls",
      "model_module_version": "1.5.0",
      "model_name": "HBoxModel",
      "state": {
       "children": [
        "IPY_MODEL_e5d75c9154074a0ca5bf0bba92c487c7",
        "IPY_MODEL_9ae5402e74d0434dad9dbf3c9bcc8f94",
        "IPY_MODEL_455b721173e540a4a9e99dc7e550f575"
       ],
       "layout": "IPY_MODEL_db49bb9e2a214168ae47574cee01c206"
      }
     },
     "51a4385cae454e3c9e3fa5067d353365": {
      "model_module": "@jupyter-widgets/controls",
      "model_module_version": "1.5.0",
      "model_name": "HTMLModel",
      "state": {
       "layout": "IPY_MODEL_bc5a7ba395024e0887afa022fda91dfc",
       "style": "IPY_MODEL_f1028aafc00d42669d9b898b18aa6a9e",
       "value": "📄 10941 of 10941 📂 ml03 EventData files processed: "
      }
     },
     "60d7f9b7c9134b51bddb39c8dd863b32": {
      "model_module": "@jupyter-widgets/base",
      "model_module_version": "1.2.0",
      "model_name": "LayoutModel",
      "state": {}
     },
     "64e4eae5ec2c476eb644c5a75904c318": {
      "model_module": "@jupyter-widgets/controls",
      "model_module_version": "1.5.0",
      "model_name": "FloatProgressModel",
      "state": {
       "bar_style": "success",
       "layout": "IPY_MODEL_c084977002d04d879729bfdfdca8a9e4",
       "max": 10941,
       "style": "IPY_MODEL_d5b5fbc50a3547b98240d05b89e55cc4",
       "value": 10941
      }
     },
     "69a1bd6d5f7e4fa299b840ff0eacf811": {
      "model_module": "@jupyter-widgets/base",
      "model_module_version": "1.2.0",
      "model_name": "LayoutModel",
      "state": {
       "display": "inline-flex",
       "flex_flow": "row wrap",
       "width": "100%"
      }
     },
     "7958b7e05cee41cf9f254dd336e1c8cb": {
      "model_module": "@jupyter-widgets/base",
      "model_module_version": "1.2.0",
      "model_name": "LayoutModel",
      "state": {
       "display": "inline-flex",
       "flex_flow": "row wrap",
       "width": "100%"
      }
     },
     "8c9ca218457348849f9d8bc40439ca6d": {
      "model_module": "@jupyter-widgets/controls",
      "model_module_version": "1.5.0",
      "model_name": "DescriptionStyleModel",
      "state": {
       "description_width": ""
      }
     },
     "8e23e259c3304b568b19bee345653815": {
      "model_module": "@jupyter-widgets/controls",
      "model_module_version": "1.5.0",
      "model_name": "HTMLModel",
      "state": {
       "layout": "IPY_MODEL_f6bf6bbf52554f46b18d6d49a18cd80e",
       "style": "IPY_MODEL_d8161678dee4473e9888d5647da6c7ab",
       "value": " \n            100% ⏱️00:23 ⏳00:00 ⚙️444.02it/s"
      }
     },
     "9ae5402e74d0434dad9dbf3c9bcc8f94": {
      "model_module": "@jupyter-widgets/controls",
      "model_module_version": "1.5.0",
      "model_name": "FloatProgressModel",
      "state": {
       "bar_style": "success",
       "layout": "IPY_MODEL_0e8acab66e57487195a00f9ec334b8c1",
       "max": 10941,
       "style": "IPY_MODEL_9f7bb9fd75284988a2034013f5166fe3",
       "value": 10941
      }
     },
     "9eed640e939f47d2822a896863011fec": {
      "model_module": "@jupyter-widgets/controls",
      "model_module_version": "1.5.0",
      "model_name": "HTMLModel",
      "state": {
       "layout": "IPY_MODEL_c75bb991763240b38b52df2e8a61244d",
       "style": "IPY_MODEL_c6f0ee3854404cdbbaaf17ad3a251de9",
       "value": " \n            100% ⏱️00:17 ⏳00:00 ⚙️687.75it/s"
      }
     },
     "9f7bb9fd75284988a2034013f5166fe3": {
      "model_module": "@jupyter-widgets/controls",
      "model_module_version": "1.5.0",
      "model_name": "ProgressStyleModel",
      "state": {
       "description_width": ""
      }
     },
     "a1b8dfe910c342f6a581be849f624e44": {
      "model_module": "@jupyter-widgets/controls",
      "model_module_version": "1.5.0",
      "model_name": "DescriptionStyleModel",
      "state": {
       "description_width": ""
      }
     },
     "bc5a7ba395024e0887afa022fda91dfc": {
      "model_module": "@jupyter-widgets/base",
      "model_module_version": "1.2.0",
      "model_name": "LayoutModel",
      "state": {}
     },
     "c084977002d04d879729bfdfdca8a9e4": {
      "model_module": "@jupyter-widgets/base",
      "model_module_version": "1.2.0",
      "model_name": "LayoutModel",
      "state": {
       "flex": "2"
      }
     },
     "c2307f107fd04a8d85fd2794733906af": {
      "model_module": "@jupyter-widgets/base",
      "model_module_version": "1.2.0",
      "model_name": "LayoutModel",
      "state": {}
     },
     "c4dbee16cf4f46448096915dbf32f510": {
      "model_module": "@jupyter-widgets/controls",
      "model_module_version": "1.5.0",
      "model_name": "DescriptionStyleModel",
      "state": {
       "description_width": ""
      }
     },
     "c566c549c0024222887e860f7de90538": {
      "model_module": "@jupyter-widgets/controls",
      "model_module_version": "1.5.0",
      "model_name": "DescriptionStyleModel",
      "state": {
       "description_width": ""
      }
     },
     "c610c1494c69400d82c36acdea9b42c4": {
      "model_module": "@jupyter-widgets/base",
      "model_module_version": "1.2.0",
      "model_name": "LayoutModel",
      "state": {}
     },
     "c6f0ee3854404cdbbaaf17ad3a251de9": {
      "model_module": "@jupyter-widgets/controls",
      "model_module_version": "1.5.0",
      "model_name": "DescriptionStyleModel",
      "state": {
       "description_width": ""
      }
     },
     "c75bb991763240b38b52df2e8a61244d": {
      "model_module": "@jupyter-widgets/base",
      "model_module_version": "1.2.0",
      "model_name": "LayoutModel",
      "state": {}
     },
     "c9925ee28e5f4145899d997631214222": {
      "model_module": "@jupyter-widgets/controls",
      "model_module_version": "1.5.0",
      "model_name": "FloatProgressModel",
      "state": {
       "bar_style": "success",
       "layout": "IPY_MODEL_fad12a368cbb4e7cbba2bf861f455dd2",
       "max": 10941,
       "style": "IPY_MODEL_1a50ced39c2e4b49ae6af5ee32deeb1a",
       "value": 10941
      }
     },
     "d53d4594dbc84c7aae9b2e164b905b1b": {
      "model_module": "@jupyter-widgets/base",
      "model_module_version": "1.2.0",
      "model_name": "LayoutModel",
      "state": {
       "flex": "2"
      }
     },
     "d5b5fbc50a3547b98240d05b89e55cc4": {
      "model_module": "@jupyter-widgets/controls",
      "model_module_version": "1.5.0",
      "model_name": "ProgressStyleModel",
      "state": {
       "description_width": ""
      }
     },
     "d8161678dee4473e9888d5647da6c7ab": {
      "model_module": "@jupyter-widgets/controls",
      "model_module_version": "1.5.0",
      "model_name": "DescriptionStyleModel",
      "state": {
       "description_width": ""
      }
     },
     "d83b8c1ce54e4eeea0dc5d64f2fd2b08": {
      "model_module": "@jupyter-widgets/controls",
      "model_module_version": "1.5.0",
      "model_name": "FloatProgressModel",
      "state": {
       "bar_style": "success",
       "layout": "IPY_MODEL_d53d4594dbc84c7aae9b2e164b905b1b",
       "max": 10941,
       "style": "IPY_MODEL_e481f6a4ca144f19b99d910566727167",
       "value": 10941
      }
     },
     "db49bb9e2a214168ae47574cee01c206": {
      "model_module": "@jupyter-widgets/base",
      "model_module_version": "1.2.0",
      "model_name": "LayoutModel",
      "state": {
       "display": "inline-flex",
       "flex_flow": "row wrap",
       "width": "100%"
      }
     },
     "e481f6a4ca144f19b99d910566727167": {
      "model_module": "@jupyter-widgets/controls",
      "model_module_version": "1.5.0",
      "model_name": "ProgressStyleModel",
      "state": {
       "description_width": ""
      }
     },
     "e5d75c9154074a0ca5bf0bba92c487c7": {
      "model_module": "@jupyter-widgets/controls",
      "model_module_version": "1.5.0",
      "model_name": "HTMLModel",
      "state": {
       "layout": "IPY_MODEL_f888384f9c344f0d84a527dec3a70cdd",
       "style": "IPY_MODEL_8c9ca218457348849f9d8bc40439ca6d",
       "value": "📄 10941 of 10941 📂 WD-LEFT EventData files processed: "
      }
     },
     "efb7298fbd744128bbe63a450febd0d7": {
      "model_module": "@jupyter-widgets/base",
      "model_module_version": "1.2.0",
      "model_name": "LayoutModel",
      "state": {
       "display": "inline-flex",
       "flex_flow": "row wrap",
       "width": "100%"
      }
     },
     "f1028aafc00d42669d9b898b18aa6a9e": {
      "model_module": "@jupyter-widgets/controls",
      "model_module_version": "1.5.0",
      "model_name": "DescriptionStyleModel",
      "state": {
       "description_width": ""
      }
     },
     "f6bf6bbf52554f46b18d6d49a18cd80e": {
      "model_module": "@jupyter-widgets/base",
      "model_module_version": "1.2.0",
      "model_name": "LayoutModel",
      "state": {}
     },
     "f888384f9c344f0d84a527dec3a70cdd": {
      "model_module": "@jupyter-widgets/base",
      "model_module_version": "1.2.0",
      "model_name": "LayoutModel",
      "state": {}
     },
     "fad12a368cbb4e7cbba2bf861f455dd2": {
      "model_module": "@jupyter-widgets/base",
      "model_module_version": "1.2.0",
      "model_name": "LayoutModel",
      "state": {
       "flex": "2"
      }
     },
     "fad635b9800f413d9412d1f65d8be88d": {
      "model_module": "@jupyter-widgets/controls",
      "model_module_version": "1.5.0",
      "model_name": "HBoxModel",
      "state": {
       "children": [
        "IPY_MODEL_51a4385cae454e3c9e3fa5067d353365",
        "IPY_MODEL_d83b8c1ce54e4eeea0dc5d64f2fd2b08",
        "IPY_MODEL_9eed640e939f47d2822a896863011fec"
       ],
       "layout": "IPY_MODEL_efb7298fbd744128bbe63a450febd0d7"
      }
     }
    },
    "version_major": 2,
    "version_minor": 0
   }
  }
 },
 "nbformat": 4,
 "nbformat_minor": 5
}
