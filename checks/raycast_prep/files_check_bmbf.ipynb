{
 "cells": [
  {
   "cell_type": "code",
   "execution_count": 26,
   "id": "ee9a7ef5-0829-4cb7-86be-bac86725b8ba",
   "metadata": {},
   "outputs": [],
   "source": [
    "import os"
   ]
  },
  {
   "cell_type": "code",
   "execution_count": 27,
   "id": "147430ce-1f8f-4bea-a205-b57f3e77efc7",
   "metadata": {},
   "outputs": [],
   "source": [
    "files = os.listdir(\"./data/raw/bmbf/ExperimentData\")\n",
    "\n",
    "for f in files:  # iterate over files\n",
    "    # remove hidden/config files and folders\n",
    "    if not f.endswith(\".raw\"):\n",
    "        files.remove(f)\n",
    "        \n",
    "uids_exp = [f.split(\"-\")[2].split(\".\")[0] for f in files]"
   ]
  },
  {
   "cell_type": "code",
   "execution_count": 28,
   "id": "e21a83d5-d87d-4a46-ad3d-21a15cba52be",
   "metadata": {},
   "outputs": [],
   "source": [
    "files = os.listdir(\"./data/raw/bmbf/EventData\")\n",
    "\n",
    "for f in files:  # iterate over files\n",
    "    # remove hidden/config files and folders\n",
    "    if not f.endswith(\".bin\"):\n",
    "        files.remove(f)\n",
    "        \n",
    "uids_eve = [f.split(\"-\")[2].split(\".\")[0] for f in files]"
   ]
  },
  {
   "cell_type": "code",
   "execution_count": 29,
   "id": "33489acb-381d-4ed4-bd84-52ab0c557e57",
   "metadata": {},
   "outputs": [
    {
     "name": "stdout",
     "output_type": "stream",
     "text": [
      "2236\n",
      "2236\n"
     ]
    }
   ],
   "source": [
    "print(len(uids_exp))\n",
    "print(len(uids_eve))"
   ]
  },
  {
   "cell_type": "code",
   "execution_count": 22,
   "id": "abe3c34e-a993-4489-8b9c-64f658e1f99d",
   "metadata": {},
   "outputs": [],
   "source": [
    "exp = set(uids_exp)\n",
    "eve = set(uids_eve)"
   ]
  },
  {
   "cell_type": "code",
   "execution_count": 23,
   "id": "ad637958-f881-4e77-9e6e-ba8c306acc33",
   "metadata": {},
   "outputs": [
    {
     "data": {
      "text/plain": [
       "set()"
      ]
     },
     "execution_count": 23,
     "metadata": {},
     "output_type": "execute_result"
    }
   ],
   "source": [
    "diff_a = exp - eve\n",
    "diff_a"
   ]
  },
  {
   "cell_type": "code",
   "execution_count": 24,
   "id": "ff83c680-5a0d-4a07-89d6-3c42a2b152cb",
   "metadata": {},
   "outputs": [
    {
     "data": {
      "text/plain": [
       "{'0cadb84adb8c4d7e8dad99e93fd63c92',\n",
       " '0cd501320bd841758f204e43ce00362f',\n",
       " '267d95a19e8147eca7b2080ba596cba1',\n",
       " '2e2ce16f18514b0080db2e9dfbd8d919',\n",
       " '4159d09e5c524e8c85e1ac40796898e4',\n",
       " '4bb7262bc74d41c0ad80df8aa1b4fdcd',\n",
       " '5caba490f12a49fd91013d09ff416e79',\n",
       " '61a79ce907f14fd2b9e06bf69d420085',\n",
       " '7412abdcc0104860bfde9e8d1ce70af9',\n",
       " '8110573ec3554563a8a28e280992430b',\n",
       " '98366ddf797b4785b0892ff9a9fbbafd',\n",
       " '9950350e2b204ee4bf6b88fb06900040',\n",
       " '9efb284a2e0341c983268338dfd53e92',\n",
       " 'aaf4193bd94c47d28982ee9509486e84',\n",
       " 'bd58ebe70fa44bafad76ecacca28f2b0',\n",
       " 'c227fc73d82244de8a37f3592161a53e',\n",
       " 'c76ddcb99c9940ecaf8d7a0fbef6bdb2',\n",
       " 'c7ffb69015b94c819d131095ffd09568',\n",
       " 'da26f4ead610421785f7fd0cda87dcfe',\n",
       " 'e7af7fc5e75c43809a96ae4e1f0e730e'}"
      ]
     },
     "execution_count": 24,
     "metadata": {},
     "output_type": "execute_result"
    }
   ],
   "source": [
    "diff_b = eve - exp\n",
    "diff_b"
   ]
  },
  {
   "cell_type": "code",
   "execution_count": 25,
   "id": "88d9956b-4c45-47d7-a5da-9c5c2ef3252b",
   "metadata": {},
   "outputs": [
    {
     "name": "stdout",
     "output_type": "stream",
     "text": [
      "Removed: Path_ MS Wissenschaft-AVAS-0cd501320bd841758f204e43ce00362f.bin\n",
      "Removed: Path_ MS Wissenschaft-AVAS-267d95a19e8147eca7b2080ba596cba1.bin\n",
      "Removed: Path_ MS Wissenschaft-AVAS-2e2ce16f18514b0080db2e9dfbd8d919.bin\n",
      "Removed: Path_ MS Wissenschaft-AVAS-4bb7262bc74d41c0ad80df8aa1b4fdcd.bin\n",
      "Removed: Path_ MS Wissenschaft-AVAS-61a79ce907f14fd2b9e06bf69d420085.bin\n",
      "Removed: Path_ MS Wissenschaft-AVAS-8110573ec3554563a8a28e280992430b.bin\n",
      "Removed: Path_ MS Wissenschaft-AVAS-98366ddf797b4785b0892ff9a9fbbafd.bin\n",
      "Removed: Path_ MS Wissenschaft-AVAS-9950350e2b204ee4bf6b88fb06900040.bin\n",
      "Removed: Path_ MS Wissenschaft-AVAS-c76ddcb99c9940ecaf8d7a0fbef6bdb2.bin\n",
      "Removed: Path_ MS Wissenschaft-AVAS-da26f4ead610421785f7fd0cda87dcfe.bin\n",
      "Removed: Path_ MS Wissenschaft-RadioTalk-4159d09e5c524e8c85e1ac40796898e4.bin\n",
      "Removed: Path_ MS Wissenschaft-RadioTalk-5caba490f12a49fd91013d09ff416e79.bin\n",
      "Removed: Path_ MS Wissenschaft-RadioTalk-7412abdcc0104860bfde9e8d1ce70af9.bin\n",
      "Removed: Path_ MS Wissenschaft-RadioTalk-aaf4193bd94c47d28982ee9509486e84.bin\n",
      "Removed: Path_ MS Wissenschaft-RadioTalk-bd58ebe70fa44bafad76ecacca28f2b0.bin\n",
      "Removed: Path_ MS Wissenschaft-RadioTalk-c227fc73d82244de8a37f3592161a53e.bin\n",
      "Removed: Path_ MS Wissenschaft-RadioTalk-c7ffb69015b94c819d131095ffd09568.bin\n",
      "Removed: Path_ MS Wissenschaft-RadioTalk-e7af7fc5e75c43809a96ae4e1f0e730e.bin\n",
      "Removed: Path_ MS Wissenschaft-TaxiDriver-0cadb84adb8c4d7e8dad99e93fd63c92.bin\n",
      "Removed: Path_ MS Wissenschaft-TaxiDriver-9efb284a2e0341c983268338dfd53e92.bin\n"
     ]
    }
   ],
   "source": [
    "for f in files:\n",
    "    uid = f.split(\"-\")[2].split(\".\")[0]\n",
    "    if uid in diff_b:\n",
    "        os.remove(f\"./data/raw/bmbf/EventData/{f}\")\n",
    "        print(f\"Removed: {f}\")\n",
    "    "
   ]
  }
 ],
 "metadata": {
  "kernelspec": {
   "display_name": "Python (lsl_eeg)",
   "language": "python",
   "name": "lsl_eeg"
  },
  "language_info": {
   "codemirror_mode": {
    "name": "ipython",
    "version": 3
   },
   "file_extension": ".py",
   "mimetype": "text/x-python",
   "name": "python",
   "nbconvert_exporter": "python",
   "pygments_lexer": "ipython3",
   "version": "3.8.10"
  },
  "widgets": {
   "application/vnd.jupyter.widget-state+json": {
    "state": {},
    "version_major": 2,
    "version_minor": 0
   }
  }
 },
 "nbformat": 4,
 "nbformat_minor": 5
}
