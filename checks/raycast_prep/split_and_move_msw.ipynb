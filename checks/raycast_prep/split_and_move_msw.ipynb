{
 "cells": [
  {
   "cell_type": "code",
   "execution_count": 1,
   "id": "ee9a7ef5-0829-4cb7-86be-bac86725b8ba",
   "metadata": {},
   "outputs": [],
   "source": [
    "import os\n",
    "from shutil import copyfile\n",
    "\n",
    "from tqdm.notebook import tqdm  # mother of progressbars for Python"
   ]
  },
  {
   "cell_type": "code",
   "execution_count": 2,
   "id": "45780f62-99af-44c7-be35-656d49701c6c",
   "metadata": {},
   "outputs": [],
   "source": [
    "PATH_RAW = \"../../data/raw\"\n",
    "\n",
    "# progress bar customized format\n",
    "B_FORMAT = \"\"\"📄 {n_fmt} of {total_fmt} {desc} processed: {bar} \n",
    "            {percentage:3.0f}% ⏱️{elapsed} ⏳{remaining} ⚙️{rate_fmt}{postfix}\"\"\""
   ]
  },
  {
   "cell_type": "code",
   "execution_count": 3,
   "id": "41543bbc-55f6-46ea-af49-12107cdacab6",
   "metadata": {},
   "outputs": [],
   "source": [
    "files_exp = os.listdir(f\"{PATH_RAW}/ExperimentData\")\n",
    "\n",
    "for f in files_exp:  # iterate over files\n",
    "    # remove hidden/config files and folders\n",
    "    if not f.endswith(\".raw\"):\n",
    "        files_exp.remove(f)\n",
    "\n",
    "uids_exp = set([f.split(\"-\")[2].split(\".\")[0] for f in files_exp])"
   ]
  },
  {
   "cell_type": "code",
   "execution_count": 4,
   "id": "e21a83d5-d87d-4a46-ad3d-21a15cba52be",
   "metadata": {},
   "outputs": [],
   "source": [
    "files_eve = os.listdir(f\"{PATH_RAW}/EventData\")\n",
    "\n",
    "for f in files_eve:  # iterate over files\n",
    "    # remove hidden/config files and folders\n",
    "    if not f.endswith(\".bin\"):\n",
    "        files_eve.remove(f)\n",
    "\n",
    "uids_eve = set([f.split(\"-\")[2].split(\".\")[0] for f in files_eve])"
   ]
  },
  {
   "cell_type": "code",
   "execution_count": 5,
   "id": "33489acb-381d-4ed4-bd84-52ab0c557e57",
   "metadata": {},
   "outputs": [
    {
     "name": "stdout",
     "output_type": "stream",
     "text": [
      "26572\n",
      "26572\n"
     ]
    }
   ],
   "source": [
    "print(len(files_exp))\n",
    "print(len(files_eve))"
   ]
  },
  {
   "cell_type": "code",
   "execution_count": 6,
   "id": "0bd20aff-5c24-4cca-b7f5-130a5b08b68a",
   "metadata": {},
   "outputs": [
    {
     "data": {
      "text/plain": [
       "8857"
      ]
     },
     "execution_count": 6,
     "metadata": {},
     "output_type": "execute_result"
    }
   ],
   "source": [
    "# uids for wd-left\n",
    "uids_exp = list(uids_exp)\n",
    "selected_uids = [uids_exp[i] for i in range(int(len(uids_exp) / 3))]\n",
    "len(selected_uids)"
   ]
  },
  {
   "cell_type": "code",
   "execution_count": 7,
   "id": "6a06e780-8ee2-4888-9885-4aefd202da9f",
   "metadata": {},
   "outputs": [
    {
     "data": {
      "text/plain": [
       "17715"
      ]
     },
     "execution_count": 7,
     "metadata": {},
     "output_type": "execute_result"
    }
   ],
   "source": [
    "# uids for ml03\n",
    "inv_selected = list(set(uids_exp) - set(selected_uids))\n",
    "len(inv_selected)"
   ]
  },
  {
   "cell_type": "code",
   "execution_count": 8,
   "id": "31f7f52d-a15b-4d68-baf7-006835c30874",
   "metadata": {},
   "outputs": [
    {
     "data": {
      "application/vnd.jupyter.widget-view+json": {
       "model_id": "c522773b3def41d7b8954a3faca611d8",
       "version_major": 2,
       "version_minor": 0
      },
      "text/plain": [
       "📄 0 of 26572 📂 WD-LEFT ExperimentData files processed:                                                        …"
      ]
     },
     "metadata": {},
     "output_type": "display_data"
    },
    {
     "data": {
      "application/vnd.jupyter.widget-view+json": {
       "model_id": "fe0dbd91360b40a9bbcb96b78bc24b14",
       "version_major": 2,
       "version_minor": 0
      },
      "text/plain": [
       "📄 0 of 26572 📂 WD-LEFT EventData files processed:                                                             …"
      ]
     },
     "metadata": {},
     "output_type": "display_data"
    },
    {
     "data": {
      "application/vnd.jupyter.widget-view+json": {
       "model_id": "3adf161fa30c4c5481336bed06076234",
       "version_major": 2,
       "version_minor": 0
      },
      "text/plain": [
       "📄 0 of 26572 📂 ml03 ExperimentData files processed:                                                           …"
      ]
     },
     "metadata": {},
     "output_type": "display_data"
    },
    {
     "data": {
      "application/vnd.jupyter.widget-view+json": {
       "model_id": "5eab9a47269f47f0bd7a0b4aec22ff73",
       "version_major": 2,
       "version_minor": 0
      },
      "text/plain": [
       "📄 0 of 26572 📂 ml03 EventData files processed:                                                                …"
      ]
     },
     "metadata": {},
     "output_type": "display_data"
    }
   ],
   "source": [
    "fexp_pbar = tqdm(\n",
    "    iterable=files_exp,\n",
    "    total=len(files_exp),\n",
    "    desc=\"📂 WD-LEFT ExperimentData files\",\n",
    "    dynamic_ncols=True,\n",
    "    bar_format=B_FORMAT,\n",
    ")\n",
    "\n",
    "for f in fexp_pbar:\n",
    "    uid = f.split(\"-\")[2].split(\".\")[0]\n",
    "    if uid in selected_uids:\n",
    "        copyfile(\n",
    "            f\"{PATH_RAW}/ExperimentData/{f}\",\n",
    "            f\"{PATH_RAW}/split/wd-left/ExperimentData/{f}\",\n",
    "        )\n",
    "\n",
    "feve_pbar = tqdm(\n",
    "    iterable=files_eve,\n",
    "    total=len(files_eve),\n",
    "    desc=\"📂 WD-LEFT EventData files\",\n",
    "    dynamic_ncols=True,\n",
    "    bar_format=B_FORMAT,\n",
    ")\n",
    "\n",
    "for f in feve_pbar:\n",
    "    uid = f.split(\"-\")[2].split(\".\")[0]\n",
    "    if uid in selected_uids:\n",
    "        copyfile(\n",
    "            f\"{PATH_RAW}/EventData/{f}\",\n",
    "            f\"{PATH_RAW}/split/wd-left/EventData/{f}\",\n",
    "        )\n",
    "\n",
    "fexp_pbar = tqdm(\n",
    "    iterable=files_exp,\n",
    "    total=len(files_exp),\n",
    "    desc=\"📂 ml03 ExperimentData files\",\n",
    "    dynamic_ncols=True,\n",
    "    bar_format=B_FORMAT,\n",
    ")\n",
    "\n",
    "for f in fexp_pbar:\n",
    "    uid = f.split(\"-\")[2].split(\".\")[0]\n",
    "    if uid in inv_selected:\n",
    "        copyfile(\n",
    "            f\"{PATH_RAW}/ExperimentData/{f}\",\n",
    "            f\"{PATH_RAW}/split/ml03/ExperimentData/{f}\",\n",
    "        )\n",
    "\n",
    "feve_pbar = tqdm(\n",
    "    iterable=files_eve,\n",
    "    total=len(files_eve),\n",
    "    desc=\"📂 ml03 EventData files\",\n",
    "    dynamic_ncols=True,\n",
    "    bar_format=B_FORMAT,\n",
    ")\n",
    "\n",
    "for f in feve_pbar:\n",
    "    uid = f.split(\"-\")[2].split(\".\")[0]\n",
    "    if uid in inv_selected:\n",
    "        copyfile(\n",
    "            f\"{PATH_RAW}/EventData/{f}\",\n",
    "            f\"{PATH_RAW}/split/ml03/EventData/{f}\",\n",
    "        )"
   ]
  }
 ],
 "metadata": {
  "kernelspec": {
   "display_name": "Python (msw-bmbf_da)",
   "language": "python",
   "name": "msw-bmbf_da"
  },
  "language_info": {
   "codemirror_mode": {
    "name": "ipython",
    "version": 3
   },
   "file_extension": ".py",
   "mimetype": "text/x-python",
   "name": "python",
   "nbconvert_exporter": "python",
   "pygments_lexer": "ipython3",
   "version": "3.8.10"
  },
  "widgets": {
   "application/vnd.jupyter.widget-state+json": {
    "state": {
     "017f49dbd52041b78e56cffe4c5b7a01": {
      "model_module": "@jupyter-widgets/controls",
      "model_module_version": "1.5.0",
      "model_name": "DescriptionStyleModel",
      "state": {
       "description_width": ""
      }
     },
     "14e1c5e10ea949e7afcf431e29ade9bd": {
      "model_module": "@jupyter-widgets/controls",
      "model_module_version": "1.5.0",
      "model_name": "HTMLModel",
      "state": {
       "layout": "IPY_MODEL_a62103e1870b4c3288c296be43f78bbb",
       "style": "IPY_MODEL_ff7657dcc0044c99be31158935f17217",
       "value": "📄 26572 of 26572 📂 ml03 ExperimentData files processed: "
      }
     },
     "1ba95b75aa6a45bfa3924fc928db4534": {
      "model_module": "@jupyter-widgets/controls",
      "model_module_version": "1.5.0",
      "model_name": "HTMLModel",
      "state": {
       "layout": "IPY_MODEL_3a6156bc4d33494cb53fef88ee400774",
       "style": "IPY_MODEL_3a623af1d71a4c2cb711a09c7059e431",
       "value": "📄 26572 of 26572 📂 WD-LEFT ExperimentData files processed: "
      }
     },
     "29c57b9e07e342498cdb2f49df97449c": {
      "model_module": "@jupyter-widgets/controls",
      "model_module_version": "1.5.0",
      "model_name": "HTMLModel",
      "state": {
       "layout": "IPY_MODEL_bf6c11d6fb6c425e87455384b1328534",
       "style": "IPY_MODEL_764c123d957d45eeb0d2bc437c62fdd4",
       "value": " \n            100% ⏱️01:39 ⏳00:00 ⚙️282.69it/s"
      }
     },
     "2a98153819524cd38b0788a69b1462ff": {
      "model_module": "@jupyter-widgets/base",
      "model_module_version": "1.2.0",
      "model_name": "LayoutModel",
      "state": {}
     },
     "2c50198b260b4bf89d7e643c3db50073": {
      "model_module": "@jupyter-widgets/base",
      "model_module_version": "1.2.0",
      "model_name": "LayoutModel",
      "state": {
       "display": "inline-flex",
       "flex_flow": "row wrap",
       "width": "100%"
      }
     },
     "3508bcb7134847298e2507212b82c0f7": {
      "model_module": "@jupyter-widgets/controls",
      "model_module_version": "1.5.0",
      "model_name": "HTMLModel",
      "state": {
       "layout": "IPY_MODEL_b3d2aadc082b4583987755883dd0b907",
       "style": "IPY_MODEL_a7cc545ac1104f2f99c8dfe636e5fb60",
       "value": " \n            100% ⏱️01:45 ⏳00:00 ⚙️231.17it/s"
      }
     },
     "36db0205f26f437f83b349c3e664a744": {
      "model_module": "@jupyter-widgets/base",
      "model_module_version": "1.2.0",
      "model_name": "LayoutModel",
      "state": {
       "flex": "2"
      }
     },
     "3813df3c31aa48a8ada75d925c03292e": {
      "model_module": "@jupyter-widgets/controls",
      "model_module_version": "1.5.0",
      "model_name": "FloatProgressModel",
      "state": {
       "bar_style": "success",
       "layout": "IPY_MODEL_91aa4813c65f45e5a841e90d24bacd0c",
       "max": 26572,
       "style": "IPY_MODEL_c72b6309c1d746e8aabe0d273a69feef",
       "value": 26572
      }
     },
     "3a6156bc4d33494cb53fef88ee400774": {
      "model_module": "@jupyter-widgets/base",
      "model_module_version": "1.2.0",
      "model_name": "LayoutModel",
      "state": {}
     },
     "3a623af1d71a4c2cb711a09c7059e431": {
      "model_module": "@jupyter-widgets/controls",
      "model_module_version": "1.5.0",
      "model_name": "DescriptionStyleModel",
      "state": {
       "description_width": ""
      }
     },
     "3adf161fa30c4c5481336bed06076234": {
      "model_module": "@jupyter-widgets/controls",
      "model_module_version": "1.5.0",
      "model_name": "HBoxModel",
      "state": {
       "children": [
        "IPY_MODEL_14e1c5e10ea949e7afcf431e29ade9bd",
        "IPY_MODEL_3813df3c31aa48a8ada75d925c03292e",
        "IPY_MODEL_3508bcb7134847298e2507212b82c0f7"
       ],
       "layout": "IPY_MODEL_8145047b4840414498d6936c1ce7d8c9"
      }
     },
     "41b8548f1db2490fbda5d9595754f7e0": {
      "model_module": "@jupyter-widgets/controls",
      "model_module_version": "1.5.0",
      "model_name": "DescriptionStyleModel",
      "state": {
       "description_width": ""
      }
     },
     "4487b802f24a420c8f7a4db16b311b84": {
      "model_module": "@jupyter-widgets/base",
      "model_module_version": "1.2.0",
      "model_name": "LayoutModel",
      "state": {
       "flex": "2"
      }
     },
     "46ba5885ce9b4218becae2d3135ecaa3": {
      "model_module": "@jupyter-widgets/controls",
      "model_module_version": "1.5.0",
      "model_name": "DescriptionStyleModel",
      "state": {
       "description_width": ""
      }
     },
     "57565a783d7443128122dd5f0035bad9": {
      "model_module": "@jupyter-widgets/controls",
      "model_module_version": "1.5.0",
      "model_name": "HTMLModel",
      "state": {
       "layout": "IPY_MODEL_2a98153819524cd38b0788a69b1462ff",
       "style": "IPY_MODEL_46ba5885ce9b4218becae2d3135ecaa3",
       "value": "📄 26572 of 26572 📂 ml03 EventData files processed: "
      }
     },
     "5904961b961a4449bf7bb75814b054ee": {
      "model_module": "@jupyter-widgets/controls",
      "model_module_version": "1.5.0",
      "model_name": "HTMLModel",
      "state": {
       "layout": "IPY_MODEL_e34e231f2f89403592dde20811581e4e",
       "style": "IPY_MODEL_017f49dbd52041b78e56cffe4c5b7a01",
       "value": "📄 26572 of 26572 📂 WD-LEFT EventData files processed: "
      }
     },
     "5eab9a47269f47f0bd7a0b4aec22ff73": {
      "model_module": "@jupyter-widgets/controls",
      "model_module_version": "1.5.0",
      "model_name": "HBoxModel",
      "state": {
       "children": [
        "IPY_MODEL_57565a783d7443128122dd5f0035bad9",
        "IPY_MODEL_ce8c39e99bc44847b47f6128fcd8f029",
        "IPY_MODEL_29c57b9e07e342498cdb2f49df97449c"
       ],
       "layout": "IPY_MODEL_2c50198b260b4bf89d7e643c3db50073"
      }
     },
     "67f4e1bf2d52429a985eecba050a6fb1": {
      "model_module": "@jupyter-widgets/controls",
      "model_module_version": "1.5.0",
      "model_name": "DescriptionStyleModel",
      "state": {
       "description_width": ""
      }
     },
     "6cccc4d517e34a10b83923f6e844bc59": {
      "model_module": "@jupyter-widgets/controls",
      "model_module_version": "1.5.0",
      "model_name": "HTMLModel",
      "state": {
       "layout": "IPY_MODEL_dd49e321fa39480cad9da0baf32ba50b",
       "style": "IPY_MODEL_41b8548f1db2490fbda5d9595754f7e0",
       "value": " \n            100% ⏱️01:07 ⏳00:00 ⚙️402.65it/s"
      }
     },
     "74422e2d828542c1af83ffd2b583a7d7": {
      "model_module": "@jupyter-widgets/controls",
      "model_module_version": "1.5.0",
      "model_name": "ProgressStyleModel",
      "state": {
       "description_width": ""
      }
     },
     "764c123d957d45eeb0d2bc437c62fdd4": {
      "model_module": "@jupyter-widgets/controls",
      "model_module_version": "1.5.0",
      "model_name": "DescriptionStyleModel",
      "state": {
       "description_width": ""
      }
     },
     "8145047b4840414498d6936c1ce7d8c9": {
      "model_module": "@jupyter-widgets/base",
      "model_module_version": "1.2.0",
      "model_name": "LayoutModel",
      "state": {
       "display": "inline-flex",
       "flex_flow": "row wrap",
       "width": "100%"
      }
     },
     "82fe0804f58f468e8161e9b58adb5dd6": {
      "model_module": "@jupyter-widgets/controls",
      "model_module_version": "1.5.0",
      "model_name": "FloatProgressModel",
      "state": {
       "bar_style": "success",
       "layout": "IPY_MODEL_36db0205f26f437f83b349c3e664a744",
       "max": 26572,
       "style": "IPY_MODEL_74422e2d828542c1af83ffd2b583a7d7",
       "value": 26572
      }
     },
     "91aa4813c65f45e5a841e90d24bacd0c": {
      "model_module": "@jupyter-widgets/base",
      "model_module_version": "1.2.0",
      "model_name": "LayoutModel",
      "state": {
       "flex": "2"
      }
     },
     "a62103e1870b4c3288c296be43f78bbb": {
      "model_module": "@jupyter-widgets/base",
      "model_module_version": "1.2.0",
      "model_name": "LayoutModel",
      "state": {}
     },
     "a7cc545ac1104f2f99c8dfe636e5fb60": {
      "model_module": "@jupyter-widgets/controls",
      "model_module_version": "1.5.0",
      "model_name": "DescriptionStyleModel",
      "state": {
       "description_width": ""
      }
     },
     "acd3deb333244da08b02601ed133b286": {
      "model_module": "@jupyter-widgets/base",
      "model_module_version": "1.2.0",
      "model_name": "LayoutModel",
      "state": {
       "display": "inline-flex",
       "flex_flow": "row wrap",
       "width": "100%"
      }
     },
     "b3d2aadc082b4583987755883dd0b907": {
      "model_module": "@jupyter-widgets/base",
      "model_module_version": "1.2.0",
      "model_name": "LayoutModel",
      "state": {}
     },
     "bf6c11d6fb6c425e87455384b1328534": {
      "model_module": "@jupyter-widgets/base",
      "model_module_version": "1.2.0",
      "model_name": "LayoutModel",
      "state": {}
     },
     "c522773b3def41d7b8954a3faca611d8": {
      "model_module": "@jupyter-widgets/controls",
      "model_module_version": "1.5.0",
      "model_name": "HBoxModel",
      "state": {
       "children": [
        "IPY_MODEL_1ba95b75aa6a45bfa3924fc928db4534",
        "IPY_MODEL_da490d6c035b4dc984c763d6c951b145",
        "IPY_MODEL_6cccc4d517e34a10b83923f6e844bc59"
       ],
       "layout": "IPY_MODEL_acd3deb333244da08b02601ed133b286"
      }
     },
     "c6e86d263b30481ba7f38c2c0650017d": {
      "model_module": "@jupyter-widgets/controls",
      "model_module_version": "1.5.0",
      "model_name": "ProgressStyleModel",
      "state": {
       "description_width": ""
      }
     },
     "c702a466eb254091a425d60bd7eab881": {
      "model_module": "@jupyter-widgets/base",
      "model_module_version": "1.2.0",
      "model_name": "LayoutModel",
      "state": {
       "display": "inline-flex",
       "flex_flow": "row wrap",
       "width": "100%"
      }
     },
     "c72b6309c1d746e8aabe0d273a69feef": {
      "model_module": "@jupyter-widgets/controls",
      "model_module_version": "1.5.0",
      "model_name": "ProgressStyleModel",
      "state": {
       "description_width": ""
      }
     },
     "ce8c39e99bc44847b47f6128fcd8f029": {
      "model_module": "@jupyter-widgets/controls",
      "model_module_version": "1.5.0",
      "model_name": "FloatProgressModel",
      "state": {
       "bar_style": "success",
       "layout": "IPY_MODEL_4487b802f24a420c8f7a4db16b311b84",
       "max": 26572,
       "style": "IPY_MODEL_c6e86d263b30481ba7f38c2c0650017d",
       "value": 26572
      }
     },
     "da490d6c035b4dc984c763d6c951b145": {
      "model_module": "@jupyter-widgets/controls",
      "model_module_version": "1.5.0",
      "model_name": "FloatProgressModel",
      "state": {
       "bar_style": "success",
       "layout": "IPY_MODEL_e357d681a1c94937a1c2a04d169407be",
       "max": 26572,
       "style": "IPY_MODEL_df3a7c3bfa504a1f8ad1104e15c162f4",
       "value": 26572
      }
     },
     "dd49e321fa39480cad9da0baf32ba50b": {
      "model_module": "@jupyter-widgets/base",
      "model_module_version": "1.2.0",
      "model_name": "LayoutModel",
      "state": {}
     },
     "df3a7c3bfa504a1f8ad1104e15c162f4": {
      "model_module": "@jupyter-widgets/controls",
      "model_module_version": "1.5.0",
      "model_name": "ProgressStyleModel",
      "state": {
       "description_width": ""
      }
     },
     "e34e231f2f89403592dde20811581e4e": {
      "model_module": "@jupyter-widgets/base",
      "model_module_version": "1.2.0",
      "model_name": "LayoutModel",
      "state": {}
     },
     "e357d681a1c94937a1c2a04d169407be": {
      "model_module": "@jupyter-widgets/base",
      "model_module_version": "1.2.0",
      "model_name": "LayoutModel",
      "state": {
       "flex": "2"
      }
     },
     "f9a03b019f2e49908ce69724842c47a8": {
      "model_module": "@jupyter-widgets/base",
      "model_module_version": "1.2.0",
      "model_name": "LayoutModel",
      "state": {}
     },
     "fe0dbd91360b40a9bbcb96b78bc24b14": {
      "model_module": "@jupyter-widgets/controls",
      "model_module_version": "1.5.0",
      "model_name": "HBoxModel",
      "state": {
       "children": [
        "IPY_MODEL_5904961b961a4449bf7bb75814b054ee",
        "IPY_MODEL_82fe0804f58f468e8161e9b58adb5dd6",
        "IPY_MODEL_fffff5504045438680304492e7e9c9d5"
       ],
       "layout": "IPY_MODEL_c702a466eb254091a425d60bd7eab881"
      }
     },
     "ff7657dcc0044c99be31158935f17217": {
      "model_module": "@jupyter-widgets/controls",
      "model_module_version": "1.5.0",
      "model_name": "DescriptionStyleModel",
      "state": {
       "description_width": ""
      }
     },
     "fffff5504045438680304492e7e9c9d5": {
      "model_module": "@jupyter-widgets/controls",
      "model_module_version": "1.5.0",
      "model_name": "HTMLModel",
      "state": {
       "layout": "IPY_MODEL_f9a03b019f2e49908ce69724842c47a8",
       "style": "IPY_MODEL_67f4e1bf2d52429a985eecba050a6fb1",
       "value": " \n            100% ⏱️01:07 ⏳00:00 ⚙️493.25it/s"
      }
     }
    },
    "version_major": 2,
    "version_minor": 0
   }
  }
 },
 "nbformat": 4,
 "nbformat_minor": 5
}
