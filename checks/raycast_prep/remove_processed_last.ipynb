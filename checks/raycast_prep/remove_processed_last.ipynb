{
 "cells": [
  {
   "cell_type": "code",
   "execution_count": 27,
   "id": "ee9a7ef5-0829-4cb7-86be-bac86725b8ba",
   "metadata": {},
   "outputs": [],
   "source": [
    "import os\n",
    "from shutil import copyfile\n",
    "\n",
    "from tqdm.notebook import tqdm  # mother of progressbars for Python"
   ]
  },
  {
   "cell_type": "code",
   "execution_count": 28,
   "id": "45780f62-99af-44c7-be35-656d49701c6c",
   "metadata": {},
   "outputs": [],
   "source": [
    "PATH_RAW = \"../../data/raw\"\n",
    "\n",
    "# progress bar customized format\n",
    "B_FORMAT = \"\"\"📄 {n_fmt} of {total_fmt} {desc} processed: {bar} \n",
    "            {percentage:3.0f}% ⏱️{elapsed} ⏳{remaining} ⚙️{rate_fmt}{postfix}\"\"\""
   ]
  },
  {
   "cell_type": "code",
   "execution_count": 29,
   "id": "41543bbc-55f6-46ea-af49-12107cdacab6",
   "metadata": {},
   "outputs": [],
   "source": [
    "files_exp = os.listdir(f\"{PATH_RAW}/split/ml03/ExperimentData\")\n",
    "\n",
    "for f in files_exp:  # iterate over files\n",
    "    # remove hidden/config files and folders\n",
    "    if not f.endswith(\".raw\"):\n",
    "        files_exp.remove(f)\n",
    "\n",
    "uids_exp = set([f.split(\"-\")[2].split(\".\")[0] for f in files_exp])"
   ]
  },
  {
   "cell_type": "code",
   "execution_count": 30,
   "id": "e21a83d5-d87d-4a46-ad3d-21a15cba52be",
   "metadata": {},
   "outputs": [],
   "source": [
    "files_eve = os.listdir(f\"{PATH_RAW}/split/ml03/EventData\")\n",
    "\n",
    "for f in files_eve:  # iterate over files\n",
    "    # remove hidden/config files and folders\n",
    "    if not f.endswith(\".bin\"):\n",
    "        files_eve.remove(f)\n",
    "\n",
    "uids_eve = set([f.split(\"-\")[2].split(\".\")[0] for f in files_eve])"
   ]
  },
  {
   "cell_type": "code",
   "execution_count": 31,
   "id": "730c12d5-33d5-4d4c-af1b-02dfba0ffa71",
   "metadata": {},
   "outputs": [],
   "source": [
    "files_csv = os.listdir(f\"{PATH_RAW}/to_sort/ml03/CsvData\")\n",
    "\n",
    "for f in files_csv:  # iterate over files\n",
    "    # remove hidden/config files and folders\n",
    "    if not f.endswith(\".csv\"):\n",
    "        files_csv.remove(f)\n",
    "\n",
    "uids_csv = set([f.split(\"-\")[2].split(\".\")[0] for f in files_csv])"
   ]
  },
  {
   "cell_type": "code",
   "execution_count": 32,
   "id": "33489acb-381d-4ed4-bd84-52ab0c557e57",
   "metadata": {},
   "outputs": [
    {
     "name": "stdout",
     "output_type": "stream",
     "text": [
      "9379\n",
      "9379\n",
      "8335\n"
     ]
    }
   ],
   "source": [
    "print(len(files_exp))\n",
    "print(len(files_eve))\n",
    "print(len(files_csv))"
   ]
  },
  {
   "cell_type": "code",
   "execution_count": 25,
   "id": "c0ebaa5e-4b58-422a-b135-ca2a3bf823da",
   "metadata": {},
   "outputs": [
    {
     "data": {
      "text/plain": [
       "9379"
      ]
     },
     "execution_count": 25,
     "metadata": {},
     "output_type": "execute_result"
    }
   ],
   "source": [
    "diff = list(uids_eve - uids_csv)\n",
    "len(diff)"
   ]
  },
  {
   "cell_type": "code",
   "execution_count": 26,
   "id": "df81f7a5-e8ce-4bc7-b0c1-3569a9c6df8a",
   "metadata": {},
   "outputs": [],
   "source": [
    "# remove already processed experiment files\n",
    "for f in files_exp:\n",
    "    uid = f.split(\"-\")[2].split(\".\")[0]\n",
    "    if uid not in diff:\n",
    "        os.remove(f\"{PATH_RAW}/split/ml03/ExperimentData/{f}\")\n",
    "        \n",
    "# remove already processed experiment files\n",
    "for f in files_eve:\n",
    "    uid = f.split(\"-\")[2].split(\".\")[0]\n",
    "    if uid not in diff:\n",
    "        os.remove(f\"{PATH_RAW}/split/ml03/EventData/{f}\")"
   ]
  }
 ],
 "metadata": {
  "kernelspec": {
   "display_name": "Python (msw-bmbf_da)",
   "language": "python",
   "name": "msw-bmbf_da"
  },
  "language_info": {
   "codemirror_mode": {
    "name": "ipython",
    "version": 3
   },
   "file_extension": ".py",
   "mimetype": "text/x-python",
   "name": "python",
   "nbconvert_exporter": "python",
   "pygments_lexer": "ipython3",
   "version": "3.8.10"
  },
  "widgets": {
   "application/vnd.jupyter.widget-state+json": {
    "state": {},
    "version_major": 2,
    "version_minor": 0
   }
  }
 },
 "nbformat": 4,
 "nbformat_minor": 5
}
